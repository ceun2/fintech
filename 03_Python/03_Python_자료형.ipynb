{
 "cells": [
  {
   "cell_type": "markdown",
   "id": "73d084af",
   "metadata": {},
   "source": [
    "# 파이썬의 자료형 (data type)\n",
    "### 파이썬의 자료형은 동적으로 변환\n",
    "\n",
    "* int : 정수 (소수점이 없는 숫자)\n",
    "* float : 실수 (소수점이 있는 숫자)\n",
    "* str : 문자, 문자열 \n",
    "* list : 여러 개의 자료가 순서대로 저장된 자료형, 모든 자료형 可\n",
    "* tuple : list와 비슷하나 한번 만들면 수정 불가능, 모든 자료형 可\n",
    "* dictionary(dict) : key:value 쌍으로 이루어진 자료형, 모든 자료형 可 "
   ]
  },
  {
   "cell_type": "markdown",
   "id": "c5db7586",
   "metadata": {},
   "source": [
    "# 데이터 타입을 출력하는 함수 type(변수)"
   ]
  },
  {
   "cell_type": "code",
   "execution_count": 5,
   "id": "79a3709a",
   "metadata": {},
   "outputs": [
    {
     "name": "stdout",
     "output_type": "stream",
     "text": [
      "<class 'int'> <class 'str'>\n"
     ]
    }
   ],
   "source": [
    "a = 10\n",
    "b = \"데이터 타입\"\n",
    "print(type(a), type(b))"
   ]
  },
  {
   "cell_type": "code",
   "execution_count": 8,
   "id": "88cc1860",
   "metadata": {},
   "outputs": [
    {
     "name": "stdout",
     "output_type": "stream",
     "text": [
      "<class 'float'>\n",
      "<class 'float'>\n",
      "<class 'float'>\n",
      "<class 'float'>\n"
     ]
    }
   ],
   "source": [
    "f = 3.00\n",
    "print(type(a + f))\n",
    "print(type(a - f))\n",
    "print(type(a * f))\n",
    "print(type(a / f))"
   ]
  },
  {
   "cell_type": "markdown",
   "id": "045470a2",
   "metadata": {},
   "source": [
    "### 화면이 좁아서 문자열을 잘라서 아래로 내리고 싶다면 \\을 사용할 수 있다"
   ]
  },
  {
   "cell_type": "code",
   "execution_count": 26,
   "id": "8f3d530e",
   "metadata": {},
   "outputs": [
    {
     "name": "stdout",
     "output_type": "stream",
     "text": [
      "코딩 할 때 \\을 치고 enter를 친다면 여러 줄로 작성할 수 있다.\n",
      "\n",
      "줄바꿈을 하고 싶다면 \n",
      "을 통해서 줄바꿈을 할 수 있다\n",
      "\n",
      "따옴표 3개로 감싸면\n",
      "줄바꿈을 해도 모두 그대로 출력이 된다.\n",
      "\"나 '를 3개씩 쓰면 된다.\n"
     ]
    }
   ],
   "source": [
    "long_char = \"코딩 할 때 \\을 치고 \\\n",
    "enter를 친다면 \\\n",
    "여러 줄로 작성할 수 있다.\"\n",
    "print(long_char)\n",
    "\n",
    "print()\n",
    "\n",
    "long_char2 = \"줄바꿈을 하고 싶다면 \\n을 통해서 줄바꿈을 할 수 있다\"\n",
    "print(long_char2)\n",
    "\n",
    "print()\n",
    "\n",
    "long_char3 = \"\"\"따옴표 3개로 감싸면\n",
    "줄바꿈을 해도 모두 그대로 출력이 된다.\n",
    "\\\"나 \\'를 3개씩 쓰면 된다.\"\"\"\n",
    "print(long_char3)"
   ]
  },
  {
   "cell_type": "markdown",
   "id": "f6f4f554",
   "metadata": {},
   "source": [
    "## 문자 덧셈 + , 문자 곱셈 *"
   ]
  },
  {
   "cell_type": "code",
   "execution_count": 30,
   "id": "d1776a72",
   "metadata": {},
   "outputs": [
    {
     "name": "stdout",
     "output_type": "stream",
     "text": [
      "가3\n",
      "가가가\n",
      "==================================================\n"
     ]
    }
   ],
   "source": [
    "# \"가\" + 3(숫자)는 안됨\n",
    "print(\"가\" + \"3\")\n",
    "print(\"가\" * 3)\n",
    "print(\"=\" * 50)"
   ]
  },
  {
   "cell_type": "markdown",
   "id": "fc7c3c56",
   "metadata": {},
   "source": [
    "## 문자열은 순서가 있다\n",
    "### 가장 앞글자가 0번이고 순서대로 숫자가 증가"
   ]
  },
  {
   "cell_type": "markdown",
   "id": "7ad1fd96",
   "metadata": {},
   "source": [
    "길이를 재는 함수 len()"
   ]
  },
  {
   "cell_type": "code",
   "execution_count": 31,
   "id": "d15ca63b",
   "metadata": {},
   "outputs": [
    {
     "data": {
      "text/plain": [
       "39"
      ]
     },
     "execution_count": 31,
     "metadata": {},
     "output_type": "execute_result"
    }
   ],
   "source": [
    "len(long_char)"
   ]
  },
  {
   "cell_type": "markdown",
   "id": "542e3294",
   "metadata": {},
   "source": [
    "#### len이 N이라면 인덱스는 N-1까지 (0부터 시작하기 때문)"
   ]
  },
  {
   "cell_type": "markdown",
   "id": "d82b571b",
   "metadata": {},
   "source": [
    "### 인덱싱, 슬라이싱\n",
    "* 인덱싱 : 변수명[인덱스번호]\n",
    "* 슬라이싱 : 변수명[시작번호:끝번호]\n",
    "* **시작 인덱스는 포함하고 끝 인덱스는 포함하지 않는다**"
   ]
  },
  {
   "cell_type": "code",
   "execution_count": 37,
   "id": "32e6b417",
   "metadata": {},
   "outputs": [
    {
     "name": "stdout",
     "output_type": "stream",
     "text": [
      "치\n",
      "할 때 \\을 치고 enter를 친다면 여러 줄로 \n",
      "코딩 할 때 \\을 \n",
      " 있다.\n"
     ]
    }
   ],
   "source": [
    "print(long_char[10])\n",
    "print(long_char[3:30])\n",
    "print(long_char[:10])\n",
    "print(long_char[35:])"
   ]
  },
  {
   "cell_type": "markdown",
   "id": "352f94ed",
   "metadata": {},
   "source": [
    "# 리스트 list\n",
    "* [정수, 실수, 문자, 리스트, 튜플, 딕셔너리] 모두 넣을 수 있다\n",
    "* 여러 자료가 나열된 형태이므로 순서가 있다\n",
    "* 인덱싱과 슬라이싱이 가능하다\n",
    "* 자료의 추가, 삭제가 가능하다"
   ]
  },
  {
   "cell_type": "code",
   "execution_count": 44,
   "id": "862c7026",
   "metadata": {},
   "outputs": [
    {
     "name": "stdout",
     "output_type": "stream",
     "text": [
      "[1, 2.0, '삼', [1, 2, 3, '리스트'], (1, 2, 3), {'key': 'value'}]\n",
      "[1, 2, 3, '리스트']\n",
      "[1, 2.0]\n",
      "리스트\n",
      "<class 'dict'>\n"
     ]
    }
   ],
   "source": [
    "test_list = [1, 2.0, \"삼\", [1,2,3,\"리스트\"], (1,2,3),{\"key\":\"value\"}]\n",
    "print(test_list)\n",
    "print(test_list[3])\n",
    "print(test_list[:2])\n",
    "print(test_list[3][3])\n",
    "print(type(test_list[5]))"
   ]
  },
  {
   "cell_type": "code",
   "execution_count": 52,
   "id": "1f945643",
   "metadata": {},
   "outputs": [
    {
     "name": "stdout",
     "output_type": "stream",
     "text": [
      "리스트 len :  4\n",
      "\n",
      "[1, 2, 3, [4, 5, [6, 7, 8, [9, 10]]]]\n",
      "[4, 5, [6, 7, 8, [9, 10]]]\n",
      "[6, 7, 8, [9, 10]]\n",
      "[9, 10]\n",
      "10\n"
     ]
    }
   ],
   "source": [
    "test_list2 = [1,2,3, [4,5, [6,7,8, [9, 10]]]]\n",
    "\n",
    "print(\"리스트 len : \", len(test_list2))\n",
    "print()\n",
    "\n",
    "print(test_list2)\n",
    "print(test_list2[3])\n",
    "print(test_list2[3][2])\n",
    "print(test_list2[3][2][3])\n",
    "print(test_list2[3][2][3][1])"
   ]
  },
  {
   "cell_type": "code",
   "execution_count": 54,
   "id": "e1cac23b",
   "metadata": {
    "scrolled": true
   },
   "outputs": [
    {
     "name": "stdout",
     "output_type": "stream",
     "text": [
      "[1, 2, 3, [4, 5, [6, 7, 8, [9, 10]]], '추가!!!', '추가!!!']\n",
      "[2, 3, [4, 5, [6, 7, 8, [9, 10]]], '추가!!!', '추가!!!']\n"
     ]
    }
   ],
   "source": [
    "test_list2.append(\"추가!!!\")\n",
    "print(test_list2)\n",
    "\n",
    "del test_list2[0]\n",
    "print(test_list2)"
   ]
  },
  {
   "cell_type": "markdown",
   "id": "2158b648",
   "metadata": {},
   "source": [
    "# Tuple 튜플\n",
    "* 여러가지 자료를 ()안에 넣어서 만드는 자료형\n",
    "* 모든 data type을 자료로 받을 수 있다\n",
    "* 한번 생성하면 수정이 되지 않는다\n",
    "* 튜플이 리스트보다 코드 실행 시 더 빠르다\n",
    "* 여러 요소의 튜플은 마지막 요소 뒤에도 콤마(,)를 붙이는 것이 일반적인 표현 방식"
   ]
  },
  {
   "cell_type": "code",
   "execution_count": 62,
   "id": "a49d51e5",
   "metadata": {},
   "outputs": [
    {
     "name": "stdout",
     "output_type": "stream",
     "text": [
      "1\n",
      "(10, 34.5, 'hello', [1, 2, 3], (4, 5, 6), {'key': 'value'})\n",
      "[1, 2, 3]\n",
      "((4, 5, 6), {'key': 'value'})\n"
     ]
    }
   ],
   "source": [
    "test_tuple = (1,)\n",
    "print(test_tuple)\n",
    "\n",
    "test_tuple2 = (10, 34.5, \"hello\", [1,2,3], (4,5,6), {\"key\":\"value\"},)\n",
    "print(test_tuple2)\n",
    "print(test_tuple2[3])\n",
    "print(test_tuple2[4:])"
   ]
  },
  {
   "cell_type": "markdown",
   "id": "a23bffad",
   "metadata": {},
   "source": [
    "# Dict 딕셔너리 (JSON)\n",
    "### {\"key\" : \"value\"}\n",
    "* key와 value로 이루어진 자료형\n",
    "* JSON이라고도 불리며 웹에서 데이터를 주고 받을 때 주로 사용\n",
    "* 딕셔너리의 value에는 모든 자료형이 올 수 있음\n",
    "* 딕셔너리는 순서가 없는 자료형\n",
    "* key를 호출하면 value가 출력됨"
   ]
  },
  {
   "cell_type": "code",
   "execution_count": 80,
   "id": "ac3b2297",
   "metadata": {},
   "outputs": [
    {
     "name": "stdout",
     "output_type": "stream",
     "text": [
      "{'이름': '홍길동', '나이': 33, '키': 175.4, '가족': ['둘리', '또치', '도우너']}\n",
      "{'이름': ['홍길동', '둘리', '또치'], '나이': [33, 12, 14], '성별': ('남', '남', '남'), '주소': ['서울', '남극', '아프리카']}\n"
     ]
    }
   ],
   "source": [
    "dic1 = {\"이름\" : \"홍길동\", \"나이\" : 33, \"키\" : 175.4, \"가족\" : [\"둘리\", \"또치\", \"도우너\"]}\n",
    "print(dic1)\n",
    "\n",
    "dic2 = {\"이름\" : [\"홍길동\",\"둘리\", \"또치\"], \n",
    "        \"나이\" : [33, 12, 14], \n",
    "        \"성별\" : (\"남\", \"남\", \"남\"), \n",
    "        \"주소\" : [\"서울\", \"남극\", \"아프리카\"]}\n",
    "print(dic2)"
   ]
  },
  {
   "cell_type": "code",
   "execution_count": 69,
   "id": "1b73b40e",
   "metadata": {},
   "outputs": [
    {
     "name": "stdout",
     "output_type": "stream",
     "text": [
      "홍길동\n",
      "둘리\n"
     ]
    }
   ],
   "source": [
    "print(dic1[\"이름\"])\n",
    "print(dic1[\"가족\"][0])"
   ]
  },
  {
   "cell_type": "markdown",
   "id": "6b0d8155",
   "metadata": {},
   "source": [
    "### 딕셔너리 자료 추가"
   ]
  },
  {
   "cell_type": "code",
   "execution_count": 70,
   "id": "09213a16",
   "metadata": {},
   "outputs": [
    {
     "name": "stdout",
     "output_type": "stream",
     "text": [
      "{'이름': '홍길동', '나이': 33, '키': 175.4, '가족': ['둘리', '또치', '도우너'], '새자료': '추가중'}\n"
     ]
    }
   ],
   "source": [
    "dic1[\"새자료\"] = \"추가중\"\n",
    "print(dic1)"
   ]
  },
  {
   "cell_type": "markdown",
   "id": "363819b8",
   "metadata": {},
   "source": [
    "### dataframe\n",
    "* 나중에 데이터분석 시 배울 것\n",
    "* 테이블이나 엑셀 시트\n",
    "* dictionary로 만듦"
   ]
  },
  {
   "cell_type": "code",
   "execution_count": 72,
   "id": "5caaedb7",
   "metadata": {},
   "outputs": [],
   "source": [
    "import pandas as pd"
   ]
  },
  {
   "cell_type": "code",
   "execution_count": 81,
   "id": "fe42d7f3",
   "metadata": {},
   "outputs": [
    {
     "data": {
      "text/html": [
       "<div>\n",
       "<style scoped>\n",
       "    .dataframe tbody tr th:only-of-type {\n",
       "        vertical-align: middle;\n",
       "    }\n",
       "\n",
       "    .dataframe tbody tr th {\n",
       "        vertical-align: top;\n",
       "    }\n",
       "\n",
       "    .dataframe thead th {\n",
       "        text-align: right;\n",
       "    }\n",
       "</style>\n",
       "<table border=\"1\" class=\"dataframe\">\n",
       "  <thead>\n",
       "    <tr style=\"text-align: right;\">\n",
       "      <th></th>\n",
       "      <th>이름</th>\n",
       "      <th>나이</th>\n",
       "      <th>성별</th>\n",
       "      <th>주소</th>\n",
       "    </tr>\n",
       "  </thead>\n",
       "  <tbody>\n",
       "    <tr>\n",
       "      <th>0</th>\n",
       "      <td>홍길동</td>\n",
       "      <td>33</td>\n",
       "      <td>남</td>\n",
       "      <td>서울</td>\n",
       "    </tr>\n",
       "    <tr>\n",
       "      <th>1</th>\n",
       "      <td>둘리</td>\n",
       "      <td>12</td>\n",
       "      <td>남</td>\n",
       "      <td>남극</td>\n",
       "    </tr>\n",
       "    <tr>\n",
       "      <th>2</th>\n",
       "      <td>또치</td>\n",
       "      <td>14</td>\n",
       "      <td>남</td>\n",
       "      <td>아프리카</td>\n",
       "    </tr>\n",
       "  </tbody>\n",
       "</table>\n",
       "</div>"
      ],
      "text/plain": [
       "    이름  나이 성별    주소\n",
       "0  홍길동  33  남    서울\n",
       "1   둘리  12  남    남극\n",
       "2   또치  14  남  아프리카"
      ]
     },
     "execution_count": 81,
     "metadata": {},
     "output_type": "execute_result"
    }
   ],
   "source": [
    "df = pd.DataFrame(dic2)\n",
    "df"
   ]
  },
  {
   "cell_type": "markdown",
   "id": "fb3bf12f",
   "metadata": {},
   "source": [
    "# 형변환 함수\n",
    "* 형변환 : 기존 data type을 다른 data type으로 바꾸는 것\n",
    "* 정수 형변환 int()"
   ]
  },
  {
   "cell_type": "code",
   "execution_count": 1,
   "id": "80443ead",
   "metadata": {},
   "outputs": [
    {
     "name": "stdout",
     "output_type": "stream",
     "text": [
      "6\n"
     ]
    }
   ],
   "source": [
    "a = 3\n",
    "b = \"3\"\n",
    "print(a + int(b))\n",
    "# b 자체를 int로 바꾼 것은 아님\n",
    "# 재할당하지 않는 이상 원래값은 유지됨"
   ]
  },
  {
   "cell_type": "markdown",
   "id": "8b0485e4",
   "metadata": {},
   "source": [
    "* 실수 형변환 float()"
   ]
  },
  {
   "cell_type": "code",
   "execution_count": 2,
   "id": "e75bd9eb",
   "metadata": {},
   "outputs": [
    {
     "name": "stdout",
     "output_type": "stream",
     "text": [
      "6.0\n"
     ]
    }
   ],
   "source": [
    "print(a + float(b))"
   ]
  },
  {
   "cell_type": "markdown",
   "id": "67a7c229",
   "metadata": {},
   "source": [
    "* 문자열로 형변환 str()"
   ]
  },
  {
   "cell_type": "code",
   "execution_count": 3,
   "id": "9266cca3",
   "metadata": {},
   "outputs": [
    {
     "name": "stdout",
     "output_type": "stream",
     "text": [
      "33\n"
     ]
    }
   ],
   "source": [
    "print(str(a) + b)"
   ]
  },
  {
   "cell_type": "markdown",
   "id": "5fbea8ac",
   "metadata": {},
   "source": [
    "* 리스트 형변환 list()"
   ]
  },
  {
   "cell_type": "code",
   "execution_count": 5,
   "id": "604013c7",
   "metadata": {},
   "outputs": [
    {
     "name": "stdout",
     "output_type": "stream",
     "text": [
      "(1, 2, 3, 4) <class 'tuple'>\n",
      "[1, 2, 3, 4] <class 'list'>\n",
      "[1, 2, 3, 4, '5'] <class 'list'>\n"
     ]
    }
   ],
   "source": [
    "t = (1,2,3,4,)\n",
    "print(t, type(t))\n",
    "\n",
    "t2 = list(t)\n",
    "print(t2, type(t2))\n",
    "\n",
    "t2.append(\"5\")\n",
    "print(t2, type(t2))"
   ]
  },
  {
   "cell_type": "markdown",
   "id": "bf198b76",
   "metadata": {},
   "source": [
    "* 튜플 형변환 tuple()"
   ]
  },
  {
   "cell_type": "code",
   "execution_count": 6,
   "id": "eeae9b76",
   "metadata": {},
   "outputs": [
    {
     "name": "stdout",
     "output_type": "stream",
     "text": [
      "(1, 2, 3, 4, '5') <class 'tuple'>\n"
     ]
    }
   ],
   "source": [
    "t3 = tuple(t2)\n",
    "print(t3, type(t3))"
   ]
  },
  {
   "cell_type": "markdown",
   "id": "822b5d8e",
   "metadata": {},
   "source": [
    "# input() 키보드 입력 받는 함수\n",
    "* input(\"화면에 표시될 메시지\")\n",
    "* 입력 받는 값은 \" \"(공백)으로 구분해서 여러 개를 받을 수 있음\n",
    "* 입력 받는 값은 모두 str 타입의 문자열로 받음"
   ]
  },
  {
   "cell_type": "code",
   "execution_count": 1,
   "id": "4877ed56",
   "metadata": {},
   "outputs": [
    {
     "name": "stdout",
     "output_type": "stream",
     "text": [
      "이름을 입력해주세요 : 이채은\n",
      "이채은\n"
     ]
    }
   ],
   "source": [
    "name = input(\"이름을 입력해주세요 : \")\n",
    "print(name)"
   ]
  },
  {
   "cell_type": "code",
   "execution_count": 1,
   "id": "d4296095",
   "metadata": {},
   "outputs": [
    {
     "name": "stdout",
     "output_type": "stream",
     "text": [
      "숫자를 3개 입력해주세요 : 10 20 30\n",
      "10 20 30 <class 'str'>\n"
     ]
    }
   ],
   "source": [
    "data = input(\"숫자를 3개 입력해주세요 : \")\n",
    "print(data, type(data))"
   ]
  },
  {
   "cell_type": "markdown",
   "id": "d37bb2cc",
   "metadata": {},
   "source": [
    "* input.split() 으로 여러 데이터를 list 형태로 받기\n",
    "* split(\"나눌 기준값\")의 옵션이 있음"
   ]
  },
  {
   "cell_type": "code",
   "execution_count": 3,
   "id": "b486d84d",
   "metadata": {},
   "outputs": [
    {
     "name": "stdout",
     "output_type": "stream",
     "text": [
      "숫자를 3개 입력해주세요 : 10 20 30\n",
      "['10', '20', '30'] <class 'list'>\n"
     ]
    }
   ],
   "source": [
    "data_list = input(\"숫자를 3개 입력해주세요 : \").split()\n",
    "print(data_list, type(data_list))"
   ]
  },
  {
   "cell_type": "code",
   "execution_count": 2,
   "id": "fe09d95c",
   "metadata": {},
   "outputs": [
    {
     "name": "stdout",
     "output_type": "stream",
     "text": [
      "숫자를 5개 입력 : 1 2 3 4 5\n",
      "1 2 3 4 5 <class 'str'> <class 'str'> <class 'str'> <class 'str'> <class 'str'>\n"
     ]
    }
   ],
   "source": [
    "a, b, c, d, e = input(\"숫자를 5개 입력 : \").split()\n",
    "print(a, b, c, d, e, type(a), type(b), type(c), type(d), type(e))"
   ]
  }
 ],
 "metadata": {
  "kernelspec": {
   "display_name": "Python 3 (ipykernel)",
   "language": "python",
   "name": "python3"
  },
  "language_info": {
   "codemirror_mode": {
    "name": "ipython",
    "version": 3
   },
   "file_extension": ".py",
   "mimetype": "text/x-python",
   "name": "python",
   "nbconvert_exporter": "python",
   "pygments_lexer": "ipython3",
   "version": "3.9.21"
  }
 },
 "nbformat": 4,
 "nbformat_minor": 5
}
