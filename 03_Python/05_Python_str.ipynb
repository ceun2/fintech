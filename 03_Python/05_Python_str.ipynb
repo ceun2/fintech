{
 "cells": [
  {
   "cell_type": "markdown",
   "id": "26e27e06",
   "metadata": {},
   "source": [
    "# 문자열과 문자열 함수"
   ]
  },
  {
   "cell_type": "markdown",
   "id": "9dfeecac",
   "metadata": {},
   "source": [
    "## 1. 문자열 사용하기의 기본\n",
    "* \" \", ' ' 따옴표 안에 문자를 넣어서 문자열을 만든다.\n",
    "* 여러 줄로 된 문자열은 \"\"\" \"\"\"나 ''' '''로 만든다.\n",
    "    * 자동으로 \\n과 \" \"이 적용되어 입력한 그대로 출력된다.\n",
    "#### 이스케이프 문자\n",
    "* \\n 줄바꿈\n",
    "* \\t tap\n",
    "* \\r carrige return\n",
    "* 문자열 안에서 특수문자를 출력하고 싶을 때 \\특수문자 형태로 입력"
   ]
  },
  {
   "cell_type": "markdown",
   "id": "02c28a31",
   "metadata": {},
   "source": [
    "## 2. 인덱스와 문자열\n",
    "* 문자 : 글자 1개\n",
    "* 문자열 : 글자가 여러개 => 순서가 있다 => 앞에서부터 0번 1번 순으로 번호가 매겨짐\n",
    "* 순서가 있는 자료는 번호를 불러서 그 번호에 해당하는 자료를 꺼낼 수 있다.\n",
    "* 슬라이싱 시 시작과 끝은 생략 가능"
   ]
  },
  {
   "cell_type": "code",
   "execution_count": 4,
   "id": "f0284f9e",
   "metadata": {},
   "outputs": [
    {
     "name": "stdout",
     "output_type": "stream",
     "text": [
      "문자열은 왼쪽부터 번호를 매길 수 있으며 시작은 0부터 입니다.\n",
      "으\n",
      "문자열은 왼쪽부터 \n",
      "번호를 매길 수 있으며\n"
     ]
    }
   ],
   "source": [
    "h4 = \"문자열은 왼쪽부터 번호를 매길 수 있으며 시작은 0부터 입니다.\"\n",
    "print(h4)\n",
    "print(h4[20])\n",
    "print(h4[:10])\n",
    "print(h4[10:22])"
   ]
  },
  {
   "cell_type": "markdown",
   "id": "10e3c95b",
   "metadata": {},
   "source": [
    "* 순서가 있는 자료의 인덱스는\n",
    "* 앞에서부터 0,1,2,3...\n",
    "* 뒤에서부터는 -1,-2,-3..."
   ]
  },
  {
   "cell_type": "code",
   "execution_count": 8,
   "id": "0519109f",
   "metadata": {},
   "outputs": [
    {
     "name": "stdout",
     "output_type": "stream",
     "text": [
      "은 0부터 입니다.\n"
     ]
    }
   ],
   "source": [
    "# 문자열의 끝에서 10개를 가져오고 싶을 때\n",
    "print(h4[-10:])"
   ]
  },
  {
   "cell_type": "markdown",
   "id": "ea720e6b",
   "metadata": {},
   "source": [
    "## 3. 슬라이싱 [시작인덱스:끝인덱스+1:step]\n",
    "* step에 -1을 주면 역순으로!"
   ]
  },
  {
   "cell_type": "code",
   "execution_count": 9,
   "id": "8f47d0ef",
   "metadata": {},
   "outputs": [
    {
     "name": "stdout",
     "output_type": "stream",
     "text": [
      "문열 쪽터번를매  으 작 부 니.\n"
     ]
    }
   ],
   "source": [
    "print(h4[::2])"
   ]
  },
  {
   "cell_type": "code",
   "execution_count": 10,
   "id": "ae48d65e",
   "metadata": {},
   "outputs": [
    {
     "name": "stdout",
     "output_type": "stream",
     "text": [
      ".다니입 터부0 은작시 며으있 수 길매 를호번 터부쪽왼 은열자문\n"
     ]
    }
   ],
   "source": [
    "print(h4[::-1])"
   ]
  },
  {
   "cell_type": "markdown",
   "id": "1c2c44f4",
   "metadata": {},
   "source": [
    "## 4. 문자열 함수\n",
    "* .replace() : 값을 찾아서 바꾸는 함수\n",
    "* .split() : 공백을 기준으로 자료를 나눠서 리스트로 변형\n",
    "* .join() : 기준자를 통해서 리스트를 하나의 문자열로 변형\n",
    "* .strip() : 문자열 외부의 공백제거, 공백+특수문자 제거"
   ]
  },
  {
   "cell_type": "markdown",
   "id": "6a82ed20",
   "metadata": {},
   "source": [
    "### replace(찾을값, 바꿀값, 바꿀 횟수)\n",
    "* replace 함수는 사용 후 결과를 재할당 해야함.\n",
    "* 바꿀 횟수는 선택, 기본값은 전체\n",
    "* 바꿀 횟수를 2로 준다면 찾을 값이 여러 개여도 앞에서부터 2개만 바꿈"
   ]
  },
  {
   "cell_type": "code",
   "execution_count": 12,
   "id": "b09c4cf0",
   "metadata": {},
   "outputs": [
    {
     "name": "stdout",
     "output_type": "stream",
     "text": [
      "Hello Python\n",
      "Hello World\n"
     ]
    }
   ],
   "source": [
    "h5 = \"Hello Python\"\n",
    "print(h5)\n",
    "\n",
    "# 재할당이 필요!!\n",
    "h5 = h5.replace(\"Python\", \"World\")\n",
    "print(h5)"
   ]
  },
  {
   "cell_type": "markdown",
   "id": "537ccaff",
   "metadata": {},
   "source": [
    "### 함수의 종류 2가지\n",
    "1. 함수 사용 시 원본 자료가 바뀌는 함수 → ex. sort()\n",
    "2. 함수를 사용해도 결과만 보여주고 원본은 유지하는 함수 → .replace()가 이 경우!"
   ]
  },
  {
   "cell_type": "markdown",
   "id": "d70d2d59",
   "metadata": {},
   "source": [
    "### split()\n",
    "* 공백을 기준으로 자료를 나눠서 list로 만들어줌\n",
    "* 구분자를 따로 지정해서 사용가능"
   ]
  },
  {
   "cell_type": "code",
   "execution_count": 25,
   "id": "06f54727",
   "metadata": {},
   "outputs": [
    {
     "name": "stdout",
     "output_type": "stream",
     "text": [
      "문자열은, 왼쪽부터, 번호를, 매길, 수, 있으며, 시작은, 0부터, 입니다.\n",
      "\n",
      "['문자열은,', '왼쪽부터,', '번호를,', '매길,', '수,', '있으며,', '시작은,', '0부터,', '입니다.']\n",
      "\n",
      "['문자열은', ' 왼쪽부터', ' 번호를', ' 매길', ' 수', ' 있으며', ' 시작은', ' 0부터', ' 입니다.']\n",
      "\n",
      "['문자열은', '왼쪽부터', '번호를', '매길', '수', '있으며', '시작은', '0부터', '입니다.']\n"
     ]
    }
   ],
   "source": [
    "h6 = \"문자열은, 왼쪽부터, 번호를, 매길, 수, 있으며, 시작은, 0부터, 입니다.\"\n",
    "print(h6)\n",
    "\n",
    "print()\n",
    "\n",
    "print(h6.split())\n",
    "# 만약 h6으로 재할당 시에는 data type이 list로 변경됨!!!!\n",
    "\n",
    "print()\n",
    "\n",
    "print(h6.split(\",\"))\n",
    "\n",
    "print()\n",
    "\n",
    "print(h6.split(\", \"))"
   ]
  },
  {
   "cell_type": "markdown",
   "id": "178c436f",
   "metadata": {},
   "source": [
    "### join()\n",
    "* 리스트, 튜플을 하나의 문자열로 합치는 기준\n",
    "* 합칠기준.join(list/tuple)"
   ]
  },
  {
   "cell_type": "code",
   "execution_count": 26,
   "id": "ba19cae1",
   "metadata": {},
   "outputs": [
    {
     "name": "stdout",
     "output_type": "stream",
     "text": [
      "['문자열은,', '왼쪽부터,', '번호를,', '매길,', '수,', '있으며,', '시작은,', '0부터,', '입니다.'] <class 'list'>\n",
      "문자열은, 왼쪽부터, 번호를, 매길, 수, 있으며, 시작은, 0부터, 입니다. <class 'str'>\n"
     ]
    }
   ],
   "source": [
    "h6 = h6.split()\n",
    "print(h6, type(h6))\n",
    "\n",
    "print(\" \".join(h6), type(\" \".join(h6)))"
   ]
  },
  {
   "cell_type": "markdown",
   "id": "4f3258f0",
   "metadata": {},
   "source": [
    "### upper(), lower()\n",
    "* 소문자/대문자 변환 함수\n",
    "* 원본은 바뀌지 않음"
   ]
  },
  {
   "cell_type": "code",
   "execution_count": 29,
   "id": "bb228477",
   "metadata": {},
   "outputs": [
    {
     "name": "stdout",
     "output_type": "stream",
     "text": [
      "iron-man spider-man hulk\n",
      "IRON-MAN SPIDER-MAN HULK\n",
      "iron-man spider-man hulk\n"
     ]
    }
   ],
   "source": [
    "h7 = \"iron-man spider-man hulk\"\n",
    "print(h7)\n",
    "print(h7.upper())\n",
    "print(h7.upper().lower())"
   ]
  },
  {
   "cell_type": "markdown",
   "id": "224ed24c",
   "metadata": {},
   "source": [
    "### lstrip(), rstrip(), strip()\n",
    "* 왼쪽, 오른쪽, 양쪽 공백 및 특정 문자 제거하기\n",
    "* lstrip : 왼쪽 공백 삭제\n",
    "* rstrip : 오른쪽 공백 삭제\n",
    "* strip : 양쪽 공백 삭제"
   ]
  },
  {
   "cell_type": "code",
   "execution_count": 31,
   "id": "a8aacfdb",
   "metadata": {},
   "outputs": [
    {
     "name": "stdout",
     "output_type": "stream",
     "text": [
      "      공백이 있는 문자열\n",
      "공백이 있는 문자열\n",
      "      공백이 있는 문자열\n",
      "공백이 있는 문자열\n"
     ]
    }
   ],
   "source": [
    "h8 = \"      공백이 있는 문자열\"\n",
    "print(h8)\n",
    "print(h8.lstrip())\n",
    "print(h8.rstrip())\n",
    "print(h8.strip())"
   ]
  },
  {
   "cell_type": "code",
   "execution_count": 32,
   "id": "8955ce36",
   "metadata": {},
   "outputs": [
    {
     "name": "stdout",
     "output_type": "stream",
     "text": [
      "공백이있는문자열\n"
     ]
    }
   ],
   "source": [
    "# 안쪽에 있는 공백까지 모두 지우고 싶을 때\n",
    "print(h8.replace(\" \", \"\"))"
   ]
  },
  {
   "cell_type": "code",
   "execution_count": 40,
   "id": "5e09900c",
   "metadata": {},
   "outputs": [
    {
     "name": "stdout",
     "output_type": "stream",
     "text": [
      "... , 공백과 특수문자가 같이 있는 문자열 !!^^ㅋㅋㅋㅋ\n",
      "\n",
      "공백과 특수문자가 같이 있는 문자열 !!^^ㅋㅋㅋㅋ\n",
      "... , 공백과 특수문자가 같이 있는 문자열 \n",
      "공백과 특수문자가 같이 있는 문자열\n"
     ]
    }
   ],
   "source": [
    "h9 = \"... , 공백과 특수문자가 같이 있는 문자열 !!^^ㅋㅋㅋㅋ\"\n",
    "print(h9)\n",
    "\n",
    "print()\n",
    "\n",
    "print(h9.lstrip(\"., \"))\n",
    "print(h9.rstrip(\"!^ㅋ\"))\n",
    "print(h9.strip(\"., !^ㅋ\"))"
   ]
  },
  {
   "cell_type": "markdown",
   "id": "f9601ca4",
   "metadata": {},
   "source": [
    "### str.startswith(prefix[, start[, end]])\n",
    "* 인덱싱 : 시간 더 빠름\n",
    "* startswith : 오류없이 False 출력"
   ]
  },
  {
   "cell_type": "code",
   "execution_count": null,
   "id": "c95ada9e",
   "metadata": {},
   "outputs": [],
   "source": [
    "text = \"Hello, world!\"\n",
    "\n",
    "# 'Hello'로 시작하는지 확인\n",
    "print(text.startswith(\"Hello\"))  # 출력: True\n",
    "\n",
    "# 'world'로 시작하는지 확인\n",
    "print(text.startswith(\"world\"))  # 출력: False\n",
    "\n",
    "# 7번 인덱스부터 확인 (검색 시작 위치 지정)\n",
    "print(text.startswith(\"world\", 7))  # 출력: True"
   ]
  },
  {
   "cell_type": "markdown",
   "id": "6e6b5299",
   "metadata": {},
   "source": [
    "### swapcase()\n",
    "* 문자열 내의 대문자는 소문자로, 소문자는 대문자로 바꿔주는 함수"
   ]
  },
  {
   "cell_type": "code",
   "execution_count": 1,
   "id": "6ed960b0",
   "metadata": {},
   "outputs": [
    {
     "name": "stdout",
     "output_type": "stream",
     "text": [
      "hELLO wORLD\n"
     ]
    }
   ],
   "source": [
    "text = \"Hello World\"\n",
    "result = text.swapcase()\n",
    "print(result)  # 출력: hELLO wORLD"
   ]
  },
  {
   "cell_type": "markdown",
   "id": "021cd490",
   "metadata": {},
   "source": [
    "## method chaining (메서드 체이닝)\n",
    "* 여러 개의 함수를 연결해서 사용하는 것"
   ]
  },
  {
   "cell_type": "code",
   "execution_count": 50,
   "id": "e2cbca45",
   "metadata": {},
   "outputs": [
    {
     "name": "stdout",
     "output_type": "stream",
     "text": [
      "... , 공백과 특수문자가\n",
      "같이 있는\t 문자열 !!^^ㅋㅋㅋㅋ\n",
      "\n",
      "공백과 특수문자가같이 있는 문자열\n"
     ]
    }
   ],
   "source": [
    "h10 = \"... , 공백과 특수문자가\\n같이 있는\\t 문자열 !!^^ㅋㅋㅋㅋ\"\n",
    "print(h10)\n",
    "\n",
    "print()\n",
    "\n",
    "print(h10.strip(\"., !^ㅋ\").replace(\"\\n\",\"\").replace(\"\\t\",\"\"))"
   ]
  },
  {
   "cell_type": "markdown",
   "id": "e1180c41",
   "metadata": {},
   "source": [
    "# 문자열 처리 연습문제\n",
    "* 리뷰 글 부분만 추출\n",
    "* 1개의 문장으로 만들기\n",
    "* 문자열 함수를 이용해 특수문자와 불필요한 공백 지우기"
   ]
  },
  {
   "cell_type": "code",
   "execution_count": 51,
   "id": "f0fd9f3a",
   "metadata": {},
   "outputs": [],
   "source": [
    "test1 = '''344,622642,더 호텔 수 (THE HOTEL SOO),family,1박 가족 여행,2018년 5월 21일,8.0,\"위치 : 이순신 광장과는 반대편이라 차량으로 이동해야 합니다. 루프탑에서의\n",
    "바다 경치는 좋습니다.\n",
    "시설 : 깔끔하고 좋습니다. 패밀리룸을 사용 했는데 저녁6시쯤 갔더니 마지막 방이라며 2층을 배정 받았습니다. 창문을 여니 약간 쓰레기 냄새가 났고 바다가 보이지 않습니다.        \n",
    "루프탑 : 바베큐 세트가 저렴 했던거 같고 경치가 좋습니다. 수영장도 있었는데 계절이 아닌지.... \n",
    "    하지만 여름이면 좋을것 같습니다. 주차장은 장소가 넓지 않았던거 같고, 저녁에 나갔다 왔더니 야외 공터에 차를 대라고 하였습니다.    \n",
    "주말 저녁이라 그런지 가격을 제법 비싸게 준거 같은데... 2층이라 마음에 들지 않았습니다. 옆에 조선소 같은게 있어 쫌 보기에 좋지 않았습니다......................................'''"
   ]
  },
  {
   "cell_type": "code",
   "execution_count": 59,
   "id": "3e097afe",
   "metadata": {},
   "outputs": [
    {
     "data": {
      "text/plain": [
       "'344,622642,더 호텔 수 (THE HOTEL SOO),family,1박 가족 여행,2018년 5월 21일,8.0,\"위치 : 이순신 광장과는 반대편이라 차량으로 이동해야 합니다. 루프탑에서의\\n바다 경치는 좋습니다.\\n시설 : 깔끔하고 좋습니다. 패밀리룸을 사용 했는데 저녁6시쯤 갔더니 마지막 방이라며 2층을 배정 받았습니다. 창문을 여니 약간 쓰레기 냄새가 났고 바다가 보이지 않습니다.        \\n루프탑 : 바베큐 세트가 저렴 했던거 같고 경치가 좋습니다. 수영장도 있었는데 계절이 아닌지.... \\n    하지만 여름이면 좋을것 같습니다. 주차장은 장소가 넓지 않았던거 같고, 저녁에 나갔다 왔더니 야외 공터에 차를 대라고 하였습니다.    \\n주말 저녁이라 그런지 가격을 제법 비싸게 준거 같은데... 2층이라 마음에 들지 않았습니다. 옆에 조선소 같은게 있어 쫌 보기에 좋지 않았습니다......................................'"
      ]
     },
     "execution_count": 59,
     "metadata": {},
     "output_type": "execute_result"
    }
   ],
   "source": [
    "test1"
   ]
  },
  {
   "cell_type": "code",
   "execution_count": 85,
   "id": "559bc748",
   "metadata": {
    "scrolled": true
   },
   "outputs": [
    {
     "name": "stdout",
     "output_type": "stream",
     "text": [
      "\"위치 : 이순신 광장과는 반대편이라 차량으로 이동해야 합니다 루프탑에서의바다 경치는 좋습니다시설 : 깔끔하고 좋습니다 패밀리룸을 사용 했는데 저녁6시쯤 갔더니 마지막 방이라며 2층을 배정 받았습니다 창문을 여니 약간 쓰레기 냄새가 났고 바다가 보이지 않습니다루프탑 : 바베큐 세트가 저렴 했던거 같고 경치가 좋습니다 수영장도 있었는데 계절이 아닌지 하지만 여름이면 좋을것 같습니다 주차장은 장소가 넓지 않았던거 같고저녁에 나갔다 왔더니 야외 공터에 차를 대라고 하였습니다주말 저녁이라 그런지 가격을 제법 비싸게 준거 같은데 2층이라 마음에 들지 않았습니다 옆에 조선소 같은게 있어 쫌 보기에 좋지 않았습니다\n"
     ]
    }
   ],
   "source": [
    "filter_test1 = \" \".join(test1.split(\",\")[7:]).replace(\"\\n\",\"\").replace(\"  \",\"\").replace(\".\",\"\")\n",
    "\n",
    "print(filter_test1)"
   ]
  },
  {
   "cell_type": "markdown",
   "id": "00e15236",
   "metadata": {},
   "source": [
    "## translate + str.maketrans + string.punctuation\n",
    "* tranaslate(str.maketrans(찾을 문자, 대체 문자, 그 외 없앨 문자))\n",
    "* 찾을 문자와 대체 문자는 순서대로 1:1 대응식으로 씀\n",
    "* (\"ax\", \"by\") 이면 a는 b로, x는 y로 바뀜"
   ]
  },
  {
   "cell_type": "code",
   "execution_count": 86,
   "id": "069a8ed2",
   "metadata": {},
   "outputs": [],
   "source": [
    "import string"
   ]
  },
  {
   "cell_type": "code",
   "execution_count": 87,
   "id": "b6c342fe",
   "metadata": {},
   "outputs": [
    {
     "data": {
      "text/plain": [
       "'!\"#$%&\\'()*+,-./:;<=>?@[\\\\]^_`{|}~'"
      ]
     },
     "execution_count": 87,
     "metadata": {},
     "output_type": "execute_result"
    }
   ],
   "source": [
    "string.punctuation"
   ]
  },
  {
   "cell_type": "code",
   "execution_count": 52,
   "id": "1bcafc4e",
   "metadata": {},
   "outputs": [],
   "source": [
    "test2= \"18062,427535,파크 하얏트 부산 (Park Hyatt Busan),family,2박 가족 여행,2019년 12월 29일,10.0,결혼 1주년 기념으로 아이랑 신랑이랑 다녀왔어요~ 룸컨디션 너무 좋았고 뷰가 최고였습니다! 2박 머물렀는데 청소도 깔끔하게 해주시고 애기가 이불에 살짝 토했는데도 바로 갈아주시고 좋았습니다~ 대신 창가쪽 커튼 한쪽이 떨어져있어서 조금 거슬렸구요... 창가에 침실이 있다보니 암막커튼을 치지 않으면 조금 쌀쌀한 느낌은 있었어요! 아 그리고 아기때문에 침대에 가드를 부탁드렸는데 가드가 너무 별로였습니다... 가드 구실을 못하고 넘 허술하게 매트리스 아래 그냥 끼워진거라 아기가 밤새 두번이나 가드사이에 빠졌습니다... 이점 좀 아쉬워요 ! 그 외에는 다이닝룸 리빙룸, 바까지 모두 이용했는데 서비스 좋았습니다~~!\""
   ]
  },
  {
   "cell_type": "code",
   "execution_count": 80,
   "id": "a4e3f215",
   "metadata": {},
   "outputs": [
    {
     "name": "stdout",
     "output_type": "stream",
     "text": [
      "결혼 1주년 기념으로 아이랑 신랑이랑 다녀왔어요 룸컨디션 너무 좋았고 뷰가 최고였습니다! 2박 머물렀는데 청소도 깔끔하게 해주시고 애기가 이불에 살짝 토했는데도 바로 갈아주시고 좋았습니다 대신 창가쪽 커튼 한쪽이 떨어져있어서 조금 거슬렸구요 창가에 침실이 있다보니 암막커튼을 치지 않으면 조금 쌀쌀한 느낌은 있었어요! 아 그리고 아기때문에 침대에 가드를 부탁드렸는데 가드가 너무 별로였습니다 가드 구실을 못하고 넘 허술하게 매트리스 아래 그냥 끼워진거라 아기가 밤새 두번이나 가드사이에 빠졌습니다 이점 좀 아쉬워요 ! 그 외에는 다이닝룸 리빙룸  바까지 모두 이용했는데 서비스 좋았습니다!\n"
     ]
    }
   ],
   "source": [
    "filter_test2 = \" \".join(test2.split(\",\")[7:]).replace(\"~\",\"\").replace(\".\",\"\")\n",
    "\n",
    "print(filter_test2)"
   ]
  },
  {
   "cell_type": "markdown",
   "id": "070d1a78",
   "metadata": {},
   "source": [
    "### test2 모범답안"
   ]
  },
  {
   "cell_type": "code",
   "execution_count": 97,
   "id": "2d7b3195",
   "metadata": {},
   "outputs": [
    {
     "name": "stdout",
     "output_type": "stream",
     "text": [
      "결혼 1주년 기념으로 아이랑 신랑이랑 다녀왔어요 룸컨디션 너무 좋았고 뷰가 최고였습니다 2박 머물렀는데 청소도 깔끔하게 해주시고 애기가 이불에 살짝 토했는데도 바로 갈아주시고 좋았습니다 대신 창가쪽 커튼 한쪽이 떨어져있어서 조금 거슬렸구요 창가에 침실이 있다보니 암막커튼을 치지 않으면 조금 쌀쌀한 느낌은 있었어요 아 그리고 아기때문에 침대에 가드를 부탁드렸는데 가드가 너무 별로였습니다 가드 구실을 못하고 넘 허술하게 매트리스 아래 그냥 끼워진거라 아기가 밤새 두번이나 가드사이에 빠졌습니다 이점 좀 아쉬워요그 외에는 다이닝룸 리빙룸바까지 모두 이용했는데 서비스 좋았습니다\n"
     ]
    }
   ],
   "source": [
    "filter_test2_ans = \" \".join(test2.split(\",\")[7:])\n",
    "filter_test2_ans = filter_test2_ans.translate(str.maketrans(\"\",\"\",string.punctuation)).replace(\"  \",\"\")\n",
    "print(filter_test2_ans)"
   ]
  },
  {
   "cell_type": "markdown",
   "id": "9f6f6018",
   "metadata": {},
   "source": [
    "# 정규표현식"
   ]
  },
  {
   "cell_type": "code",
   "execution_count": 98,
   "id": "27fba0cb",
   "metadata": {},
   "outputs": [
    {
     "name": "stdout",
     "output_type": "stream",
     "text": [
      "안녕하세요! This is a test. 1234 @#$@#%()\n"
     ]
    }
   ],
   "source": [
    "import re\n",
    "\n",
    "text = \"안녕하세요! This is a test. 1234 @#$@#%()\"\n",
    "print(text)"
   ]
  },
  {
   "cell_type": "markdown",
   "id": "82c875ed",
   "metadata": {},
   "source": [
    "* re.sub : 대체해라\n",
    "* r'[^가-힣a-zA-Z0-9]' <br>: 한글의 전체, 영문 대소문자 전체, 숫자 전체 이외의 것들을 ''로 대체해라"
   ]
  },
  {
   "cell_type": "code",
   "execution_count": 100,
   "id": "87e659f7",
   "metadata": {},
   "outputs": [
    {
     "data": {
      "text/plain": [
       "'안녕하세요Thisisatest1234'"
      ]
     },
     "execution_count": 100,
     "metadata": {},
     "output_type": "execute_result"
    }
   ],
   "source": [
    "re.sub(r'[^가-힣a-zA-Z0-9]','', text)"
   ]
  },
  {
   "cell_type": "code",
   "execution_count": 53,
   "id": "d712ad88",
   "metadata": {},
   "outputs": [],
   "source": [
    "test3 = \"\"\"112731,239840,서귀포 칼 호텔 (Seogwipo KAL Hotel),family,3박 가족 여행,2020년 11월 19일,8.0,넓디넓은 정원과 산책로 덕분에 코로나 시대 언택트 여행에 좋았구요. 조용하고 한적하게 잘 쉬었어요.\n",
    "아무래도 서귀포가 제주시쪽보단 사람도 적어서 오히려 편하면서, 주변에 식당이나 까페, 편의점 갈때도 걸어서도 다녀올 입지라 좋습니다.\n",
    "실내 수영장은 생각만큼? 작은 규모라 오히려 사람 없이 잘 놀았어요ㅎㅎ \n",
    "라운지바가 넓고 층고도 높아서 커피나 맥주 먹으며 쉬기에 좋고요.\n",
    "매일 주시는 1.5리터 생수ㅎㅎ별거 아닐수 있지만 매우 감사했구요.\n",
    "다만 층수가 낮은 방이어서 그런가 모기가 있었어요^^;; 그외에는 다 깨끗했구요. \n",
    "매트리스가 오래됐는지 묘하게 불편해서 허리가 아프긴 하더라고요;; 다행히? 세미온돌이라 바닥에서 자는게 오히려 나았고요\n",
    "조식은...최근 후기가 다 별로라길래 하루만 가봤는데 역시;;ㅎ 뭐 저렴하기도 하지만.. 저는 나가서 먹었습니다.\"\"\""
   ]
  },
  {
   "cell_type": "code",
   "execution_count": 83,
   "id": "f8636561",
   "metadata": {},
   "outputs": [
    {
     "name": "stdout",
     "output_type": "stream",
     "text": [
      "넓디넓은 정원과 산책로 덕분에 코로나 시대 언택트 여행에 좋았구요 조용하고 한적하게 잘 쉬었어요아무래도 서귀포가 제주시쪽보단 사람도 적어서 오히려 편하면서  주변에 식당이나 까페  편의점 갈때도 걸어서도 다녀올 입지라 좋습니다실내 수영장은 생각만큼? 작은 규모라 오히려 사람 없이 잘 놀았어요 라운지바가 넓고 층고도 높아서 커피나 맥주 먹으며 쉬기에 좋고요매일 주시는 15리터 생수별거 아닐수 있지만 매우 감사했구요다만 층수가 낮은 방이어서 그런가 모기가 있었어요 그외에는 다 깨끗했구요 매트리스가 오래됐는지 묘하게 불편해서 허리가 아프긴 하더라고요 다행히? 세미온돌이라 바닥에서 자는게 오히려 나았고요조식은최근 후기가 다 별로라길래 하루만 가봤는데 역시 뭐 저렴하기도 하지만 저는 나가서 먹었습니다\n"
     ]
    }
   ],
   "source": [
    "filter_test3 = \" \".join(test3.split(\",\")[7:]).replace(\"^\",\"\").replace(\"ㅎ\",\"\").replace(\"\\n\",\"\").replace(\".\",\"\").replace(\";\",\"\")\n",
    "\n",
    "print(filter_test3)"
   ]
  },
  {
   "cell_type": "markdown",
   "id": "197986b6",
   "metadata": {},
   "source": [
    "### test3 모법답안"
   ]
  },
  {
   "cell_type": "code",
   "execution_count": 110,
   "id": "33069ab9",
   "metadata": {
    "scrolled": true
   },
   "outputs": [
    {
     "name": "stdout",
     "output_type": "stream",
     "text": [
      "넓디넓은 정원과 산책로 덕분에 코로나 시대 언택트 여행에 좋았구요 조용하고 한적하게 잘 쉬었어요 아무래도 서귀포가 제주시쪽보단 사람도 적어서 오히려 편하면서 주변에 식당이나 까페 편의점 갈때도 걸어서도 다녀올 입지라 좋습니다 실내 수영장은 생각만큼 작은 규모라 오히려 사람 없이 잘 놀았어요  라운지바가 넓고 층고도 높아서 커피나 맥주 먹으며 쉬기에 좋고요 매일 주시는 1 5리터 생수 별거 아닐수 있지만 매우 감사했구요 다만 층수가 낮은 방이어서 그런가 모기가 있었어요   그외에는 다 깨끗했구요  매트리스가 오래됐는지 묘하게 불편해서 허리가 아프긴 하더라고요  다행히 세미온돌이라 바닥에서 자는게 오히려 나았고요 조식은  최근 후기가 다 별로라길래 하루만 가봤는데 역시  뭐 저렴하기도 하지만  저는 나가서 먹었습니다\n"
     ]
    }
   ],
   "source": [
    "filter_test3_ans = \" \".join(test3.split(\",\")[7:])\n",
    "filter_test3_ans = re.sub(r'[^가-힣a-zA-Z0-9]',' ', filter_test3_ans).replace(\"  \",\" \").strip()\n",
    "\n",
    "print(filter_test3_ans)"
   ]
  }
 ],
 "metadata": {
  "kernelspec": {
   "display_name": "Python 3 (ipykernel)",
   "language": "python",
   "name": "python3"
  },
  "language_info": {
   "codemirror_mode": {
    "name": "ipython",
    "version": 3
   },
   "file_extension": ".py",
   "mimetype": "text/x-python",
   "name": "python",
   "nbconvert_exporter": "python",
   "pygments_lexer": "ipython3",
   "version": "3.9.21"
  }
 },
 "nbformat": 4,
 "nbformat_minor": 5
}
