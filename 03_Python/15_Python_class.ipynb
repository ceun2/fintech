{
 "cells": [
  {
   "cell_type": "markdown",
   "id": "69caf814",
   "metadata": {},
   "source": [
    "# 프로그래밍 방법 3가지\n",
    "#### 1. 절차적 프로그래밍\n",
    "    * 프로그래밍을 순차적으로 하는 것\n",
    "    * 코드가 위에서 아래로 절차적으로 실행\n",
    "    \n",
    "#### 2. 함수형 프로그래밍\n",
    "     * 여러개의 함수를 작성해서 함수에 기반해 프로그램이 실행\n",
    "     * 코드의 재사용 가능\n",
    "     * 유지보수가 쉬워짐\n",
    "     * 버그 발생률이 낮고 예측 가능성이 높음\n",
    "     * 병렬처리, 동시성 처리에 강함\n",
    "\n",
    "#### 3. 객체지향 프로그래밍\n",
    "    * JAVA, C++\n",
    "    * 클래스 기반으로 프로그래밍\n",
    "    * 캡슐화, 상속, 다형성 같은 개념 사용\n",
    "    * 코드 재사용에 특화\n",
    "    * 여러 사람이 이용할 때 같은 코드를 독립적으로 사용 가능"
   ]
  },
  {
   "cell_type": "markdown",
   "id": "7f12a7b3",
   "metadata": {},
   "source": [
    "# 클래스\n",
    "* 클래스는 객체지향 프로그래밍의 핵심\n",
    "* 클래스 하나에 여러 개의 함수(메서드)를 포함\n",
    "* 클래스 = 공장(커피머신 공장)\n",
    "* 메서드 = 커피머신의 기능 (에스프레소, 아메리카노, 카페라떼, 스팀...)"
   ]
  },
  {
   "cell_type": "code",
   "execution_count": 2,
   "id": "5d22331f",
   "metadata": {},
   "outputs": [],
   "source": [
    "def add(num1,num2):\n",
    "    result = num1 + num2\n",
    "    return result"
   ]
  },
  {
   "cell_type": "code",
   "execution_count": 3,
   "id": "4c2a404c",
   "metadata": {},
   "outputs": [
    {
     "data": {
      "text/plain": [
       "8"
      ]
     },
     "execution_count": 3,
     "metadata": {},
     "output_type": "execute_result"
    }
   ],
   "source": [
    "add(3,5)"
   ]
  },
  {
   "cell_type": "markdown",
   "id": "c7af5b19",
   "metadata": {},
   "source": [
    "* 이전에 계산했던 결과를 기억하는 계산기"
   ]
  },
  {
   "cell_type": "code",
   "execution_count": 15,
   "id": "dc947a3b",
   "metadata": {},
   "outputs": [],
   "source": [
    "result_cal = 0 # 전역변수\n",
    "\n",
    "def add2(num):\n",
    "    global result_cal # 전역변수를 사용하겠다!!!\n",
    "    result_cal += num\n",
    "    return result_cal"
   ]
  },
  {
   "cell_type": "code",
   "execution_count": 16,
   "id": "1cc110f7",
   "metadata": {},
   "outputs": [
    {
     "data": {
      "text/plain": [
       "3"
      ]
     },
     "execution_count": 16,
     "metadata": {},
     "output_type": "execute_result"
    }
   ],
   "source": [
    "add2(3)"
   ]
  },
  {
   "cell_type": "code",
   "execution_count": 17,
   "id": "b142ad86",
   "metadata": {},
   "outputs": [
    {
     "name": "stdout",
     "output_type": "stream",
     "text": [
      "3\n"
     ]
    }
   ],
   "source": [
    "print(result_cal)"
   ]
  },
  {
   "cell_type": "markdown",
   "id": "51cc596b",
   "metadata": {},
   "source": [
    "* 길동이랑 둘리가 같은 함수를 같이 쓰고 싶다면?\n",
    "* 길동이를 위한 함수, 둘리를 위한 함수 만들기\n",
    "* 하지만 이러면 함수가 너무 많아지고 비효율적"
   ]
  },
  {
   "cell_type": "markdown",
   "id": "cf182889",
   "metadata": {},
   "source": [
    "# 클래스 만들기\n",
    "* 메소드 = 클래스 안에 정의한 함수\n",
    "* 클래스명은 카멜표기법으로 한다"
   ]
  },
  {
   "cell_type": "markdown",
   "id": "39133ff1",
   "metadata": {},
   "source": [
    "class 클래스명(): <br>\n",
    "____ def 메소드명1(): <br>\n",
    "________ 실행할 코드 <br>\n",
    "________ return <br> \n",
    "____ def 메소드명2(): <br>\n",
    "________ 실행할 코드 <br>\n",
    "________ return <br> "
   ]
  },
  {
   "cell_type": "markdown",
   "id": "f53cb6d2",
   "metadata": {},
   "source": [
    "### 클래스로 계산기 만들기"
   ]
  },
  {
   "cell_type": "code",
   "execution_count": 19,
   "id": "c588475a",
   "metadata": {},
   "outputs": [],
   "source": [
    "class Calculator():\n",
    "    def __init__(self): # self는 Calculator() 자기 자신\n",
    "        self.result = 0\n",
    "    def add(self, num):\n",
    "        self.result += num\n",
    "        return self.result"
   ]
  },
  {
   "cell_type": "markdown",
   "id": "0dbcc2ce",
   "metadata": {},
   "source": [
    "## 인스턴스\n",
    "* 만들어진 클래스를 변수에 담는 것\n",
    "* 사용자 등록"
   ]
  },
  {
   "cell_type": "code",
   "execution_count": 23,
   "id": "0fadf9b5",
   "metadata": {},
   "outputs": [
    {
     "data": {
      "text/plain": [
       "5"
      ]
     },
     "execution_count": 23,
     "metadata": {},
     "output_type": "execute_result"
    }
   ],
   "source": [
    "cal = Calculator()\n",
    "cal.add(5)"
   ]
  },
  {
   "cell_type": "code",
   "execution_count": 22,
   "id": "abeedf94",
   "metadata": {},
   "outputs": [
    {
     "data": {
      "text/plain": [
       "100"
      ]
     },
     "execution_count": 22,
     "metadata": {},
     "output_type": "execute_result"
    }
   ],
   "source": [
    "dul = Calculator()\n",
    "dul.add(100)"
   ]
  },
  {
   "cell_type": "markdown",
   "id": "6043576a",
   "metadata": {},
   "source": [
    "# 클래스 사용방법\n",
    "* 변수에 클래스를 담아서 인스턴스 생성\n",
    "* 공장에서 만든 커피머신을 사용자에게 배송\n",
    "* 인스턴스 변수명 = 클래스명() => 인스턴스 생성\n",
    "* 인스턴스를 생성하고 나면 (인스턴스명.메소드) 형식으로 클래스에 정의한 메소드를 사용할 수 있다"
   ]
  },
  {
   "cell_type": "markdown",
   "id": "2b1c94dd",
   "metadata": {},
   "source": [
    "# 메소드(method)\n",
    "* 클래스 안에 정의하는 함수\n",
    "* 클래스에 기능을 만들어 준다\n",
    "\n",
    "def 메소드명(self, 매개변수1, 매개변수2,..):<br>\n",
    "____ self.매개변수 = 매개변수"
   ]
  },
  {
   "cell_type": "markdown",
   "id": "81bb6eee",
   "metadata": {},
   "source": [
    "* 사칙연산이 가능한 계산기 만들기"
   ]
  },
  {
   "cell_type": "code",
   "execution_count": 53,
   "id": "86adf33c",
   "metadata": {},
   "outputs": [],
   "source": [
    "class FourCal():\n",
    "    \n",
    "    # 데이터 입력받는 역할의 setdata method\n",
    "    def setdata(self, num1, num2):\n",
    "        self.num1 = num1\n",
    "        self.num2 = num2\n",
    "        print(f'self.num1 : {self.num1}')\n",
    "        print(f'self.num2 : {self.num2}')\n",
    "        \n",
    "    # 덧셈\n",
    "    def add(self):\n",
    "        result = self.num1 + self.num2\n",
    "        return result\n",
    "    \n",
    "    # 뺄셈\n",
    "    def sub(self):\n",
    "        result = self.num1 - self.num2\n",
    "        return result"
   ]
  },
  {
   "cell_type": "code",
   "execution_count": 55,
   "id": "c376eb2f",
   "metadata": {},
   "outputs": [
    {
     "name": "stdout",
     "output_type": "stream",
     "text": [
      "self.num1 : 1\n",
      "self.num2 : 2\n"
     ]
    }
   ],
   "source": [
    "sam = FourCal()\n",
    "sam.setdata(1,2)"
   ]
  },
  {
   "cell_type": "code",
   "execution_count": 52,
   "id": "791ac605",
   "metadata": {},
   "outputs": [
    {
     "data": {
      "text/plain": [
       "3"
      ]
     },
     "execution_count": 52,
     "metadata": {},
     "output_type": "execute_result"
    }
   ],
   "source": [
    "sam.add()"
   ]
  },
  {
   "cell_type": "code",
   "execution_count": 56,
   "id": "6d5dc744",
   "metadata": {},
   "outputs": [
    {
     "data": {
      "text/plain": [
       "-1"
      ]
     },
     "execution_count": 56,
     "metadata": {},
     "output_type": "execute_result"
    }
   ],
   "source": [
    "sam.sub()"
   ]
  },
  {
   "cell_type": "markdown",
   "id": "543d661d",
   "metadata": {},
   "source": [
    "# 생성자\n",
    "* 클래스를 실행해서 인스턴스를 만들 때 초기값을 받도록 해주는 메소드\n",
    "* 생성자(constructor)는 객체(인스턴스)가 생성될 때 자동으로 호출되는 메서드\n",
    "* 주로 초기값을 받을 때 사용\n",
    "* 클래스 내에서 메서드명으로 \\_\\_init\\_\\_를 사용하면 그것이 생성자가 됨"
   ]
  },
  {
   "cell_type": "markdown",
   "id": "9dfaca9c",
   "metadata": {},
   "source": [
    "* 생성자를 이용해 초기값을 입력받는 FourCal2"
   ]
  },
  {
   "cell_type": "code",
   "execution_count": 57,
   "id": "a854b164",
   "metadata": {},
   "outputs": [],
   "source": [
    "class FourCal2():\n",
    "    def __init__(self, num1, num2):\n",
    "        self.num1 = num1\n",
    "        self.num2 = num2\n",
    "    def add(self):\n",
    "        return self.num1 + self.num2\n",
    "    def sub(self):\n",
    "        return self.num1 - self.num2\n",
    "    def mul(self):\n",
    "        return self.num1 * self.num2\n",
    "    def div(self):\n",
    "        return self.num1 / self.num2"
   ]
  },
  {
   "cell_type": "code",
   "execution_count": 59,
   "id": "bed9159d",
   "metadata": {},
   "outputs": [],
   "source": [
    "gildong = FourCal2(5,10)"
   ]
  },
  {
   "cell_type": "code",
   "execution_count": 60,
   "id": "9d4b8348",
   "metadata": {},
   "outputs": [
    {
     "data": {
      "text/plain": [
       "15"
      ]
     },
     "execution_count": 60,
     "metadata": {},
     "output_type": "execute_result"
    }
   ],
   "source": [
    "gildong.add()"
   ]
  },
  {
   "cell_type": "markdown",
   "id": "aca24e11",
   "metadata": {},
   "source": [
    "# 클래스의 상속\n",
    "* 어떤 클래스를 만들 때 다른 클래스의 기능을 물려받는 것\n",
    "* 기존 클래스에 기능을 추가할 때\n",
    "* A클래스를 상속받아 B클래스를 생성한다고 할 때\n",
    "* B클래스는 A클래스의 모든 기능을 사용할 수 있다"
   ]
  },
  {
   "cell_type": "markdown",
   "id": "ea3b7295",
   "metadata": {},
   "source": [
    "* FourCal2을 상속받아 제곱 기능을 추가한 MoreFourCal 만들기"
   ]
  },
  {
   "cell_type": "code",
   "execution_count": 61,
   "id": "cb154707",
   "metadata": {},
   "outputs": [],
   "source": [
    "class MoreFourCal(FourCal2):\n",
    "    def pow(self):\n",
    "        return self.num1 ** self.num2"
   ]
  },
  {
   "cell_type": "code",
   "execution_count": 62,
   "id": "4ed4cd82",
   "metadata": {},
   "outputs": [],
   "source": [
    "dul = MoreFourCal(2,3)"
   ]
  },
  {
   "cell_type": "code",
   "execution_count": 63,
   "id": "6440b373",
   "metadata": {},
   "outputs": [
    {
     "data": {
      "text/plain": [
       "5"
      ]
     },
     "execution_count": 63,
     "metadata": {},
     "output_type": "execute_result"
    }
   ],
   "source": [
    "dul.add()"
   ]
  },
  {
   "cell_type": "code",
   "execution_count": 64,
   "id": "dd096c85",
   "metadata": {},
   "outputs": [
    {
     "data": {
      "text/plain": [
       "8"
      ]
     },
     "execution_count": 64,
     "metadata": {},
     "output_type": "execute_result"
    }
   ],
   "source": [
    "dul.pow()"
   ]
  },
  {
   "cell_type": "markdown",
   "id": "2f8c853c",
   "metadata": {},
   "source": [
    "# 메서드 오버라이딩 (method overriding)\n",
    "* 부모 클래스에서 상속한 메서드를 자식 클래스에서 동일한 이름으로 재정의"
   ]
  },
  {
   "cell_type": "code",
   "execution_count": 67,
   "id": "1a191bb1",
   "metadata": {},
   "outputs": [],
   "source": [
    "kim = FourCal2(4, 0)"
   ]
  },
  {
   "cell_type": "code",
   "execution_count": 68,
   "id": "e9408204",
   "metadata": {},
   "outputs": [
    {
     "ename": "ZeroDivisionError",
     "evalue": "division by zero",
     "output_type": "error",
     "traceback": [
      "\u001b[1;31m---------------------------------------------------------------------------\u001b[0m",
      "\u001b[1;31mZeroDivisionError\u001b[0m                         Traceback (most recent call last)",
      "Cell \u001b[1;32mIn[68], line 1\u001b[0m\n\u001b[1;32m----> 1\u001b[0m \u001b[43mkim\u001b[49m\u001b[38;5;241;43m.\u001b[39;49m\u001b[43mdiv\u001b[49m\u001b[43m(\u001b[49m\u001b[43m)\u001b[49m\n",
      "Cell \u001b[1;32mIn[57], line 12\u001b[0m, in \u001b[0;36mFourCal2.div\u001b[1;34m(self)\u001b[0m\n\u001b[0;32m     11\u001b[0m \u001b[38;5;28;01mdef\u001b[39;00m\u001b[38;5;250m \u001b[39m\u001b[38;5;21mdiv\u001b[39m(\u001b[38;5;28mself\u001b[39m):\n\u001b[1;32m---> 12\u001b[0m     \u001b[38;5;28;01mreturn\u001b[39;00m \u001b[38;5;28;43mself\u001b[39;49m\u001b[38;5;241;43m.\u001b[39;49m\u001b[43mnum1\u001b[49m\u001b[43m \u001b[49m\u001b[38;5;241;43m/\u001b[39;49m\u001b[43m \u001b[49m\u001b[38;5;28;43mself\u001b[39;49m\u001b[38;5;241;43m.\u001b[39;49m\u001b[43mnum2\u001b[49m\n",
      "\u001b[1;31mZeroDivisionError\u001b[0m: division by zero"
     ]
    }
   ],
   "source": [
    "kim.div()"
   ]
  },
  {
   "cell_type": "markdown",
   "id": "696920a9",
   "metadata": {},
   "source": [
    "* FourCal2는 num2에 0이 입력될 경우 div 메서드 실행 시 0으로 나누게 되기 때문에 에러 발생\n",
    "* SafeFourCal을 만들고 FourCal2 상속받은 후 div 함수를 재정의하여 에러 없앰"
   ]
  },
  {
   "cell_type": "code",
   "execution_count": 72,
   "id": "cea46415",
   "metadata": {},
   "outputs": [],
   "source": [
    "class SafeFourCal(FourCal2):\n",
    "    def div(self):\n",
    "        if self.num2 == 0:\n",
    "            return 0\n",
    "        else:\n",
    "            return self.num1 / self.num2"
   ]
  },
  {
   "cell_type": "code",
   "execution_count": 74,
   "id": "d11f4d2c",
   "metadata": {},
   "outputs": [],
   "source": [
    "park = SafeFourCal(4,0)"
   ]
  },
  {
   "cell_type": "code",
   "execution_count": 75,
   "id": "26bbad83",
   "metadata": {},
   "outputs": [
    {
     "data": {
      "text/plain": [
       "0"
      ]
     },
     "execution_count": 75,
     "metadata": {},
     "output_type": "execute_result"
    }
   ],
   "source": [
    "park.div()"
   ]
  },
  {
   "cell_type": "code",
   "execution_count": 76,
   "id": "3ac30adc",
   "metadata": {},
   "outputs": [
    {
     "data": {
      "text/plain": [
       "4"
      ]
     },
     "execution_count": 76,
     "metadata": {},
     "output_type": "execute_result"
    }
   ],
   "source": [
    "park.sub()"
   ]
  },
  {
   "cell_type": "markdown",
   "id": "0838742b",
   "metadata": {},
   "source": [
    "# 메소드 오버로딩\n",
    "* 한 클래스 안에서 동일 메서드의 기능을 다르게 재정의\n",
    "* 동일한 이름의 메서드가 기능이 약간 변경된 채로 여러개 존재 <br>\n",
    "<br>\n",
    "def add(num1, num2) <br>\n",
    "def add(num1, num2, num3) <br>\n",
    "def add(num1, num2, num3, num4) <br>"
   ]
  },
  {
   "cell_type": "markdown",
   "id": "779aa048",
   "metadata": {},
   "source": [
    "#### multipledispatch 패키지를 통한 메서드 오버로딩"
   ]
  },
  {
   "cell_type": "code",
   "execution_count": 81,
   "id": "a191dc3f",
   "metadata": {},
   "outputs": [
    {
     "name": "stdout",
     "output_type": "stream",
     "text": [
      "Collecting multipledispatch\n",
      "  Downloading multipledispatch-1.0.0-py3-none-any.whl.metadata (3.8 kB)\n",
      "Downloading multipledispatch-1.0.0-py3-none-any.whl (12 kB)\n",
      "Installing collected packages: multipledispatch\n",
      "Successfully installed multipledispatch-1.0.0\n"
     ]
    }
   ],
   "source": [
    "!pip install multipledispatch"
   ]
  },
  {
   "cell_type": "code",
   "execution_count": 88,
   "id": "258c2ae0",
   "metadata": {},
   "outputs": [],
   "source": [
    "from multipledispatch import dispatch"
   ]
  },
  {
   "cell_type": "code",
   "execution_count": 89,
   "id": "f7b9aebc",
   "metadata": {},
   "outputs": [],
   "source": [
    "class OverloadingEx():\n",
    "    @dispatch(int,int)\n",
    "    def add(self,x,y):\n",
    "        return x+y\n",
    "    @dispatch(int,int,int)\n",
    "    def add(self,x,y,z):\n",
    "        return x+y+z\n",
    "    @dispatch(int,int,int,int)\n",
    "    def add(self,x,y,z,a):\n",
    "        return x+y+z+a"
   ]
  },
  {
   "cell_type": "code",
   "execution_count": 90,
   "id": "6274c1a1",
   "metadata": {},
   "outputs": [],
   "source": [
    "sally = OverloadingEx()"
   ]
  },
  {
   "cell_type": "code",
   "execution_count": 91,
   "id": "3893bca2",
   "metadata": {},
   "outputs": [
    {
     "data": {
      "text/plain": [
       "30"
      ]
     },
     "execution_count": 91,
     "metadata": {},
     "output_type": "execute_result"
    }
   ],
   "source": [
    "sally.add(10, 20)"
   ]
  },
  {
   "cell_type": "markdown",
   "id": "0e861887",
   "metadata": {},
   "source": [
    "# 클래스 속성과 인스턴스 속성\n",
    "* 클래스 속성 : 클래스 전체에서 공유하는 속성(변수), 모든 인스턴스에서 공유\n",
    "* 인스턴스 속성 : 인스턴스에서만 사용하는 속성, 인스턴스간 공유 안됨"
   ]
  },
  {
   "cell_type": "code",
   "execution_count": 96,
   "id": "f8f29b37",
   "metadata": {},
   "outputs": [],
   "source": [
    "class Family():\n",
    "    lastname = '이' # 클래스 속성"
   ]
  },
  {
   "cell_type": "code",
   "execution_count": 97,
   "id": "5ebbc8cc",
   "metadata": {},
   "outputs": [],
   "source": [
    "lee = Family()"
   ]
  },
  {
   "cell_type": "code",
   "execution_count": 100,
   "id": "1ea6986e",
   "metadata": {},
   "outputs": [
    {
     "data": {
      "text/plain": [
       "'이'"
      ]
     },
     "execution_count": 100,
     "metadata": {},
     "output_type": "execute_result"
    }
   ],
   "source": [
    "lee.lastname"
   ]
  },
  {
   "cell_type": "code",
   "execution_count": 101,
   "id": "35ccbf70",
   "metadata": {},
   "outputs": [
    {
     "data": {
      "text/plain": [
       "'박'"
      ]
     },
     "execution_count": 101,
     "metadata": {},
     "output_type": "execute_result"
    }
   ],
   "source": [
    "park = Family()\n",
    "park.lastname= '박'# 인스턴스 속성\n",
    "park.lastname"
   ]
  },
  {
   "cell_type": "markdown",
   "id": "e29c47b7",
   "metadata": {},
   "source": [
    "# 비공개 클래스 속성"
   ]
  },
  {
   "cell_type": "code",
   "execution_count": 102,
   "id": "bf235038",
   "metadata": {},
   "outputs": [],
   "source": [
    "class PInfo():\n",
    "    lastname = \"홍\"\n",
    "    __firstname = '길동'\n",
    "    __password = 3440"
   ]
  },
  {
   "cell_type": "code",
   "execution_count": 103,
   "id": "9147859c",
   "metadata": {},
   "outputs": [],
   "source": [
    "hong = PInfo()"
   ]
  },
  {
   "cell_type": "code",
   "execution_count": 104,
   "id": "9a36bb11",
   "metadata": {},
   "outputs": [
    {
     "ename": "AttributeError",
     "evalue": "'PInfo' object has no attribute 'firstname'",
     "output_type": "error",
     "traceback": [
      "\u001b[1;31m---------------------------------------------------------------------------\u001b[0m",
      "\u001b[1;31mAttributeError\u001b[0m                            Traceback (most recent call last)",
      "Cell \u001b[1;32mIn[104], line 1\u001b[0m\n\u001b[1;32m----> 1\u001b[0m \u001b[43mhong\u001b[49m\u001b[38;5;241;43m.\u001b[39;49m\u001b[43mfirstname\u001b[49m\n",
      "\u001b[1;31mAttributeError\u001b[0m: 'PInfo' object has no attribute 'firstname'"
     ]
    }
   ],
   "source": [
    "hong.firstname"
   ]
  },
  {
   "cell_type": "markdown",
   "id": "6fc85dab",
   "metadata": {},
   "source": [
    "## 비공개 클래스 속성을 보는 방법"
   ]
  },
  {
   "cell_type": "code",
   "execution_count": 106,
   "id": "a74bfee8",
   "metadata": {},
   "outputs": [],
   "source": [
    "class PInfo2():\n",
    "    lastname = \"홍\"\n",
    "    __firstname = '길동'\n",
    "    __password = 3440\n",
    "    \n",
    "    def print_name(self):\n",
    "        print(self.__firstname)"
   ]
  },
  {
   "cell_type": "code",
   "execution_count": 107,
   "id": "290706bb",
   "metadata": {},
   "outputs": [
    {
     "name": "stdout",
     "output_type": "stream",
     "text": [
      "길동\n"
     ]
    }
   ],
   "source": [
    "dong = PInfo2()\n",
    "dong.print_name()"
   ]
  },
  {
   "cell_type": "markdown",
   "id": "6347034e",
   "metadata": {},
   "source": [
    "# 정적 메서드 static method\n",
    "* 인스턴스를 만들지 않고도 클래스의 메서드를 바로 사용할 수 있는 메서드\n",
    "* 클래스 안에 포함되었지만, 사실상 일반 함수처럼 동작하는 메서드\n",
    "* 메서드 위에 @staticmethod라는 데코레이터를 붙여서 만듦\n",
    "* static method는 self를 받지 않으므로 인스턴스 속성, 인스턴스 메서드가 필요하지 않을 때 사용"
   ]
  },
  {
   "cell_type": "code",
   "execution_count": 109,
   "id": "34eec741",
   "metadata": {},
   "outputs": [],
   "source": [
    "# self가 없음\n",
    "class Calcul():\n",
    "    \n",
    "    # 값을 기억했다가 쓰지 않음\n",
    "    @staticmethod\n",
    "    def add(a,b):\n",
    "        print(a+b)\n",
    "        \n",
    "    @staticmethod\n",
    "    def sub(a,b):\n",
    "        print(a-b)"
   ]
  },
  {
   "cell_type": "code",
   "execution_count": 110,
   "id": "ef0e8f9b",
   "metadata": {},
   "outputs": [
    {
     "name": "stdout",
     "output_type": "stream",
     "text": [
      "5\n"
     ]
    }
   ],
   "source": [
    "Calcul.add(0,5)"
   ]
  },
  {
   "cell_type": "markdown",
   "id": "8a17f6e4",
   "metadata": {},
   "source": [
    "# 클래스 메서드 class method\n",
    "* 메서드 위에 @classmethod 붙여서 만듦\n",
    "* 클래스 메서드의 첫번째 매개변수에는 cls를 지정해야 한다\n",
    "* 클래스 메서드도 staticmethod처럼 인스턴스 생성없이 호출 가능\n",
    "* 클래스 메서드는 메서드 안에서 클래스 속성, 클래스 메서드에 접근해야할 때 사용"
   ]
  },
  {
   "cell_type": "code",
   "execution_count": 117,
   "id": "a632964e",
   "metadata": {},
   "outputs": [],
   "source": [
    "class Factory():\n",
    "    n_coffee_machine = 0 # 클래스 속성\n",
    "    \n",
    "    def __init__(self):\n",
    "        # 클래스 이름을 직접적으로 줘야함!!!!!!\n",
    "        # 인스턴스가 생성될 때 클래스 속성에 1을 더함\n",
    "        Factory.n_coffee_machine += 1\n",
    "        \n",
    "    @classmethod\n",
    "    def print_n_coffee_machine(cls):\n",
    "        print(f'{cls.n_coffee_machine}개가 제조 되었습니다.')"
   ]
  },
  {
   "cell_type": "code",
   "execution_count": 118,
   "id": "916968e2",
   "metadata": {},
   "outputs": [
    {
     "name": "stdout",
     "output_type": "stream",
     "text": [
      "0개가 제조 되었습니다.\n"
     ]
    }
   ],
   "source": [
    "Factory.print_n_coffee_machine()"
   ]
  },
  {
   "cell_type": "code",
   "execution_count": 119,
   "id": "15db1424",
   "metadata": {},
   "outputs": [],
   "source": [
    "james = Factory()\n",
    "jenny = Factory()"
   ]
  },
  {
   "cell_type": "code",
   "execution_count": 120,
   "id": "0d704e34",
   "metadata": {
    "scrolled": false
   },
   "outputs": [
    {
     "name": "stdout",
     "output_type": "stream",
     "text": [
      "2개가 제조 되었습니다.\n"
     ]
    }
   ],
   "source": [
    "Factory.print_n_coffee_machine()"
   ]
  },
  {
   "cell_type": "markdown",
   "id": "7a31c7ff",
   "metadata": {},
   "source": [
    "# 추상클래스 abc (abstract base class)\n",
    "* abc 모듈 필요\n",
    "* 추상클래스는 추상클래스를 상속받아 클래스를 만들 때 반드시 만들어야 하는 메소드를 지정해주는 클래스\n",
    "* 인터페이스\n",
    "* 규칙을 부여해서 그 규칙에 따라 클래스를 만들도록 강제함\n",
    "* 추상 클래스를 상속받은 클래스는 반드시 추상클래스에서 정의한 메소드를 overriding으로 구현해야 한다\n",
    "* 이력서 양식에 맞추어 내용적기"
   ]
  },
  {
   "cell_type": "code",
   "execution_count": 121,
   "id": "dae32417",
   "metadata": {},
   "outputs": [],
   "source": [
    "from abc import *"
   ]
  },
  {
   "cell_type": "code",
   "execution_count": 123,
   "id": "fcece67b",
   "metadata": {},
   "outputs": [],
   "source": [
    "# 추상 클래스\n",
    "class CoffeeBase(metaclass=ABCMeta):\n",
    "    @abstractmethod\n",
    "    def bean_input(self):\n",
    "        pass\n",
    "    \n",
    "    @abstractmethod\n",
    "    def grind(self):\n",
    "        pass"
   ]
  },
  {
   "cell_type": "code",
   "execution_count": 124,
   "id": "9198c9fd",
   "metadata": {},
   "outputs": [
    {
     "ename": "TypeError",
     "evalue": "Can't instantiate abstract class CoffeeBase with abstract methods bean_input, grind",
     "output_type": "error",
     "traceback": [
      "\u001b[1;31m---------------------------------------------------------------------------\u001b[0m",
      "\u001b[1;31mTypeError\u001b[0m                                 Traceback (most recent call last)",
      "Cell \u001b[1;32mIn[124], line 2\u001b[0m\n\u001b[0;32m      1\u001b[0m \u001b[38;5;66;03m# 추상 클래스는 인스턴스 생성 불가\u001b[39;00m\n\u001b[1;32m----> 2\u001b[0m sam \u001b[38;5;241m=\u001b[39m \u001b[43mCoffeeBase\u001b[49m\u001b[43m(\u001b[49m\u001b[43m)\u001b[49m\n",
      "\u001b[1;31mTypeError\u001b[0m: Can't instantiate abstract class CoffeeBase with abstract methods bean_input, grind"
     ]
    }
   ],
   "source": [
    "# 추상 클래스는 인스턴스 생성 불가\n",
    "sam = CoffeeBase()"
   ]
  },
  {
   "cell_type": "code",
   "execution_count": 125,
   "id": "6cf20042",
   "metadata": {},
   "outputs": [],
   "source": [
    "class CoffeeMachine(CoffeeBase):\n",
    "    def bean_input(self):\n",
    "        print('커피 원두 넣기')\n",
    "    def grind(self):\n",
    "        print('커피 원두 갈기')"
   ]
  },
  {
   "cell_type": "code",
   "execution_count": 126,
   "id": "562dc256",
   "metadata": {},
   "outputs": [],
   "source": [
    "sally = CoffeeMachine()"
   ]
  },
  {
   "cell_type": "code",
   "execution_count": 128,
   "id": "b2845b98",
   "metadata": {},
   "outputs": [
    {
     "name": "stdout",
     "output_type": "stream",
     "text": [
      "커피 원두 넣기\n"
     ]
    }
   ],
   "source": [
    "sally.bean_input()"
   ]
  }
 ],
 "metadata": {
  "kernelspec": {
   "display_name": "Python 3 (ipykernel)",
   "language": "python",
   "name": "python3"
  },
  "language_info": {
   "codemirror_mode": {
    "name": "ipython",
    "version": 3
   },
   "file_extension": ".py",
   "mimetype": "text/x-python",
   "name": "python",
   "nbconvert_exporter": "python",
   "pygments_lexer": "ipython3",
   "version": "3.9.21"
  }
 },
 "nbformat": 4,
 "nbformat_minor": 5
}
