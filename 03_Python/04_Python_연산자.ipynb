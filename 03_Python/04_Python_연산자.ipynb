{
 "cells": [
  {
   "cell_type": "markdown",
   "id": "43895959",
   "metadata": {},
   "source": [
    "# 연산자의 종류\n",
    "* 산술, 할당, 비교, 논리, 식별, 멤버"
   ]
  },
  {
   "cell_type": "markdown",
   "id": "a6fd28f1",
   "metadata": {},
   "source": [
    "## 산술연산자 +, -, *, /, %, //, **"
   ]
  },
  {
   "cell_type": "code",
   "execution_count": 5,
   "id": "6d90d3e8",
   "metadata": {},
   "outputs": [
    {
     "name": "stdout",
     "output_type": "stream",
     "text": [
      "2\n",
      "5.1\n",
      "-1\n",
      "15\n",
      "1.6666666666666667\n",
      "2\n",
      "1\n",
      "16\n"
     ]
    }
   ],
   "source": [
    "print(1 + 1)\n",
    "print(2 + 3.1)\n",
    "print(3 - 4)\n",
    "print(5 * 3)\n",
    "print(5 / 3)\n",
    "print(5 % 3)\n",
    "print(5 // 3)\n",
    "print(2 ** 4)"
   ]
  },
  {
   "cell_type": "markdown",
   "id": "69141e4c",
   "metadata": {},
   "source": [
    "## 할당연산자 =, +=, -=, *=, /=, %="
   ]
  },
  {
   "cell_type": "code",
   "execution_count": 9,
   "id": "825005a1",
   "metadata": {},
   "outputs": [],
   "source": [
    "a = 10\n",
    "b = 5"
   ]
  },
  {
   "cell_type": "code",
   "execution_count": 10,
   "id": "6ea1ef5d",
   "metadata": {},
   "outputs": [
    {
     "name": "stdout",
     "output_type": "stream",
     "text": [
      "15\n",
      "20\n"
     ]
    }
   ],
   "source": [
    "a = a + 5\n",
    "print(a)\n",
    "a += 5\n",
    "print(a)"
   ]
  },
  {
   "cell_type": "code",
   "execution_count": 11,
   "id": "3934a52d",
   "metadata": {},
   "outputs": [
    {
     "name": "stdout",
     "output_type": "stream",
     "text": [
      "0\n",
      "-5\n"
     ]
    }
   ],
   "source": [
    "b = b - 5\n",
    "print(b)\n",
    "b -= 5\n",
    "print(b)"
   ]
  },
  {
   "cell_type": "markdown",
   "id": "173cf9d7",
   "metadata": {},
   "source": [
    "## 비교연산자 ==, !=, >, <, >=, <="
   ]
  },
  {
   "cell_type": "code",
   "execution_count": 12,
   "id": "c6b07a5c",
   "metadata": {},
   "outputs": [],
   "source": [
    "a = 3\n",
    "b = 3.0\n",
    "c = 5\n",
    "d = \"Python\"\n",
    "e = \"python\"\n",
    "f = True\n",
    "g = False"
   ]
  },
  {
   "cell_type": "code",
   "execution_count": 15,
   "id": "29848016",
   "metadata": {},
   "outputs": [
    {
     "name": "stdout",
     "output_type": "stream",
     "text": [
      "True\n",
      "False\n",
      "False\n",
      "True\n",
      "False\n",
      "True\n"
     ]
    }
   ],
   "source": [
    "print(a == b)\n",
    "print(a != b)\n",
    "print(b > c)\n",
    "print(b <= c)\n",
    "print(d == e)\n",
    "print(d != e)"
   ]
  },
  {
   "cell_type": "markdown",
   "id": "f3827b4b",
   "metadata": {},
   "source": [
    "## 논리연산자 and, or, not\n",
    "* and는 두 값이 모두 참이어야 참\n",
    "* or는 두 값 중 하나라도 참이면 참, 모두 거짓이어야 거짓\n",
    "* not은 값을 반대로 뒤집는다"
   ]
  },
  {
   "cell_type": "code",
   "execution_count": 18,
   "id": "89bdb26c",
   "metadata": {},
   "outputs": [
    {
     "name": "stdout",
     "output_type": "stream",
     "text": [
      "True\n",
      "False\n",
      "False\n",
      "False\n"
     ]
    }
   ],
   "source": [
    "print(True and True)\n",
    "print(True and False)\n",
    "print(False and True)\n",
    "print(False and False)"
   ]
  },
  {
   "cell_type": "code",
   "execution_count": 19,
   "id": "70a4022f",
   "metadata": {},
   "outputs": [
    {
     "name": "stdout",
     "output_type": "stream",
     "text": [
      "True\n",
      "True\n",
      "True\n",
      "False\n"
     ]
    }
   ],
   "source": [
    "print(True or True)\n",
    "print(True or False)\n",
    "print(False or True)\n",
    "print(False or False)"
   ]
  },
  {
   "cell_type": "code",
   "execution_count": 20,
   "id": "ce7f31f7",
   "metadata": {},
   "outputs": [
    {
     "name": "stdout",
     "output_type": "stream",
     "text": [
      "False\n",
      "True\n"
     ]
    }
   ],
   "source": [
    "print(not True)\n",
    "print(not False)"
   ]
  },
  {
   "cell_type": "markdown",
   "id": "8e19a111",
   "metadata": {},
   "source": [
    "### 우선순위 : not, and, or 순으로 판단"
   ]
  },
  {
   "cell_type": "code",
   "execution_count": 21,
   "id": "878d0508",
   "metadata": {},
   "outputs": [
    {
     "name": "stdout",
     "output_type": "stream",
     "text": [
      "True\n"
     ]
    }
   ],
   "source": [
    "print(10 == 10 and 10 != 5)"
   ]
  },
  {
   "cell_type": "markdown",
   "id": "d2c33a97",
   "metadata": {},
   "source": [
    "## 식별연산자 is, is not\n",
    "* (object, data type)이 같은지 비교하는 것\n",
    "* 값과 data type이 모두 똑같을 때만 True"
   ]
  },
  {
   "cell_type": "code",
   "execution_count": 23,
   "id": "2adc2c85",
   "metadata": {},
   "outputs": [
    {
     "name": "stdout",
     "output_type": "stream",
     "text": [
      "3\n",
      "3.0\n",
      "5\n",
      "\n",
      "False\n",
      "True\n",
      "\n",
      "False\n",
      "False\n",
      "True\n"
     ]
    }
   ],
   "source": [
    "print(a)\n",
    "print(b)\n",
    "print(c)\n",
    "\n",
    "print()\n",
    "\n",
    "print(a is b)\n",
    "print(a is not b)\n",
    "\n",
    "print()\n",
    "\n",
    "print(a is c)\n",
    "print(b is c)\n",
    "print(b is not c)"
   ]
  },
  {
   "cell_type": "markdown",
   "id": "5612f00e",
   "metadata": {},
   "source": [
    "## 멤버연산자 in, not in"
   ]
  },
  {
   "cell_type": "code",
   "execution_count": 24,
   "id": "aec4800b",
   "metadata": {},
   "outputs": [
    {
     "name": "stdout",
     "output_type": "stream",
     "text": [
      "True\n",
      "False\n"
     ]
    }
   ],
   "source": [
    "print(1 in [1,2,4])\n",
    "print(1 not in [0,1,2])"
   ]
  }
 ],
 "metadata": {
  "kernelspec": {
   "display_name": "Python 3 (ipykernel)",
   "language": "python",
   "name": "python3"
  },
  "language_info": {
   "codemirror_mode": {
    "name": "ipython",
    "version": 3
   },
   "file_extension": ".py",
   "mimetype": "text/x-python",
   "name": "python",
   "nbconvert_exporter": "python",
   "pygments_lexer": "ipython3",
   "version": "3.9.21"
  }
 },
 "nbformat": 4,
 "nbformat_minor": 5
}
