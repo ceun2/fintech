{
 "cells": [
  {
   "cell_type": "markdown",
   "id": "78c4232a",
   "metadata": {},
   "source": [
    "# 파이썬 기초 문법\n",
    "\n",
    "* 파이썬의 주석은 문장 앞에 #을 붙여서 만든다.\n",
    "* 파이썬은 들여쓰기를 사용해서 코드를 구분해 작성한다.\n",
    "* 들여쓰기는 4칸이 기본, google colab은 2칸\n",
    "* 변수를 만들 때 스네이크 표기법을 사용한다. ex) user_name (일반 변수, 함수명)\n",
    "* 클래스를 만들 때는 카멜 표기법을 사용한다. ex) userName (클래스명)"
   ]
  },
  {
   "cell_type": "markdown",
   "id": "bcb003da",
   "metadata": {},
   "source": [
    "# print 문\n",
    "\n",
    "* print 함수 안에 있는 내용을 출력해주는 함수\n",
    "* print(출력할 내용)\n",
    "* print(1) 출력할 내용이 숫자인 경우, 변수인 경우 따옴표 X\n",
    "* print(\"hello world\") 출력할 내용이 문자, 문자열인 경우 반드시 따옴표(\",') 필요"
   ]
  },
  {
   "cell_type": "markdown",
   "id": "53f8e87f",
   "metadata": {},
   "source": [
    "### 따옴표까지 같이 출력하고 싶을 때는 섞어서"
   ]
  },
  {
   "cell_type": "code",
   "execution_count": 1,
   "id": "f072aec2",
   "metadata": {},
   "outputs": [
    {
     "name": "stdout",
     "output_type": "stream",
     "text": [
      "이것은 '파이썬'이다.\n",
      "이것은 \"python\"이다.\n",
      "이것은 \"python\"이다.\n"
     ]
    }
   ],
   "source": [
    "print(\"이것은 '파이썬'이다.\")\n",
    "print('이것은 \"python\"이다.')\n",
    "print('이것은 \\\"python\\\"이다.')"
   ]
  },
  {
   "cell_type": "markdown",
   "id": "702dd46e",
   "metadata": {},
   "source": [
    "# print문 옵션\n",
    "\n",
    "* sep 구분자 : print문 안에 여러 개의 자료를 출력할 때 자료를 구분해주는 문자\n",
    "* 기본값은 \" \" 공백"
   ]
  },
  {
   "cell_type": "code",
   "execution_count": 3,
   "id": "20cf5939",
   "metadata": {},
   "outputs": [
    {
     "name": "stdout",
     "output_type": "stream",
     "text": [
      "이것은 파이썬 입니다.\n",
      "이것은_파이썬_입니다.\n",
      "헐크 vs 아이언맨 vs 스파이더맨.\n"
     ]
    }
   ],
   "source": [
    "print(\"이것은\", '파이썬','입니다.')\n",
    "print(\"이것은\", '파이썬','입니다.',sep=\"_\")\n",
    "print(\"헐크\", '아이언맨','스파이더맨.',sep=\" vs \")"
   ]
  },
  {
   "cell_type": "markdown",
   "id": "1bd855cd",
   "metadata": {},
   "source": [
    "* end : print가 끝나고 실행될 옵션\n",
    "* 기본값은 \\n (이스케이프 문자, new line 새줄)"
   ]
  },
  {
   "cell_type": "code",
   "execution_count": 5,
   "id": "9f6c653d",
   "metadata": {},
   "outputs": [
    {
     "name": "stdout",
     "output_type": "stream",
     "text": [
      "이것은_파이썬_입니다. 헐크 vs 아이언맨 vs 스파이더맨.\n"
     ]
    }
   ],
   "source": [
    "print(\"이것은\", '파이썬','입니다.',sep=\"_\", end=\" \")\n",
    "print(\"헐크\", '아이언맨','스파이더맨.',sep=\" vs \")"
   ]
  },
  {
   "cell_type": "code",
   "execution_count": 6,
   "id": "b9d73524",
   "metadata": {},
   "outputs": [
    {
     "name": "stdout",
     "output_type": "stream",
     "text": [
      "이것은_파이썬_입니다.\t헐크 vs 아이언맨 vs 스파이더맨.\n"
     ]
    }
   ],
   "source": [
    "# end 값을 \"\\t\"(tap)으로 준 경우\n",
    "print(\"이것은\", '파이썬','입니다.',sep=\"_\", end=\"\\t\")\n",
    "print(\"헐크\", '아이언맨','스파이더맨.',sep=\" vs \")"
   ]
  },
  {
   "cell_type": "code",
   "execution_count": 7,
   "id": "8ffd241d",
   "metadata": {},
   "outputs": [
    {
     "name": "stdout",
     "output_type": "stream",
     "text": [
      "이것은_파이썬_입니다.\r",
      "헐크 vs 아이언맨 vs 스파이더맨.\n"
     ]
    }
   ],
   "source": [
    "# end 값을 \"\\r\"(carrige return)으로 준 경우\n",
    "print(\"이것은\", '파이썬','입니다.',sep=\"_\", end=\"\\r\")\n",
    "print(\"헐크\", '아이언맨','스파이더맨.',sep=\" vs \")"
   ]
  },
  {
   "cell_type": "markdown",
   "id": "27088114",
   "metadata": {},
   "source": [
    "### 함수의 옵션 확인\n",
    "\n",
    "* print( ) 함수의 괄호 안에서 **shift + tab** 을 누르면 어떤 옵션이 있는지 볼 수 있음"
   ]
  },
  {
   "cell_type": "markdown",
   "id": "a3dfaa42",
   "metadata": {},
   "source": [
    "# 변수\n",
    "\n",
    "* 자료를 담는 택배상자\n",
    "* 택배 상자에는 1개만 넣을 수 있다.\n",
    "\n",
    "### 변수명\n",
    "* 영문과 숫자를 조합해서 만들 수 있다.\n",
    "* 시작은 반드시 영문자 혹은 _로 시작해야 함\n",
    "* 숫자로 시작하거나 - 등의 특수문자로 시작하면 오류\n",
    "* **예약어**(이미 파이썬에서 사용하고 있는 함수 혹은 문법용 단어 ex. for, list, if, id 등)는 변수명으로 사용할 수 없다.\n",
    "    * 주의!! 예약어를 써도 파이썬에서는 변수가 만들어진다.\n",
    "    * 그러므로 예약어를 잘 기억해두자!!\n",
    "* 변수명은 스네이크 표기법으로 만든다.\n",
    "* 변수명 = 자료값\n",
    "* = 는 같다라는 표시가 아니라 등호 오른쪽의 값을 왼쪽의 변수에 할당한다라는 뜻"
   ]
  },
  {
   "cell_type": "markdown",
   "id": "a3d6e62d",
   "metadata": {},
   "source": [
    "## 변수에는 자료값이 1개만 들어간다."
   ]
  },
  {
   "cell_type": "code",
   "execution_count": 8,
   "id": "c06d635f",
   "metadata": {},
   "outputs": [
    {
     "name": "stdout",
     "output_type": "stream",
     "text": [
      "1\n",
      "3\n"
     ]
    }
   ],
   "source": [
    "a = 1\n",
    "print(a)\n",
    "\n",
    "a = 3\n",
    "print(a)"
   ]
  },
  {
   "cell_type": "code",
   "execution_count": 9,
   "id": "306d4fdf",
   "metadata": {},
   "outputs": [
    {
     "name": "stdout",
     "output_type": "stream",
     "text": [
      "문자열은 길이에 상관없이 들어가요\n",
      "테스트해봅시다\n"
     ]
    }
   ],
   "source": [
    "c = \"문자열은 길이에 상관없이 들어가요\"\n",
    "print(c)\n",
    "\n",
    "c = \"테스트해봅시다\"\n",
    "print(c)"
   ]
  },
  {
   "cell_type": "code",
   "execution_count": 12,
   "id": "d4982b43",
   "metadata": {},
   "outputs": [
    {
     "name": "stdout",
     "output_type": "stream",
     "text": [
      "핀테크님\n"
     ]
    }
   ],
   "source": [
    "# 변수명은 스네이크 표기법으로 만든다.\n",
    "user_name = \"핀테크님\"\n",
    "print(user_name)"
   ]
  },
  {
   "cell_type": "markdown",
   "id": "7f539b71",
   "metadata": {},
   "source": [
    "## 변수 여러 개를 한 번에 만들기"
   ]
  },
  {
   "cell_type": "code",
   "execution_count": 14,
   "id": "b81cb31d",
   "metadata": {},
   "outputs": [
    {
     "name": "stdout",
     "output_type": "stream",
     "text": [
      "1 3 오\n"
     ]
    }
   ],
   "source": [
    "a, b, c = 1, 3, \"오\"\n",
    "print(a, b, c)"
   ]
  },
  {
   "cell_type": "markdown",
   "id": "c0e74ae1",
   "metadata": {},
   "source": [
    "## 변수 삭제하기\n",
    "* del 변수명"
   ]
  },
  {
   "cell_type": "code",
   "execution_count": 15,
   "id": "89f940b0",
   "metadata": {},
   "outputs": [
    {
     "name": "stdout",
     "output_type": "stream",
     "text": [
      "핀테크님\n"
     ]
    },
    {
     "ename": "NameError",
     "evalue": "name 'user_name' is not defined",
     "output_type": "error",
     "traceback": [
      "\u001b[1;31m---------------------------------------------------------------------------\u001b[0m",
      "\u001b[1;31mNameError\u001b[0m                                 Traceback (most recent call last)",
      "Cell \u001b[1;32mIn[15], line 4\u001b[0m\n\u001b[0;32m      1\u001b[0m \u001b[38;5;28mprint\u001b[39m(user_name)\n\u001b[0;32m      3\u001b[0m \u001b[38;5;28;01mdel\u001b[39;00m user_name\n\u001b[1;32m----> 4\u001b[0m \u001b[38;5;28mprint\u001b[39m(\u001b[43muser_name\u001b[49m)\n",
      "\u001b[1;31mNameError\u001b[0m: name 'user_name' is not defined"
     ]
    }
   ],
   "source": [
    "print(user_name)\n",
    "\n",
    "del user_name\n",
    "print(user_name)"
   ]
  }
 ],
 "metadata": {
  "kernelspec": {
   "display_name": "Python 3 (ipykernel)",
   "language": "python",
   "name": "python3"
  },
  "language_info": {
   "codemirror_mode": {
    "name": "ipython",
    "version": 3
   },
   "file_extension": ".py",
   "mimetype": "text/x-python",
   "name": "python",
   "nbconvert_exporter": "python",
   "pygments_lexer": "ipython3",
   "version": "3.9.21"
  }
 },
 "nbformat": 4,
 "nbformat_minor": 5
}
