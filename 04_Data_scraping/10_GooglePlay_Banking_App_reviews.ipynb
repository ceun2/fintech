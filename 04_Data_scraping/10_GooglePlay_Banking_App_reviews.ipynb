{
 "cells": [
  {
   "cell_type": "markdown",
   "id": "2943a8f9",
   "metadata": {},
   "source": [
    "1. selenium으로 토스 GoolePlay에 접속\n",
    "2. 전체리뷰 보기 클릭\n",
    "3. 리뷰창이 뜨면 최신순으로 정렬\n",
    "4. 마우스 스크롤을 해서 오늘부터 2년전 날짜가 나올 때까지 스크롤\n",
    "5. 데이터 수집\n",
    "6. csv파일로 저장 → DB 저장\n",
    "7. 수집코드 함수화\n",
    "8. KB, 신한, 하나, 뱅크샐러드, 카카오뱅크 리뷰도 저장"
   ]
  },
  {
   "cell_type": "code",
   "execution_count": 1,
   "id": "32356645",
   "metadata": {},
   "outputs": [
    {
     "name": "stdout",
     "output_type": "stream",
     "text": [
      "['In', 'Out', '_', '__', '___', '__builtin__', '__builtins__', '__doc__', '__loader__', '__name__', '__package__', '__spec__', '_dh', '_i', '_i1', '_ih', '_ii', '_iii', '_oh', 'create_engine', 'datetime', 'exit', 'get_ipython', 'open', 'pd', 'pymysql', 'quit', 'relativedelta', 'saveDB', 'time', 'timedelta']\n"
     ]
    }
   ],
   "source": [
    "import time\n",
    "import pandas as pd\n",
    "from datetime import datetime, timedelta\n",
    "from dateutil.relativedelta import relativedelta\n",
    "\n",
    "from general_dbio import *\n",
    "print(dir())"
   ]
  },
  {
   "cell_type": "code",
   "execution_count": 2,
   "id": "c36160e8",
   "metadata": {},
   "outputs": [],
   "source": [
    "from selenium import webdriver\n",
    "from selenium.webdriver.chrome.service import Service\n",
    "from selenium.webdriver.chrome.options import Options\n",
    "from webdriver_manager.chrome import ChromeDriverManager\n",
    "\n",
    "from selenium.webdriver.common.by import By\n",
    "from selenium.webdriver.common.keys import Keys\n",
    "\n",
    "from selenium.webdriver.support.ui import WebDriverWait\n",
    "from selenium.webdriver.support import expected_conditions as EC\n",
    "\n",
    "options = Options()\n",
    "options.add_experimental_option(\"detach\", True)\n",
    "options.add_argument('start-maximized')\n",
    "\n",
    "# 사람인척하기위해서 개발자도구 network에서 user-agent추가, 언어 추가\n",
    "options.add_argument('Chrome/134.0.0.0')\n",
    "options.add_argument('lang=ko_KR')\n",
    "\n",
    "# gpu 안쓰기\n",
    "options.add_argument('--disable-gpu') "
   ]
  },
  {
   "cell_type": "code",
   "execution_count": 3,
   "id": "74293d1c",
   "metadata": {},
   "outputs": [
    {
     "name": "stdout",
     "output_type": "stream",
     "text": [
      "2023-04-13 23:08:29.909200\n",
      "2023년 04월 13일\n",
      "True\n"
     ]
    }
   ],
   "source": [
    "end_date = datetime.today() - relativedelta(years=2) - timedelta(days=1)\n",
    "end_date_text = end_date.strftime('%Y년 %m월 %d일')\n",
    "print(end_date)\n",
    "print(end_date_text)\n",
    "print( datetime.today() >= datetime.strptime(end_date_text, '%Y년 %m월 %d일'))"
   ]
  },
  {
   "cell_type": "code",
   "execution_count": 23,
   "id": "e6419518",
   "metadata": {
    "scrolled": true
   },
   "outputs": [
    {
     "data": {
      "text/plain": [
       "{'kb_star': 'com.kbstar.kbbank',\n",
       " 'hana': 'com.kebhana.hanapush',\n",
       " 'banksalad': 'com.rainist.banksalad2',\n",
       " 'kakaobank': 'com.kakaobank.channel'}"
      ]
     },
     "execution_count": 23,
     "metadata": {},
     "output_type": "execute_result"
    }
   ],
   "source": [
    "# shinhan_sol='com.shinhan.sbanking'\n",
    "# toss='viva.republica.toss'\n",
    "bank_list = dict(kb_star='com.kbstar.kbbank', hana='com.kebhana.hanapush', banksalad='com.rainist.banksalad2', kakaobank='com.kakaobank.channel')\n",
    "bank_list"
   ]
  },
  {
   "cell_type": "code",
   "execution_count": 20,
   "id": "2c53efad",
   "metadata": {},
   "outputs": [],
   "source": [
    "from selenium.common.exceptions import NoSuchElementException\n",
    "\n",
    "def safe_find_text(idx, bank_name, element_name, selector, by=By.CSS_SELECTOR, driver=None):\n",
    "    try:\n",
    "#         print(f'idx 입니다 : {idx}')\n",
    "#         print(f'bank name 입니다 : {bank_name}')\n",
    "#         print(f'element name 입니다 : {element_name}')\n",
    "#         print(f'selector 출력해보는중!!! {selector}')\n",
    "#         print(f'return값 출력해보는 중!!! {driver.find_element(by, selector).text}')\n",
    "        element = WebDriverWait(driver, 10).until(\n",
    "            EC.presence_of_element_located((by, selector))\n",
    "        )\n",
    "        return element.text\n",
    "    except NoSuchElementException:\n",
    "        print(f'{bank_name}에서 {idx} : {element_name} 수집 중')\n",
    "        return None\n",
    "    except Exception as e:\n",
    "        print(f'{bank_name}에서 {element_name} 수집 중')\n",
    "        print(f\"⚠️ 예외 발생: {e} | selector: {selector}\")\n",
    "        return None\n",
    "\n",
    "def safe_find_attr(idx, bank_name, element_name, selector, attr, by=By.CSS_SELECTOR, driver=None):\n",
    "    try:\n",
    "        return float(driver.find_element(by, selector).get_attribute(attr)[-10])\n",
    "    except NoSuchElementException:\n",
    "        return None\n",
    "    except Exception as e:\n",
    "        print(f'{bank_name}에서 {element_name} 수집 중')\n",
    "        print(f\"⚠️ 예외 발생: {e} | selector: {selector} | attr: {attr}\")\n",
    "        return None\n"
   ]
  },
  {
   "cell_type": "code",
   "execution_count": 14,
   "id": "839cbf94",
   "metadata": {},
   "outputs": [],
   "source": [
    "driver = webdriver.Chrome(\n",
    "service=Service(ChromeDriverManager().install()),\n",
    "options=options\n",
    ")\n",
    "\n",
    "driver.get(f'https://play.google.com/store/apps/details?id=viva.republica.toss')\n",
    "\n",
    "reviews_btn = WebDriverWait(driver, 10).until(\n",
    "            EC.element_to_be_clickable((By.CSS_SELECTOR, \"button[aria-label*='평점 및 리뷰 자세히 알아보기']\"))\n",
    "        )\n",
    "reviews_btn.click()\n",
    "order_btn = WebDriverWait(driver, 10).until(\n",
    "        EC.element_to_be_clickable((By.CSS_SELECTOR, \"#sortBy_1\"))\n",
    "    )\n",
    "order_btn.click()\n",
    "recent_order = WebDriverWait(driver, 10).until(\n",
    "        EC.element_to_be_clickable((By.CSS_SELECTOR, 'span[aria-label*=\"최신\"]'))\n",
    "    )\n",
    "recent_order.click()\n",
    "\n",
    "reviews_modal = driver.find_element(By.CSS_SELECTOR, '#yDmH0d > div.VfPpkd-Sx9Kwc.cC1eCc.UDxLd.PzCPDd.HQdjr.VfPpkd-Sx9Kwc-OWXEXe-FNFY6c > div.VfPpkd-wzTsW > div > div > div > div > div.fysCi.Vk3ZVd')"
   ]
  },
  {
   "cell_type": "code",
   "execution_count": 9,
   "id": "93d20ea7",
   "metadata": {},
   "outputs": [
    {
     "data": {
      "text/plain": [
       "'유7080'"
      ]
     },
     "execution_count": 9,
     "metadata": {},
     "output_type": "execute_result"
    }
   ],
   "source": [
    "driver.find_element(By.CSS_SELECTOR, f'div.RHo1pe:nth-of-type(1) header > div div.X5PpBb').text"
   ]
  },
  {
   "cell_type": "code",
   "execution_count": 24,
   "id": "97b1cfad",
   "metadata": {
    "scrolled": true
   },
   "outputs": [
    {
     "name": "stdout",
     "output_type": "stream",
     "text": [
      "kb_star에서 rating 수집 중m Jong Taik 5.0 사용편리함, 안전성 우수감사드립니다.은행에 직접 가지않아도 될정도로 쉬웠습니다번깔고 폰재부팅해도 계속안됨. 어플 왜만든거야 짜증나.업데이트 하라고해도 안뜨자나!!!!재부팅 이런 것만 제시해서 좀 난감했네요. UCWB 무슨 에러였는데.. 사유와 더불어 창구로 가란 메시지로 바꿔주면 좋을 것 같습니다.버렸네요 이러면 국민 오픈뱅킹해지하고 타은행 오픈을 만들어 쓰는게 낫죠다. 이틀이 경과한 2023년 10월 22일 업데이트로 오류가 사라졌지만 어떤 사과와 해명도 없습니다. 우선 왜 휴일을 앞둔 금요일에 이런 업데이트를 진행했는지 설명바랍니다. 주중에 업데이트 했다면 다음 날 조치할 수 있습니다. 무엇보다 고객들도 다음 날 금융거래를 이어갈 수 있구요. 그리고 왜 금융업무가 몰리는 월 하순에 이런 일을 저지른 건가요? 당연히 오류에 따른 피해도 증가할 수 밖에 없습니다. 분명한 사과와 해명이 필요합니다.작합시다..! 기본도 안되어 있는데 무슨 다른 기능이 필요합니까.!!가? 수상한 은행이네\n",
      "⚠️ 예외 발생: HTTPConnectionPool(host='localhost', port=4120): Read timed out. (read timeout=120) | selector: div.RHo1pe:nth-of-type(10076) header .Jx4nYe > div | attr: aria-label\n",
      "스크롤 안됨2023년 9월 6일 ᄋ우왕 5.0 알려주신대로 생체인증등록을 하니 위젯이 진짜 좋긴 하네요. 위젯에 처음뜨는 카드는 최근 사용한 카드라는 점도 알았습니다. 바라는 점이 있다면 위젯으로 결제시 실제 최근 결제한 카드가 아닌 최근에 지문인식을 한 카드로 결제되게 바꿔주신다면 더욱 편리해질 것 같습니다. 결제카드를 바꾸기 위해서는 결제 한번이 이루워져야 한다는 단점을 개선 할 수 있으니까요. 답변해주셔서 감사합니다.만드는 프로세스 중에 계좌내역을 볼 수 없어서 그 부분에 불편함을 말한 것입니다.일OTP발급 신분증확인만 안 되는지 모르겠음. 결론 = 어플 이상해요.\n",
      "12708 2023년 4월 13일 김규미 5.0 ㅎ 리뉴얼되고 좋네요 앱 편해요 다만 입력 후 키보드의 다음을 눌러야 아래 버튼이 활성화 돼서 입력 후 자동으로 확인 버튼이 노란색아 되면 좋깄다 생각함는게 더 좋을 듯 추천하고 싶지 않네요 바로 바로 삭제합니다주시면 감사하겠습니다 요상한 앱.물도 인식하나 봅니다), 아무런 방해물이 없는데도 안 찍혔습니다. 답변멜을 매크로로 보내시는 것 같은데, 안내사항도 안 보고 했을 거라고 생각하시는지...갑갑해서 그냥 안 쓰렵니다. 있는게 아닙니다. ㅡㅡㅡㅡㅡㅡㅡㅡㅡㅡㅡㅡㅡㅡㅡㅡㅡㅡㅡㅡㅡㅡ 국민은행답변의 답변 그러니까 한도제한은 어쩔수없는거아는데 한도가 30만원인 은행은 신한이랑 국민 쌍두마차로 최저잖아요. 진짜 한도100만원은행도 조금 빡치는데 입출금통장자체가 급한 돈 생기면 쓰려고 만드는 통장아닌가요 한도가 30만원이면 적금이자라도 줘야되는거아닌가 싶네요 ㅋㅋ가 맞습니다. 관리자님께서는 저를 조금이나마 이해 해주신다면 개발자부서에 제리뷰 꼭보여주세요. 그것도 아니네요. 좀 고쳐주세요!!!\r"
     ]
    },
    {
     "ename": "SessionNotCreatedException",
     "evalue": "Message: session not created: probably user data directory is already in use, please specify a unique value for --user-data-dir argument, or don't use --user-data-dir\nStacktrace:\n\tGetHandleVerifier [0x009C8073+60707]\n\tGetHandleVerifier [0x009C80B4+60772]\n\t(No symbol) [0x007F0683]\n\t(No symbol) [0x0082369F]\n\t(No symbol) [0x0081F4A9]\n\t(No symbol) [0x00868D63]\n\t(No symbol) [0x0086877A]\n\t(No symbol) [0x0085CE46]\n\t(No symbol) [0x0082C5D3]\n\t(No symbol) [0x0082D424]\n\tGetHandleVerifier [0x00C0BB53+2435075]\n\tGetHandleVerifier [0x00C070F3+2416035]\n\tGetHandleVerifier [0x00C2349C+2531660]\n\tGetHandleVerifier [0x009DF145+155125]\n\tGetHandleVerifier [0x009E5AED+182173]\n\tGetHandleVerifier [0x009CF948+91640]\n\tGetHandleVerifier [0x009CFAF0+92064]\n\tGetHandleVerifier [0x009BA5B0+4704]\n\tBaseThreadInitThunk [0x7712FCC9+25]\n\tRtlGetAppContainerNamedObjectPath [0x774C82AE+286]\n\tRtlGetAppContainerNamedObjectPath [0x774C827E+238]\n",
     "output_type": "error",
     "traceback": [
      "\u001b[1;31m---------------------------------------------------------------------------\u001b[0m",
      "\u001b[1;31mSessionNotCreatedException\u001b[0m                Traceback (most recent call last)",
      "Cell \u001b[1;32mIn[24], line 5\u001b[0m\n\u001b[0;32m      3\u001b[0m \u001b[38;5;28;01mfor\u001b[39;00m bank, domain \u001b[38;5;129;01min\u001b[39;00m bank_list\u001b[38;5;241m.\u001b[39mitems():\n\u001b[0;32m      4\u001b[0m     idx \u001b[38;5;241m=\u001b[39m \u001b[38;5;241m1\u001b[39m\n\u001b[1;32m----> 5\u001b[0m     driver \u001b[38;5;241m=\u001b[39m \u001b[43mwebdriver\u001b[49m\u001b[38;5;241;43m.\u001b[39;49m\u001b[43mChrome\u001b[49m\u001b[43m(\u001b[49m\n\u001b[0;32m      6\u001b[0m \u001b[43m    \u001b[49m\u001b[43mservice\u001b[49m\u001b[38;5;241;43m=\u001b[39;49m\u001b[43mService\u001b[49m\u001b[43m(\u001b[49m\u001b[43mChromeDriverManager\u001b[49m\u001b[43m(\u001b[49m\u001b[43m)\u001b[49m\u001b[38;5;241;43m.\u001b[39;49m\u001b[43minstall\u001b[49m\u001b[43m(\u001b[49m\u001b[43m)\u001b[49m\u001b[43m)\u001b[49m\u001b[43m,\u001b[49m\n\u001b[0;32m      7\u001b[0m \u001b[43m    \u001b[49m\u001b[43moptions\u001b[49m\u001b[38;5;241;43m=\u001b[39;49m\u001b[43moptions\u001b[49m\n\u001b[0;32m      8\u001b[0m \u001b[43m    \u001b[49m\u001b[43m)\u001b[49m\n\u001b[0;32m     10\u001b[0m     driver\u001b[38;5;241m.\u001b[39mget(\u001b[38;5;124mf\u001b[39m\u001b[38;5;124m'\u001b[39m\u001b[38;5;124mhttps://play.google.com/store/apps/details?id=\u001b[39m\u001b[38;5;132;01m{\u001b[39;00mdomain\u001b[38;5;132;01m}\u001b[39;00m\u001b[38;5;124m'\u001b[39m)\n\u001b[0;32m     12\u001b[0m     reviews_btn \u001b[38;5;241m=\u001b[39m WebDriverWait(driver, \u001b[38;5;241m10\u001b[39m)\u001b[38;5;241m.\u001b[39muntil(\n\u001b[0;32m     13\u001b[0m             EC\u001b[38;5;241m.\u001b[39melement_to_be_clickable((By\u001b[38;5;241m.\u001b[39mCSS_SELECTOR, \u001b[38;5;124m\"\u001b[39m\u001b[38;5;124mbutton[aria-label*=\u001b[39m\u001b[38;5;124m'\u001b[39m\u001b[38;5;124m평점 및 리뷰 자세히 알아보기\u001b[39m\u001b[38;5;124m'\u001b[39m\u001b[38;5;124m]\u001b[39m\u001b[38;5;124m\"\u001b[39m))\n\u001b[0;32m     14\u001b[0m         )\n",
      "File \u001b[1;32m~\\miniforge3\\envs\\fintech\\lib\\site-packages\\selenium\\webdriver\\chrome\\webdriver.py:45\u001b[0m, in \u001b[0;36mWebDriver.__init__\u001b[1;34m(self, options, service, keep_alive)\u001b[0m\n\u001b[0;32m     42\u001b[0m service \u001b[38;5;241m=\u001b[39m service \u001b[38;5;28;01mif\u001b[39;00m service \u001b[38;5;28;01melse\u001b[39;00m Service()\n\u001b[0;32m     43\u001b[0m options \u001b[38;5;241m=\u001b[39m options \u001b[38;5;28;01mif\u001b[39;00m options \u001b[38;5;28;01melse\u001b[39;00m Options()\n\u001b[1;32m---> 45\u001b[0m \u001b[38;5;28;43msuper\u001b[39;49m\u001b[43m(\u001b[49m\u001b[43m)\u001b[49m\u001b[38;5;241;43m.\u001b[39;49m\u001b[38;5;21;43m__init__\u001b[39;49m\u001b[43m(\u001b[49m\n\u001b[0;32m     46\u001b[0m \u001b[43m    \u001b[49m\u001b[43mbrowser_name\u001b[49m\u001b[38;5;241;43m=\u001b[39;49m\u001b[43mDesiredCapabilities\u001b[49m\u001b[38;5;241;43m.\u001b[39;49m\u001b[43mCHROME\u001b[49m\u001b[43m[\u001b[49m\u001b[38;5;124;43m\"\u001b[39;49m\u001b[38;5;124;43mbrowserName\u001b[39;49m\u001b[38;5;124;43m\"\u001b[39;49m\u001b[43m]\u001b[49m\u001b[43m,\u001b[49m\n\u001b[0;32m     47\u001b[0m \u001b[43m    \u001b[49m\u001b[43mvendor_prefix\u001b[49m\u001b[38;5;241;43m=\u001b[39;49m\u001b[38;5;124;43m\"\u001b[39;49m\u001b[38;5;124;43mgoog\u001b[39;49m\u001b[38;5;124;43m\"\u001b[39;49m\u001b[43m,\u001b[49m\n\u001b[0;32m     48\u001b[0m \u001b[43m    \u001b[49m\u001b[43moptions\u001b[49m\u001b[38;5;241;43m=\u001b[39;49m\u001b[43moptions\u001b[49m\u001b[43m,\u001b[49m\n\u001b[0;32m     49\u001b[0m \u001b[43m    \u001b[49m\u001b[43mservice\u001b[49m\u001b[38;5;241;43m=\u001b[39;49m\u001b[43mservice\u001b[49m\u001b[43m,\u001b[49m\n\u001b[0;32m     50\u001b[0m \u001b[43m    \u001b[49m\u001b[43mkeep_alive\u001b[49m\u001b[38;5;241;43m=\u001b[39;49m\u001b[43mkeep_alive\u001b[49m\u001b[43m,\u001b[49m\n\u001b[0;32m     51\u001b[0m \u001b[43m\u001b[49m\u001b[43m)\u001b[49m\n",
      "File \u001b[1;32m~\\miniforge3\\envs\\fintech\\lib\\site-packages\\selenium\\webdriver\\chromium\\webdriver.py:66\u001b[0m, in \u001b[0;36mChromiumDriver.__init__\u001b[1;34m(self, browser_name, vendor_prefix, options, service, keep_alive)\u001b[0m\n\u001b[0;32m     57\u001b[0m executor \u001b[38;5;241m=\u001b[39m ChromiumRemoteConnection(\n\u001b[0;32m     58\u001b[0m     remote_server_addr\u001b[38;5;241m=\u001b[39m\u001b[38;5;28mself\u001b[39m\u001b[38;5;241m.\u001b[39mservice\u001b[38;5;241m.\u001b[39mservice_url,\n\u001b[0;32m     59\u001b[0m     browser_name\u001b[38;5;241m=\u001b[39mbrowser_name,\n\u001b[1;32m   (...)\u001b[0m\n\u001b[0;32m     62\u001b[0m     ignore_proxy\u001b[38;5;241m=\u001b[39moptions\u001b[38;5;241m.\u001b[39m_ignore_local_proxy,\n\u001b[0;32m     63\u001b[0m )\n\u001b[0;32m     65\u001b[0m \u001b[38;5;28;01mtry\u001b[39;00m:\n\u001b[1;32m---> 66\u001b[0m     \u001b[38;5;28;43msuper\u001b[39;49m\u001b[43m(\u001b[49m\u001b[43m)\u001b[49m\u001b[38;5;241;43m.\u001b[39;49m\u001b[38;5;21;43m__init__\u001b[39;49m\u001b[43m(\u001b[49m\u001b[43mcommand_executor\u001b[49m\u001b[38;5;241;43m=\u001b[39;49m\u001b[43mexecutor\u001b[49m\u001b[43m,\u001b[49m\u001b[43m \u001b[49m\u001b[43moptions\u001b[49m\u001b[38;5;241;43m=\u001b[39;49m\u001b[43moptions\u001b[49m\u001b[43m)\u001b[49m\n\u001b[0;32m     67\u001b[0m \u001b[38;5;28;01mexcept\u001b[39;00m \u001b[38;5;167;01mException\u001b[39;00m:\n\u001b[0;32m     68\u001b[0m     \u001b[38;5;28mself\u001b[39m\u001b[38;5;241m.\u001b[39mquit()\n",
      "File \u001b[1;32m~\\miniforge3\\envs\\fintech\\lib\\site-packages\\selenium\\webdriver\\remote\\webdriver.py:250\u001b[0m, in \u001b[0;36mWebDriver.__init__\u001b[1;34m(self, command_executor, keep_alive, file_detector, options, locator_converter, web_element_cls, client_config)\u001b[0m\n\u001b[0;32m    248\u001b[0m \u001b[38;5;28mself\u001b[39m\u001b[38;5;241m.\u001b[39m_authenticator_id \u001b[38;5;241m=\u001b[39m \u001b[38;5;28;01mNone\u001b[39;00m\n\u001b[0;32m    249\u001b[0m \u001b[38;5;28mself\u001b[39m\u001b[38;5;241m.\u001b[39mstart_client()\n\u001b[1;32m--> 250\u001b[0m \u001b[38;5;28;43mself\u001b[39;49m\u001b[38;5;241;43m.\u001b[39;49m\u001b[43mstart_session\u001b[49m\u001b[43m(\u001b[49m\u001b[43mcapabilities\u001b[49m\u001b[43m)\u001b[49m\n\u001b[0;32m    251\u001b[0m \u001b[38;5;28mself\u001b[39m\u001b[38;5;241m.\u001b[39m_fedcm \u001b[38;5;241m=\u001b[39m FedCM(\u001b[38;5;28mself\u001b[39m)\n\u001b[0;32m    253\u001b[0m \u001b[38;5;28mself\u001b[39m\u001b[38;5;241m.\u001b[39m_websocket_connection \u001b[38;5;241m=\u001b[39m \u001b[38;5;28;01mNone\u001b[39;00m\n",
      "File \u001b[1;32m~\\miniforge3\\envs\\fintech\\lib\\site-packages\\selenium\\webdriver\\remote\\webdriver.py:342\u001b[0m, in \u001b[0;36mWebDriver.start_session\u001b[1;34m(self, capabilities)\u001b[0m\n\u001b[0;32m    333\u001b[0m \u001b[38;5;250m\u001b[39m\u001b[38;5;124;03m\"\"\"Creates a new session with the desired capabilities.\u001b[39;00m\n\u001b[0;32m    334\u001b[0m \n\u001b[0;32m    335\u001b[0m \u001b[38;5;124;03mParameters:\u001b[39;00m\n\u001b[1;32m   (...)\u001b[0m\n\u001b[0;32m    338\u001b[0m \u001b[38;5;124;03m    - A capabilities dict to start the session with.\u001b[39;00m\n\u001b[0;32m    339\u001b[0m \u001b[38;5;124;03m\"\"\"\u001b[39;00m\n\u001b[0;32m    341\u001b[0m caps \u001b[38;5;241m=\u001b[39m _create_caps(capabilities)\n\u001b[1;32m--> 342\u001b[0m response \u001b[38;5;241m=\u001b[39m \u001b[38;5;28;43mself\u001b[39;49m\u001b[38;5;241;43m.\u001b[39;49m\u001b[43mexecute\u001b[49m\u001b[43m(\u001b[49m\u001b[43mCommand\u001b[49m\u001b[38;5;241;43m.\u001b[39;49m\u001b[43mNEW_SESSION\u001b[49m\u001b[43m,\u001b[49m\u001b[43m \u001b[49m\u001b[43mcaps\u001b[49m\u001b[43m)\u001b[49m[\u001b[38;5;124m\"\u001b[39m\u001b[38;5;124mvalue\u001b[39m\u001b[38;5;124m\"\u001b[39m]\n\u001b[0;32m    343\u001b[0m \u001b[38;5;28mself\u001b[39m\u001b[38;5;241m.\u001b[39msession_id \u001b[38;5;241m=\u001b[39m response\u001b[38;5;241m.\u001b[39mget(\u001b[38;5;124m\"\u001b[39m\u001b[38;5;124msessionId\u001b[39m\u001b[38;5;124m\"\u001b[39m)\n\u001b[0;32m    344\u001b[0m \u001b[38;5;28mself\u001b[39m\u001b[38;5;241m.\u001b[39mcaps \u001b[38;5;241m=\u001b[39m response\u001b[38;5;241m.\u001b[39mget(\u001b[38;5;124m\"\u001b[39m\u001b[38;5;124mcapabilities\u001b[39m\u001b[38;5;124m\"\u001b[39m)\n",
      "File \u001b[1;32m~\\miniforge3\\envs\\fintech\\lib\\site-packages\\selenium\\webdriver\\remote\\webdriver.py:429\u001b[0m, in \u001b[0;36mWebDriver.execute\u001b[1;34m(self, driver_command, params)\u001b[0m\n\u001b[0;32m    427\u001b[0m response \u001b[38;5;241m=\u001b[39m \u001b[38;5;28mself\u001b[39m\u001b[38;5;241m.\u001b[39mcommand_executor\u001b[38;5;241m.\u001b[39mexecute(driver_command, params)\n\u001b[0;32m    428\u001b[0m \u001b[38;5;28;01mif\u001b[39;00m response:\n\u001b[1;32m--> 429\u001b[0m     \u001b[38;5;28;43mself\u001b[39;49m\u001b[38;5;241;43m.\u001b[39;49m\u001b[43merror_handler\u001b[49m\u001b[38;5;241;43m.\u001b[39;49m\u001b[43mcheck_response\u001b[49m\u001b[43m(\u001b[49m\u001b[43mresponse\u001b[49m\u001b[43m)\u001b[49m\n\u001b[0;32m    430\u001b[0m     response[\u001b[38;5;124m\"\u001b[39m\u001b[38;5;124mvalue\u001b[39m\u001b[38;5;124m\"\u001b[39m] \u001b[38;5;241m=\u001b[39m \u001b[38;5;28mself\u001b[39m\u001b[38;5;241m.\u001b[39m_unwrap_value(response\u001b[38;5;241m.\u001b[39mget(\u001b[38;5;124m\"\u001b[39m\u001b[38;5;124mvalue\u001b[39m\u001b[38;5;124m\"\u001b[39m, \u001b[38;5;28;01mNone\u001b[39;00m))\n\u001b[0;32m    431\u001b[0m     \u001b[38;5;28;01mreturn\u001b[39;00m response\n",
      "File \u001b[1;32m~\\miniforge3\\envs\\fintech\\lib\\site-packages\\selenium\\webdriver\\remote\\errorhandler.py:232\u001b[0m, in \u001b[0;36mErrorHandler.check_response\u001b[1;34m(self, response)\u001b[0m\n\u001b[0;32m    230\u001b[0m         alert_text \u001b[38;5;241m=\u001b[39m value[\u001b[38;5;124m\"\u001b[39m\u001b[38;5;124malert\u001b[39m\u001b[38;5;124m\"\u001b[39m]\u001b[38;5;241m.\u001b[39mget(\u001b[38;5;124m\"\u001b[39m\u001b[38;5;124mtext\u001b[39m\u001b[38;5;124m\"\u001b[39m)\n\u001b[0;32m    231\u001b[0m     \u001b[38;5;28;01mraise\u001b[39;00m exception_class(message, screen, stacktrace, alert_text)  \u001b[38;5;66;03m# type: ignore[call-arg]  # mypy is not smart enough here\u001b[39;00m\n\u001b[1;32m--> 232\u001b[0m \u001b[38;5;28;01mraise\u001b[39;00m exception_class(message, screen, stacktrace)\n",
      "\u001b[1;31mSessionNotCreatedException\u001b[0m: Message: session not created: probably user data directory is already in use, please specify a unique value for --user-data-dir argument, or don't use --user-data-dir\nStacktrace:\n\tGetHandleVerifier [0x009C8073+60707]\n\tGetHandleVerifier [0x009C80B4+60772]\n\t(No symbol) [0x007F0683]\n\t(No symbol) [0x0082369F]\n\t(No symbol) [0x0081F4A9]\n\t(No symbol) [0x00868D63]\n\t(No symbol) [0x0086877A]\n\t(No symbol) [0x0085CE46]\n\t(No symbol) [0x0082C5D3]\n\t(No symbol) [0x0082D424]\n\tGetHandleVerifier [0x00C0BB53+2435075]\n\tGetHandleVerifier [0x00C070F3+2416035]\n\tGetHandleVerifier [0x00C2349C+2531660]\n\tGetHandleVerifier [0x009DF145+155125]\n\tGetHandleVerifier [0x009E5AED+182173]\n\tGetHandleVerifier [0x009CF948+91640]\n\tGetHandleVerifier [0x009CFAF0+92064]\n\tGetHandleVerifier [0x009BA5B0+4704]\n\tBaseThreadInitThunk [0x7712FCC9+25]\n\tRtlGetAppContainerNamedObjectPath [0x774C82AE+286]\n\tRtlGetAppContainerNamedObjectPath [0x774C827E+238]\n"
     ]
    }
   ],
   "source": [
    "columns = ['날짜', '닉네임','평점','리뷰내용']\n",
    "\n",
    "for bank, domain in bank_list.items():\n",
    "    idx = 1\n",
    "    driver = webdriver.Chrome(\n",
    "    service=Service(ChromeDriverManager().install()),\n",
    "    options=options\n",
    "    )\n",
    "\n",
    "    driver.get(f'https://play.google.com/store/apps/details?id={domain}')\n",
    "\n",
    "    reviews_btn = WebDriverWait(driver, 10).until(\n",
    "            EC.element_to_be_clickable((By.CSS_SELECTOR, \"button[aria-label*='평점 및 리뷰 자세히 알아보기']\"))\n",
    "        )\n",
    "    reviews_btn.click()\n",
    "    order_btn = WebDriverWait(driver, 10).until(\n",
    "            EC.element_to_be_clickable((By.CSS_SELECTOR, \"#sortBy_1\"))\n",
    "        )\n",
    "    order_btn.click()\n",
    "    recent_order = WebDriverWait(driver, 10).until(\n",
    "            EC.element_to_be_clickable((By.CSS_SELECTOR, 'span[aria-label*=\"최신\"]'))\n",
    "        )\n",
    "    time.sleep(1)\n",
    "    recent_order.click()\n",
    "\n",
    "\n",
    "    reviews_modal = driver.find_element(By.CSS_SELECTOR, '#yDmH0d > div.VfPpkd-Sx9Kwc.cC1eCc.UDxLd.PzCPDd.HQdjr.VfPpkd-Sx9Kwc-OWXEXe-FNFY6c > div.VfPpkd-wzTsW > div > div > div > div > div.fysCi.Vk3ZVd')\n",
    "\n",
    "    try: \n",
    "        while True:\n",
    "            time.sleep(1)\n",
    "            date = safe_find_text(idx, bank, 'date', f'div.RHo1pe:nth-of-type({idx}) header span.bp9Aid', driver=driver)\n",
    "            nickname = safe_find_text(idx, bank, 'nickname', f'div.RHo1pe:nth-of-type({idx}) header > div div.X5PpBb', driver=driver)\n",
    "            rating = safe_find_attr(idx, bank, 'rating', f'div.RHo1pe:nth-of-type({idx}) header .Jx4nYe > div', 'aria-label', driver=driver)\n",
    "            content = safe_find_text(idx, bank, 'content', f'div.RHo1pe:nth-of-type({idx}) div.h3YV2d', driver=driver)\n",
    "\n",
    "            print(idx, date, nickname, rating, content, end='\\r')\n",
    "            \n",
    "            if not date:\n",
    "                continue\n",
    "\n",
    "            date_cast = datetime.strptime(date, '%Y년 %m월 %d일')\n",
    "            if date_cast <= end_date:\n",
    "                break\n",
    "\n",
    "            temp = (date, nickname, rating, content)\n",
    "            df = pd.DataFrame([temp], columns=columns)\n",
    "            saveDB(df, 'google_play_reviews', bank)\n",
    "            time.sleep(1)\n",
    "            try:\n",
    "                driver.execute_script(\"arguments[0].scrollTop += 1000;\", reviews_modal)  # 아래로 500px씩 스크롤\n",
    "                time.sleep(1)\n",
    "            except:\n",
    "                print('스크롤 안됨')\n",
    "\n",
    "            idx += 1\n",
    "    except Exception as e:\n",
    "        print(f'예외 발생: {type(e).__name__} - {e}')\n",
    "    finally:\n",
    "        driver.quit()"
   ]
  },
  {
   "cell_type": "code",
   "execution_count": 12,
   "id": "e82c7ff4",
   "metadata": {},
   "outputs": [],
   "source": [
    "driver.quit()"
   ]
  }
 ],
 "metadata": {
  "kernelspec": {
   "display_name": "Python 3 (ipykernel)",
   "language": "python",
   "name": "python3"
  },
  "language_info": {
   "codemirror_mode": {
    "name": "ipython",
    "version": 3
   },
   "file_extension": ".py",
   "mimetype": "text/x-python",
   "name": "python",
   "nbconvert_exporter": "python",
   "pygments_lexer": "ipython3",
   "version": "3.9.21"
  }
 },
 "nbformat": 4,
 "nbformat_minor": 5
}
