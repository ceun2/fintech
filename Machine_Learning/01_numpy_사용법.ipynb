{
 "cells": [
  {
   "cell_type": "markdown",
   "id": "defae62a",
   "metadata": {},
   "source": [
    "# numpy\n",
    "* https://numpy.org/numpy-tutorials/\n",
    "* numpy : Numerical Python 과학적, 산업적 연산을 위한 패키지\n",
    "* 다차원 배열, 행렬 연산에 주로 사용\n",
    "* numpy는 python의 list와 비슷한 자료형\n",
    "* 순서가 있는 자료형\n",
    "* 파이썬의 list와의 차이점은 자료형이 1가지만 들어감"
   ]
  },
  {
   "cell_type": "markdown",
   "id": "dae49307",
   "metadata": {},
   "source": [
    "# 차원\n",
    "* 0차원 = 점, 스칼라 a = 10 (자료가 1개)\n",
    "* 1차원 = 선, 벡터, 배열, list, tuple [1,2,3,4]\n",
    "    * 벡터는 방향을 가진 데이터\n",
    "* 2차원 = 면, 가로, 세로, DB 테이블, Dataframe, matrix\n",
    "* 3차원 = 입체, (가로, 세로, 깊이), 정육면체\n",
    "    * 엑셀 시트가 여러개있는 엑셀 파일 하나는 3차원이 됨\n",
    "* 4차원 = 3차원 요소가 2개 이상\n",
    "    * 3차원인 엑셀 파일이 여러개있는 폴더는 4차원이 됨\n",
    "* 5차원 = 4차원 요소가 2개 이상"
   ]
  },
  {
   "cell_type": "code",
   "execution_count": 2,
   "id": "c775ba20",
   "metadata": {},
   "outputs": [],
   "source": [
    "import numpy as np"
   ]
  },
  {
   "cell_type": "code",
   "execution_count": 2,
   "id": "c02ae886",
   "metadata": {},
   "outputs": [
    {
     "data": {
      "text/plain": [
       "array([1, 2, 3, 4, 5])"
      ]
     },
     "execution_count": 2,
     "metadata": {},
     "output_type": "execute_result"
    }
   ],
   "source": [
    "a = np.array([1,2,3,4,5])\n",
    "a"
   ]
  },
  {
   "cell_type": "code",
   "execution_count": 3,
   "id": "4356bf20",
   "metadata": {},
   "outputs": [],
   "source": [
    "s = 10 # 스칼라"
   ]
  },
  {
   "cell_type": "markdown",
   "id": "eed8850c",
   "metadata": {},
   "source": [
    "### .ndim / .shape\n",
    "* ndim : 차원을 출력하는 메서드\n",
    "* shape : 차원의 형태를 출력하는 메서드\n",
    "* 스칼라는 둘 다 AttributeError"
   ]
  },
  {
   "cell_type": "code",
   "execution_count": 6,
   "id": "f3d7ca97",
   "metadata": {},
   "outputs": [
    {
     "data": {
      "text/plain": [
       "1"
      ]
     },
     "execution_count": 6,
     "metadata": {},
     "output_type": "execute_result"
    }
   ],
   "source": [
    "# ndarray는 벡터이므로 1차원\n",
    "a.ndim"
   ]
  },
  {
   "cell_type": "code",
   "execution_count": 7,
   "id": "51f2559a",
   "metadata": {},
   "outputs": [
    {
     "data": {
      "text/plain": [
       "(5,)"
      ]
     },
     "execution_count": 7,
     "metadata": {},
     "output_type": "execute_result"
    }
   ],
   "source": [
    "# 방향이 없는 벡터\n",
    "a.shape"
   ]
  },
  {
   "cell_type": "code",
   "execution_count": 20,
   "id": "fd02c27b",
   "metadata": {},
   "outputs": [
    {
     "name": "stdout",
     "output_type": "stream",
     "text": [
      "[[1]\n",
      " [2]\n",
      " [3]\n",
      " [4]\n",
      " [5]]\n",
      "2\n",
      "(5, 1)\n"
     ]
    }
   ],
   "source": [
    "# 열벡터\n",
    "a2 =np.array([[1],[2],[3],[4],[5]])\n",
    "print(a2)\n",
    "print(a2.ndim)\n",
    "print(a2.shape)"
   ]
  },
  {
   "cell_type": "code",
   "execution_count": 21,
   "id": "af9b23ec",
   "metadata": {},
   "outputs": [
    {
     "name": "stdout",
     "output_type": "stream",
     "text": [
      "[[1 2 3 4 5]]\n",
      "2\n",
      "(1, 5)\n"
     ]
    }
   ],
   "source": [
    "# 행벡터\n",
    "a3 = np.array([[1,2,3,4,5]])\n",
    "print(a3)\n",
    "print(a3.ndim)\n",
    "print(a3.shape)"
   ]
  },
  {
   "cell_type": "code",
   "execution_count": 9,
   "id": "f83b7c82",
   "metadata": {},
   "outputs": [
    {
     "data": {
      "text/plain": [
       "array([[ 1,  2,  3,  4,  5],\n",
       "       [ 6,  7,  8,  9, 10]])"
      ]
     },
     "execution_count": 9,
     "metadata": {},
     "output_type": "execute_result"
    }
   ],
   "source": [
    "# 2차원 데이터\n",
    "c = np.array([[1,2,3,4,5], [6,7,8,9,10]])\n",
    "c"
   ]
  },
  {
   "cell_type": "code",
   "execution_count": 10,
   "id": "6a08e54a",
   "metadata": {},
   "outputs": [
    {
     "name": "stdout",
     "output_type": "stream",
     "text": [
      "2\n",
      "(2, 5)\n"
     ]
    }
   ],
   "source": [
    "print(c.ndim)\n",
    "# (행, 열)\n",
    "print(c.shape)"
   ]
  },
  {
   "cell_type": "code",
   "execution_count": 11,
   "id": "4ce8ee5f",
   "metadata": {},
   "outputs": [
    {
     "data": {
      "text/plain": [
       "array([[[ 1,  2,  3,  4,  5],\n",
       "        [ 6,  7,  8,  9, 10]],\n",
       "\n",
       "       [[ 1,  2,  3,  4,  5],\n",
       "        [ 6,  7,  8,  9, 10]]])"
      ]
     },
     "execution_count": 11,
     "metadata": {},
     "output_type": "execute_result"
    }
   ],
   "source": [
    "# 3차원 데이터\n",
    "d = np.array([[[1,2,3,4,5], [6,7,8,9,10]],[[1,2,3,4,5], [6,7,8,9,10]]])\n",
    "d"
   ]
  },
  {
   "cell_type": "code",
   "execution_count": 13,
   "id": "12a4456a",
   "metadata": {},
   "outputs": [
    {
     "name": "stdout",
     "output_type": "stream",
     "text": [
      "3\n",
      "(2, 2, 5)\n"
     ]
    }
   ],
   "source": [
    "print(d.ndim)\n",
    "# (개수, 행, 열)\n",
    "print(d.shape) # 2행 5열이 2개"
   ]
  },
  {
   "cell_type": "code",
   "execution_count": 14,
   "id": "c2490f48",
   "metadata": {},
   "outputs": [
    {
     "data": {
      "text/plain": [
       "array([[[[ 1,  2,  3,  4,  5],\n",
       "         [ 6,  7,  8,  9, 10]],\n",
       "\n",
       "        [[ 1,  2,  3,  4,  5],\n",
       "         [ 6,  7,  8,  9, 10]]],\n",
       "\n",
       "\n",
       "       [[[ 1,  2,  3,  4,  5],\n",
       "         [ 6,  7,  8,  9, 10]],\n",
       "\n",
       "        [[ 1,  2,  3,  4,  5],\n",
       "         [ 6,  7,  8,  9, 10]]]])"
      ]
     },
     "execution_count": 14,
     "metadata": {},
     "output_type": "execute_result"
    }
   ],
   "source": [
    "# 4차원 데이터\n",
    "e = np.array([[[[1,2,3,4,5], [6,7,8,9,10]],[[1,2,3,4,5], [6,7,8,9,10]]],[[[1,2,3,4,5], [6,7,8,9,10]],[[1,2,3,4,5], [6,7,8,9,10]]]])\n",
    "e"
   ]
  },
  {
   "cell_type": "code",
   "execution_count": 15,
   "id": "c8222668",
   "metadata": {},
   "outputs": [
    {
     "name": "stdout",
     "output_type": "stream",
     "text": [
      "4\n",
      "(2, 2, 2, 5)\n"
     ]
    }
   ],
   "source": [
    "print(e.ndim)\n",
    "# (개수, 개수, 행, 열)\n",
    "print(e.shape) # 2행 5열이 2개가 2개"
   ]
  },
  {
   "cell_type": "code",
   "execution_count": 16,
   "id": "2a5377f5",
   "metadata": {},
   "outputs": [
    {
     "data": {
      "text/plain": [
       "array([[[[[ 1,  2,  3,  4,  5],\n",
       "          [ 6,  7,  8,  9, 10]],\n",
       "\n",
       "         [[ 1,  2,  3,  4,  5],\n",
       "          [ 6,  7,  8,  9, 10]]],\n",
       "\n",
       "\n",
       "        [[[ 1,  2,  3,  4,  5],\n",
       "          [ 6,  7,  8,  9, 10]],\n",
       "\n",
       "         [[ 1,  2,  3,  4,  5],\n",
       "          [ 6,  7,  8,  9, 10]]]],\n",
       "\n",
       "\n",
       "\n",
       "       [[[[ 1,  2,  3,  4,  5],\n",
       "          [ 6,  7,  8,  9, 10]],\n",
       "\n",
       "         [[ 1,  2,  3,  4,  5],\n",
       "          [ 6,  7,  8,  9, 10]]],\n",
       "\n",
       "\n",
       "        [[[ 1,  2,  3,  4,  5],\n",
       "          [ 6,  7,  8,  9, 10]],\n",
       "\n",
       "         [[ 1,  2,  3,  4,  5],\n",
       "          [ 6,  7,  8,  9, 10]]]]])"
      ]
     },
     "execution_count": 16,
     "metadata": {},
     "output_type": "execute_result"
    }
   ],
   "source": [
    "# 5차원 데이터\n",
    "f = np.array([[[[[1,2,3,4,5], [6,7,8,9,10]],[[1,2,3,4,5], [6,7,8,9,10]]],[[[1,2,3,4,5], [6,7,8,9,10]],[[1,2,3,4,5], [6,7,8,9,10]]]],[[[[1,2,3,4,5], [6,7,8,9,10]],[[1,2,3,4,5], [6,7,8,9,10]]],[[[1,2,3,4,5], [6,7,8,9,10]],[[1,2,3,4,5], [6,7,8,9,10]]]]])\n",
    "f"
   ]
  },
  {
   "cell_type": "code",
   "execution_count": 17,
   "id": "19f5c9e5",
   "metadata": {},
   "outputs": [
    {
     "name": "stdout",
     "output_type": "stream",
     "text": [
      "5\n",
      "(2, 2, 2, 2, 5)\n"
     ]
    }
   ],
   "source": [
    "print(f.ndim)\n",
    "# (개수, 개수, 개수, 행, 열)\n",
    "print(f.shape) # 2행 5열이 2개가 2개가 2개"
   ]
  },
  {
   "cell_type": "markdown",
   "id": "0a3bf4fe",
   "metadata": {},
   "source": [
    "# numpy를 사용하는 이유\n",
    "* 행렬 연산이 쉽고 빠르기 때문"
   ]
  },
  {
   "cell_type": "code",
   "execution_count": 22,
   "id": "bdf0d2f8",
   "metadata": {},
   "outputs": [
    {
     "name": "stdout",
     "output_type": "stream",
     "text": [
      "15\n"
     ]
    }
   ],
   "source": [
    "# 스칼라 연산\n",
    "a = 10\n",
    "b = 5\n",
    "scalar = a + b\n",
    "print(scalar)"
   ]
  },
  {
   "cell_type": "code",
   "execution_count": 23,
   "id": "1adc1f69",
   "metadata": {},
   "outputs": [
    {
     "data": {
      "text/plain": [
       "25"
      ]
     },
     "execution_count": 23,
     "metadata": {},
     "output_type": "execute_result"
    }
   ],
   "source": [
    "scalar + 10"
   ]
  },
  {
   "cell_type": "code",
   "execution_count": 26,
   "id": "a03b8c89",
   "metadata": {},
   "outputs": [
    {
     "data": {
      "text/plain": [
       "[10, 20, 30, 40, 50]"
      ]
     },
     "execution_count": 26,
     "metadata": {},
     "output_type": "execute_result"
    }
   ],
   "source": [
    "# 1차원 데이터 벡터의 연산\n",
    "b1 = [1,2,3,4,5]\n",
    "# 리스트의 요소에 10을 곱한 후 다시 리스트로 만드세요\n",
    "b1_multiple = [x*10 for x in b1]\n",
    "b1_multiple"
   ]
  },
  {
   "cell_type": "code",
   "execution_count": 27,
   "id": "e8b4bd65",
   "metadata": {},
   "outputs": [
    {
     "data": {
      "text/plain": [
       "[10, 20, 30, 40, 50]"
      ]
     },
     "execution_count": 27,
     "metadata": {},
     "output_type": "execute_result"
    }
   ],
   "source": [
    "b1_multiple = list(map(lambda x: x * 10, b1))\n",
    "b1_multiple"
   ]
  },
  {
   "cell_type": "code",
   "execution_count": 30,
   "id": "66efeec2",
   "metadata": {
    "scrolled": true
   },
   "outputs": [
    {
     "name": "stdout",
     "output_type": "stream",
     "text": [
      "[[1 2 3]\n",
      " [1 2 3]]\n",
      "2\n",
      "(2, 3)\n"
     ]
    }
   ],
   "source": [
    "# 2차원 데이터 계산 *10하기\n",
    "second = np.array([[1,2,3],[1,2,3]])\n",
    "print(second)\n",
    "print(second.ndim)\n",
    "print(second.shape)"
   ]
  },
  {
   "cell_type": "code",
   "execution_count": 35,
   "id": "64641273",
   "metadata": {},
   "outputs": [
    {
     "data": {
      "text/plain": [
       "array([[10, 20, 30],\n",
       "       [10, 20, 30]])"
      ]
     },
     "execution_count": 35,
     "metadata": {},
     "output_type": "execute_result"
    }
   ],
   "source": [
    "second_multiple = []\n",
    "for nums in second:\n",
    "    temp = []\n",
    "    for num in nums:\n",
    "        temp.append(num*10)\n",
    "    second_multiple.append(result)\n",
    "np.array(second_multiple)"
   ]
  },
  {
   "cell_type": "code",
   "execution_count": 36,
   "id": "7650feed",
   "metadata": {},
   "outputs": [
    {
     "data": {
      "text/plain": [
       "array([[10, 20, 30],\n",
       "       [10, 20, 30]])"
      ]
     },
     "execution_count": 36,
     "metadata": {},
     "output_type": "execute_result"
    }
   ],
   "source": [
    "second_np_mul = second * 10\n",
    "second_np_mul"
   ]
  },
  {
   "cell_type": "markdown",
   "id": "b57fb9fb",
   "metadata": {},
   "source": [
    "# numpy에서 자주 사용하는 메서드\n",
    "* .ndim : 몇 차원인지 보는 것\n",
    "* .shape : 몇 차원, 몇 행, 몇 열로 되어있는지 구조 확인\n",
    "* .size : 배열 안에 있는 요소의 총 개수가 몇 개인지 확인\n",
    "* .dtype : 배열 안에 있는 요소의 데이터타입 확인"
   ]
  },
  {
   "cell_type": "code",
   "execution_count": 37,
   "id": "32a9cc3b",
   "metadata": {},
   "outputs": [
    {
     "data": {
      "text/plain": [
       "6"
      ]
     },
     "execution_count": 37,
     "metadata": {},
     "output_type": "execute_result"
    }
   ],
   "source": [
    "second.size"
   ]
  },
  {
   "cell_type": "code",
   "execution_count": 38,
   "id": "70edb8d5",
   "metadata": {},
   "outputs": [
    {
     "data": {
      "text/plain": [
       "dtype('int64')"
      ]
     },
     "execution_count": 38,
     "metadata": {},
     "output_type": "execute_result"
    }
   ],
   "source": [
    "second.dtype"
   ]
  },
  {
   "cell_type": "code",
   "execution_count": 40,
   "id": "e6849d71",
   "metadata": {},
   "outputs": [
    {
     "name": "stdout",
     "output_type": "stream",
     "text": [
      "[[0.5 1.  1.5]\n",
      " [0.5 1.  1.5]]\n",
      "float64\n"
     ]
    }
   ],
   "source": [
    "second_div = second / 2\n",
    "print(second_div)\n",
    "print(second_div.dtype)"
   ]
  },
  {
   "cell_type": "markdown",
   "id": "25880509",
   "metadata": {},
   "source": [
    "# ndarray 만들기\n",
    "* numpy의 기본 자료형 ndarray\n",
    "* np.array(리스트/튜플)\n",
    "* 자료형은 반드시 1가지만 넣는다"
   ]
  },
  {
   "cell_type": "code",
   "execution_count": 42,
   "id": "c1963c43",
   "metadata": {},
   "outputs": [
    {
     "data": {
      "text/plain": [
       "array([1, 2, 3, 4, 5])"
      ]
     },
     "execution_count": 42,
     "metadata": {},
     "output_type": "execute_result"
    }
   ],
   "source": [
    "array = np.array([1,2,3,4,5])\n",
    "array"
   ]
  },
  {
   "cell_type": "markdown",
   "id": "a5373a75",
   "metadata": {},
   "source": [
    "### np.arange(시작, 끝, step)"
   ]
  },
  {
   "cell_type": "code",
   "execution_count": 48,
   "id": "697b8cb3",
   "metadata": {},
   "outputs": [
    {
     "data": {
      "text/plain": [
       "array([  1,   2,   3,   4,   5,   6,   7,   8,   9,  10,  11,  12,  13,\n",
       "        14,  15,  16,  17,  18,  19,  20,  21,  22,  23,  24,  25,  26,\n",
       "        27,  28,  29,  30,  31,  32,  33,  34,  35,  36,  37,  38,  39,\n",
       "        40,  41,  42,  43,  44,  45,  46,  47,  48,  49,  50,  51,  52,\n",
       "        53,  54,  55,  56,  57,  58,  59,  60,  61,  62,  63,  64,  65,\n",
       "        66,  67,  68,  69,  70,  71,  72,  73,  74,  75,  76,  77,  78,\n",
       "        79,  80,  81,  82,  83,  84,  85,  86,  87,  88,  89,  90,  91,\n",
       "        92,  93,  94,  95,  96,  97,  98,  99, 100])"
      ]
     },
     "execution_count": 48,
     "metadata": {},
     "output_type": "execute_result"
    }
   ],
   "source": [
    "nums = np.arange(1,101)\n",
    "nums"
   ]
  },
  {
   "cell_type": "markdown",
   "id": "e546948e",
   "metadata": {},
   "source": [
    "### .reshape(행, 열)\n",
    "* 벡터를 원하는 크기의 matrix 혹은 다차원 배열로 변환"
   ]
  },
  {
   "cell_type": "code",
   "execution_count": 49,
   "id": "27894d2e",
   "metadata": {},
   "outputs": [
    {
     "name": "stdout",
     "output_type": "stream",
     "text": [
      "1\n",
      "(100,)\n"
     ]
    },
    {
     "data": {
      "text/plain": [
       "array([[  1,   2,   3,   4,   5,   6,   7,   8,   9,  10,  11,  12,  13,\n",
       "         14,  15,  16,  17,  18,  19,  20],\n",
       "       [ 21,  22,  23,  24,  25,  26,  27,  28,  29,  30,  31,  32,  33,\n",
       "         34,  35,  36,  37,  38,  39,  40],\n",
       "       [ 41,  42,  43,  44,  45,  46,  47,  48,  49,  50,  51,  52,  53,\n",
       "         54,  55,  56,  57,  58,  59,  60],\n",
       "       [ 61,  62,  63,  64,  65,  66,  67,  68,  69,  70,  71,  72,  73,\n",
       "         74,  75,  76,  77,  78,  79,  80],\n",
       "       [ 81,  82,  83,  84,  85,  86,  87,  88,  89,  90,  91,  92,  93,\n",
       "         94,  95,  96,  97,  98,  99, 100]])"
      ]
     },
     "execution_count": 49,
     "metadata": {},
     "output_type": "execute_result"
    }
   ],
   "source": [
    "print(nums.ndim)\n",
    "print(nums.shape)\n",
    "nums.reshape(5,20)"
   ]
  },
  {
   "cell_type": "code",
   "execution_count": 50,
   "id": "925d2f16",
   "metadata": {},
   "outputs": [
    {
     "data": {
      "text/plain": [
       "array([[[  1,   2,   3,   4,   5],\n",
       "        [  6,   7,   8,   9,  10],\n",
       "        [ 11,  12,  13,  14,  15],\n",
       "        [ 16,  17,  18,  19,  20]],\n",
       "\n",
       "       [[ 21,  22,  23,  24,  25],\n",
       "        [ 26,  27,  28,  29,  30],\n",
       "        [ 31,  32,  33,  34,  35],\n",
       "        [ 36,  37,  38,  39,  40]],\n",
       "\n",
       "       [[ 41,  42,  43,  44,  45],\n",
       "        [ 46,  47,  48,  49,  50],\n",
       "        [ 51,  52,  53,  54,  55],\n",
       "        [ 56,  57,  58,  59,  60]],\n",
       "\n",
       "       [[ 61,  62,  63,  64,  65],\n",
       "        [ 66,  67,  68,  69,  70],\n",
       "        [ 71,  72,  73,  74,  75],\n",
       "        [ 76,  77,  78,  79,  80]],\n",
       "\n",
       "       [[ 81,  82,  83,  84,  85],\n",
       "        [ 86,  87,  88,  89,  90],\n",
       "        [ 91,  92,  93,  94,  95],\n",
       "        [ 96,  97,  98,  99, 100]]])"
      ]
     },
     "execution_count": 50,
     "metadata": {},
     "output_type": "execute_result"
    }
   ],
   "source": [
    "nums.reshape(5, 4, 5)"
   ]
  },
  {
   "cell_type": "code",
   "execution_count": 54,
   "id": "adc2c3d9",
   "metadata": {},
   "outputs": [
    {
     "data": {
      "text/plain": [
       "array([[  1,   2,   3,   4,   5,   6,   7,   8,   9,  10,  11,  12,  13,\n",
       "         14,  15,  16,  17,  18,  19,  20,  21,  22,  23,  24,  25],\n",
       "       [ 26,  27,  28,  29,  30,  31,  32,  33,  34,  35,  36,  37,  38,\n",
       "         39,  40,  41,  42,  43,  44,  45,  46,  47,  48,  49,  50],\n",
       "       [ 51,  52,  53,  54,  55,  56,  57,  58,  59,  60,  61,  62,  63,\n",
       "         64,  65,  66,  67,  68,  69,  70,  71,  72,  73,  74,  75],\n",
       "       [ 76,  77,  78,  79,  80,  81,  82,  83,  84,  85,  86,  87,  88,\n",
       "         89,  90,  91,  92,  93,  94,  95,  96,  97,  98,  99, 100]])"
      ]
     },
     "execution_count": 54,
     "metadata": {},
     "output_type": "execute_result"
    }
   ],
   "source": [
    "nums.reshape(-1, 25)"
   ]
  },
  {
   "cell_type": "markdown",
   "id": "e31fc981",
   "metadata": {},
   "source": [
    "### .flatten() : 다차원 배열을 1차원으로 펼쳐줌"
   ]
  },
  {
   "cell_type": "code",
   "execution_count": 56,
   "id": "dfe8bc66",
   "metadata": {},
   "outputs": [
    {
     "data": {
      "text/plain": [
       "array([  1,   2,   3,   4,   5,   6,   7,   8,   9,  10,  11,  12,  13,\n",
       "        14,  15,  16,  17,  18,  19,  20,  21,  22,  23,  24,  25,  26,\n",
       "        27,  28,  29,  30,  31,  32,  33,  34,  35,  36,  37,  38,  39,\n",
       "        40,  41,  42,  43,  44,  45,  46,  47,  48,  49,  50,  51,  52,\n",
       "        53,  54,  55,  56,  57,  58,  59,  60,  61,  62,  63,  64,  65,\n",
       "        66,  67,  68,  69,  70,  71,  72,  73,  74,  75,  76,  77,  78,\n",
       "        79,  80,  81,  82,  83,  84,  85,  86,  87,  88,  89,  90,  91,\n",
       "        92,  93,  94,  95,  96,  97,  98,  99, 100])"
      ]
     },
     "execution_count": 56,
     "metadata": {},
     "output_type": "execute_result"
    }
   ],
   "source": [
    "nums.reshape(-1, 25).flatten()"
   ]
  },
  {
   "cell_type": "markdown",
   "id": "ff8517b9",
   "metadata": {},
   "source": [
    "### np.flip() : 행렬의 순서를 뒤집을 때"
   ]
  },
  {
   "cell_type": "code",
   "execution_count": 57,
   "id": "9a628624",
   "metadata": {},
   "outputs": [
    {
     "data": {
      "text/plain": [
       "array([[100,  99,  98,  97,  96,  95,  94,  93,  92,  91,  90,  89,  88,\n",
       "         87,  86,  85,  84,  83,  82,  81,  80,  79,  78,  77,  76],\n",
       "       [ 75,  74,  73,  72,  71,  70,  69,  68,  67,  66,  65,  64,  63,\n",
       "         62,  61,  60,  59,  58,  57,  56,  55,  54,  53,  52,  51],\n",
       "       [ 50,  49,  48,  47,  46,  45,  44,  43,  42,  41,  40,  39,  38,\n",
       "         37,  36,  35,  34,  33,  32,  31,  30,  29,  28,  27,  26],\n",
       "       [ 25,  24,  23,  22,  21,  20,  19,  18,  17,  16,  15,  14,  13,\n",
       "         12,  11,  10,   9,   8,   7,   6,   5,   4,   3,   2,   1]])"
      ]
     },
     "execution_count": 57,
     "metadata": {},
     "output_type": "execute_result"
    }
   ],
   "source": [
    "np.flip(nums.reshape(-1, 25))"
   ]
  },
  {
   "cell_type": "markdown",
   "id": "b2bc9284",
   "metadata": {},
   "source": [
    "### np.linspace(시작, 끝, 구간 수)\n",
    "* 정해진 숫자 범위 안에서 균등하게 구간을 나눌 때\n",
    "* 분류분석할 때 기준으로 쓸 수 있음"
   ]
  },
  {
   "cell_type": "code",
   "execution_count": 60,
   "id": "5d216912",
   "metadata": {},
   "outputs": [
    {
     "data": {
      "text/plain": [
       "array([ 1.,  2.,  3.,  4.,  5.,  6.,  7.,  8.,  9., 10.])"
      ]
     },
     "execution_count": 60,
     "metadata": {},
     "output_type": "execute_result"
    }
   ],
   "source": [
    "np.linspace(1,10,10)"
   ]
  },
  {
   "cell_type": "code",
   "execution_count": 61,
   "id": "3b102b5f",
   "metadata": {
    "scrolled": true
   },
   "outputs": [
    {
     "data": {
      "text/plain": [
       "array([ 1.        ,  1.47368421,  1.94736842,  2.42105263,  2.89473684,\n",
       "        3.36842105,  3.84210526,  4.31578947,  4.78947368,  5.26315789,\n",
       "        5.73684211,  6.21052632,  6.68421053,  7.15789474,  7.63157895,\n",
       "        8.10526316,  8.57894737,  9.05263158,  9.52631579, 10.        ])"
      ]
     },
     "execution_count": 61,
     "metadata": {},
     "output_type": "execute_result"
    }
   ],
   "source": [
    "np.linspace(1,10,20)"
   ]
  },
  {
   "cell_type": "code",
   "execution_count": 62,
   "id": "f96e35aa",
   "metadata": {},
   "outputs": [
    {
     "data": {
      "text/plain": [
       "array([0.        , 0.16666667, 0.33333333, 0.5       , 0.66666667,\n",
       "       0.83333333, 1.        ])"
      ]
     },
     "execution_count": 62,
     "metadata": {},
     "output_type": "execute_result"
    }
   ],
   "source": [
    "np.linspace(0, 1, 7)"
   ]
  },
  {
   "cell_type": "markdown",
   "id": "a81299ae",
   "metadata": {},
   "source": [
    "### .sort()  /  sorted() : 정렬"
   ]
  },
  {
   "cell_type": "code",
   "execution_count": 3,
   "id": "4a690a29",
   "metadata": {},
   "outputs": [
    {
     "data": {
      "text/plain": [
       "array([ 5. ,  7. , 11. ,  1. ,  3. ,  2. , 54. ,  0. ,  0.5, 68. ])"
      ]
     },
     "execution_count": 3,
     "metadata": {},
     "output_type": "execute_result"
    }
   ],
   "source": [
    "f = np.array([5,7,11,1,3,2,54,0,0.5,68])\n",
    "f"
   ]
  },
  {
   "cell_type": "code",
   "execution_count": 6,
   "id": "1379c439",
   "metadata": {},
   "outputs": [
    {
     "data": {
      "text/plain": [
       "array([ 0. ,  0.5,  1. ,  2. ,  3. ,  5. ,  7. , 11. , 54. , 68. ])"
      ]
     },
     "execution_count": 6,
     "metadata": {},
     "output_type": "execute_result"
    }
   ],
   "source": [
    "# axis 속성에 따라 정렬 다르게 할 수 있음\n",
    "np.sort(f)"
   ]
  },
  {
   "cell_type": "code",
   "execution_count": 66,
   "id": "b38d1257",
   "metadata": {},
   "outputs": [
    {
     "data": {
      "text/plain": [
       "array([ 0. ,  0.5,  1. ,  2. ,  3. ,  5. ,  7. , 11. , 54. , 68. ])"
      ]
     },
     "execution_count": 66,
     "metadata": {},
     "output_type": "execute_result"
    }
   ],
   "source": [
    "f.sort() # 바로 재할당\n",
    "f"
   ]
  },
  {
   "cell_type": "code",
   "execution_count": 70,
   "id": "8f0a977a",
   "metadata": {},
   "outputs": [
    {
     "data": {
      "text/plain": [
       "array([68. , 54. , 11. ,  7. ,  5. ,  3. ,  2. ,  1. ,  0.5,  0. ])"
      ]
     },
     "execution_count": 70,
     "metadata": {},
     "output_type": "execute_result"
    }
   ],
   "source": [
    "np.array(sorted(np.array([5,7,11,1,3,2,54,0,0.5,68]), reverse=True))"
   ]
  },
  {
   "cell_type": "markdown",
   "id": "be6fb876",
   "metadata": {},
   "source": [
    "### argsort()\n",
    "* 자료 중 값이 작은 것에서 큰 순으로 원래 인덱스 출력\n",
    "* 추천 시스템 (ex. 영화, 금융 상품)"
   ]
  },
  {
   "cell_type": "code",
   "execution_count": 71,
   "id": "1093a28c",
   "metadata": {},
   "outputs": [
    {
     "name": "stdout",
     "output_type": "stream",
     "text": [
      "[ 5.   0.5 -7.  42.  10.   0. ]\n"
     ]
    }
   ],
   "source": [
    "g = np.array([5,0.5,-7,42,10,0])\n",
    "print(g)"
   ]
  },
  {
   "cell_type": "code",
   "execution_count": 74,
   "id": "7521f711",
   "metadata": {},
   "outputs": [
    {
     "data": {
      "text/plain": [
       "array([2, 5, 1, 0, 4, 3])"
      ]
     },
     "execution_count": 74,
     "metadata": {},
     "output_type": "execute_result"
    }
   ],
   "source": [
    "idx = g.argsort()\n",
    "idx"
   ]
  },
  {
   "cell_type": "code",
   "execution_count": 75,
   "id": "1cb96a4b",
   "metadata": {},
   "outputs": [
    {
     "data": {
      "text/plain": [
       "array([-7. ,  0. ,  0.5,  5. , 10. , 42. ])"
      ]
     },
     "execution_count": 75,
     "metadata": {},
     "output_type": "execute_result"
    }
   ],
   "source": [
    "g[idx]"
   ]
  },
  {
   "cell_type": "code",
   "execution_count": 76,
   "id": "7444aa32",
   "metadata": {
    "scrolled": true
   },
   "outputs": [
    {
     "data": {
      "text/plain": [
       "array([42. , 10. ,  5. ,  0.5,  0. , -7. ])"
      ]
     },
     "execution_count": 76,
     "metadata": {},
     "output_type": "execute_result"
    }
   ],
   "source": [
    "g[idx][::-1]"
   ]
  },
  {
   "cell_type": "markdown",
   "id": "f6330c11",
   "metadata": {},
   "source": [
    "### np.where(조건, 참, 거짓) : 3항 연산"
   ]
  },
  {
   "cell_type": "code",
   "execution_count": 8,
   "id": "2ab79fe8",
   "metadata": {},
   "outputs": [
    {
     "data": {
      "text/plain": [
       "array([ 1,  2,  3,  4,  5,  6,  7,  8,  9, 10])"
      ]
     },
     "execution_count": 8,
     "metadata": {},
     "output_type": "execute_result"
    }
   ],
   "source": [
    "num = np.arange(1,11)\n",
    "num"
   ]
  },
  {
   "cell_type": "code",
   "execution_count": 9,
   "id": "45d1eccc",
   "metadata": {},
   "outputs": [
    {
     "data": {
      "text/plain": [
       "array(['홀수', '짝수', '홀수', '짝수', '홀수', '짝수', '홀수', '짝수', '홀수', '짝수'],\n",
       "      dtype='<U2')"
      ]
     },
     "execution_count": 9,
     "metadata": {},
     "output_type": "execute_result"
    }
   ],
   "source": [
    "np.where(num % 2 == 0, '짝수', '홀수')"
   ]
  },
  {
   "cell_type": "markdown",
   "id": "3bdb5b07",
   "metadata": {},
   "source": [
    "## 배열 합치기 np.concatenate()"
   ]
  },
  {
   "cell_type": "code",
   "execution_count": 10,
   "id": "ae43269d",
   "metadata": {},
   "outputs": [
    {
     "name": "stdout",
     "output_type": "stream",
     "text": [
      "[[1 2]\n",
      " [3 4]] (2, 2)\n",
      "[[5 6]\n",
      " [7 8]] (2, 2)\n"
     ]
    }
   ],
   "source": [
    "a = np.array([[1,2],[3,4]])\n",
    "b = np.array([[5,6],[7,8]])\n",
    "print(a, a.shape)\n",
    "print(b, b.shape)"
   ]
  },
  {
   "cell_type": "markdown",
   "id": "0de9513a",
   "metadata": {},
   "source": [
    "### np.concatenate((a,b))\n",
    "* 합치는 기본 방향은 axis=0 (행추가)\n",
    "* axis=1 (열추가)\n",
    "* 합치는 방향의 모양이 일치하지 않으면 합치기 불가"
   ]
  },
  {
   "cell_type": "code",
   "execution_count": 11,
   "id": "977e4f02",
   "metadata": {},
   "outputs": [
    {
     "data": {
      "text/plain": [
       "array([[1, 2],\n",
       "       [3, 4],\n",
       "       [5, 6],\n",
       "       [7, 8]])"
      ]
     },
     "execution_count": 11,
     "metadata": {},
     "output_type": "execute_result"
    }
   ],
   "source": [
    "np.concatenate((a,b))"
   ]
  },
  {
   "cell_type": "code",
   "execution_count": 12,
   "id": "3ccd0d99",
   "metadata": {},
   "outputs": [
    {
     "data": {
      "text/plain": [
       "array([[1, 2, 5, 6],\n",
       "       [3, 4, 7, 8]])"
      ]
     },
     "execution_count": 12,
     "metadata": {},
     "output_type": "execute_result"
    }
   ],
   "source": [
    "np.concatenate((a,b), axis=1)"
   ]
  },
  {
   "cell_type": "markdown",
   "id": "1b2365ad",
   "metadata": {},
   "source": [
    "## 전치행렬\n",
    "* 행과 열을 바꿈\n",
    "* .T\n",
    "* .trabsoise()"
   ]
  },
  {
   "cell_type": "code",
   "execution_count": 13,
   "id": "7b8d7cd7",
   "metadata": {},
   "outputs": [
    {
     "data": {
      "text/plain": [
       "array([[1, 3],\n",
       "       [2, 4],\n",
       "       [5, 7],\n",
       "       [6, 8]])"
      ]
     },
     "execution_count": 13,
     "metadata": {},
     "output_type": "execute_result"
    }
   ],
   "source": [
    "np.concatenate((a,b), axis=1).T"
   ]
  },
  {
   "cell_type": "code",
   "execution_count": 14,
   "id": "43f95ee9",
   "metadata": {},
   "outputs": [
    {
     "data": {
      "text/plain": [
       "array([[1, 3],\n",
       "       [2, 4],\n",
       "       [5, 7],\n",
       "       [6, 8]])"
      ]
     },
     "execution_count": 14,
     "metadata": {},
     "output_type": "execute_result"
    }
   ],
   "source": [
    "np.concatenate((a,b), axis=1).transpose()"
   ]
  },
  {
   "cell_type": "markdown",
   "id": "11c0ebe7",
   "metadata": {},
   "source": [
    "## 브로드 캐스팅\n",
    "* 벡터와 스칼라 혹은 matrix와 벡터를 연살할 때 자동으로 행렬 크키를 맞춰 주는 것"
   ]
  },
  {
   "cell_type": "code",
   "execution_count": 16,
   "id": "5c18e1f3",
   "metadata": {},
   "outputs": [
    {
     "data": {
      "text/plain": [
       "array([[ 1,  2,  3,  4,  5],\n",
       "       [ 6,  7,  8,  9, 10],\n",
       "       [11, 12, 13, 14, 15]])"
      ]
     },
     "execution_count": 16,
     "metadata": {},
     "output_type": "execute_result"
    }
   ],
   "source": [
    "a = np.arange(1,16).reshape(3,5)\n",
    "a"
   ]
  },
  {
   "cell_type": "code",
   "execution_count": 17,
   "id": "dd5a15c0",
   "metadata": {},
   "outputs": [
    {
     "data": {
      "text/plain": [
       "array([[11, 12, 13, 14, 15],\n",
       "       [16, 17, 18, 19, 20],\n",
       "       [21, 22, 23, 24, 25]])"
      ]
     },
     "execution_count": 17,
     "metadata": {},
     "output_type": "execute_result"
    }
   ],
   "source": [
    "a + 10"
   ]
  },
  {
   "cell_type": "code",
   "execution_count": 19,
   "id": "9536ad47",
   "metadata": {},
   "outputs": [
    {
     "data": {
      "text/plain": [
       "array([10, 20, 30, 40, 50])"
      ]
     },
     "execution_count": 19,
     "metadata": {},
     "output_type": "execute_result"
    }
   ],
   "source": [
    "b = np.array([10,20,30,40,50])\n",
    "b"
   ]
  },
  {
   "cell_type": "code",
   "execution_count": 20,
   "id": "dff8e353",
   "metadata": {},
   "outputs": [
    {
     "data": {
      "text/plain": [
       "array([[11, 22, 33, 44, 55],\n",
       "       [16, 27, 38, 49, 60],\n",
       "       [21, 32, 43, 54, 65]])"
      ]
     },
     "execution_count": 20,
     "metadata": {},
     "output_type": "execute_result"
    }
   ],
   "source": [
    "a + b"
   ]
  }
 ],
 "metadata": {
  "kernelspec": {
   "display_name": "Python 3 (ipykernel)",
   "language": "python",
   "name": "python3"
  },
  "language_info": {
   "codemirror_mode": {
    "name": "ipython",
    "version": 3
   },
   "file_extension": ".py",
   "mimetype": "text/x-python",
   "name": "python",
   "nbconvert_exporter": "python",
   "pygments_lexer": "ipython3",
   "version": "3.9.21"
  }
 },
 "nbformat": 4,
 "nbformat_minor": 5
}
