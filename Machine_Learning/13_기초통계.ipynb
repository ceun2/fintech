{
 "cells": [
  {
   "cell_type": "code",
   "execution_count": 1,
   "id": "83249c8d",
   "metadata": {},
   "outputs": [],
   "source": [
    "import pandas as pd\n",
    "import numpy as np\n",
    "import matplotlib.pyplot as plt\n",
    "import koreanize_matplotlib\n",
    "import seaborn as sns\n",
    "import math"
   ]
  },
  {
   "cell_type": "markdown",
   "id": "182c2b4f",
   "metadata": {},
   "source": [
    "## 1. 기초 통계의 대표값\n",
    "* 평균(mean)\n",
    "* 중앙값(median)\n",
    "* 최빈값(mode)"
   ]
  },
  {
   "cell_type": "markdown",
   "id": "c075f120",
   "metadata": {},
   "source": [
    "### (1) 평균(mean) $ \\mu $\n",
    "* 모든 값의 총합을 값의 개수로 나눈 값\n",
    "* 극단적인 값(이상값/아웃라이어)이 있는 경우 평균에 영향을 미침\n",
    "* 모집단의 평균 $ \\mu $\n",
    "* 표본집단의 평균 $ \\bar {x} $\n",
    "* $$ 모평균 : \\mu = {\\sum_{i=1}^N x_i \\over N} $$\n",
    "* $$ 표본평균 : \\bar {x} = {\\sum_{i=1}^N x_i \\over n} $$"
   ]
  },
  {
   "cell_type": "code",
   "execution_count": 2,
   "id": "4f683a6e",
   "metadata": {},
   "outputs": [
    {
     "data": {
      "text/html": [
       "<div>\n",
       "<style scoped>\n",
       "    .dataframe tbody tr th:only-of-type {\n",
       "        vertical-align: middle;\n",
       "    }\n",
       "\n",
       "    .dataframe tbody tr th {\n",
       "        vertical-align: top;\n",
       "    }\n",
       "\n",
       "    .dataframe thead th {\n",
       "        text-align: right;\n",
       "    }\n",
       "</style>\n",
       "<table border=\"1\" class=\"dataframe\">\n",
       "  <thead>\n",
       "    <tr style=\"text-align: right;\">\n",
       "      <th></th>\n",
       "      <th>표본</th>\n",
       "    </tr>\n",
       "  </thead>\n",
       "  <tbody>\n",
       "    <tr>\n",
       "      <th>0</th>\n",
       "      <td>2</td>\n",
       "    </tr>\n",
       "    <tr>\n",
       "      <th>1</th>\n",
       "      <td>3</td>\n",
       "    </tr>\n",
       "    <tr>\n",
       "      <th>2</th>\n",
       "      <td>4</td>\n",
       "    </tr>\n",
       "    <tr>\n",
       "      <th>3</th>\n",
       "      <td>5</td>\n",
       "    </tr>\n",
       "    <tr>\n",
       "      <th>4</th>\n",
       "      <td>3</td>\n",
       "    </tr>\n",
       "    <tr>\n",
       "      <th>5</th>\n",
       "      <td>5</td>\n",
       "    </tr>\n",
       "    <tr>\n",
       "      <th>6</th>\n",
       "      <td>6</td>\n",
       "    </tr>\n",
       "    <tr>\n",
       "      <th>7</th>\n",
       "      <td>7</td>\n",
       "    </tr>\n",
       "    <tr>\n",
       "      <th>8</th>\n",
       "      <td>8</td>\n",
       "    </tr>\n",
       "    <tr>\n",
       "      <th>9</th>\n",
       "      <td>10</td>\n",
       "    </tr>\n",
       "  </tbody>\n",
       "</table>\n",
       "</div>"
      ],
      "text/plain": [
       "   표본\n",
       "0   2\n",
       "1   3\n",
       "2   4\n",
       "3   5\n",
       "4   3\n",
       "5   5\n",
       "6   6\n",
       "7   7\n",
       "8   8\n",
       "9  10"
      ]
     },
     "execution_count": 2,
     "metadata": {},
     "output_type": "execute_result"
    }
   ],
   "source": [
    "a = pd.DataFrame([2,3,4,5,3,5,6,7,8,10], columns=['표본'])\n",
    "a"
   ]
  },
  {
   "cell_type": "code",
   "execution_count": 3,
   "id": "3527219b",
   "metadata": {},
   "outputs": [
    {
     "data": {
      "text/plain": [
       "표본    5.3\n",
       "dtype: float64"
      ]
     },
     "execution_count": 3,
     "metadata": {},
     "output_type": "execute_result"
    }
   ],
   "source": [
    "a.mean()"
   ]
  },
  {
   "cell_type": "markdown",
   "id": "441d1e10",
   "metadata": {},
   "source": [
    "### (2) 중앙값(median)\n",
    "* 모든 데이터를 큰 순서대로 나열할 때 가운데 있는 값\n",
    "* 데이터의 개수가 홀수일 때는 정중앙의 값\n",
    "* 데이터의 개수가 짝수일 때는 정중앙 2개의 수의 평균값\n",
    "* 이상치가 있어도 영향을 받지 않음"
   ]
  },
  {
   "cell_type": "code",
   "execution_count": 4,
   "id": "f1176e91",
   "metadata": {},
   "outputs": [
    {
     "data": {
      "text/html": [
       "<div>\n",
       "<style scoped>\n",
       "    .dataframe tbody tr th:only-of-type {\n",
       "        vertical-align: middle;\n",
       "    }\n",
       "\n",
       "    .dataframe tbody tr th {\n",
       "        vertical-align: top;\n",
       "    }\n",
       "\n",
       "    .dataframe thead th {\n",
       "        text-align: right;\n",
       "    }\n",
       "</style>\n",
       "<table border=\"1\" class=\"dataframe\">\n",
       "  <thead>\n",
       "    <tr style=\"text-align: right;\">\n",
       "      <th></th>\n",
       "      <th>0</th>\n",
       "      <th>1</th>\n",
       "      <th>2</th>\n",
       "      <th>3</th>\n",
       "      <th>4</th>\n",
       "      <th>5</th>\n",
       "      <th>6</th>\n",
       "      <th>7</th>\n",
       "      <th>8</th>\n",
       "      <th>9</th>\n",
       "    </tr>\n",
       "  </thead>\n",
       "  <tbody>\n",
       "    <tr>\n",
       "      <th>표본</th>\n",
       "      <td>2</td>\n",
       "      <td>3</td>\n",
       "      <td>4</td>\n",
       "      <td>5</td>\n",
       "      <td>3</td>\n",
       "      <td>5</td>\n",
       "      <td>6</td>\n",
       "      <td>7</td>\n",
       "      <td>8</td>\n",
       "      <td>10</td>\n",
       "    </tr>\n",
       "  </tbody>\n",
       "</table>\n",
       "</div>"
      ],
      "text/plain": [
       "    0  1  2  3  4  5  6  7  8   9\n",
       "표본  2  3  4  5  3  5  6  7  8  10"
      ]
     },
     "execution_count": 4,
     "metadata": {},
     "output_type": "execute_result"
    }
   ],
   "source": [
    "a.T"
   ]
  },
  {
   "cell_type": "code",
   "execution_count": 5,
   "id": "d23a655b",
   "metadata": {},
   "outputs": [
    {
     "data": {
      "text/plain": [
       "표본    5.0\n",
       "dtype: float64"
      ]
     },
     "execution_count": 5,
     "metadata": {},
     "output_type": "execute_result"
    }
   ],
   "source": [
    "a.median()"
   ]
  },
  {
   "cell_type": "markdown",
   "id": "8298ff7d",
   "metadata": {},
   "source": [
    "### (3) 최빈값(mode)\n",
    "* 표본에서 가장 많이 등장하는 값\n",
    "* 최빈값도 극단값에 영향을 받지 않음"
   ]
  },
  {
   "cell_type": "code",
   "execution_count": 6,
   "id": "95167ec8",
   "metadata": {},
   "outputs": [
    {
     "data": {
      "text/html": [
       "<div>\n",
       "<style scoped>\n",
       "    .dataframe tbody tr th:only-of-type {\n",
       "        vertical-align: middle;\n",
       "    }\n",
       "\n",
       "    .dataframe tbody tr th {\n",
       "        vertical-align: top;\n",
       "    }\n",
       "\n",
       "    .dataframe thead th {\n",
       "        text-align: right;\n",
       "    }\n",
       "</style>\n",
       "<table border=\"1\" class=\"dataframe\">\n",
       "  <thead>\n",
       "    <tr style=\"text-align: right;\">\n",
       "      <th></th>\n",
       "      <th>0</th>\n",
       "      <th>1</th>\n",
       "      <th>2</th>\n",
       "      <th>3</th>\n",
       "      <th>4</th>\n",
       "      <th>5</th>\n",
       "      <th>6</th>\n",
       "      <th>7</th>\n",
       "      <th>8</th>\n",
       "      <th>9</th>\n",
       "    </tr>\n",
       "  </thead>\n",
       "  <tbody>\n",
       "    <tr>\n",
       "      <th>표본</th>\n",
       "      <td>2</td>\n",
       "      <td>3</td>\n",
       "      <td>4</td>\n",
       "      <td>5</td>\n",
       "      <td>3</td>\n",
       "      <td>5</td>\n",
       "      <td>6</td>\n",
       "      <td>7</td>\n",
       "      <td>8</td>\n",
       "      <td>10</td>\n",
       "    </tr>\n",
       "  </tbody>\n",
       "</table>\n",
       "</div>"
      ],
      "text/plain": [
       "    0  1  2  3  4  5  6  7  8   9\n",
       "표본  2  3  4  5  3  5  6  7  8  10"
      ]
     },
     "execution_count": 6,
     "metadata": {},
     "output_type": "execute_result"
    }
   ],
   "source": [
    "a.T"
   ]
  },
  {
   "cell_type": "code",
   "execution_count": 7,
   "id": "2b5f348f",
   "metadata": {},
   "outputs": [
    {
     "data": {
      "text/html": [
       "<div>\n",
       "<style scoped>\n",
       "    .dataframe tbody tr th:only-of-type {\n",
       "        vertical-align: middle;\n",
       "    }\n",
       "\n",
       "    .dataframe tbody tr th {\n",
       "        vertical-align: top;\n",
       "    }\n",
       "\n",
       "    .dataframe thead th {\n",
       "        text-align: right;\n",
       "    }\n",
       "</style>\n",
       "<table border=\"1\" class=\"dataframe\">\n",
       "  <thead>\n",
       "    <tr style=\"text-align: right;\">\n",
       "      <th></th>\n",
       "      <th>표본</th>\n",
       "    </tr>\n",
       "  </thead>\n",
       "  <tbody>\n",
       "    <tr>\n",
       "      <th>0</th>\n",
       "      <td>3</td>\n",
       "    </tr>\n",
       "    <tr>\n",
       "      <th>1</th>\n",
       "      <td>5</td>\n",
       "    </tr>\n",
       "  </tbody>\n",
       "</table>\n",
       "</div>"
      ],
      "text/plain": [
       "   표본\n",
       "0   3\n",
       "1   5"
      ]
     },
     "execution_count": 7,
     "metadata": {},
     "output_type": "execute_result"
    }
   ],
   "source": [
    "a.mode()"
   ]
  },
  {
   "cell_type": "markdown",
   "id": "e19200c4",
   "metadata": {},
   "source": [
    "### (4) 산술평균/기하평균\n",
    "* 산술평균(덧셈의 평균) : 모든 데이터의 합계 / 데이터 수\n",
    "* 기하평균(곱셈의 평균) : 모든 데이터의 곱의 n제곱근 - 증가율의 평균을 계산할 때 사용"
   ]
  },
  {
   "cell_type": "code",
   "execution_count": 8,
   "id": "0411670f",
   "metadata": {},
   "outputs": [
    {
     "data": {
      "text/html": [
       "<div>\n",
       "<style scoped>\n",
       "    .dataframe tbody tr th:only-of-type {\n",
       "        vertical-align: middle;\n",
       "    }\n",
       "\n",
       "    .dataframe tbody tr th {\n",
       "        vertical-align: top;\n",
       "    }\n",
       "\n",
       "    .dataframe thead th {\n",
       "        text-align: right;\n",
       "    }\n",
       "</style>\n",
       "<table border=\"1\" class=\"dataframe\">\n",
       "  <thead>\n",
       "    <tr style=\"text-align: right;\">\n",
       "      <th></th>\n",
       "      <th>0</th>\n",
       "      <th>1</th>\n",
       "      <th>2</th>\n",
       "      <th>3</th>\n",
       "      <th>4</th>\n",
       "      <th>5</th>\n",
       "      <th>6</th>\n",
       "      <th>7</th>\n",
       "      <th>8</th>\n",
       "      <th>9</th>\n",
       "    </tr>\n",
       "  </thead>\n",
       "  <tbody>\n",
       "    <tr>\n",
       "      <th>표본</th>\n",
       "      <td>2</td>\n",
       "      <td>3</td>\n",
       "      <td>4</td>\n",
       "      <td>5</td>\n",
       "      <td>3</td>\n",
       "      <td>5</td>\n",
       "      <td>6</td>\n",
       "      <td>7</td>\n",
       "      <td>8</td>\n",
       "      <td>10</td>\n",
       "    </tr>\n",
       "  </tbody>\n",
       "</table>\n",
       "</div>"
      ],
      "text/plain": [
       "    0  1  2  3  4  5  6  7  8   9\n",
       "표본  2  3  4  5  3  5  6  7  8  10"
      ]
     },
     "execution_count": 8,
     "metadata": {},
     "output_type": "execute_result"
    }
   ],
   "source": [
    "a.T"
   ]
  },
  {
   "cell_type": "code",
   "execution_count": 9,
   "id": "2e147cff",
   "metadata": {},
   "outputs": [
    {
     "data": {
      "text/plain": [
       "표본    5.3\n",
       "dtype: float64"
      ]
     },
     "execution_count": 9,
     "metadata": {},
     "output_type": "execute_result"
    }
   ],
   "source": [
    "# 산술평균\n",
    "a.mean()"
   ]
  },
  {
   "cell_type": "code",
   "execution_count": 10,
   "id": "b4ba89f7",
   "metadata": {},
   "outputs": [
    {
     "data": {
      "text/plain": [
       "np.float64(4.766078358486367)"
      ]
     },
     "execution_count": 10,
     "metadata": {},
     "output_type": "execute_result"
    }
   ],
   "source": [
    "# 기하평균\n",
    "from scipy.stats import gmean\n",
    "geometric_mean = gmean(a['표본'])\n",
    "geometric_mean"
   ]
  },
  {
   "cell_type": "markdown",
   "id": "85616739",
   "metadata": {},
   "source": [
    "* 2020년에 7%, 2021년에 35%, 2022년에 40%, 2023년에 69%의 매출 증가가 있었다면 4년간 평균 매출 증가율은?"
   ]
  },
  {
   "cell_type": "code",
   "execution_count": 11,
   "id": "5572c01b",
   "metadata": {},
   "outputs": [
    {
     "name": "stdout",
     "output_type": "stream",
     "text": [
      "산술평균 : 37.75\n",
      "기하평균 : 28.67601451933219\n"
     ]
    }
   ],
   "source": [
    "print('산술평균 :', pd.Series([7,35,40,69]).mean())\n",
    "print('기하평균 :', gmean([7,35,40,69]))"
   ]
  },
  {
   "cell_type": "markdown",
   "id": "44f37b10",
   "metadata": {},
   "source": [
    "## 2. 도수 분포표와 히스토그램\n",
    "### (1) 도수분포표(histogram 그래프)\n",
    "* 주어진 데이터를 일정한 범위로 나누고 그 범위에 출현하는 데이터 개수를 조사해 나타낸 표\n",
    "* 데이터의 구간 폭을 '계급(class)'\n",
    "* 각 계급에 속하는 데이터의 개수 '도수'\n",
    "* 각 계급의 중앙값을 '계급값'\n",
    "* 도수분포표에서 도수가 큰 것을 '출현 횟수가 많다'고 하고\n",
    "* 가장 도수가 큰 계급의 계급값을 '최빈값'이라고 함"
   ]
  },
  {
   "cell_type": "code",
   "execution_count": 12,
   "id": "2da060e4",
   "metadata": {},
   "outputs": [
    {
     "data": {
      "text/html": [
       "<div>\n",
       "<style scoped>\n",
       "    .dataframe tbody tr th:only-of-type {\n",
       "        vertical-align: middle;\n",
       "    }\n",
       "\n",
       "    .dataframe tbody tr th {\n",
       "        vertical-align: top;\n",
       "    }\n",
       "\n",
       "    .dataframe thead th {\n",
       "        text-align: right;\n",
       "    }\n",
       "</style>\n",
       "<table border=\"1\" class=\"dataframe\">\n",
       "  <thead>\n",
       "    <tr style=\"text-align: right;\">\n",
       "      <th></th>\n",
       "      <th>PassengerId</th>\n",
       "      <th>Survived</th>\n",
       "      <th>Pclass</th>\n",
       "      <th>Name</th>\n",
       "      <th>Sex</th>\n",
       "      <th>Age</th>\n",
       "      <th>SibSp</th>\n",
       "      <th>Parch</th>\n",
       "      <th>Ticket</th>\n",
       "      <th>Fare</th>\n",
       "      <th>Cabin</th>\n",
       "      <th>Embarked</th>\n",
       "    </tr>\n",
       "  </thead>\n",
       "  <tbody>\n",
       "    <tr>\n",
       "      <th>0</th>\n",
       "      <td>1</td>\n",
       "      <td>0</td>\n",
       "      <td>3</td>\n",
       "      <td>Braund, Mr. Owen Harris</td>\n",
       "      <td>male</td>\n",
       "      <td>22.0</td>\n",
       "      <td>1</td>\n",
       "      <td>0</td>\n",
       "      <td>A/5 21171</td>\n",
       "      <td>7.2500</td>\n",
       "      <td>NaN</td>\n",
       "      <td>S</td>\n",
       "    </tr>\n",
       "    <tr>\n",
       "      <th>1</th>\n",
       "      <td>2</td>\n",
       "      <td>1</td>\n",
       "      <td>1</td>\n",
       "      <td>Cumings, Mrs. John Bradley (Florence Briggs Th...</td>\n",
       "      <td>female</td>\n",
       "      <td>38.0</td>\n",
       "      <td>1</td>\n",
       "      <td>0</td>\n",
       "      <td>PC 17599</td>\n",
       "      <td>71.2833</td>\n",
       "      <td>C85</td>\n",
       "      <td>C</td>\n",
       "    </tr>\n",
       "  </tbody>\n",
       "</table>\n",
       "</div>"
      ],
      "text/plain": [
       "   PassengerId  Survived  Pclass  \\\n",
       "0            1         0       3   \n",
       "1            2         1       1   \n",
       "\n",
       "                                                Name     Sex   Age  SibSp  \\\n",
       "0                            Braund, Mr. Owen Harris    male  22.0      1   \n",
       "1  Cumings, Mrs. John Bradley (Florence Briggs Th...  female  38.0      1   \n",
       "\n",
       "   Parch     Ticket     Fare Cabin Embarked  \n",
       "0      0  A/5 21171   7.2500   NaN        S  \n",
       "1      0   PC 17599  71.2833   C85        C  "
      ]
     },
     "execution_count": 12,
     "metadata": {},
     "output_type": "execute_result"
    }
   ],
   "source": [
    "data = pd.read_csv('https://raw.githubusercontent.com/haram4th/ablearn/main/Taitanic_train.csv')\n",
    "data.head(2)"
   ]
  },
  {
   "cell_type": "code",
   "execution_count": 13,
   "id": "458b3cda",
   "metadata": {},
   "outputs": [
    {
     "data": {
      "text/html": [
       "<div>\n",
       "<style scoped>\n",
       "    .dataframe tbody tr th:only-of-type {\n",
       "        vertical-align: middle;\n",
       "    }\n",
       "\n",
       "    .dataframe tbody tr th {\n",
       "        vertical-align: top;\n",
       "    }\n",
       "\n",
       "    .dataframe thead th {\n",
       "        text-align: right;\n",
       "    }\n",
       "</style>\n",
       "<table border=\"1\" class=\"dataframe\">\n",
       "  <thead>\n",
       "    <tr style=\"text-align: right;\">\n",
       "      <th></th>\n",
       "      <th>Age</th>\n",
       "    </tr>\n",
       "  </thead>\n",
       "  <tbody>\n",
       "    <tr>\n",
       "      <th>0</th>\n",
       "      <td>22.0</td>\n",
       "    </tr>\n",
       "    <tr>\n",
       "      <th>1</th>\n",
       "      <td>38.0</td>\n",
       "    </tr>\n",
       "    <tr>\n",
       "      <th>2</th>\n",
       "      <td>26.0</td>\n",
       "    </tr>\n",
       "    <tr>\n",
       "      <th>3</th>\n",
       "      <td>35.0</td>\n",
       "    </tr>\n",
       "    <tr>\n",
       "      <th>4</th>\n",
       "      <td>35.0</td>\n",
       "    </tr>\n",
       "    <tr>\n",
       "      <th>...</th>\n",
       "      <td>...</td>\n",
       "    </tr>\n",
       "    <tr>\n",
       "      <th>886</th>\n",
       "      <td>27.0</td>\n",
       "    </tr>\n",
       "    <tr>\n",
       "      <th>887</th>\n",
       "      <td>19.0</td>\n",
       "    </tr>\n",
       "    <tr>\n",
       "      <th>888</th>\n",
       "      <td>NaN</td>\n",
       "    </tr>\n",
       "    <tr>\n",
       "      <th>889</th>\n",
       "      <td>26.0</td>\n",
       "    </tr>\n",
       "    <tr>\n",
       "      <th>890</th>\n",
       "      <td>32.0</td>\n",
       "    </tr>\n",
       "  </tbody>\n",
       "</table>\n",
       "<p>891 rows × 1 columns</p>\n",
       "</div>"
      ],
      "text/plain": [
       "      Age\n",
       "0    22.0\n",
       "1    38.0\n",
       "2    26.0\n",
       "3    35.0\n",
       "4    35.0\n",
       "..    ...\n",
       "886  27.0\n",
       "887  19.0\n",
       "888   NaN\n",
       "889  26.0\n",
       "890  32.0\n",
       "\n",
       "[891 rows x 1 columns]"
      ]
     },
     "execution_count": 13,
     "metadata": {},
     "output_type": "execute_result"
    }
   ],
   "source": [
    "age = data[['Age']]\n",
    "age"
   ]
  },
  {
   "cell_type": "code",
   "execution_count": 14,
   "id": "873bd0f5",
   "metadata": {},
   "outputs": [
    {
     "data": {
      "text/plain": [
       "Age \n",
       "24.0    30\n",
       "22.0    27\n",
       "18.0    26\n",
       "19.0    25\n",
       "30.0    25\n",
       "        ..\n",
       "53.0     1\n",
       "66.0     1\n",
       "70.5     1\n",
       "74.0     1\n",
       "80.0     1\n",
       "Name: count, Length: 88, dtype: int64"
      ]
     },
     "execution_count": 14,
     "metadata": {},
     "output_type": "execute_result"
    }
   ],
   "source": [
    "# value_counts로 도수분포표 만들기\n",
    "age.value_counts()"
   ]
  },
  {
   "cell_type": "code",
   "execution_count": 15,
   "id": "ba1edec0",
   "metadata": {},
   "outputs": [
    {
     "name": "stdout",
     "output_type": "stream",
     "text": [
      "under10s     62\n",
      "10s         102\n",
      "20s         220\n",
      "30s         167\n",
      "40s          89\n",
      "50s          48\n",
      "60s          19\n",
      "70s           6\n",
      "80s           1\n",
      "Name: count, dtype: int64\n"
     ]
    }
   ],
   "source": [
    "# 계급 구간을 10단위로 계급을 나누어 도수분포표를 만들고\n",
    "# 도수분포표(Frequency Distribution Table)를 시각화한 히스토그램 그래프 그리기\n",
    "bins = (0, 10, 20, 30, 40, 50, 60, 70, 80, 90)\n",
    "labels = ('under10s', '10s', '20s', '30s', '40s', '50s', '60s', '70s', '80s')\n",
    "age_FDT = pd.cut(age['Age'].values, bins=bins, labels=labels, right=False)\n",
    "print(age_FDT.value_counts())"
   ]
  },
  {
   "cell_type": "code",
   "execution_count": 16,
   "id": "8e92459a",
   "metadata": {},
   "outputs": [
    {
     "data": {
      "text/plain": [
       "<Axes: >"
      ]
     },
     "execution_count": 16,
     "metadata": {},
     "output_type": "execute_result"
    },
    {
     "data": {
      "image/png": "[encoded data removed]",
      "text/plain": [
       "<Figure size 640x480 with 1 Axes>"
      ]
     },
     "metadata": {},
     "output_type": "display_data"
    }
   ],
   "source": [
    "age_FDT.value_counts().plot(kind='bar')"
   ]
  },
  {
   "cell_type": "markdown",
   "id": "8ebb11b6",
   "metadata": {},
   "source": [
    "### (2) 상대도수분포표(Relative Frequency Distribution Table)\n",
    "* 상대도수 : 계급의 도수 / 전체 도수의 합계, 어떤 계급의 도수가 전체 도수에서 몇 %를 차지하는지 나타내는 값\n",
    "* 상대도수분포표 : 모든 계급의 상대도수를 구해서 더한 것"
   ]
  },
  {
   "cell_type": "code",
   "execution_count": 17,
   "id": "8a2ffa37",
   "metadata": {},
   "outputs": [
    {
     "data": {
      "text/html": [
       "<div>\n",
       "<style scoped>\n",
       "    .dataframe tbody tr th:only-of-type {\n",
       "        vertical-align: middle;\n",
       "    }\n",
       "\n",
       "    .dataframe tbody tr th {\n",
       "        vertical-align: top;\n",
       "    }\n",
       "\n",
       "    .dataframe thead th {\n",
       "        text-align: right;\n",
       "    }\n",
       "</style>\n",
       "<table border=\"1\" class=\"dataframe\">\n",
       "  <thead>\n",
       "    <tr style=\"text-align: right;\">\n",
       "      <th></th>\n",
       "      <th>count</th>\n",
       "    </tr>\n",
       "  </thead>\n",
       "  <tbody>\n",
       "    <tr>\n",
       "      <th>under10s</th>\n",
       "      <td>62</td>\n",
       "    </tr>\n",
       "    <tr>\n",
       "      <th>10s</th>\n",
       "      <td>102</td>\n",
       "    </tr>\n",
       "    <tr>\n",
       "      <th>20s</th>\n",
       "      <td>220</td>\n",
       "    </tr>\n",
       "    <tr>\n",
       "      <th>30s</th>\n",
       "      <td>167</td>\n",
       "    </tr>\n",
       "    <tr>\n",
       "      <th>40s</th>\n",
       "      <td>89</td>\n",
       "    </tr>\n",
       "    <tr>\n",
       "      <th>50s</th>\n",
       "      <td>48</td>\n",
       "    </tr>\n",
       "    <tr>\n",
       "      <th>60s</th>\n",
       "      <td>19</td>\n",
       "    </tr>\n",
       "    <tr>\n",
       "      <th>70s</th>\n",
       "      <td>6</td>\n",
       "    </tr>\n",
       "    <tr>\n",
       "      <th>80s</th>\n",
       "      <td>1</td>\n",
       "    </tr>\n",
       "  </tbody>\n",
       "</table>\n",
       "</div>"
      ],
      "text/plain": [
       "          count\n",
       "under10s     62\n",
       "10s         102\n",
       "20s         220\n",
       "30s         167\n",
       "40s          89\n",
       "50s          48\n",
       "60s          19\n",
       "70s           6\n",
       "80s           1"
      ]
     },
     "execution_count": 17,
     "metadata": {},
     "output_type": "execute_result"
    }
   ],
   "source": [
    "fdt_df = pd.DataFrame(age_FDT.value_counts())\n",
    "fdt_df"
   ]
  },
  {
   "cell_type": "code",
   "execution_count": 18,
   "id": "58bfa3a0",
   "metadata": {},
   "outputs": [],
   "source": [
    "# 상대도수분포표 만들기\n",
    "# 상대도수 : 계급의 도수 / 전체 도수의 합계"
   ]
  },
  {
   "cell_type": "code",
   "execution_count": 19,
   "id": "85efca07",
   "metadata": {},
   "outputs": [
    {
     "data": {
      "text/html": [
       "<div>\n",
       "<style scoped>\n",
       "    .dataframe tbody tr th:only-of-type {\n",
       "        vertical-align: middle;\n",
       "    }\n",
       "\n",
       "    .dataframe tbody tr th {\n",
       "        vertical-align: top;\n",
       "    }\n",
       "\n",
       "    .dataframe thead th {\n",
       "        text-align: right;\n",
       "    }\n",
       "</style>\n",
       "<table border=\"1\" class=\"dataframe\">\n",
       "  <thead>\n",
       "    <tr style=\"text-align: right;\">\n",
       "      <th></th>\n",
       "      <th>count</th>\n",
       "      <th>rfdt</th>\n",
       "    </tr>\n",
       "  </thead>\n",
       "  <tbody>\n",
       "    <tr>\n",
       "      <th>under10s</th>\n",
       "      <td>62</td>\n",
       "      <td>8.7</td>\n",
       "    </tr>\n",
       "    <tr>\n",
       "      <th>10s</th>\n",
       "      <td>102</td>\n",
       "      <td>14.3</td>\n",
       "    </tr>\n",
       "    <tr>\n",
       "      <th>20s</th>\n",
       "      <td>220</td>\n",
       "      <td>30.8</td>\n",
       "    </tr>\n",
       "    <tr>\n",
       "      <th>30s</th>\n",
       "      <td>167</td>\n",
       "      <td>23.4</td>\n",
       "    </tr>\n",
       "    <tr>\n",
       "      <th>40s</th>\n",
       "      <td>89</td>\n",
       "      <td>12.5</td>\n",
       "    </tr>\n",
       "    <tr>\n",
       "      <th>50s</th>\n",
       "      <td>48</td>\n",
       "      <td>6.7</td>\n",
       "    </tr>\n",
       "    <tr>\n",
       "      <th>60s</th>\n",
       "      <td>19</td>\n",
       "      <td>2.7</td>\n",
       "    </tr>\n",
       "    <tr>\n",
       "      <th>70s</th>\n",
       "      <td>6</td>\n",
       "      <td>0.8</td>\n",
       "    </tr>\n",
       "    <tr>\n",
       "      <th>80s</th>\n",
       "      <td>1</td>\n",
       "      <td>0.1</td>\n",
       "    </tr>\n",
       "  </tbody>\n",
       "</table>\n",
       "</div>"
      ],
      "text/plain": [
       "          count  rfdt\n",
       "under10s     62   8.7\n",
       "10s         102  14.3\n",
       "20s         220  30.8\n",
       "30s         167  23.4\n",
       "40s          89  12.5\n",
       "50s          48   6.7\n",
       "60s          19   2.7\n",
       "70s           6   0.8\n",
       "80s           1   0.1"
      ]
     },
     "execution_count": 19,
     "metadata": {},
     "output_type": "execute_result"
    }
   ],
   "source": [
    "fdt_df['rfdt'] = (fdt_df['count'] / fdt_df['count'].sum()).round(3) * 100\n",
    "fdt_df"
   ]
  },
  {
   "cell_type": "markdown",
   "id": "1d83d86c",
   "metadata": {},
   "source": [
    "### 구간화가 필요한 데이터에서 계급의 개수는 몇 개로?\n",
    "* 스터지스 공식 : 도수분포표나 히스토그램을 만들 때 계급의 수가 적당한지 판단하는 공식\n",
    "* 전체 데이터 개수를 $ 2^n $이라 하고, 그때 계급 수를 n+1로 함"
   ]
  },
  {
   "cell_type": "code",
   "execution_count": 20,
   "id": "cb034cb5",
   "metadata": {},
   "outputs": [
    {
     "data": {
      "text/plain": [
       "11"
      ]
     },
     "execution_count": 20,
     "metadata": {},
     "output_type": "execute_result"
    }
   ],
   "source": [
    "round(math.log2(len(age))) + 1"
   ]
  },
  {
   "cell_type": "markdown",
   "id": "3a03b0b6",
   "metadata": {},
   "source": [
    "### 3) 편차(deviation)\n",
    "* 데이터와 평균이 떨어진 거리, 데이터와 평균값과의 차이\n",
    "* 데이터 - 평균값"
   ]
  },
  {
   "cell_type": "code",
   "execution_count": 21,
   "id": "75ee2670",
   "metadata": {},
   "outputs": [],
   "source": [
    "a['평균'] = a['표본'].mean()"
   ]
  },
  {
   "cell_type": "code",
   "execution_count": 22,
   "id": "5808cee2",
   "metadata": {},
   "outputs": [],
   "source": [
    "a['편차'] = a['표본'] - a['평균']"
   ]
  },
  {
   "cell_type": "code",
   "execution_count": 23,
   "id": "1395583a",
   "metadata": {},
   "outputs": [
    {
     "data": {
      "text/html": [
       "<div>\n",
       "<style scoped>\n",
       "    .dataframe tbody tr th:only-of-type {\n",
       "        vertical-align: middle;\n",
       "    }\n",
       "\n",
       "    .dataframe tbody tr th {\n",
       "        vertical-align: top;\n",
       "    }\n",
       "\n",
       "    .dataframe thead th {\n",
       "        text-align: right;\n",
       "    }\n",
       "</style>\n",
       "<table border=\"1\" class=\"dataframe\">\n",
       "  <thead>\n",
       "    <tr style=\"text-align: right;\">\n",
       "      <th></th>\n",
       "      <th>표본</th>\n",
       "      <th>평균</th>\n",
       "      <th>편차</th>\n",
       "    </tr>\n",
       "  </thead>\n",
       "  <tbody>\n",
       "    <tr>\n",
       "      <th>0</th>\n",
       "      <td>2</td>\n",
       "      <td>5.3</td>\n",
       "      <td>-3.3</td>\n",
       "    </tr>\n",
       "    <tr>\n",
       "      <th>1</th>\n",
       "      <td>3</td>\n",
       "      <td>5.3</td>\n",
       "      <td>-2.3</td>\n",
       "    </tr>\n",
       "    <tr>\n",
       "      <th>2</th>\n",
       "      <td>4</td>\n",
       "      <td>5.3</td>\n",
       "      <td>-1.3</td>\n",
       "    </tr>\n",
       "    <tr>\n",
       "      <th>3</th>\n",
       "      <td>5</td>\n",
       "      <td>5.3</td>\n",
       "      <td>-0.3</td>\n",
       "    </tr>\n",
       "    <tr>\n",
       "      <th>4</th>\n",
       "      <td>3</td>\n",
       "      <td>5.3</td>\n",
       "      <td>-2.3</td>\n",
       "    </tr>\n",
       "    <tr>\n",
       "      <th>5</th>\n",
       "      <td>5</td>\n",
       "      <td>5.3</td>\n",
       "      <td>-0.3</td>\n",
       "    </tr>\n",
       "    <tr>\n",
       "      <th>6</th>\n",
       "      <td>6</td>\n",
       "      <td>5.3</td>\n",
       "      <td>0.7</td>\n",
       "    </tr>\n",
       "    <tr>\n",
       "      <th>7</th>\n",
       "      <td>7</td>\n",
       "      <td>5.3</td>\n",
       "      <td>1.7</td>\n",
       "    </tr>\n",
       "    <tr>\n",
       "      <th>8</th>\n",
       "      <td>8</td>\n",
       "      <td>5.3</td>\n",
       "      <td>2.7</td>\n",
       "    </tr>\n",
       "    <tr>\n",
       "      <th>9</th>\n",
       "      <td>10</td>\n",
       "      <td>5.3</td>\n",
       "      <td>4.7</td>\n",
       "    </tr>\n",
       "  </tbody>\n",
       "</table>\n",
       "</div>"
      ],
      "text/plain": [
       "   표본   평균   편차\n",
       "0   2  5.3 -3.3\n",
       "1   3  5.3 -2.3\n",
       "2   4  5.3 -1.3\n",
       "3   5  5.3 -0.3\n",
       "4   3  5.3 -2.3\n",
       "5   5  5.3 -0.3\n",
       "6   6  5.3  0.7\n",
       "7   7  5.3  1.7\n",
       "8   8  5.3  2.7\n",
       "9  10  5.3  4.7"
      ]
     },
     "execution_count": 23,
     "metadata": {},
     "output_type": "execute_result"
    }
   ],
   "source": [
    "a"
   ]
  },
  {
   "cell_type": "code",
   "execution_count": 24,
   "id": "cc2368b0",
   "metadata": {},
   "outputs": [
    {
     "data": {
      "text/plain": [
       "np.float64(1.7763568394002505e-15)"
      ]
     },
     "execution_count": 24,
     "metadata": {},
     "output_type": "execute_result"
    }
   ],
   "source": [
    "# 전체 데이터의 편차의 합\n",
    "a['편차'].sum()"
   ]
  },
  {
   "cell_type": "markdown",
   "id": "c1641845",
   "metadata": {},
   "source": [
    "## 4) 분산 (variance)\n",
    "* 편차 제곱의 합 / 데이터 수\n",
    "* 평균으로부터 떨어진 정도가 잘 보일 수 있도록 고안된 지표\n",
    "* 편차의 합은 양수와 음수가 합쳐져서 0이 되기 때문에 각 데이터가 평균으로부터 얼마나 떨어져 있는지 알 수 없어서 편차 제곱의 합인 분산을 사용함\n",
    "* 모분산 : $ \\sigma^2 $\n",
    "$$ \\sigma^2 = {\\sum(x_i-\\mu)^2 \\over N} $$\n",
    "* 표본분산 : $ s^2 $\n",
    "$$ s^2 = {\\sum(x_i-\\bar{x})^2 \\over n-1} $$"
   ]
  },
  {
   "cell_type": "code",
   "execution_count": 25,
   "id": "0bec3793",
   "metadata": {},
   "outputs": [
    {
     "data": {
      "text/html": [
       "<div>\n",
       "<style scoped>\n",
       "    .dataframe tbody tr th:only-of-type {\n",
       "        vertical-align: middle;\n",
       "    }\n",
       "\n",
       "    .dataframe tbody tr th {\n",
       "        vertical-align: top;\n",
       "    }\n",
       "\n",
       "    .dataframe thead th {\n",
       "        text-align: right;\n",
       "    }\n",
       "</style>\n",
       "<table border=\"1\" class=\"dataframe\">\n",
       "  <thead>\n",
       "    <tr style=\"text-align: right;\">\n",
       "      <th></th>\n",
       "      <th>표본</th>\n",
       "      <th>평균</th>\n",
       "      <th>편차</th>\n",
       "      <th>편차제곱</th>\n",
       "      <th>모분산</th>\n",
       "    </tr>\n",
       "  </thead>\n",
       "  <tbody>\n",
       "    <tr>\n",
       "      <th>0</th>\n",
       "      <td>2</td>\n",
       "      <td>5.3</td>\n",
       "      <td>-3.3</td>\n",
       "      <td>10.89</td>\n",
       "      <td>5.61</td>\n",
       "    </tr>\n",
       "    <tr>\n",
       "      <th>1</th>\n",
       "      <td>3</td>\n",
       "      <td>5.3</td>\n",
       "      <td>-2.3</td>\n",
       "      <td>5.29</td>\n",
       "      <td>5.61</td>\n",
       "    </tr>\n",
       "    <tr>\n",
       "      <th>2</th>\n",
       "      <td>4</td>\n",
       "      <td>5.3</td>\n",
       "      <td>-1.3</td>\n",
       "      <td>1.69</td>\n",
       "      <td>5.61</td>\n",
       "    </tr>\n",
       "    <tr>\n",
       "      <th>3</th>\n",
       "      <td>5</td>\n",
       "      <td>5.3</td>\n",
       "      <td>-0.3</td>\n",
       "      <td>0.09</td>\n",
       "      <td>5.61</td>\n",
       "    </tr>\n",
       "    <tr>\n",
       "      <th>4</th>\n",
       "      <td>3</td>\n",
       "      <td>5.3</td>\n",
       "      <td>-2.3</td>\n",
       "      <td>5.29</td>\n",
       "      <td>5.61</td>\n",
       "    </tr>\n",
       "    <tr>\n",
       "      <th>5</th>\n",
       "      <td>5</td>\n",
       "      <td>5.3</td>\n",
       "      <td>-0.3</td>\n",
       "      <td>0.09</td>\n",
       "      <td>5.61</td>\n",
       "    </tr>\n",
       "    <tr>\n",
       "      <th>6</th>\n",
       "      <td>6</td>\n",
       "      <td>5.3</td>\n",
       "      <td>0.7</td>\n",
       "      <td>0.49</td>\n",
       "      <td>5.61</td>\n",
       "    </tr>\n",
       "    <tr>\n",
       "      <th>7</th>\n",
       "      <td>7</td>\n",
       "      <td>5.3</td>\n",
       "      <td>1.7</td>\n",
       "      <td>2.89</td>\n",
       "      <td>5.61</td>\n",
       "    </tr>\n",
       "    <tr>\n",
       "      <th>8</th>\n",
       "      <td>8</td>\n",
       "      <td>5.3</td>\n",
       "      <td>2.7</td>\n",
       "      <td>7.29</td>\n",
       "      <td>5.61</td>\n",
       "    </tr>\n",
       "    <tr>\n",
       "      <th>9</th>\n",
       "      <td>10</td>\n",
       "      <td>5.3</td>\n",
       "      <td>4.7</td>\n",
       "      <td>22.09</td>\n",
       "      <td>5.61</td>\n",
       "    </tr>\n",
       "  </tbody>\n",
       "</table>\n",
       "</div>"
      ],
      "text/plain": [
       "   표본   평균   편차   편차제곱   모분산\n",
       "0   2  5.3 -3.3  10.89  5.61\n",
       "1   3  5.3 -2.3   5.29  5.61\n",
       "2   4  5.3 -1.3   1.69  5.61\n",
       "3   5  5.3 -0.3   0.09  5.61\n",
       "4   3  5.3 -2.3   5.29  5.61\n",
       "5   5  5.3 -0.3   0.09  5.61\n",
       "6   6  5.3  0.7   0.49  5.61\n",
       "7   7  5.3  1.7   2.89  5.61\n",
       "8   8  5.3  2.7   7.29  5.61\n",
       "9  10  5.3  4.7  22.09  5.61"
      ]
     },
     "execution_count": 25,
     "metadata": {},
     "output_type": "execute_result"
    }
   ],
   "source": [
    "a['편차제곱'] = a['편차']**2\n",
    "a['모분산'] = a['편차제곱'].sum() / len(a['편차제곱'])\n",
    "a"
   ]
  },
  {
   "cell_type": "code",
   "execution_count": 26,
   "id": "ffd3ac71",
   "metadata": {},
   "outputs": [
    {
     "data": {
      "text/plain": [
       "np.float64(6.233333333333333)"
      ]
     },
     "execution_count": 26,
     "metadata": {},
     "output_type": "execute_result"
    }
   ],
   "source": [
    "# 표본분산\n",
    "a['표본'].var()"
   ]
  },
  {
   "cell_type": "markdown",
   "id": "107fdcf4",
   "metadata": {},
   "source": [
    "### 5) 표준편차 Standard Diviation\n",
    "* 분산의 제곱근\n",
    "* 분산은 평균으로부터의 차를 알기 쉽지만 2가지 문제가 있음\n",
    "* 단위가 본래 단위의 제곱이 되면서 값이 너무 커지게 됨\n",
    "* 표준편차는 제곱으로 커진 값에 루트를 씌워 다시 원래 단위로 돌려 놓은 지표\n",
    "* 모집단의 표준편차 $ \\sigma $\n",
    "* $ \\sigma = \\sqrt{\\sum(x_i-\\mu)^2 \\over N} $ <br>\n",
    "* 표본집단의 표준편차 $ s $ <br>\n",
    "* $ s = \\sqrt{\\sum(x_i-\\bar{x})^2 \\over n-1} $ <br>"
   ]
  },
  {
   "cell_type": "code",
   "execution_count": 27,
   "id": "2bd10b66",
   "metadata": {},
   "outputs": [
    {
     "data": {
      "text/html": [
       "<div>\n",
       "<style scoped>\n",
       "    .dataframe tbody tr th:only-of-type {\n",
       "        vertical-align: middle;\n",
       "    }\n",
       "\n",
       "    .dataframe tbody tr th {\n",
       "        vertical-align: top;\n",
       "    }\n",
       "\n",
       "    .dataframe thead th {\n",
       "        text-align: right;\n",
       "    }\n",
       "</style>\n",
       "<table border=\"1\" class=\"dataframe\">\n",
       "  <thead>\n",
       "    <tr style=\"text-align: right;\">\n",
       "      <th></th>\n",
       "      <th>표본</th>\n",
       "      <th>평균</th>\n",
       "      <th>편차</th>\n",
       "      <th>편차제곱</th>\n",
       "      <th>모분산</th>\n",
       "      <th>표준편차</th>\n",
       "    </tr>\n",
       "  </thead>\n",
       "  <tbody>\n",
       "    <tr>\n",
       "      <th>0</th>\n",
       "      <td>2</td>\n",
       "      <td>5.3</td>\n",
       "      <td>-3.3</td>\n",
       "      <td>10.89</td>\n",
       "      <td>5.61</td>\n",
       "      <td>2.368544</td>\n",
       "    </tr>\n",
       "    <tr>\n",
       "      <th>1</th>\n",
       "      <td>3</td>\n",
       "      <td>5.3</td>\n",
       "      <td>-2.3</td>\n",
       "      <td>5.29</td>\n",
       "      <td>5.61</td>\n",
       "      <td>2.368544</td>\n",
       "    </tr>\n",
       "    <tr>\n",
       "      <th>2</th>\n",
       "      <td>4</td>\n",
       "      <td>5.3</td>\n",
       "      <td>-1.3</td>\n",
       "      <td>1.69</td>\n",
       "      <td>5.61</td>\n",
       "      <td>2.368544</td>\n",
       "    </tr>\n",
       "    <tr>\n",
       "      <th>3</th>\n",
       "      <td>5</td>\n",
       "      <td>5.3</td>\n",
       "      <td>-0.3</td>\n",
       "      <td>0.09</td>\n",
       "      <td>5.61</td>\n",
       "      <td>2.368544</td>\n",
       "    </tr>\n",
       "    <tr>\n",
       "      <th>4</th>\n",
       "      <td>3</td>\n",
       "      <td>5.3</td>\n",
       "      <td>-2.3</td>\n",
       "      <td>5.29</td>\n",
       "      <td>5.61</td>\n",
       "      <td>2.368544</td>\n",
       "    </tr>\n",
       "    <tr>\n",
       "      <th>5</th>\n",
       "      <td>5</td>\n",
       "      <td>5.3</td>\n",
       "      <td>-0.3</td>\n",
       "      <td>0.09</td>\n",
       "      <td>5.61</td>\n",
       "      <td>2.368544</td>\n",
       "    </tr>\n",
       "    <tr>\n",
       "      <th>6</th>\n",
       "      <td>6</td>\n",
       "      <td>5.3</td>\n",
       "      <td>0.7</td>\n",
       "      <td>0.49</td>\n",
       "      <td>5.61</td>\n",
       "      <td>2.368544</td>\n",
       "    </tr>\n",
       "    <tr>\n",
       "      <th>7</th>\n",
       "      <td>7</td>\n",
       "      <td>5.3</td>\n",
       "      <td>1.7</td>\n",
       "      <td>2.89</td>\n",
       "      <td>5.61</td>\n",
       "      <td>2.368544</td>\n",
       "    </tr>\n",
       "    <tr>\n",
       "      <th>8</th>\n",
       "      <td>8</td>\n",
       "      <td>5.3</td>\n",
       "      <td>2.7</td>\n",
       "      <td>7.29</td>\n",
       "      <td>5.61</td>\n",
       "      <td>2.368544</td>\n",
       "    </tr>\n",
       "    <tr>\n",
       "      <th>9</th>\n",
       "      <td>10</td>\n",
       "      <td>5.3</td>\n",
       "      <td>4.7</td>\n",
       "      <td>22.09</td>\n",
       "      <td>5.61</td>\n",
       "      <td>2.368544</td>\n",
       "    </tr>\n",
       "  </tbody>\n",
       "</table>\n",
       "</div>"
      ],
      "text/plain": [
       "   표본   평균   편차   편차제곱   모분산      표준편차\n",
       "0   2  5.3 -3.3  10.89  5.61  2.368544\n",
       "1   3  5.3 -2.3   5.29  5.61  2.368544\n",
       "2   4  5.3 -1.3   1.69  5.61  2.368544\n",
       "3   5  5.3 -0.3   0.09  5.61  2.368544\n",
       "4   3  5.3 -2.3   5.29  5.61  2.368544\n",
       "5   5  5.3 -0.3   0.09  5.61  2.368544\n",
       "6   6  5.3  0.7   0.49  5.61  2.368544\n",
       "7   7  5.3  1.7   2.89  5.61  2.368544\n",
       "8   8  5.3  2.7   7.29  5.61  2.368544\n",
       "9  10  5.3  4.7  22.09  5.61  2.368544"
      ]
     },
     "execution_count": 27,
     "metadata": {},
     "output_type": "execute_result"
    }
   ],
   "source": [
    "a['표준편차'] = a['모분산'].apply(math.sqrt)\n",
    "a"
   ]
  },
  {
   "cell_type": "code",
   "execution_count": 29,
   "id": "c7ece870",
   "metadata": {},
   "outputs": [
    {
     "data": {
      "text/plain": [
       "np.float64(2.496664441476534)"
      ]
     },
     "execution_count": 29,
     "metadata": {},
     "output_type": "execute_result"
    }
   ],
   "source": [
    "a['표본'].std()"
   ]
  },
  {
   "cell_type": "code",
   "execution_count": 31,
   "id": "06d821ad",
   "metadata": {},
   "outputs": [
    {
     "data": {
      "text/plain": [
       "count    10.000000\n",
       "mean      5.300000\n",
       "std       2.496664\n",
       "min       2.000000\n",
       "25%       3.250000\n",
       "50%       5.000000\n",
       "75%       6.750000\n",
       "max      10.000000\n",
       "Name: 표본, dtype: float64"
      ]
     },
     "execution_count": 31,
     "metadata": {},
     "output_type": "execute_result"
    }
   ],
   "source": [
    "a['표본'].describe()"
   ]
  },
  {
   "cell_type": "markdown",
   "id": "10a77d5f",
   "metadata": {},
   "source": [
    "## 표본 분산과 표본표준편차에서 n-1을 분모로 사용하는 이유\n",
    "* 표본평균을 유지하기 위해서\n",
    "* 자유도(degrees of freedom)"
   ]
  },
  {
   "cell_type": "markdown",
   "id": "d4287b9c",
   "metadata": {},
   "source": [
    "### 6) 표준점수 Standard Score / Z-점수 z-score\n",
    "* 데이터 포인트(값)가 평균으로부터 얼마나 떨어져 있는지를 나타내는 지표\n",
    "* 이는 데이터 포인트가 평균에서 몇 표준편차 떨어져 있는지를 나타내며\n",
    "* 데이터의 상대적인 위치를 이해하는데 유용함\n",
    "* 모집단의 표준점수(z-score)\n",
    "* $ Z = {x_i-\\mu \\over \\sigma} $<br>\n",
    "* 표본집단의 표준점수(z-score)\n",
    "* $ Z = {x_i-\\bar{x} \\over s} $<br>"
   ]
  },
  {
   "cell_type": "markdown",
   "id": "fc81d266",
   "metadata": {},
   "source": [
    "## 가설 검정 t-test\n",
    "* t-test는 두 집단의 평균을 비교해서 차이가 있는지 확인하는 통계적 방법\n",
    "* t 통계량의 절대값이 크면 p-value(유의수준)가 낮아짐"
   ]
  },
  {
   "cell_type": "markdown",
   "id": "b7b2b0d9",
   "metadata": {},
   "source": [
    "### 1) 일 표본 단측 t-검정 (한쪽으로 방향성을 갖는 경우)\n",
    "* 모수에 대한 검정을 할 때 모수 값이 **~보다 크다, ~보다 작다**와 같이 한쪽으로 방향성을 갖는 경우 수행되는 검정 방법\n",
    "* 00공장에서 생산되는 지우개의 평균 중량은 50g 이하다(귀무가설 - 원래 알고 있던 사실)\n",
    "* 00공장에서 생산되는 지우개의 평균 중량은 50g 초과다(대립가설 - 새로운 주장)"
   ]
  },
  {
   "cell_type": "code",
   "execution_count": null,
   "id": "8198109d",
   "metadata": {},
   "outputs": [],
   "source": [
    "# 통계와 회귀분석에 특화되어 있는 라이브러리\n",
    "# conda install statsmodels"
   ]
  },
  {
   "cell_type": "code",
   "execution_count": 33,
   "id": "24cc4078",
   "metadata": {},
   "outputs": [],
   "source": [
    "import statsmodels.stats.weightstats as stests\n",
    "from scipy import stats"
   ]
  },
  {
   "cell_type": "code",
   "execution_count": 34,
   "id": "5da317bb",
   "metadata": {},
   "outputs": [
    {
     "name": "stdout",
     "output_type": "stream",
     "text": [
      "[49.1223932  49.55102792 49.54371917 49.55610275 51.38478132 50.56117122\n",
      " 51.4013202  50.49588495 49.24956111 51.24396285]\n",
      "지우개의 평균  50.21099246879528\n"
     ]
    }
   ],
   "source": [
    "# 일 표본 단측 t-test를 위해서 지우개 10개의 표본 추출\n",
    "weights = np.random.uniform(49, 52, 10)\n",
    "print(weights)\n",
    "print('지우개의 평균 ', weights.mean())"
   ]
  },
  {
   "cell_type": "code",
   "execution_count": 36,
   "id": "3716c8aa",
   "metadata": {},
   "outputs": [
    {
     "name": "stdout",
     "output_type": "stream",
     "text": [
      "t-통계량 : 0.731652703388799, p-value : 0.24149768591449255\n"
     ]
    }
   ],
   "source": [
    "# 일 표본 단측 t-test 크다 / 작다\n",
    "t_stat, p_value = stats.ttest_1samp(weights, 50, alternative='greater')\n",
    "print(f't-통계량 : {t_stat}, p-value : {p_value}')"
   ]
  },
  {
   "cell_type": "markdown",
   "id": "04e4af4c",
   "metadata": {},
   "source": [
    "* p-value가 0.241이므로 유의수준 0.05보다 크기 때문에\n",
    "* 귀무가설(지우개의 무게는 50g 이하다)은 채택\n",
    "* 대립가설(지우개의 무게는 50g 초과다)은 기각"
   ]
  },
  {
   "cell_type": "markdown",
   "id": "707a2e15",
   "metadata": {},
   "source": [
    "### 2) 일 표본 양측 t-test\n",
    "* 방향성이 없는 경우, 맞다/아니다 결정\n",
    "* 단측 검정과 달리 모수 값이 **~이다, ~가 아니다**와 같이 방향성이 없는 경우\n",
    "* 대한민국 남성의 평균 몸무게는 70kg이다 (귀무가설)\n",
    "* 대한민국 남성의 평균 몸무게는 70kg이 아니다 (대립가설)"
   ]
  },
  {
   "cell_type": "code",
   "execution_count": 37,
   "id": "9b64e7bb",
   "metadata": {},
   "outputs": [
    {
     "name": "stdout",
     "output_type": "stream",
     "text": [
      "100\n",
      "72.08503416395708\n"
     ]
    }
   ],
   "source": [
    "# 일 표본 양측 t-test를 위한 40kg~100kg 사이 남성 100명 표본 추출\n",
    "weights = np.random.uniform(40,100,100)\n",
    "print(len(weights))\n",
    "print(weights.mean())"
   ]
  },
  {
   "cell_type": "code",
   "execution_count": 38,
   "id": "ddafcb15",
   "metadata": {},
   "outputs": [
    {
     "name": "stdout",
     "output_type": "stream",
     "text": [
      "t-통계량 : 1.2131905928740194, p-value : 0.22794368728559716\n"
     ]
    }
   ],
   "source": [
    "# 일 표본 양측 t-test\n",
    "t_stat, p_value = stats.ttest_1samp(weights, 70, alternative='two-sided')\n",
    "print(f't-통계량 : {t_stat}, p-value : {p_value}')"
   ]
  },
  {
   "cell_type": "markdown",
   "id": "33625f85",
   "metadata": {},
   "source": [
    "* p-value가 0.2279이므로 유의수준 0.05보다 크기 때문에\n",
    "* 귀무가설(대한민국 남성의 평균 몸무게는 70kg이다)은 채택\n",
    "* 대립가설(대한민국 남성의 평균 몸무게는 70kg이 아니다)은 기각"
   ]
  },
  {
   "cell_type": "markdown",
   "id": "16fa2291",
   "metadata": {},
   "source": [
    "### 3) 이 표본 단측 t 검정\n",
    "* ~보다 크다 / 작다 (방향성이 있는 경우)\n",
    "* 두 집단에 대해서 모수 비교를 할 때 A가 B보다 크다/작다를 비교하는 검정\n",
    "* A회사의 급여가 B회사의 급여보다 같거나 많음"
   ]
  },
  {
   "cell_type": "markdown",
   "id": "e46b3454",
   "metadata": {},
   "source": [
    "### 4) 이 표본 양측 t 검정\n",
    "* A와 B가 같다/다르다\n",
    "* 두 집단에 대해서 모수 비교를 할 때 A가 B보다 같다/다르다를 비교하는 검정\n",
    "* A회사의 급여가 B회사의 급여보다 같다/다르다"
   ]
  },
  {
   "cell_type": "markdown",
   "id": "292410b4",
   "metadata": {},
   "source": [
    "## 5) 대응 표본 t 검정 (paired t-test) - A/B test\n",
    "* 실험 전후 비교\n",
    "* 동일한 대상에 대해서 두가지 관측치가 있는 경우 이를 비교하여 차이가 있는지 검정할 때 사용\n",
    "* 두 집단에 신약 투여 후 전후 수치 비교, 새로운 버전의 앱/기능 추가 전후 비교\n",
    "* 새로운 운동법이 체중 감량 효과가 있는지 검증하기 위해서 새로운 운동법을 실시한 집단과 실시하지 않은 집단의 체중 비교\n",
    "* 새로운 운동법으로 체중감량의 효과는 없다 (귀무가설) → 운동 전 무게와 운동 후 무게 차이 >= 0\n",
    "* 새로운 운동법으로 체중감량의 효과가 있다 (대립가설) → 운동 전 무게와 운동 후 무게 < 0"
   ]
  },
  {
   "cell_type": "code",
   "execution_count": 40,
   "id": "cf9ae41f",
   "metadata": {},
   "outputs": [
    {
     "name": "stdout",
     "output_type": "stream",
     "text": [
      "t-통계량 : 13.124456257144342, p-value : 1.072000581514779e-23\n"
     ]
    }
   ],
   "source": [
    "# 대응 표본 t검정을 위한 표본 추출\n",
    "before = np.random.uniform(60,80,100)\n",
    "after = before + np.random.normal(-3,2,100)\n",
    "\n",
    "# 대응 표본 t검정\n",
    "t_stat, p_value = stats.ttest_rel(before, after, alternative='greater')\n",
    "print(f't-통계량 : {t_stat}, p-value : {p_value}')"
   ]
  },
  {
   "cell_type": "markdown",
   "id": "12a5a0c6",
   "metadata": {},
   "source": [
    "* p-value가 0.05보다 작으므로 귀무가설이 기각/대립가설이 채택"
   ]
  },
  {
   "cell_type": "markdown",
   "id": "506d162d",
   "metadata": {},
   "source": [
    "## 분산분석 (ANOVA)\n",
    "* 3개 이상의 모집단 있을 경우 집단 사이의 평균 비교\n",
    "* 분산분석의 귀무가설($H_0$) : \"모든 집단 간 평균은 같다\"\n",
    "1) 분산 분석을 수행하기 위해서는 3가지 가정이 필요\n",
    "    * 정규성 : 각 집단의 표본들은 정규분포를 따라야 함\n",
    "    * 등분산성 : 각 집단은 동일한 분산을 가져야 함\n",
    "    * 독립성 : 각 집단은 서로에게 영향을 주지 않음\n",
    "2) 분산 분석\n",
    "    * 분산분석의 독립변수는 범주형 데이터, 종속변수는 연속형 데이터이어야 함\n",
    "    * 분산분석에는 '(집단 간 분산)/(집단 내 분산)'으로 계산되는 F-value를 사용\n",
    "    * F-value가 커지면 p-value가 작아짐\n",
    "    * 평균을 비교하는 분석에 '분산'의 개념을 사용하는 이유는 집단 간 평균의 분산이 클수록 각 집단의 평균은 서로 멀리 떨어져 있기 때문에 집단 간 차이를 비교하기 쉬워짐"
   ]
  },
  {
   "cell_type": "markdown",
   "id": "4defc954",
   "metadata": {},
   "source": [
    "### 1) 일원분산분석(one-way ANOVA)\n",
    "* 셋 이상의 집단 간 평균을 비교하는 상황에서 하나의 집단에 속하는 독립변수와 종속변수가 모두 한 개일 때 사용\n",
    "    * 독립변수 1 : 연령별 집단 (청소년, 성인, 노인) - 범주형\n",
    "    * 종속변수 1 : 유튜브 시청 시간 - 연속형<br>\n",
    "<br>\n",
    "* 신형 휴대폰 A, B, C의 속도 차이가 있는지 여부\n",
    "* 귀무가설($H_0$) : A, B, C 세 대의 신형 휴대폰 간의 속도 차이는 없음\n",
    "* 대립가설($H_1$) : A, B, C 세 대의 신형 휴대폰 간의 속도 차이는 있음"
   ]
  },
  {
   "cell_type": "code",
   "execution_count": 41,
   "id": "3f94eca4",
   "metadata": {},
   "outputs": [],
   "source": [
    "# 분산분석을 위한 데이터 생성\n",
    "import statsmodels.api as sm\n",
    "from statsmodels.formula.api import ols"
   ]
  },
  {
   "cell_type": "code",
   "execution_count": 43,
   "id": "1c821b9b",
   "metadata": {},
   "outputs": [
    {
     "name": "stdout",
     "output_type": "stream",
     "text": [
      "phone_speed\n",
      " [88.7203376  92.87973416 90.0690844  88.62207957 85.59136998 91.14735283\n",
      " 85.93968028 97.29432502 99.09156901 84.58603797 94.79312595 88.22237299\n",
      " 89.20111403 98.13991596 76.77590145 77.17823249 75.50545994 95.81549614\n",
      " 94.45391877 96.75030371 99.46545856 94.97896411 86.53698406 94.51322941\n",
      " 77.95686065 90.99802553 78.58383219 98.61672293 88.04620804 85.3665485\n",
      " 81.6138903  94.35584224 86.40375831 89.21084872 75.46974501 90.44088743\n",
      " 90.30239307 90.42334992 98.59370196 92.04550748 83.98769751 85.92579884\n",
      " 92.4407799  76.50563679 91.66916789]\n",
      "telecome\n",
      " ['A' 'B' 'C' 'A' 'B' 'C' 'A' 'B' 'C' 'A' 'B' 'C' 'A' 'B' 'C' 'A' 'B' 'C'\n",
      " 'A' 'B' 'C' 'A' 'B' 'C' 'A' 'B' 'C' 'A' 'B' 'C' 'A' 'B' 'C' 'A' 'B' 'C'\n",
      " 'A' 'B' 'C' 'A' 'B' 'C' 'A' 'B' 'C']\n"
     ]
    }
   ],
   "source": [
    "np.random.seed(0)\n",
    "phone_speed = np.random.uniform(75,100,45)\n",
    "telecom = np.tile(['A','B','C'], 15)\n",
    "print('phone_speed\\n', phone_speed)\n",
    "print('telecome\\n', telecom)"
   ]
  },
  {
   "cell_type": "code",
   "execution_count": 44,
   "id": "81afab0c",
   "metadata": {
    "scrolled": true
   },
   "outputs": [
    {
     "data": {
      "text/html": [
       "<div>\n",
       "<style scoped>\n",
       "    .dataframe tbody tr th:only-of-type {\n",
       "        vertical-align: middle;\n",
       "    }\n",
       "\n",
       "    .dataframe tbody tr th {\n",
       "        vertical-align: top;\n",
       "    }\n",
       "\n",
       "    .dataframe thead th {\n",
       "        text-align: right;\n",
       "    }\n",
       "</style>\n",
       "<table border=\"1\" class=\"dataframe\">\n",
       "  <thead>\n",
       "    <tr style=\"text-align: right;\">\n",
       "      <th></th>\n",
       "      <th>telecom</th>\n",
       "      <th>phone_speed</th>\n",
       "    </tr>\n",
       "  </thead>\n",
       "  <tbody>\n",
       "    <tr>\n",
       "      <th>0</th>\n",
       "      <td>A</td>\n",
       "      <td>88.720338</td>\n",
       "    </tr>\n",
       "    <tr>\n",
       "      <th>1</th>\n",
       "      <td>B</td>\n",
       "      <td>92.879734</td>\n",
       "    </tr>\n",
       "    <tr>\n",
       "      <th>2</th>\n",
       "      <td>C</td>\n",
       "      <td>90.069084</td>\n",
       "    </tr>\n",
       "    <tr>\n",
       "      <th>3</th>\n",
       "      <td>A</td>\n",
       "      <td>88.622080</td>\n",
       "    </tr>\n",
       "    <tr>\n",
       "      <th>4</th>\n",
       "      <td>B</td>\n",
       "      <td>85.591370</td>\n",
       "    </tr>\n",
       "    <tr>\n",
       "      <th>5</th>\n",
       "      <td>C</td>\n",
       "      <td>91.147353</td>\n",
       "    </tr>\n",
       "    <tr>\n",
       "      <th>6</th>\n",
       "      <td>A</td>\n",
       "      <td>85.939680</td>\n",
       "    </tr>\n",
       "    <tr>\n",
       "      <th>7</th>\n",
       "      <td>B</td>\n",
       "      <td>97.294325</td>\n",
       "    </tr>\n",
       "    <tr>\n",
       "      <th>8</th>\n",
       "      <td>C</td>\n",
       "      <td>99.091569</td>\n",
       "    </tr>\n",
       "    <tr>\n",
       "      <th>9</th>\n",
       "      <td>A</td>\n",
       "      <td>84.586038</td>\n",
       "    </tr>\n",
       "    <tr>\n",
       "      <th>10</th>\n",
       "      <td>B</td>\n",
       "      <td>94.793126</td>\n",
       "    </tr>\n",
       "    <tr>\n",
       "      <th>11</th>\n",
       "      <td>C</td>\n",
       "      <td>88.222373</td>\n",
       "    </tr>\n",
       "    <tr>\n",
       "      <th>12</th>\n",
       "      <td>A</td>\n",
       "      <td>89.201114</td>\n",
       "    </tr>\n",
       "    <tr>\n",
       "      <th>13</th>\n",
       "      <td>B</td>\n",
       "      <td>98.139916</td>\n",
       "    </tr>\n",
       "    <tr>\n",
       "      <th>14</th>\n",
       "      <td>C</td>\n",
       "      <td>76.775901</td>\n",
       "    </tr>\n",
       "    <tr>\n",
       "      <th>15</th>\n",
       "      <td>A</td>\n",
       "      <td>77.178232</td>\n",
       "    </tr>\n",
       "    <tr>\n",
       "      <th>16</th>\n",
       "      <td>B</td>\n",
       "      <td>75.505460</td>\n",
       "    </tr>\n",
       "    <tr>\n",
       "      <th>17</th>\n",
       "      <td>C</td>\n",
       "      <td>95.815496</td>\n",
       "    </tr>\n",
       "    <tr>\n",
       "      <th>18</th>\n",
       "      <td>A</td>\n",
       "      <td>94.453919</td>\n",
       "    </tr>\n",
       "    <tr>\n",
       "      <th>19</th>\n",
       "      <td>B</td>\n",
       "      <td>96.750304</td>\n",
       "    </tr>\n",
       "    <tr>\n",
       "      <th>20</th>\n",
       "      <td>C</td>\n",
       "      <td>99.465459</td>\n",
       "    </tr>\n",
       "    <tr>\n",
       "      <th>21</th>\n",
       "      <td>A</td>\n",
       "      <td>94.978964</td>\n",
       "    </tr>\n",
       "    <tr>\n",
       "      <th>22</th>\n",
       "      <td>B</td>\n",
       "      <td>86.536984</td>\n",
       "    </tr>\n",
       "    <tr>\n",
       "      <th>23</th>\n",
       "      <td>C</td>\n",
       "      <td>94.513229</td>\n",
       "    </tr>\n",
       "    <tr>\n",
       "      <th>24</th>\n",
       "      <td>A</td>\n",
       "      <td>77.956861</td>\n",
       "    </tr>\n",
       "    <tr>\n",
       "      <th>25</th>\n",
       "      <td>B</td>\n",
       "      <td>90.998026</td>\n",
       "    </tr>\n",
       "    <tr>\n",
       "      <th>26</th>\n",
       "      <td>C</td>\n",
       "      <td>78.583832</td>\n",
       "    </tr>\n",
       "    <tr>\n",
       "      <th>27</th>\n",
       "      <td>A</td>\n",
       "      <td>98.616723</td>\n",
       "    </tr>\n",
       "    <tr>\n",
       "      <th>28</th>\n",
       "      <td>B</td>\n",
       "      <td>88.046208</td>\n",
       "    </tr>\n",
       "    <tr>\n",
       "      <th>29</th>\n",
       "      <td>C</td>\n",
       "      <td>85.366548</td>\n",
       "    </tr>\n",
       "    <tr>\n",
       "      <th>30</th>\n",
       "      <td>A</td>\n",
       "      <td>81.613890</td>\n",
       "    </tr>\n",
       "    <tr>\n",
       "      <th>31</th>\n",
       "      <td>B</td>\n",
       "      <td>94.355842</td>\n",
       "    </tr>\n",
       "    <tr>\n",
       "      <th>32</th>\n",
       "      <td>C</td>\n",
       "      <td>86.403758</td>\n",
       "    </tr>\n",
       "    <tr>\n",
       "      <th>33</th>\n",
       "      <td>A</td>\n",
       "      <td>89.210849</td>\n",
       "    </tr>\n",
       "    <tr>\n",
       "      <th>34</th>\n",
       "      <td>B</td>\n",
       "      <td>75.469745</td>\n",
       "    </tr>\n",
       "    <tr>\n",
       "      <th>35</th>\n",
       "      <td>C</td>\n",
       "      <td>90.440887</td>\n",
       "    </tr>\n",
       "    <tr>\n",
       "      <th>36</th>\n",
       "      <td>A</td>\n",
       "      <td>90.302393</td>\n",
       "    </tr>\n",
       "    <tr>\n",
       "      <th>37</th>\n",
       "      <td>B</td>\n",
       "      <td>90.423350</td>\n",
       "    </tr>\n",
       "    <tr>\n",
       "      <th>38</th>\n",
       "      <td>C</td>\n",
       "      <td>98.593702</td>\n",
       "    </tr>\n",
       "    <tr>\n",
       "      <th>39</th>\n",
       "      <td>A</td>\n",
       "      <td>92.045507</td>\n",
       "    </tr>\n",
       "    <tr>\n",
       "      <th>40</th>\n",
       "      <td>B</td>\n",
       "      <td>83.987698</td>\n",
       "    </tr>\n",
       "    <tr>\n",
       "      <th>41</th>\n",
       "      <td>C</td>\n",
       "      <td>85.925799</td>\n",
       "    </tr>\n",
       "    <tr>\n",
       "      <th>42</th>\n",
       "      <td>A</td>\n",
       "      <td>92.440780</td>\n",
       "    </tr>\n",
       "    <tr>\n",
       "      <th>43</th>\n",
       "      <td>B</td>\n",
       "      <td>76.505637</td>\n",
       "    </tr>\n",
       "    <tr>\n",
       "      <th>44</th>\n",
       "      <td>C</td>\n",
       "      <td>91.669168</td>\n",
       "    </tr>\n",
       "  </tbody>\n",
       "</table>\n",
       "</div>"
      ],
      "text/plain": [
       "   telecom  phone_speed\n",
       "0        A    88.720338\n",
       "1        B    92.879734\n",
       "2        C    90.069084\n",
       "3        A    88.622080\n",
       "4        B    85.591370\n",
       "5        C    91.147353\n",
       "6        A    85.939680\n",
       "7        B    97.294325\n",
       "8        C    99.091569\n",
       "9        A    84.586038\n",
       "10       B    94.793126\n",
       "11       C    88.222373\n",
       "12       A    89.201114\n",
       "13       B    98.139916\n",
       "14       C    76.775901\n",
       "15       A    77.178232\n",
       "16       B    75.505460\n",
       "17       C    95.815496\n",
       "18       A    94.453919\n",
       "19       B    96.750304\n",
       "20       C    99.465459\n",
       "21       A    94.978964\n",
       "22       B    86.536984\n",
       "23       C    94.513229\n",
       "24       A    77.956861\n",
       "25       B    90.998026\n",
       "26       C    78.583832\n",
       "27       A    98.616723\n",
       "28       B    88.046208\n",
       "29       C    85.366548\n",
       "30       A    81.613890\n",
       "31       B    94.355842\n",
       "32       C    86.403758\n",
       "33       A    89.210849\n",
       "34       B    75.469745\n",
       "35       C    90.440887\n",
       "36       A    90.302393\n",
       "37       B    90.423350\n",
       "38       C    98.593702\n",
       "39       A    92.045507\n",
       "40       B    83.987698\n",
       "41       C    85.925799\n",
       "42       A    92.440780\n",
       "43       B    76.505637\n",
       "44       C    91.669168"
      ]
     },
     "execution_count": 44,
     "metadata": {},
     "output_type": "execute_result"
    }
   ],
   "source": [
    "phone_data = pd.DataFrame(dict(telecom=telecom, phone_speed=phone_speed))\n",
    "phone_data"
   ]
  },
  {
   "cell_type": "code",
   "execution_count": 45,
   "id": "218a8a85",
   "metadata": {},
   "outputs": [
    {
     "name": "stdout",
     "output_type": "stream",
     "text": [
      "                            OLS Regression Results                            \n",
      "==============================================================================\n",
      "Dep. Variable:            phone_speed   R-squared:                       0.014\n",
      "Model:                            OLS   Adj. R-squared:                 -0.033\n",
      "Method:                 Least Squares   F-statistic:                    0.2983\n",
      "Date:                Wed, 07 May 2025   Prob (F-statistic):              0.744\n",
      "Time:                        13:34:54   Log-Likelihood:                -149.68\n",
      "No. Observations:                  45   AIC:                             305.4\n",
      "Df Residuals:                      42   BIC:                             310.8\n",
      "Df Model:                           2                                         \n",
      "Covariance Type:            nonrobust                                         \n",
      "===================================================================================\n",
      "                      coef    std err          t      P>|t|      [0.025      0.975]\n",
      "-----------------------------------------------------------------------------------\n",
      "Intercept          88.3912      1.800     49.108      0.000      84.759      92.024\n",
      "C(telecom)[T.B]     0.0940      2.545      0.037      0.971      -5.043       5.231\n",
      "C(telecom)[T.C]     1.7478      2.545      0.687      0.496      -3.389       6.885\n",
      "==============================================================================\n",
      "Omnibus:                        2.887   Durbin-Watson:                   2.014\n",
      "Prob(Omnibus):                  0.236   Jarque-Bera (JB):                2.502\n",
      "Skew:                          -0.474   Prob(JB):                        0.286\n",
      "Kurtosis:                       2.340   Cond. No.                         3.73\n",
      "==============================================================================\n",
      "\n",
      "Notes:\n",
      "[1] Standard Errors assume that the covariance matrix of the errors is correctly specified.\n"
     ]
    }
   ],
   "source": [
    "# 분산분석 수행\n",
    "# 선형회귀분석\n",
    "model = ols('phone_speed ~ C(telecom)', data=phone_data).fit()\n",
    "print(model.summary())"
   ]
  },
  {
   "cell_type": "code",
   "execution_count": 46,
   "id": "b1f9e7f3",
   "metadata": {},
   "outputs": [
    {
     "name": "stdout",
     "output_type": "stream",
     "text": [
      "                 sum_sq    df       F    PR(>F)\n",
      "C(telecom)    28.992635   2.0  0.2983  0.743638\n",
      "Residual    2041.048907  42.0     NaN       NaN\n"
     ]
    }
   ],
   "source": [
    "anova_table = sm.stats.anova_lm(model, typ=2)\n",
    "print(anova_table)"
   ]
  },
  {
   "cell_type": "markdown",
   "id": "87f2e698",
   "metadata": {},
   "source": [
    "* 귀무가설($H_0$) : A, B, C 세 대의 신형 휴대폰 간의 속도 차이는 없음 (>0.05)\n",
    "* 대립가설($H_1$) : A, B, C 세 대의 신형 휴대폰 간의 속도 차이는 있음 (<0.05)\n",
    "* p-value가 0.74로 0.05보다 크므로 귀무가설 채택"
   ]
  }
 ],
 "metadata": {
  "kernelspec": {
   "display_name": "Python 3 (ipykernel)",
   "language": "python",
   "name": "python3"
  },
  "language_info": {
   "codemirror_mode": {
    "name": "ipython",
    "version": 3
   },
   "file_extension": ".py",
   "mimetype": "text/x-python",
   "name": "python",
   "nbconvert_exporter": "python",
   "pygments_lexer": "ipython3",
   "version": "3.9.21"
  }
 },
 "nbformat": 4,
 "nbformat_minor": 5
}
