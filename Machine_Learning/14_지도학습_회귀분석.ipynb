{
 "cells": [
  {
   "cell_type": "markdown",
   "id": "a00b3c61",
   "metadata": {},
   "source": [
    "# 회귀분석\n",
    "* 지도학습\n",
    "* 종속변수(target)가 수치형 자료\n",
    "* 집값, 보험료, 몸무게와 같이 연속적인 숫자로 이루어진 값을 예측\n",
    "* 회귀? → 평균으로 돌아간다"
   ]
  },
  {
   "cell_type": "markdown",
   "id": "22c8e405",
   "metadata": {},
   "source": [
    "* **단순 선형 회귀분석** : 독립변수 1, 종속변수 1\n",
    "* **다중 선형 회귀분석** : 독립변수 n, 종속변수 1"
   ]
  },
  {
   "cell_type": "markdown",
   "id": "a6846ff9",
   "metadata": {},
   "source": [
    "## 1. 단순회귀분석 : 자동차 배기량과 연비 회귀분석"
   ]
  },
  {
   "cell_type": "code",
   "execution_count": 1,
   "id": "c66d4c4a",
   "metadata": {},
   "outputs": [],
   "source": [
    "import pandas as pd\n",
    "import numpy as np\n",
    "import matplotlib.pyplot as plt\n",
    "import koreanize_matplotlib\n",
    "import seaborn as sns\n",
    "import statsmodels.api as sm"
   ]
  },
  {
   "cell_type": "code",
   "execution_count": 4,
   "id": "f190cc41",
   "metadata": {},
   "outputs": [
    {
     "name": "stdout",
     "output_type": "stream",
     "text": [
      "                            OLS Regression Results                            \n",
      "==============================================================================\n",
      "Dep. Variable:                      y   R-squared:                       0.967\n",
      "Model:                            OLS   Adj. R-squared:                  0.962\n",
      "Method:                 Least Squares   F-statistic:                     203.7\n",
      "Date:                Wed, 07 May 2025   Prob (F-statistic):           1.97e-06\n",
      "Time:                        14:13:08   Log-Likelihood:                -3.9965\n",
      "No. Observations:                   9   AIC:                             11.99\n",
      "Df Residuals:                       7   BIC:                             12.39\n",
      "Df Model:                           1                                         \n",
      "Covariance Type:            nonrobust                                         \n",
      "==============================================================================\n",
      "                 coef    std err          t      P>|t|      [0.025      0.975]\n",
      "------------------------------------------------------------------------------\n",
      "const         16.8291      0.414     40.626      0.000      15.850      17.809\n",
      "x1            -2.4371      0.171    -14.273      0.000      -2.841      -2.033\n",
      "==============================================================================\n",
      "Omnibus:                        0.845   Durbin-Watson:                   2.048\n",
      "Prob(Omnibus):                  0.656   Jarque-Bera (JB):                0.585\n",
      "Skew:                           0.128   Prob(JB):                        0.746\n",
      "Kurtosis:                       1.778   Cond. No.                         8.12\n",
      "==============================================================================\n",
      "\n",
      "Notes:\n",
      "[1] Standard Errors assume that the covariance matrix of the errors is correctly specified.\n"
     ]
    },
    {
     "name": "stderr",
     "output_type": "stream",
     "text": [
      "C:\\Users\\Admin\\miniforge3\\envs\\fintech\\lib\\site-packages\\scipy\\stats\\_axis_nan_policy.py:531: UserWarning: kurtosistest only valid for n>=20 ... continuing anyway, n=9\n",
      "  res = hypotest_fun_out(*samples, **kwds)\n"
     ]
    }
   ],
   "source": [
    "# X는 자동차 배기량, y는 자동차 연비\n",
    "X = np.array([1, 1.4, 1.6, 2, 2.2, 2.4, 3, 3.3, 3.6])\n",
    "y = np.array([15, 13, 13, 12, 11, 10.5, 10, 9, 8])\n",
    "\n",
    "# 상수 추가 y절편 추가\n",
    "X_with_const = sm.add_constant(X)\n",
    "\n",
    "# 모델 훈련\n",
    "model = sm.OLS(y, X_with_const).fit()\n",
    "y_pred = model.predict(X_with_const)\n",
    "\n",
    "print(model.summary())"
   ]
  },
  {
   "cell_type": "code",
   "execution_count": 6,
   "id": "9c45e626",
   "metadata": {},
   "outputs": [
    {
     "data": {
      "image/png": "[encoded data removed]",
      "text/plain": [
       "<Figure size 640x480 with 1 Axes>"
      ]
     },
     "metadata": {},
     "output_type": "display_data"
    }
   ],
   "source": [
    "plt.scatter(X, y)\n",
    "plt.plot(X, y_pred)\n",
    "plt.title('단순 선형 회귀분석 [엔진 배기량과 연비의 관계]')\n",
    "plt.xlabel('배기량')\n",
    "plt.ylabel('연비')\n",
    "plt.show()"
   ]
  },
  {
   "cell_type": "markdown",
   "id": "cc5c6f32",
   "metadata": {},
   "source": [
    "* R-squared : 0.967로 약 96%를 설명한다\n",
    "* p-value : 1.97e-06으로 매우 작다 (0.001 이하, 0.05) 통계적으로 유의미하다\n",
    "* X1의 회귀계수(coeffienct-coef)는 -2.4371\n",
    "* y절편(상수항)은 16.8291\n",
    "* 따라서 추정되는 회귀식은 y(연비) = -2.4371 * X1 + 16.8291"
   ]
  },
  {
   "cell_type": "markdown",
   "id": "53cd3a44",
   "metadata": {},
   "source": [
    "## 2. 다중 회귀 분석\n",
    "* 독립변수가 여러 개인 데이터"
   ]
  },
  {
   "cell_type": "code",
   "execution_count": 11,
   "id": "748a2bdb",
   "metadata": {},
   "outputs": [],
   "source": [
    "# 데이터\n",
    "yard = np.array([31,31,27,39,30,32,28,23,28,35])\n",
    "area = np.array([58,51,47,35,48,42,43,56,41,41])\n",
    "park = np.array([1,1,5,5,2,4,5,1,1,3])\n",
    "dist = np.array([492,426,400,125,443,412,201,362,192,423])\n",
    "price = np.array([12631, 12084, 12220, 15649,11486,12276,15527,12666,13180,10169])"
   ]
  },
  {
   "cell_type": "code",
   "execution_count": 12,
   "id": "4f7d762f",
   "metadata": {},
   "outputs": [],
   "source": [
    "# 독립변수와 종속변수 설정\n",
    "X = pd.DataFrame(dict(yard=yard, area=area, park=park, dist=dist))\n",
    "y = price"
   ]
  },
  {
   "cell_type": "code",
   "execution_count": 13,
   "id": "dd64dd04",
   "metadata": {},
   "outputs": [
    {
     "data": {
      "text/html": [
       "<div>\n",
       "<style scoped>\n",
       "    .dataframe tbody tr th:only-of-type {\n",
       "        vertical-align: middle;\n",
       "    }\n",
       "\n",
       "    .dataframe tbody tr th {\n",
       "        vertical-align: top;\n",
       "    }\n",
       "\n",
       "    .dataframe thead th {\n",
       "        text-align: right;\n",
       "    }\n",
       "</style>\n",
       "<table border=\"1\" class=\"dataframe\">\n",
       "  <thead>\n",
       "    <tr style=\"text-align: right;\">\n",
       "      <th></th>\n",
       "      <th>const</th>\n",
       "      <th>yard</th>\n",
       "      <th>area</th>\n",
       "      <th>park</th>\n",
       "      <th>dist</th>\n",
       "    </tr>\n",
       "  </thead>\n",
       "  <tbody>\n",
       "    <tr>\n",
       "      <th>0</th>\n",
       "      <td>1.0</td>\n",
       "      <td>31</td>\n",
       "      <td>58</td>\n",
       "      <td>1</td>\n",
       "      <td>492</td>\n",
       "    </tr>\n",
       "    <tr>\n",
       "      <th>1</th>\n",
       "      <td>1.0</td>\n",
       "      <td>31</td>\n",
       "      <td>51</td>\n",
       "      <td>1</td>\n",
       "      <td>426</td>\n",
       "    </tr>\n",
       "    <tr>\n",
       "      <th>2</th>\n",
       "      <td>1.0</td>\n",
       "      <td>27</td>\n",
       "      <td>47</td>\n",
       "      <td>5</td>\n",
       "      <td>400</td>\n",
       "    </tr>\n",
       "    <tr>\n",
       "      <th>3</th>\n",
       "      <td>1.0</td>\n",
       "      <td>39</td>\n",
       "      <td>35</td>\n",
       "      <td>5</td>\n",
       "      <td>125</td>\n",
       "    </tr>\n",
       "    <tr>\n",
       "      <th>4</th>\n",
       "      <td>1.0</td>\n",
       "      <td>30</td>\n",
       "      <td>48</td>\n",
       "      <td>2</td>\n",
       "      <td>443</td>\n",
       "    </tr>\n",
       "    <tr>\n",
       "      <th>5</th>\n",
       "      <td>1.0</td>\n",
       "      <td>32</td>\n",
       "      <td>42</td>\n",
       "      <td>4</td>\n",
       "      <td>412</td>\n",
       "    </tr>\n",
       "    <tr>\n",
       "      <th>6</th>\n",
       "      <td>1.0</td>\n",
       "      <td>28</td>\n",
       "      <td>43</td>\n",
       "      <td>5</td>\n",
       "      <td>201</td>\n",
       "    </tr>\n",
       "    <tr>\n",
       "      <th>7</th>\n",
       "      <td>1.0</td>\n",
       "      <td>23</td>\n",
       "      <td>56</td>\n",
       "      <td>1</td>\n",
       "      <td>362</td>\n",
       "    </tr>\n",
       "    <tr>\n",
       "      <th>8</th>\n",
       "      <td>1.0</td>\n",
       "      <td>28</td>\n",
       "      <td>41</td>\n",
       "      <td>1</td>\n",
       "      <td>192</td>\n",
       "    </tr>\n",
       "    <tr>\n",
       "      <th>9</th>\n",
       "      <td>1.0</td>\n",
       "      <td>35</td>\n",
       "      <td>41</td>\n",
       "      <td>3</td>\n",
       "      <td>423</td>\n",
       "    </tr>\n",
       "  </tbody>\n",
       "</table>\n",
       "</div>"
      ],
      "text/plain": [
       "   const  yard  area  park  dist\n",
       "0    1.0    31    58     1   492\n",
       "1    1.0    31    51     1   426\n",
       "2    1.0    27    47     5   400\n",
       "3    1.0    39    35     5   125\n",
       "4    1.0    30    48     2   443\n",
       "5    1.0    32    42     4   412\n",
       "6    1.0    28    43     5   201\n",
       "7    1.0    23    56     1   362\n",
       "8    1.0    28    41     1   192\n",
       "9    1.0    35    41     3   423"
      ]
     },
     "execution_count": 13,
     "metadata": {},
     "output_type": "execute_result"
    }
   ],
   "source": [
    "X = sm.add_constant(X)\n",
    "X"
   ]
  },
  {
   "cell_type": "code",
   "execution_count": 14,
   "id": "503edc36",
   "metadata": {},
   "outputs": [
    {
     "name": "stdout",
     "output_type": "stream",
     "text": [
      "                            OLS Regression Results                            \n",
      "==============================================================================\n",
      "Dep. Variable:                      y   R-squared:                       0.918\n",
      "Model:                            OLS   Adj. R-squared:                  0.853\n",
      "Method:                 Least Squares   F-statistic:                     14.07\n",
      "Date:                Wed, 07 May 2025   Prob (F-statistic):            0.00627\n",
      "Time:                        14:40:06   Log-Likelihood:                -75.420\n",
      "No. Observations:                  10   AIC:                             160.8\n",
      "Df Residuals:                       5   BIC:                             162.4\n",
      "Df Model:                           4                                         \n",
      "Covariance Type:            nonrobust                                         \n",
      "==============================================================================\n",
      "                 coef    std err          t      P>|t|      [0.025      0.975]\n",
      "------------------------------------------------------------------------------\n",
      "const       3045.6891   4084.218      0.746      0.489   -7453.127    1.35e+04\n",
      "yard         117.9225     65.779      1.793      0.133     -51.169     287.014\n",
      "area         230.5629     61.193      3.768      0.013      73.262     387.864\n",
      "park         436.8012    155.508      2.809      0.038      37.056     836.546\n",
      "dist         -16.4464      2.489     -6.609      0.001     -22.844     -10.049\n",
      "==============================================================================\n",
      "Omnibus:                        0.082   Durbin-Watson:                   1.486\n",
      "Prob(Omnibus):                  0.960   Jarque-Bera (JB):                0.272\n",
      "Skew:                          -0.148   Prob(JB):                        0.873\n",
      "Kurtosis:                       2.247   Cond. No.                     7.44e+03\n",
      "==============================================================================\n",
      "\n",
      "Notes:\n",
      "[1] Standard Errors assume that the covariance matrix of the errors is correctly specified.\n",
      "[2] The condition number is large, 7.44e+03. This might indicate that there are\n",
      "strong multicollinearity or other numerical problems.\n"
     ]
    },
    {
     "name": "stderr",
     "output_type": "stream",
     "text": [
      "C:\\Users\\Admin\\miniforge3\\envs\\fintech\\lib\\site-packages\\scipy\\stats\\_axis_nan_policy.py:531: UserWarning: kurtosistest only valid for n>=20 ... continuing anyway, n=10\n",
      "  res = hypotest_fun_out(*samples, **kwds)\n"
     ]
    }
   ],
   "source": [
    "# 훈련\n",
    "model = sm.OLS(y, X).fit()\n",
    "print(model.summary())"
   ]
  },
  {
   "cell_type": "markdown",
   "id": "c35d201e",
   "metadata": {},
   "source": [
    "### 1차 분석 결과에서 yard는 p-value가 0.05보다 컸기 때문에 분석에서 제외"
   ]
  },
  {
   "cell_type": "code",
   "execution_count": 15,
   "id": "b84440ff",
   "metadata": {},
   "outputs": [
    {
     "data": {
      "text/html": [
       "<div>\n",
       "<style scoped>\n",
       "    .dataframe tbody tr th:only-of-type {\n",
       "        vertical-align: middle;\n",
       "    }\n",
       "\n",
       "    .dataframe tbody tr th {\n",
       "        vertical-align: top;\n",
       "    }\n",
       "\n",
       "    .dataframe thead th {\n",
       "        text-align: right;\n",
       "    }\n",
       "</style>\n",
       "<table border=\"1\" class=\"dataframe\">\n",
       "  <thead>\n",
       "    <tr style=\"text-align: right;\">\n",
       "      <th></th>\n",
       "      <th>const</th>\n",
       "      <th>area</th>\n",
       "      <th>park</th>\n",
       "      <th>dist</th>\n",
       "    </tr>\n",
       "  </thead>\n",
       "  <tbody>\n",
       "    <tr>\n",
       "      <th>0</th>\n",
       "      <td>1.0</td>\n",
       "      <td>58</td>\n",
       "      <td>1</td>\n",
       "      <td>492</td>\n",
       "    </tr>\n",
       "    <tr>\n",
       "      <th>1</th>\n",
       "      <td>1.0</td>\n",
       "      <td>51</td>\n",
       "      <td>1</td>\n",
       "      <td>426</td>\n",
       "    </tr>\n",
       "    <tr>\n",
       "      <th>2</th>\n",
       "      <td>1.0</td>\n",
       "      <td>47</td>\n",
       "      <td>5</td>\n",
       "      <td>400</td>\n",
       "    </tr>\n",
       "    <tr>\n",
       "      <th>3</th>\n",
       "      <td>1.0</td>\n",
       "      <td>35</td>\n",
       "      <td>5</td>\n",
       "      <td>125</td>\n",
       "    </tr>\n",
       "    <tr>\n",
       "      <th>4</th>\n",
       "      <td>1.0</td>\n",
       "      <td>48</td>\n",
       "      <td>2</td>\n",
       "      <td>443</td>\n",
       "    </tr>\n",
       "    <tr>\n",
       "      <th>5</th>\n",
       "      <td>1.0</td>\n",
       "      <td>42</td>\n",
       "      <td>4</td>\n",
       "      <td>412</td>\n",
       "    </tr>\n",
       "    <tr>\n",
       "      <th>6</th>\n",
       "      <td>1.0</td>\n",
       "      <td>43</td>\n",
       "      <td>5</td>\n",
       "      <td>201</td>\n",
       "    </tr>\n",
       "    <tr>\n",
       "      <th>7</th>\n",
       "      <td>1.0</td>\n",
       "      <td>56</td>\n",
       "      <td>1</td>\n",
       "      <td>362</td>\n",
       "    </tr>\n",
       "    <tr>\n",
       "      <th>8</th>\n",
       "      <td>1.0</td>\n",
       "      <td>41</td>\n",
       "      <td>1</td>\n",
       "      <td>192</td>\n",
       "    </tr>\n",
       "    <tr>\n",
       "      <th>9</th>\n",
       "      <td>1.0</td>\n",
       "      <td>41</td>\n",
       "      <td>3</td>\n",
       "      <td>423</td>\n",
       "    </tr>\n",
       "  </tbody>\n",
       "</table>\n",
       "</div>"
      ],
      "text/plain": [
       "   const  area  park  dist\n",
       "0    1.0    58     1   492\n",
       "1    1.0    51     1   426\n",
       "2    1.0    47     5   400\n",
       "3    1.0    35     5   125\n",
       "4    1.0    48     2   443\n",
       "5    1.0    42     4   412\n",
       "6    1.0    43     5   201\n",
       "7    1.0    56     1   362\n",
       "8    1.0    41     1   192\n",
       "9    1.0    41     3   423"
      ]
     },
     "execution_count": 15,
     "metadata": {},
     "output_type": "execute_result"
    }
   ],
   "source": [
    "X2 = pd.DataFrame(dict(area=area, park=park, dist=dist))\n",
    "X2 = sm.add_constant(X2)\n",
    "X2"
   ]
  },
  {
   "cell_type": "code",
   "execution_count": 16,
   "id": "9596e610",
   "metadata": {},
   "outputs": [
    {
     "name": "stdout",
     "output_type": "stream",
     "text": [
      "                            OLS Regression Results                            \n",
      "==============================================================================\n",
      "Dep. Variable:                      y   R-squared:                       0.866\n",
      "Model:                            OLS   Adj. R-squared:                  0.799\n",
      "Method:                 Least Squares   F-statistic:                     12.92\n",
      "Date:                Wed, 07 May 2025   Prob (F-statistic):            0.00499\n",
      "Time:                        14:48:35   Log-Likelihood:                -77.902\n",
      "No. Observations:                  10   AIC:                             163.8\n",
      "Df Residuals:                       6   BIC:                             165.0\n",
      "Df Model:                           3                                         \n",
      "Covariance Type:            nonrobust                                         \n",
      "==============================================================================\n",
      "                 coef    std err          t      P>|t|      [0.025      0.975]\n",
      "------------------------------------------------------------------------------\n",
      "const       9242.3046   2545.393      3.631      0.011    3013.953    1.55e+04\n",
      "area         162.9508     56.381      2.890      0.028      24.990     300.911\n",
      "park         410.1137    181.112      2.264      0.064     -33.052     853.280\n",
      "dist         -14.7588      2.695     -5.476      0.002     -21.354      -8.163\n",
      "==============================================================================\n",
      "Omnibus:                        2.891   Durbin-Watson:                   1.549\n",
      "Prob(Omnibus):                  0.236   Jarque-Bera (JB):                1.036\n",
      "Skew:                          -0.261   Prob(JB):                        0.596\n",
      "Kurtosis:                       1.512   Cond. No.                     3.96e+03\n",
      "==============================================================================\n",
      "\n",
      "Notes:\n",
      "[1] Standard Errors assume that the covariance matrix of the errors is correctly specified.\n",
      "[2] The condition number is large, 3.96e+03. This might indicate that there are\n",
      "strong multicollinearity or other numerical problems.\n"
     ]
    },
    {
     "name": "stderr",
     "output_type": "stream",
     "text": [
      "C:\\Users\\Admin\\miniforge3\\envs\\fintech\\lib\\site-packages\\scipy\\stats\\_axis_nan_policy.py:531: UserWarning: kurtosistest only valid for n>=20 ... continuing anyway, n=10\n",
      "  res = hypotest_fun_out(*samples, **kwds)\n"
     ]
    }
   ],
   "source": [
    "# 훈련\n",
    "model2 = sm.OLS(y, X2).fit()\n",
    "print(model2.summary())"
   ]
  },
  {
   "cell_type": "code",
   "execution_count": 19,
   "id": "3dcf3b66",
   "metadata": {},
   "outputs": [],
   "source": [
    "X3 = X2.drop('park', axis=1)"
   ]
  },
  {
   "cell_type": "code",
   "execution_count": 20,
   "id": "fbc6f669",
   "metadata": {
    "scrolled": true
   },
   "outputs": [
    {
     "name": "stdout",
     "output_type": "stream",
     "text": [
      "                            OLS Regression Results                            \n",
      "==============================================================================\n",
      "Dep. Variable:                      y   R-squared:                       0.751\n",
      "Model:                            OLS   Adj. R-squared:                  0.680\n",
      "Method:                 Least Squares   F-statistic:                     10.58\n",
      "Date:                Wed, 07 May 2025   Prob (F-statistic):            0.00766\n",
      "Time:                        15:02:26   Log-Likelihood:                -80.990\n",
      "No. Observations:                  10   AIC:                             168.0\n",
      "Df Residuals:                       7   BIC:                             168.9\n",
      "Df Model:                           2                                         \n",
      "Covariance Type:            nonrobust                                         \n",
      "==============================================================================\n",
      "                 coef    std err          t      P>|t|      [0.025      0.975]\n",
      "------------------------------------------------------------------------------\n",
      "const       1.351e+04   2158.546      6.258      0.000    8403.439    1.86e+04\n",
      "area          92.9476     59.448      1.564      0.162     -47.624     233.520\n",
      "dist         -14.4217      3.393     -4.250      0.004     -22.445      -6.398\n",
      "==============================================================================\n",
      "Omnibus:                        1.636   Durbin-Watson:                   0.940\n",
      "Prob(Omnibus):                  0.441   Jarque-Bera (JB):                0.935\n",
      "Skew:                          -0.412   Prob(JB):                        0.626\n",
      "Kurtosis:                       1.749   Cond. No.                     2.66e+03\n",
      "==============================================================================\n",
      "\n",
      "Notes:\n",
      "[1] Standard Errors assume that the covariance matrix of the errors is correctly specified.\n",
      "[2] The condition number is large, 2.66e+03. This might indicate that there are\n",
      "strong multicollinearity or other numerical problems.\n"
     ]
    },
    {
     "name": "stderr",
     "output_type": "stream",
     "text": [
      "C:\\Users\\Admin\\miniforge3\\envs\\fintech\\lib\\site-packages\\scipy\\stats\\_axis_nan_policy.py:531: UserWarning: kurtosistest only valid for n>=20 ... continuing anyway, n=10\n",
      "  res = hypotest_fun_out(*samples, **kwds)\n"
     ]
    }
   ],
   "source": [
    "# 훈련\n",
    "model3 = sm.OLS(y, X3).fit()\n",
    "print(model3.summary())"
   ]
  },
  {
   "cell_type": "markdown",
   "id": "5d1bb8c6",
   "metadata": {},
   "source": [
    "### 다중 회귀분석\n",
    "* 회귀식 y =  (92.9476 * area) + (-14.4217 * dist) + 1.351e+04\n",
    "* 다중회귀분석에서 모델의 설명력은 R-squared가 아닌 Adj. R-squared 확인\n",
    "* 모델의 p-value는 Prob (F-statistic) 확인"
   ]
  },
  {
   "cell_type": "code",
   "execution_count": 22,
   "id": "0c00d8f5",
   "metadata": {},
   "outputs": [
    {
     "name": "stdout",
     "output_type": "stream",
     "text": [
      "                            OLS Regression Results                            \n",
      "==============================================================================\n",
      "Dep. Variable:                      y   R-squared:                       0.665\n",
      "Model:                            OLS   Adj. R-squared:                  0.623\n",
      "Method:                 Least Squares   F-statistic:                     15.85\n",
      "Date:                Wed, 07 May 2025   Prob (F-statistic):            0.00405\n",
      "Time:                        15:03:39   Log-Likelihood:                -82.488\n",
      "No. Observations:                  10   AIC:                             169.0\n",
      "Df Residuals:                       8   BIC:                             169.6\n",
      "Df Model:                           1                                         \n",
      "Covariance Type:            nonrobust                                         \n",
      "==============================================================================\n",
      "                 coef    std err          t      P>|t|      [0.025      0.975]\n",
      "------------------------------------------------------------------------------\n",
      "const       1.656e+04   1001.807     16.529      0.000    1.42e+04    1.89e+04\n",
      "dist         -10.8467      2.724     -3.982      0.004     -17.129      -4.565\n",
      "==============================================================================\n",
      "Omnibus:                        0.833   Durbin-Watson:                   0.786\n",
      "Prob(Omnibus):                  0.659   Jarque-Bera (JB):                0.418\n",
      "Skew:                          -0.460   Prob(JB):                        0.812\n",
      "Kurtosis:                       2.607   Cond. No.                     1.13e+03\n",
      "==============================================================================\n",
      "\n",
      "Notes:\n",
      "[1] Standard Errors assume that the covariance matrix of the errors is correctly specified.\n",
      "[2] The condition number is large, 1.13e+03. This might indicate that there are\n",
      "strong multicollinearity or other numerical problems.\n"
     ]
    },
    {
     "name": "stderr",
     "output_type": "stream",
     "text": [
      "C:\\Users\\Admin\\miniforge3\\envs\\fintech\\lib\\site-packages\\scipy\\stats\\_axis_nan_policy.py:531: UserWarning: kurtosistest only valid for n>=20 ... continuing anyway, n=10\n",
      "  res = hypotest_fun_out(*samples, **kwds)\n"
     ]
    }
   ],
   "source": [
    "X4 = X3.drop('area', axis=1)\n",
    "# 훈련\n",
    "model4 = sm.OLS(y, X4).fit()\n",
    "print(model4.summary())"
   ]
  },
  {
   "cell_type": "markdown",
   "id": "5389cbaa",
   "metadata": {},
   "source": [
    "# 변수 선택\n",
    "* 전진선택법 : 독립변수 0부터 시작해서 변수를 1개씩 추가\n",
    "* 후진선택법 : 모든 독립변수를 다 포함 → 변수를 1개씩 삭제\n",
    "* 다중선택법 : 전진 + 후진\n",
    "* AIC : 변수를 선택하는 지표"
   ]
  },
  {
   "cell_type": "code",
   "execution_count": 24,
   "id": "4571b217",
   "metadata": {},
   "outputs": [],
   "source": [
    "# 데이터 생성\n",
    "yard = np.array([31, 31, 27, 39, 30, 32, 28, 23, 28, 35])\n",
    "area = np.array([58, 51, 47, 35, 48, 42, 43, 56, 41, 41])\n",
    "park = np.array([1, 1, 5, 5, 2, 4, 5, 1, 1, 3])\n",
    "dist = np.array([492, 426, 400, 125, 443, 412, 201, 362, 192, 423])\n",
    "popul = np.array([4412, 2061, 4407, 1933, 4029, 4180, 3444, 1683, 3020, 4459])\n",
    "price = np.array([12631, 12084, 12220, 15649, 11486, 12276, 15527, 12666, 13180, 10169])\n",
    "\n",
    "# 데이터프레임 생성\n",
    "data = pd.DataFrame({'yard': yard, 'area': area, 'park': park, 'dist': dist, 'popul': popul, 'price': price})"
   ]
  },
  {
   "cell_type": "code",
   "execution_count": 23,
   "id": "5505e935",
   "metadata": {},
   "outputs": [],
   "source": [
    "from sklearn.feature_selection import SequentialFeatureSelector\n",
    "from sklearn.linear_model import LinearRegression"
   ]
  },
  {
   "cell_type": "code",
   "execution_count": 36,
   "id": "264676e1",
   "metadata": {},
   "outputs": [
    {
     "data": {
      "text/html": [
       "<div>\n",
       "<style scoped>\n",
       "    .dataframe tbody tr th:only-of-type {\n",
       "        vertical-align: middle;\n",
       "    }\n",
       "\n",
       "    .dataframe tbody tr th {\n",
       "        vertical-align: top;\n",
       "    }\n",
       "\n",
       "    .dataframe thead th {\n",
       "        text-align: right;\n",
       "    }\n",
       "</style>\n",
       "<table border=\"1\" class=\"dataframe\">\n",
       "  <thead>\n",
       "    <tr style=\"text-align: right;\">\n",
       "      <th></th>\n",
       "      <th>yard</th>\n",
       "      <th>area</th>\n",
       "      <th>park</th>\n",
       "      <th>dist</th>\n",
       "      <th>popul</th>\n",
       "      <th>price</th>\n",
       "    </tr>\n",
       "  </thead>\n",
       "  <tbody>\n",
       "    <tr>\n",
       "      <th>0</th>\n",
       "      <td>31</td>\n",
       "      <td>58</td>\n",
       "      <td>1</td>\n",
       "      <td>492</td>\n",
       "      <td>4412</td>\n",
       "      <td>12631</td>\n",
       "    </tr>\n",
       "    <tr>\n",
       "      <th>1</th>\n",
       "      <td>31</td>\n",
       "      <td>51</td>\n",
       "      <td>1</td>\n",
       "      <td>426</td>\n",
       "      <td>2061</td>\n",
       "      <td>12084</td>\n",
       "    </tr>\n",
       "    <tr>\n",
       "      <th>2</th>\n",
       "      <td>27</td>\n",
       "      <td>47</td>\n",
       "      <td>5</td>\n",
       "      <td>400</td>\n",
       "      <td>4407</td>\n",
       "      <td>12220</td>\n",
       "    </tr>\n",
       "    <tr>\n",
       "      <th>3</th>\n",
       "      <td>39</td>\n",
       "      <td>35</td>\n",
       "      <td>5</td>\n",
       "      <td>125</td>\n",
       "      <td>1933</td>\n",
       "      <td>15649</td>\n",
       "    </tr>\n",
       "    <tr>\n",
       "      <th>4</th>\n",
       "      <td>30</td>\n",
       "      <td>48</td>\n",
       "      <td>2</td>\n",
       "      <td>443</td>\n",
       "      <td>4029</td>\n",
       "      <td>11486</td>\n",
       "    </tr>\n",
       "    <tr>\n",
       "      <th>5</th>\n",
       "      <td>32</td>\n",
       "      <td>42</td>\n",
       "      <td>4</td>\n",
       "      <td>412</td>\n",
       "      <td>4180</td>\n",
       "      <td>12276</td>\n",
       "    </tr>\n",
       "    <tr>\n",
       "      <th>6</th>\n",
       "      <td>28</td>\n",
       "      <td>43</td>\n",
       "      <td>5</td>\n",
       "      <td>201</td>\n",
       "      <td>3444</td>\n",
       "      <td>15527</td>\n",
       "    </tr>\n",
       "    <tr>\n",
       "      <th>7</th>\n",
       "      <td>23</td>\n",
       "      <td>56</td>\n",
       "      <td>1</td>\n",
       "      <td>362</td>\n",
       "      <td>1683</td>\n",
       "      <td>12666</td>\n",
       "    </tr>\n",
       "    <tr>\n",
       "      <th>8</th>\n",
       "      <td>28</td>\n",
       "      <td>41</td>\n",
       "      <td>1</td>\n",
       "      <td>192</td>\n",
       "      <td>3020</td>\n",
       "      <td>13180</td>\n",
       "    </tr>\n",
       "    <tr>\n",
       "      <th>9</th>\n",
       "      <td>35</td>\n",
       "      <td>41</td>\n",
       "      <td>3</td>\n",
       "      <td>423</td>\n",
       "      <td>4459</td>\n",
       "      <td>10169</td>\n",
       "    </tr>\n",
       "  </tbody>\n",
       "</table>\n",
       "</div>"
      ],
      "text/plain": [
       "   yard  area  park  dist  popul  price\n",
       "0    31    58     1   492   4412  12631\n",
       "1    31    51     1   426   2061  12084\n",
       "2    27    47     5   400   4407  12220\n",
       "3    39    35     5   125   1933  15649\n",
       "4    30    48     2   443   4029  11486\n",
       "5    32    42     4   412   4180  12276\n",
       "6    28    43     5   201   3444  15527\n",
       "7    23    56     1   362   1683  12666\n",
       "8    28    41     1   192   3020  13180\n",
       "9    35    41     3   423   4459  10169"
      ]
     },
     "execution_count": 36,
     "metadata": {},
     "output_type": "execute_result"
    }
   ],
   "source": [
    "data"
   ]
  },
  {
   "cell_type": "code",
   "execution_count": 32,
   "id": "1c9753bb",
   "metadata": {},
   "outputs": [],
   "source": [
    "X = data.drop('price',axis=1)\n",
    "y = data['price']"
   ]
  },
  {
   "cell_type": "code",
   "execution_count": 40,
   "id": "7520f5e5",
   "metadata": {},
   "outputs": [
    {
     "name": "stdout",
     "output_type": "stream",
     "text": [
      "Index(['yard', 'park'], dtype='object')\n"
     ]
    }
   ],
   "source": [
    "from sklearn.preprocessing import StandardScaler\n",
    "\n",
    "scaler = StandardScaler()\n",
    "X_scaled = pd.DataFrame(scaler.fit_transform(X), columns=X.columns)  # 중요: 컬럼 유지\n",
    "sfs.fit(X_scaled, y)\n",
    "\n",
    "selected_features = X.columns[sfs.get_support()]\n",
    "print(selected_features)"
   ]
  },
  {
   "cell_type": "code",
   "execution_count": 33,
   "id": "4b875d5d",
   "metadata": {},
   "outputs": [
    {
     "data": {
      "text/plain": [
       "Index(['yard', 'park'], dtype='object')"
      ]
     },
     "execution_count": 33,
     "metadata": {},
     "output_type": "execute_result"
    }
   ],
   "source": [
    "# 전진선택법을 사용한 회귀분석\n",
    "model = LinearRegression()\n",
    "sfs = SequentialFeatureSelector(model, direction='forward')\n",
    "sfs.fit(X, y)\n",
    "# 선택된 변수\n",
    "selected_features = X.columns[sfs.get_support()]\n",
    "selected_features"
   ]
  },
  {
   "cell_type": "code",
   "execution_count": 34,
   "id": "1b0e9960",
   "metadata": {},
   "outputs": [
    {
     "data": {
      "text/html": [
       "<div>\n",
       "<style scoped>\n",
       "    .dataframe tbody tr th:only-of-type {\n",
       "        vertical-align: middle;\n",
       "    }\n",
       "\n",
       "    .dataframe tbody tr th {\n",
       "        vertical-align: top;\n",
       "    }\n",
       "\n",
       "    .dataframe thead th {\n",
       "        text-align: right;\n",
       "    }\n",
       "</style>\n",
       "<table border=\"1\" class=\"dataframe\">\n",
       "  <thead>\n",
       "    <tr style=\"text-align: right;\">\n",
       "      <th></th>\n",
       "      <th>const</th>\n",
       "      <th>yard</th>\n",
       "      <th>park</th>\n",
       "    </tr>\n",
       "  </thead>\n",
       "  <tbody>\n",
       "    <tr>\n",
       "      <th>0</th>\n",
       "      <td>1.0</td>\n",
       "      <td>31</td>\n",
       "      <td>1</td>\n",
       "    </tr>\n",
       "    <tr>\n",
       "      <th>1</th>\n",
       "      <td>1.0</td>\n",
       "      <td>31</td>\n",
       "      <td>1</td>\n",
       "    </tr>\n",
       "    <tr>\n",
       "      <th>2</th>\n",
       "      <td>1.0</td>\n",
       "      <td>27</td>\n",
       "      <td>5</td>\n",
       "    </tr>\n",
       "    <tr>\n",
       "      <th>3</th>\n",
       "      <td>1.0</td>\n",
       "      <td>39</td>\n",
       "      <td>5</td>\n",
       "    </tr>\n",
       "    <tr>\n",
       "      <th>4</th>\n",
       "      <td>1.0</td>\n",
       "      <td>30</td>\n",
       "      <td>2</td>\n",
       "    </tr>\n",
       "    <tr>\n",
       "      <th>5</th>\n",
       "      <td>1.0</td>\n",
       "      <td>32</td>\n",
       "      <td>4</td>\n",
       "    </tr>\n",
       "    <tr>\n",
       "      <th>6</th>\n",
       "      <td>1.0</td>\n",
       "      <td>28</td>\n",
       "      <td>5</td>\n",
       "    </tr>\n",
       "    <tr>\n",
       "      <th>7</th>\n",
       "      <td>1.0</td>\n",
       "      <td>23</td>\n",
       "      <td>1</td>\n",
       "    </tr>\n",
       "    <tr>\n",
       "      <th>8</th>\n",
       "      <td>1.0</td>\n",
       "      <td>28</td>\n",
       "      <td>1</td>\n",
       "    </tr>\n",
       "    <tr>\n",
       "      <th>9</th>\n",
       "      <td>1.0</td>\n",
       "      <td>35</td>\n",
       "      <td>3</td>\n",
       "    </tr>\n",
       "  </tbody>\n",
       "</table>\n",
       "</div>"
      ],
      "text/plain": [
       "   const  yard  park\n",
       "0    1.0    31     1\n",
       "1    1.0    31     1\n",
       "2    1.0    27     5\n",
       "3    1.0    39     5\n",
       "4    1.0    30     2\n",
       "5    1.0    32     4\n",
       "6    1.0    28     5\n",
       "7    1.0    23     1\n",
       "8    1.0    28     1\n",
       "9    1.0    35     3"
      ]
     },
     "execution_count": 34,
     "metadata": {},
     "output_type": "execute_result"
    }
   ],
   "source": [
    "# 최종 선택된 변수로 분석\n",
    "X_selected = sm.add_constant(data[selected_features])\n",
    "X_selected"
   ]
  },
  {
   "cell_type": "code",
   "execution_count": 35,
   "id": "64a7fda9",
   "metadata": {},
   "outputs": [
    {
     "name": "stdout",
     "output_type": "stream",
     "text": [
      "                            OLS Regression Results                            \n",
      "==============================================================================\n",
      "Dep. Variable:                  price   R-squared:                       0.194\n",
      "Model:                            OLS   Adj. R-squared:                 -0.036\n",
      "Method:                 Least Squares   F-statistic:                    0.8433\n",
      "Date:                Wed, 07 May 2025   Prob (F-statistic):              0.470\n",
      "Time:                        15:23:43   Log-Likelihood:                -86.871\n",
      "No. Observations:                  10   AIC:                             179.7\n",
      "Df Residuals:                       7   BIC:                             180.6\n",
      "Df Model:                           2                                         \n",
      "Covariance Type:            nonrobust                                         \n",
      "==============================================================================\n",
      "                 coef    std err          t      P>|t|      [0.025      0.975]\n",
      "------------------------------------------------------------------------------\n",
      "const        1.22e+04   3990.829      3.056      0.018    2758.393    2.16e+04\n",
      "yard         -19.4302    137.385     -0.141      0.892    -344.295     305.435\n",
      "park         422.9550    335.385      1.261      0.248    -370.105    1216.015\n",
      "==============================================================================\n",
      "Omnibus:                        0.446   Durbin-Watson:                   2.392\n",
      "Prob(Omnibus):                  0.800   Jarque-Bera (JB):                0.503\n",
      "Skew:                          -0.245   Prob(JB):                        0.778\n",
      "Kurtosis:                       2.017   Cond. No.                         227.\n",
      "==============================================================================\n",
      "\n",
      "Notes:\n",
      "[1] Standard Errors assume that the covariance matrix of the errors is correctly specified.\n"
     ]
    },
    {
     "name": "stderr",
     "output_type": "stream",
     "text": [
      "C:\\Users\\Admin\\miniforge3\\envs\\fintech\\lib\\site-packages\\scipy\\stats\\_axis_nan_policy.py:531: UserWarning: kurtosistest only valid for n>=20 ... continuing anyway, n=10\n",
      "  res = hypotest_fun_out(*samples, **kwds)\n"
     ]
    }
   ],
   "source": [
    "final_model = sm.OLS(y, X_selected).fit()\n",
    "print(final_model.summary())"
   ]
  },
  {
   "cell_type": "code",
   "execution_count": null,
   "id": "8540a07f",
   "metadata": {},
   "outputs": [],
   "source": []
  },
  {
   "cell_type": "code",
   "execution_count": null,
   "id": "d9844fb8",
   "metadata": {},
   "outputs": [],
   "source": []
  },
  {
   "cell_type": "code",
   "execution_count": null,
   "id": "f3d83a2c",
   "metadata": {},
   "outputs": [],
   "source": []
  },
  {
   "cell_type": "code",
   "execution_count": null,
   "id": "85e0a74f",
   "metadata": {},
   "outputs": [],
   "source": []
  },
  {
   "cell_type": "code",
   "execution_count": null,
   "id": "ea8a10ba",
   "metadata": {},
   "outputs": [],
   "source": []
  },
  {
   "cell_type": "code",
   "execution_count": null,
   "id": "64a01cf2",
   "metadata": {},
   "outputs": [],
   "source": []
  },
  {
   "cell_type": "code",
   "execution_count": null,
   "id": "ced9f358",
   "metadata": {},
   "outputs": [],
   "source": []
  },
  {
   "cell_type": "code",
   "execution_count": null,
   "id": "e549cb1f",
   "metadata": {},
   "outputs": [],
   "source": []
  },
  {
   "cell_type": "code",
   "execution_count": null,
   "id": "f21c5371",
   "metadata": {},
   "outputs": [],
   "source": []
  },
  {
   "cell_type": "code",
   "execution_count": null,
   "id": "5d6b40b0",
   "metadata": {},
   "outputs": [],
   "source": []
  },
  {
   "cell_type": "code",
   "execution_count": null,
   "id": "fea7bb3c",
   "metadata": {},
   "outputs": [],
   "source": []
  }
 ],
 "metadata": {
  "kernelspec": {
   "display_name": "Python 3 (ipykernel)",
   "language": "python",
   "name": "python3"
  },
  "language_info": {
   "codemirror_mode": {
    "name": "ipython",
    "version": 3
   },
   "file_extension": ".py",
   "mimetype": "text/x-python",
   "name": "python",
   "nbconvert_exporter": "python",
   "pygments_lexer": "ipython3",
   "version": "3.9.21"
  }
 },
 "nbformat": 4,
 "nbformat_minor": 5
}
