{
 "cells": [
  {
   "cell_type": "code",
   "execution_count": 1,
   "id": "b435695d",
   "metadata": {},
   "outputs": [],
   "source": [
    "from app_store_scraper import AppStore\n",
    "from pprint import pprint"
   ]
  },
  {
   "cell_type": "code",
   "execution_count": 6,
   "id": "2af3d026",
   "metadata": {},
   "outputs": [
    {
     "name": "stderr",
     "output_type": "stream",
     "text": [
      "2025-05-30 15:43:49,986 [INFO] Base - Initialised: AppStore('kr', 'naverpay', 1554807824)\n",
      "2025-05-30 15:43:49,988 [INFO] Base - Ready to fetch reviews from: https://apps.apple.com/kr/app/naverpay/id1554807824\n",
      "2025-05-30 15:43:50,542 [ERROR] Base - Something went wrong: Expecting value: line 1 column 1 (char 0)\n",
      "2025-05-30 15:43:50,545 [INFO] Base - [id:1554807824] Fetched 0 reviews (0 fetched in total)\n"
     ]
    },
    {
     "name": "stdout",
     "output_type": "stream",
     "text": [
      "[]\n",
      "0\n"
     ]
    }
   ],
   "source": [
    "from app_store_scraper import AppStore\n",
    "from pprint import pprint\n",
    "\n",
    "naverpay = AppStore(country=\"kr\", app_name=\"naverpay\", app_id=\"1554807824\")\n",
    "naverpay.review(how_many=3)\n",
    "\n",
    "pprint(naverpay.reviews)\n",
    "pprint(naverpay.reviews_count)"
   ]
  }
 ],
 "metadata": {
  "kernelspec": {
   "display_name": "Python 3 (ipykernel)",
   "language": "python",
   "name": "python3"
  },
  "language_info": {
   "codemirror_mode": {
    "name": "ipython",
    "version": 3
   },
   "file_extension": ".py",
   "mimetype": "text/x-python",
   "name": "python",
   "nbconvert_exporter": "python",
   "pygments_lexer": "ipython3",
   "version": "3.9.21"
  }
 },
 "nbformat": 4,
 "nbformat_minor": 5
}
