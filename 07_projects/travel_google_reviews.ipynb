{
 "cells": [
  {
   "cell_type": "code",
   "execution_count": 2,
   "id": "1594daee",
   "metadata": {},
   "outputs": [],
   "source": [
    "import time\n",
    "import pandas as pd\n",
    "from datetime import datetime, timedelta\n",
    "from dateutil.relativedelta import relativedelta"
   ]
  },
  {
   "cell_type": "code",
   "execution_count": 4,
   "id": "036e427b",
   "metadata": {},
   "outputs": [],
   "source": [
    "# !pip install google-play-scraper"
   ]
  },
  {
   "cell_type": "code",
   "execution_count": 9,
   "id": "200f900d",
   "metadata": {},
   "outputs": [],
   "source": [
    "from google_play_scraper import app, Sort, reviews"
   ]
  },
  {
   "cell_type": "code",
   "execution_count": 14,
   "id": "777558e1",
   "metadata": {},
   "outputs": [
    {
     "ename": "KeyboardInterrupt",
     "evalue": "",
     "output_type": "error",
     "traceback": [
      "\u001b[1;31m---------------------------------------------------------------------------\u001b[0m",
      "\u001b[1;31mKeyboardInterrupt\u001b[0m                         Traceback (most recent call last)",
      "Cell \u001b[1;32mIn[14], line 19\u001b[0m\n\u001b[0;32m     16\u001b[0m \u001b[38;5;28;01mif\u001b[39;00m continuation_token \u001b[38;5;129;01mis\u001b[39;00m \u001b[38;5;28;01mNone\u001b[39;00m:\n\u001b[0;32m     17\u001b[0m     \u001b[38;5;28;01mbreak\u001b[39;00m\n\u001b[1;32m---> 19\u001b[0m \u001b[43mtime\u001b[49m\u001b[38;5;241;43m.\u001b[39;49m\u001b[43msleep\u001b[49m\u001b[43m(\u001b[49m\u001b[38;5;241;43m1\u001b[39;49m\u001b[43m)\u001b[49m  \u001b[38;5;66;03m# 1초 대기 (속도 제한 방지용)\u001b[39;00m\n",
      "\u001b[1;31mKeyboardInterrupt\u001b[0m: "
     ]
    }
   ],
   "source": [
    "log_all_reviews = []\n",
    "continuation_token = None\n",
    "\n",
    "while True:\n",
    "    result_log, continuation_token = reviews(\n",
    "        'kr.co.hanamembers.hmscustomer',\n",
    "        lang='ko',\n",
    "        country='kr',\n",
    "        sort=Sort.NEWEST,\n",
    "        count=100,\n",
    "        continuation_token=continuation_token\n",
    "    )\n",
    "\n",
    "    log_all_reviews.extend(result_log)\n",
    "\n",
    "    if continuation_token is None:\n",
    "        break\n",
    "\n",
    "    time.sleep(1)  # 1초 대기 (속도 제한 방지용)"
   ]
  },
  {
   "cell_type": "code",
   "execution_count": 16,
   "id": "c679757f",
   "metadata": {},
   "outputs": [
    {
     "data": {
      "text/plain": [
       "16381"
      ]
     },
     "execution_count": 16,
     "metadata": {},
     "output_type": "execute_result"
    }
   ],
   "source": [
    "len(log_all_reviews)"
   ]
  },
  {
   "cell_type": "code",
   "execution_count": null,
   "id": "5ff64874",
   "metadata": {},
   "outputs": [],
   "source": [
    "wallet_all_reviews = []\n",
    "continuation_token = None\n",
    "\n",
    "while True:\n",
    "    result_log, continuation_token = reviews(\n",
    "        'com.mobiletoong.travelwallet',\n",
    "        lang='ko',\n",
    "        country='kr',\n",
    "        sort=Sort.NEWEST,\n",
    "        count=100,\n",
    "        continuation_token=continuation_token\n",
    "    )\n",
    "\n",
    "    wallet_all_reviews.extend(result_log)\n",
    "\n",
    "    if continuation_token is None:\n",
    "        break\n",
    "\n",
    "    time.sleep(1)  # 1초 대기 (속도 제한 방지용)"
   ]
  },
  {
   "cell_type": "code",
   "execution_count": null,
   "id": "a6e81f6d",
   "metadata": {},
   "outputs": [],
   "source": [
    "hanpass_all_reviews = []\n",
    "continuation_token = None\n",
    "\n",
    "while True:\n",
    "    result_log, continuation_token = reviews(\n",
    "        'com.hanpass.remittance',\n",
    "        lang='ko',\n",
    "        country='kr',\n",
    "        sort=Sort.NEWEST,\n",
    "        count=100,\n",
    "        continuation_token=continuation_token\n",
    "    )\n",
    "\n",
    "    hanpass_all_reviews.extend(result_log)\n",
    "\n",
    "    if continuation_token is None:\n",
    "        break\n",
    "\n",
    "    time.sleep(1)  # 1초 대기 (속도 제한 방지용)"
   ]
  }
 ],
 "metadata": {
  "kernelspec": {
   "display_name": "Python 3 (ipykernel)",
   "language": "python",
   "name": "python3"
  },
  "language_info": {
   "codemirror_mode": {
    "name": "ipython",
    "version": 3
   },
   "file_extension": ".py",
   "mimetype": "text/x-python",
   "name": "python",
   "nbconvert_exporter": "python",
   "pygments_lexer": "ipython3",
   "version": "3.9.21"
  }
 },
 "nbformat": 4,
 "nbformat_minor": 5
}
