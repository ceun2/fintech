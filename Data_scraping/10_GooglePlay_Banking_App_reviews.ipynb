{
 "cells": [
  {
   "cell_type": "markdown",
   "id": "2943a8f9",
   "metadata": {},
   "source": [
    "1. selenium으로 토스 GoolePlay에 접속\n",
    "2. 전체리뷰 보기 클릭\n",
    "3. 리뷰창이 뜨면 최신순으로 정렬\n",
    "4. 마우스 스크롤을 해서 오늘부터 2년전 날짜가 나올 때까지 스크롤\n",
    "5. 데이터 수집\n",
    "6. csv파일로 저장 → DB 저장\n",
    "7. 수집코드 함수화\n",
    "8. KB, 신한, 하나, 뱅크샐러드, 카카오뱅크 리뷰도 저장"
   ]
  },
  {
   "cell_type": "code",
   "execution_count": 1,
   "id": "32356645",
   "metadata": {},
   "outputs": [
    {
     "name": "stdout",
     "output_type": "stream",
     "text": [
      "['In', 'Out', '_', '__', '___', '__builtin__', '__builtins__', '__doc__', '__loader__', '__name__', '__package__', '__spec__', '_dh', '_i', '_i1', '_ih', '_ii', '_iii', '_oh', 'create_engine', 'datetime', 'exit', 'get_ipython', 'open', 'pd', 'pymysql', 'quit', 'relativedelta', 'saveDB', 'time', 'timedelta']\n"
     ]
    }
   ],
   "source": [
    "import time\n",
    "import pandas as pd\n",
    "from datetime import datetime, timedelta\n",
    "from dateutil.relativedelta import relativedelta\n",
    "\n",
    "from general_dbio import *\n",
    "print(dir())"
   ]
  },
  {
   "cell_type": "code",
   "execution_count": 2,
   "id": "c36160e8",
   "metadata": {},
   "outputs": [],
   "source": [
    "from selenium import webdriver\n",
    "from selenium.webdriver.chrome.service import Service\n",
    "from selenium.webdriver.chrome.options import Options\n",
    "from webdriver_manager.chrome import ChromeDriverManager\n",
    "\n",
    "from selenium.webdriver.common.by import By\n",
    "from selenium.webdriver.common.keys import Keys\n",
    "\n",
    "from selenium.webdriver.support.ui import WebDriverWait\n",
    "from selenium.webdriver.support import expected_conditions as EC\n",
    "\n",
    "options = Options()\n",
    "options.add_experimental_option(\"detach\", True)\n",
    "options.add_argument('start-maximized')\n",
    "\n",
    "# 사람인척하기위해서 개발자도구 network에서 user-agent추가, 언어 추가\n",
    "options.add_argument('Chrome/134.0.0.0')\n",
    "options.add_argument('lang=ko_KR')\n",
    "\n",
    "# gpu 안쓰기\n",
    "options.add_argument('--disable-gpu') "
   ]
  },
  {
   "cell_type": "code",
   "execution_count": 3,
   "id": "74293d1c",
   "metadata": {},
   "outputs": [
    {
     "name": "stdout",
     "output_type": "stream",
     "text": [
      "2023-04-13 23:08:29.909200\n",
      "2023년 04월 13일\n",
      "True\n"
     ]
    }
   ],
   "source": [
    "end_date = datetime.today() - relativedelta(years=2) - timedelta(days=1)\n",
    "end_date_text = end_date.strftime('%Y년 %m월 %d일')\n",
    "print(end_date)\n",
    "print(end_date_text)\n",
    "print( datetime.today() >= datetime.strptime(end_date_text, '%Y년 %m월 %d일'))"
   ]
  },
  {
   "cell_type": "code",
   "execution_count": 23,
   "id": "e6419518",
   "metadata": {
    "scrolled": true
   },
   "outputs": [
    {
     "data": {
      "text/plain": [
       "{'kb_star': 'com.kbstar.kbbank',\n",
       " 'hana': 'com.kebhana.hanapush',\n",
       " 'banksalad': 'com.rainist.banksalad2',\n",
       " 'kakaobank': 'com.kakaobank.channel'}"
      ]
     },
     "execution_count": 23,
     "metadata": {},
     "output_type": "execute_result"
    }
   ],
   "source": [
    "# shinhan_sol='com.shinhan.sbanking'\n",
    "# toss='viva.republica.toss'\n",
    "bank_list = dict(kb_star='com.kbstar.kbbank', hana='com.kebhana.hanapush', banksalad='com.rainist.banksalad2', kakaobank='com.kakaobank.channel')\n",
    "bank_list"
   ]
  },
  {
   "cell_type": "code",
   "execution_count": 20,
   "id": "2c53efad",
   "metadata": {},
   "outputs": [],
   "source": [
    "from selenium.common.exceptions import NoSuchElementException\n",
    "\n",
    "def safe_find_text(idx, bank_name, element_name, selector, by=By.CSS_SELECTOR, driver=None):\n",
    "    try:\n",
    "#         print(f'idx 입니다 : {idx}')\n",
    "#         print(f'bank name 입니다 : {bank_name}')\n",
    "#         print(f'element name 입니다 : {element_name}')\n",
    "#         print(f'selector 출력해보는중!!! {selector}')\n",
    "#         print(f'return값 출력해보는 중!!! {driver.find_element(by, selector).text}')\n",
    "        element = WebDriverWait(driver, 10).until(\n",
    "            EC.presence_of_element_located((by, selector))\n",
    "        )\n",
    "        return element.text\n",
    "    except NoSuchElementException:\n",
    "        print(f'{bank_name}에서 {idx} : {element_name} 수집 중')\n",
    "        return None\n",
    "    except Exception as e:\n",
    "        print(f'{bank_name}에서 {element_name} 수집 중')\n",
    "        print(f\"⚠️ 예외 발생: {e} | selector: {selector}\")\n",
    "        return None\n",
    "\n",
    "def safe_find_attr(idx, bank_name, element_name, selector, attr, by=By.CSS_SELECTOR, driver=None):\n",
    "    try:\n",
    "        return float(driver.find_element(by, selector).get_attribute(attr)[-10])\n",
    "    except NoSuchElementException:\n",
    "        return None\n",
    "    except Exception as e:\n",
    "        print(f'{bank_name}에서 {element_name} 수집 중')\n",
    "        print(f\"⚠️ 예외 발생: {e} | selector: {selector} | attr: {attr}\")\n",
    "        return None\n"
   ]
  },
  {
   "cell_type": "code",
   "execution_count": 14,
   "id": "839cbf94",
   "metadata": {},
   "outputs": [],
   "source": [
    "driver = webdriver.Chrome(\n",
    "service=Service(ChromeDriverManager().install()),\n",
    "options=options\n",
    ")\n",
    "\n",
    "driver.get(f'https://play.google.com/store/apps/details?id=viva.republica.toss')\n",
    "\n",
    "reviews_btn = WebDriverWait(driver, 10).until(\n",
    "            EC.element_to_be_clickable((By.CSS_SELECTOR, \"button[aria-label*='평점 및 리뷰 자세히 알아보기']\"))\n",
    "        )\n",
    "reviews_btn.click()\n",
    "order_btn = WebDriverWait(driver, 10).until(\n",
    "        EC.element_to_be_clickable((By.CSS_SELECTOR, \"#sortBy_1\"))\n",
    "    )\n",
    "order_btn.click()\n",
    "recent_order = WebDriverWait(driver, 10).until(\n",
    "        EC.element_to_be_clickable((By.CSS_SELECTOR, 'span[aria-label*=\"최신\"]'))\n",
    "    )\n",
    "recent_order.click()\n",
    "\n",
    "reviews_modal = driver.find_element(By.CSS_SELECTOR, '#yDmH0d > div.VfPpkd-Sx9Kwc.cC1eCc.UDxLd.PzCPDd.HQdjr.VfPpkd-Sx9Kwc-OWXEXe-FNFY6c > div.VfPpkd-wzTsW > div > div > div > div > div.fysCi.Vk3ZVd')"
   ]
  },
  {
   "cell_type": "code",
   "execution_count": 9,
   "id": "93d20ea7",
   "metadata": {},
   "outputs": [
    {
     "data": {
      "text/plain": [
       "'유7080'"
      ]
     },
     "execution_count": 9,
     "metadata": {},
     "output_type": "execute_result"
    }
   ],
   "source": [
    "driver.find_element(By.CSS_SELECTOR, f'div.RHo1pe:nth-of-type(1) header > div div.X5PpBb').text"
   ]
  },
  {
   "cell_type": "code",
   "execution_count": null,
   "id": "97b1cfad",
   "metadata": {
    "scrolled": true
   },
   "outputs": [
    {
     "name": "stdout",
     "output_type": "stream",
     "text": [
      "kb_star에서 rating 수집 중m Jong Taik 5.0 사용편리함, 안전성 우수감사드립니다.은행에 직접 가지않아도 될정도로 쉬웠습니다번깔고 폰재부팅해도 계속안됨. 어플 왜만든거야 짜증나.업데이트 하라고해도 안뜨자나!!!!재부팅 이런 것만 제시해서 좀 난감했네요. UCWB 무슨 에러였는데.. 사유와 더불어 창구로 가란 메시지로 바꿔주면 좋을 것 같습니다.버렸네요 이러면 국민 오픈뱅킹해지하고 타은행 오픈을 만들어 쓰는게 낫죠다. 이틀이 경과한 2023년 10월 22일 업데이트로 오류가 사라졌지만 어떤 사과와 해명도 없습니다. 우선 왜 휴일을 앞둔 금요일에 이런 업데이트를 진행했는지 설명바랍니다. 주중에 업데이트 했다면 다음 날 조치할 수 있습니다. 무엇보다 고객들도 다음 날 금융거래를 이어갈 수 있구요. 그리고 왜 금융업무가 몰리는 월 하순에 이런 일을 저지른 건가요? 당연히 오류에 따른 피해도 증가할 수 밖에 없습니다. 분명한 사과와 해명이 필요합니다.작합시다..! 기본도 안되어 있는데 무슨 다른 기능이 필요합니까.!!가? 수상한 은행이네\n",
      "⚠️ 예외 발생: HTTPConnectionPool(host='localhost', port=4120): Read timed out. (read timeout=120) | selector: div.RHo1pe:nth-of-type(10076) header .Jx4nYe > div | attr: aria-label\n",
      "스크롤 안됨2023년 9월 6일 ᄋ우왕 5.0 알려주신대로 생체인증등록을 하니 위젯이 진짜 좋긴 하네요. 위젯에 처음뜨는 카드는 최근 사용한 카드라는 점도 알았습니다. 바라는 점이 있다면 위젯으로 결제시 실제 최근 결제한 카드가 아닌 최근에 지문인식을 한 카드로 결제되게 바꿔주신다면 더욱 편리해질 것 같습니다. 결제카드를 바꾸기 위해서는 결제 한번이 이루워져야 한다는 단점을 개선 할 수 있으니까요. 답변해주셔서 감사합니다.만드는 프로세스 중에 계좌내역을 볼 수 없어서 그 부분에 불편함을 말한 것입니다.일OTP발급 신분증확인만 안 되는지 모르겠음. 결론 = 어플 이상해요.\n",
      "12284 2023년 5월 13일 멍정아 4.0 사용하기 어렵지 않아서 좋은데 예금 상품이 더 다양했으면 좋겟슘니당 인증을 해야 사용을 하던 말던 할텐대 암것도 못하고 있음로바뀐것도좋구 조아용. 앱을다시삭제하고 깔면 잘되고 며칠있음 또 안되고 다시 삭제하고 다시 깔면 또잘되고 계속반복삭제, 앱설치하고 예금담보 대출사용중입니다.도더군요. 예. 인증문자만 30통이 넘고 인증과 약관가입도 그만치 해보니 당연한거 아니겠습니까? 이따위로 앱을 내놓으니 사람들이 은행지점과 은행원이 꼭 필요하다는 뜻입니다. 사람 혈압올리게 뺑뺑이나 돌리는 이따위 앱을 보면은 말입니다. 분명 계정생성도 해봤으니 뺑뺑이라고 한건데 말입니다. 생성한적도 없는 지명과 전화번호로 개인정보가 입력이 되어있고 그 때문에 개인정보에 오류가 있다기에 수정을 하려니까 자꾸 기본 도메인으로 가기만하는데 사람 기만하는겁니까?전합니다만 이어플은 쓰레기가 맞습니다. 관리자님께서는 저를 조금이나마 이해 해주신다면 개발자부서에 제리뷰 꼭보여주세요. 그것도 아니네요. 좀 고쳐주세요!!!\r"
     ]
    }
   ],
   "source": [
    "columns = ['날짜', '닉네임','평점','리뷰내용']\n",
    "\n",
    "for bank, domain in bank_list.items():\n",
    "    idx = 1\n",
    "    driver = webdriver.Chrome(\n",
    "    service=Service(ChromeDriverManager().install()),\n",
    "    options=options\n",
    "    )\n",
    "\n",
    "    driver.get(f'https://play.google.com/store/apps/details?id={domain}')\n",
    "\n",
    "    reviews_btn = WebDriverWait(driver, 10).until(\n",
    "            EC.element_to_be_clickable((By.CSS_SELECTOR, \"button[aria-label*='평점 및 리뷰 자세히 알아보기']\"))\n",
    "        )\n",
    "    reviews_btn.click()\n",
    "    order_btn = WebDriverWait(driver, 10).until(\n",
    "            EC.element_to_be_clickable((By.CSS_SELECTOR, \"#sortBy_1\"))\n",
    "        )\n",
    "    order_btn.click()\n",
    "    recent_order = WebDriverWait(driver, 10).until(\n",
    "            EC.element_to_be_clickable((By.CSS_SELECTOR, 'span[aria-label*=\"최신\"]'))\n",
    "        )\n",
    "    time.sleep(1)\n",
    "    recent_order.click()\n",
    "\n",
    "\n",
    "    reviews_modal = driver.find_element(By.CSS_SELECTOR, '#yDmH0d > div.VfPpkd-Sx9Kwc.cC1eCc.UDxLd.PzCPDd.HQdjr.VfPpkd-Sx9Kwc-OWXEXe-FNFY6c > div.VfPpkd-wzTsW > div > div > div > div > div.fysCi.Vk3ZVd')\n",
    "\n",
    "    try: \n",
    "        while True:\n",
    "            time.sleep(1)\n",
    "            date = safe_find_text(idx, bank, 'date', f'div.RHo1pe:nth-of-type({idx}) header span.bp9Aid', driver=driver)\n",
    "            nickname = safe_find_text(idx, bank, 'nickname', f'div.RHo1pe:nth-of-type({idx}) header > div div.X5PpBb', driver=driver)\n",
    "            rating = safe_find_attr(idx, bank, 'rating', f'div.RHo1pe:nth-of-type({idx}) header .Jx4nYe > div', 'aria-label', driver=driver)\n",
    "            content = safe_find_text(idx, bank, 'content', f'div.RHo1pe:nth-of-type({idx}) div.h3YV2d', driver=driver)\n",
    "\n",
    "            print(idx, date, nickname, rating, content, end='\\r')\n",
    "            \n",
    "            if not date:\n",
    "                continue\n",
    "\n",
    "            date_cast = datetime.strptime(date, '%Y년 %m월 %d일')\n",
    "            if date_cast <= end_date:\n",
    "                break\n",
    "\n",
    "            temp = (date, nickname, rating, content)\n",
    "            df = pd.DataFrame([temp], columns=columns)\n",
    "            saveDB(df, 'google_play_reviews', bank)\n",
    "            time.sleep(1)\n",
    "            try:\n",
    "                driver.execute_script(\"arguments[0].scrollTop += 1000;\", reviews_modal)  # 아래로 500px씩 스크롤\n",
    "                time.sleep(1)\n",
    "            except:\n",
    "                print('스크롤 안됨')\n",
    "\n",
    "            idx += 1\n",
    "    except Exception as e:\n",
    "        print(f'예외 발생: {type(e).__name__} - {e}')\n",
    "    finally:\n",
    "        driver.quit()"
   ]
  },
  {
   "cell_type": "code",
   "execution_count": 12,
   "id": "e82c7ff4",
   "metadata": {},
   "outputs": [],
   "source": [
    "driver.quit()"
   ]
  }
 ],
 "metadata": {
  "kernelspec": {
   "display_name": "Python 3 (ipykernel)",
   "language": "python",
   "name": "python3"
  },
  "language_info": {
   "codemirror_mode": {
    "name": "ipython",
    "version": 3
   },
   "file_extension": ".py",
   "mimetype": "text/x-python",
   "name": "python",
   "nbconvert_exporter": "python",
   "pygments_lexer": "ipython3",
   "version": "3.9.21"
  }
 },
 "nbformat": 4,
 "nbformat_minor": 5
}
