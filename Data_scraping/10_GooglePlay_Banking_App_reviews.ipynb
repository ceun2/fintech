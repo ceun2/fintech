{
 "cells": [
  {
   "cell_type": "markdown",
   "id": "2943a8f9",
   "metadata": {},
   "source": [
    "1. selenium으로 토스 GoolePlay에 접속\n",
    "2. 전체리뷰 보기 클릭\n",
    "3. 리뷰창이 뜨면 최신순으로 정렬\n",
    "4. 마우스 스크롤을 해서 오늘부터 2년전 날짜가 나올 때까지 스크롤\n",
    "5. 데이터 수집\n",
    "6. csv파일로 저장 → DB 저장\n",
    "7. 수집코드 함수화\n",
    "8. KB, 신한, 하나 리뷰도 저장"
   ]
  },
  {
   "cell_type": "code",
   "execution_count": 1,
   "id": "32356645",
   "metadata": {},
   "outputs": [
    {
     "name": "stdout",
     "output_type": "stream",
     "text": [
      "['In', 'Out', '_', '__', '___', '__builtin__', '__builtins__', '__doc__', '__loader__', '__name__', '__package__', '__spec__', '_dh', '_i', '_i1', '_ih', '_ii', '_iii', '_oh', 'create_engine', 'datetime', 'exit', 'get_ipython', 'open', 'pd', 'pymysql', 'quit', 'relativedelta', 'saveDB', 'time', 'timedelta']\n"
     ]
    }
   ],
   "source": [
    "import time\n",
    "import pandas as pd\n",
    "from datetime import datetime, timedelta\n",
    "from dateutil.relativedelta import relativedelta\n",
    "\n",
    "from general_dbio import *\n",
    "print(dir())"
   ]
  },
  {
   "cell_type": "code",
   "execution_count": 2,
   "id": "c36160e8",
   "metadata": {},
   "outputs": [],
   "source": [
    "from selenium import webdriver\n",
    "from selenium.webdriver.chrome.service import Service\n",
    "from selenium.webdriver.chrome.options import Options\n",
    "from webdriver_manager.chrome import ChromeDriverManager\n",
    "\n",
    "from selenium.webdriver.common.by import By\n",
    "from selenium.webdriver.common.keys import Keys\n",
    "\n",
    "from selenium.webdriver.support.ui import WebDriverWait\n",
    "from selenium.webdriver.support import expected_conditions as EC\n",
    "\n",
    "options = Options()\n",
    "options.add_experimental_option(\"detach\", True)\n",
    "options.add_argument('start-maximized')\n",
    "\n",
    "# 사람인척하기위해서 개발자도구 network에서 user-agent추가, 언어 추가\n",
    "options.add_argument('Chrome/134.0.0.0')\n",
    "options.add_argument('lang=ko_KR')\n",
    "\n",
    "# gpu 안쓰기\n",
    "options.add_argument('--disable-gpu') "
   ]
  },
  {
   "cell_type": "code",
   "execution_count": 3,
   "id": "74293d1c",
   "metadata": {},
   "outputs": [
    {
     "name": "stdout",
     "output_type": "stream",
     "text": [
      "2023-04-10 17:43:46.372429\n",
      "2023년 04월 10일\n",
      "True\n"
     ]
    }
   ],
   "source": [
    "idx = 1\n",
    "columns = ['날짜', '닉네임', '리뷰내용']\n",
    "\n",
    "end_date = datetime.today() - relativedelta(years=2) - timedelta(days=1)\n",
    "end_date_text = end_date.strftime('%Y년 %m월 %d일')\n",
    "print(end_date)\n",
    "print(end_date_text)\n",
    "print( datetime.today() >= datetime.strptime(end_date_text, '%Y년 %m월 %d일'))"
   ]
  },
  {
   "cell_type": "code",
   "execution_count": 9,
   "id": "1850c706",
   "metadata": {},
   "outputs": [],
   "source": [
    "driver = webdriver.Chrome(\n",
    "    service=Service(ChromeDriverManager().install()),\n",
    "    options=options\n",
    "    )\n",
    "\n",
    "driver.get('https://play.google.com/store/apps/details?id=viva.republica.toss')\n",
    "\n",
    "reviews_btn = WebDriverWait(driver, 10).until(\n",
    "        EC.element_to_be_clickable((By.CSS_SELECTOR, \"button[aria-label*='평점 및 리뷰 자세히 알아보기']\"))\n",
    "    )\n",
    "reviews_btn.click()\n",
    "order_btn = WebDriverWait(driver, 10).until(\n",
    "        EC.element_to_be_clickable((By.CSS_SELECTOR, \"#sortBy_1\"))\n",
    "    )\n",
    "order_btn.click()\n",
    "recent_order = WebDriverWait(driver, 10).until(\n",
    "        EC.element_to_be_clickable((By.CSS_SELECTOR, 'span[aria-label*=\"최신\"]'))\n",
    "    )\n",
    "recent_order.click()"
   ]
  },
  {
   "cell_type": "code",
   "execution_count": 10,
   "id": "7af154c6",
   "metadata": {},
   "outputs": [
    {
     "data": {
      "text/plain": [
       "<selenium.webdriver.remote.webelement.WebElement (session=\"8b0d27db0e05387fd3f11d5a25bdaa9f\", element=\"f.95F1FCD22C7982473447E7F70EAD4C04.d.2C7D9B502DEC72C7818CA31D2590DD00.e.56\")>"
      ]
     },
     "execution_count": 10,
     "metadata": {},
     "output_type": "execute_result"
    }
   ],
   "source": [
    "driver.find_element(By.CSS_SELECTOR, f'div.RHo1pe:nth-of-type(1) header span.bp9Aid')"
   ]
  },
  {
   "cell_type": "code",
   "execution_count": 7,
   "id": "97b1cfad",
   "metadata": {},
   "outputs": [
    {
     "name": "stdout",
     "output_type": "stream",
     "text": [
      "16 2025년 4월 9일 # # (#) 토스에서 물건구매하고 품질에 문제가 있어 반품했는데 판매자가 거부해요. 그럼 구매자는 울며 겨자 먹기로 사야합니까??? 그럼 토스로 물건 구매를 못하지요. 온라인 쇼핑은 볼수도 만질 수도 없는데 반품이 보장 안되면 누가 구매를 합니다. 광고만 보고 살 순 없습니다ㅠㅠ. 반품이 안되면 토스 구매 거부운동할 겁니다ㅠㅠㅠ. 먼저 모든 언론사에 제보부터 할꺼구요.. 그 다음은 상상에 맡기겠습니다 **은게 아니고 명확하게 불편을 끼친겁니다.\r"
     ]
    },
    {
     "ename": "KeyboardInterrupt",
     "evalue": "",
     "output_type": "error",
     "traceback": [
      "\u001b[1;31m---------------------------------------------------------------------------\u001b[0m",
      "\u001b[1;31mKeyboardInterrupt\u001b[0m                         Traceback (most recent call last)",
      "Cell \u001b[1;32mIn[7], line 21\u001b[0m\n\u001b[0;32m     18\u001b[0m         time\u001b[38;5;241m.\u001b[39msleep(\u001b[38;5;241m1\u001b[39m)\n\u001b[0;32m     20\u001b[0m         driver\u001b[38;5;241m.\u001b[39mexecute_script(\u001b[38;5;124m\"\u001b[39m\u001b[38;5;124marguments[0].scrollTop += 1000;\u001b[39m\u001b[38;5;124m\"\u001b[39m, reviews_modal)  \u001b[38;5;66;03m# 아래로 500px씩 스크롤\u001b[39;00m\n\u001b[1;32m---> 21\u001b[0m         \u001b[43mtime\u001b[49m\u001b[38;5;241;43m.\u001b[39;49m\u001b[43msleep\u001b[49m\u001b[43m(\u001b[49m\u001b[38;5;241;43m1\u001b[39;49m\u001b[43m)\u001b[49m\n\u001b[0;32m     23\u001b[0m         idx \u001b[38;5;241m+\u001b[39m\u001b[38;5;241m=\u001b[39m \u001b[38;5;241m1\u001b[39m\n\u001b[0;32m     24\u001b[0m \u001b[38;5;28;01mexcept\u001b[39;00m \u001b[38;5;167;01mException\u001b[39;00m \u001b[38;5;28;01mas\u001b[39;00m e:\n",
      "\u001b[1;31mKeyboardInterrupt\u001b[0m: "
     ]
    }
   ],
   "source": [
    "reviews_modal = driver.find_element(By.CSS_SELECTOR, '#yDmH0d > div.VfPpkd-Sx9Kwc.cC1eCc.UDxLd.PzCPDd.HQdjr.VfPpkd-Sx9Kwc-OWXEXe-FNFY6c > div.VfPpkd-wzTsW > div > div > div > div > div.fysCi.Vk3ZVd')\n",
    "\n",
    "try: \n",
    "    while True:\n",
    "\n",
    "        date = driver.find_element(By.CSS_SELECTOR, f'div.RHo1pe:nth-of-type({idx}) header span.bp9Aid').text\n",
    "        nickname = driver.find_element(By.CSS_SELECTOR, f'div.RHo1pe:nth-of-type({idx}) header > div div.X5PpBb').text\n",
    "        content = driver.find_element(By.CSS_SELECTOR, f'div.RHo1pe:nth-of-type({idx}) div.h3YV2d').text\n",
    "        print(idx, date, nickname, content, end='\\r')\n",
    "\n",
    "        date_cast = datetime.strptime(date, '%Y년 %m월 %d일')\n",
    "        if date_cast <= end_date:\n",
    "            break\n",
    "\n",
    "        temp = (date, nickname, content)\n",
    "        df = pd.DataFrame([temp], columns=columns)\n",
    "        saveDB(df, 'google_play_reviews', 'toss')\n",
    "        time.sleep(1)\n",
    "\n",
    "        driver.execute_script(\"arguments[0].scrollTop += 1000;\", reviews_modal)  # 아래로 500px씩 스크롤\n",
    "        time.sleep(1)\n",
    "\n",
    "        idx += 1\n",
    "except Exception as e:\n",
    "    print(f'예외 발생: {type(e).__name__} - {e}')\n",
    "finally:\n",
    "    driver.quit()"
   ]
  },
  {
   "cell_type": "code",
   "execution_count": null,
   "id": "8d7bc3ca",
   "metadata": {},
   "outputs": [],
   "source": [
    "driver.quit()"
   ]
  }
 ],
 "metadata": {
  "kernelspec": {
   "display_name": "Python 3 (ipykernel)",
   "language": "python",
   "name": "python3"
  },
  "language_info": {
   "codemirror_mode": {
    "name": "ipython",
    "version": 3
   },
   "file_extension": ".py",
   "mimetype": "text/x-python",
   "name": "python",
   "nbconvert_exporter": "python",
   "pygments_lexer": "ipython3",
   "version": "3.9.21"
  }
 },
 "nbformat": 4,
 "nbformat_minor": 5
}
