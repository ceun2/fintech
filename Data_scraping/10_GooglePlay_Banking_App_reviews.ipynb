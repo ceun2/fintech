{
 "cells": [
  {
   "cell_type": "markdown",
   "id": "2943a8f9",
   "metadata": {},
   "source": [
    "1. selenium으로 토스 GoolePlay에 접속\n",
    "2. 전체리뷰 보기 클릭\n",
    "3. 리뷰창이 뜨면 최신순으로 정렬\n",
    "4. 마우스 스크롤을 해서 오늘부터 2년전 날짜가 나올 때까지 스크롤\n",
    "5. 데이터 수집\n",
    "6. csv파일로 저장 → DB 저장\n",
    "7. 수집코드 함수화\n",
    "8. KB, 신한, 하나, 뱅크샐러드, 카카오뱅크 리뷰도 저장"
   ]
  },
  {
   "cell_type": "code",
   "execution_count": 1,
   "id": "32356645",
   "metadata": {},
   "outputs": [
    {
     "name": "stdout",
     "output_type": "stream",
     "text": [
      "['In', 'Out', '_', '__', '___', '__builtin__', '__builtins__', '__doc__', '__loader__', '__name__', '__package__', '__spec__', '_dh', '_i', '_i1', '_ih', '_ii', '_iii', '_oh', 'create_engine', 'datetime', 'exit', 'get_ipython', 'open', 'pd', 'pymysql', 'quit', 'relativedelta', 'saveDB', 'time', 'timedelta']\n"
     ]
    }
   ],
   "source": [
    "import time\n",
    "import pandas as pd\n",
    "from datetime import datetime, timedelta\n",
    "from dateutil.relativedelta import relativedelta\n",
    "\n",
    "from general_dbio import *\n",
    "print(dir())"
   ]
  },
  {
   "cell_type": "code",
   "execution_count": 2,
   "id": "c36160e8",
   "metadata": {},
   "outputs": [],
   "source": [
    "from selenium import webdriver\n",
    "from selenium.webdriver.chrome.service import Service\n",
    "from selenium.webdriver.chrome.options import Options\n",
    "from webdriver_manager.chrome import ChromeDriverManager\n",
    "\n",
    "from selenium.webdriver.common.by import By\n",
    "from selenium.webdriver.common.keys import Keys\n",
    "\n",
    "from selenium.webdriver.support.ui import WebDriverWait\n",
    "from selenium.webdriver.support import expected_conditions as EC\n",
    "\n",
    "options = Options()\n",
    "options.add_experimental_option(\"detach\", True)\n",
    "options.add_argument('start-maximized')\n",
    "\n",
    "# 사람인척하기위해서 개발자도구 network에서 user-agent추가, 언어 추가\n",
    "options.add_argument('Chrome/134.0.0.0')\n",
    "options.add_argument('lang=ko_KR')\n",
    "\n",
    "# gpu 안쓰기\n",
    "options.add_argument('--disable-gpu') "
   ]
  },
  {
   "cell_type": "code",
   "execution_count": 3,
   "id": "74293d1c",
   "metadata": {},
   "outputs": [
    {
     "name": "stdout",
     "output_type": "stream",
     "text": [
      "2023-04-13 23:08:29.909200\n",
      "2023년 04월 13일\n",
      "True\n"
     ]
    }
   ],
   "source": [
    "end_date = datetime.today() - relativedelta(years=2) - timedelta(days=1)\n",
    "end_date_text = end_date.strftime('%Y년 %m월 %d일')\n",
    "print(end_date)\n",
    "print(end_date_text)\n",
    "print( datetime.today() >= datetime.strptime(end_date_text, '%Y년 %m월 %d일'))"
   ]
  },
  {
   "cell_type": "code",
   "execution_count": 23,
   "id": "e6419518",
   "metadata": {
    "scrolled": true
   },
   "outputs": [
    {
     "data": {
      "text/plain": [
       "{'kb_star': 'com.kbstar.kbbank',\n",
       " 'hana': 'com.kebhana.hanapush',\n",
       " 'banksalad': 'com.rainist.banksalad2',\n",
       " 'kakaobank': 'com.kakaobank.channel'}"
      ]
     },
     "execution_count": 23,
     "metadata": {},
     "output_type": "execute_result"
    }
   ],
   "source": [
    "# shinhan_sol='com.shinhan.sbanking'\n",
    "# toss='viva.republica.toss'\n",
    "bank_list = dict(kb_star='com.kbstar.kbbank', hana='com.kebhana.hanapush', banksalad='com.rainist.banksalad2', kakaobank='com.kakaobank.channel')\n",
    "bank_list"
   ]
  },
  {
   "cell_type": "code",
   "execution_count": 20,
   "id": "2c53efad",
   "metadata": {},
   "outputs": [],
   "source": [
    "from selenium.common.exceptions import NoSuchElementException\n",
    "\n",
    "def safe_find_text(idx, bank_name, element_name, selector, by=By.CSS_SELECTOR, driver=None):\n",
    "    try:\n",
    "#         print(f'idx 입니다 : {idx}')\n",
    "#         print(f'bank name 입니다 : {bank_name}')\n",
    "#         print(f'element name 입니다 : {element_name}')\n",
    "#         print(f'selector 출력해보는중!!! {selector}')\n",
    "#         print(f'return값 출력해보는 중!!! {driver.find_element(by, selector).text}')\n",
    "        element = WebDriverWait(driver, 10).until(\n",
    "            EC.presence_of_element_located((by, selector))\n",
    "        )\n",
    "        return element.text\n",
    "    except NoSuchElementException:\n",
    "        print(f'{bank_name}에서 {idx} : {element_name} 수집 중')\n",
    "        return None\n",
    "    except Exception as e:\n",
    "        print(f'{bank_name}에서 {element_name} 수집 중')\n",
    "        print(f\"⚠️ 예외 발생: {e} | selector: {selector}\")\n",
    "        return None\n",
    "\n",
    "def safe_find_attr(idx, bank_name, element_name, selector, attr, by=By.CSS_SELECTOR, driver=None):\n",
    "    try:\n",
    "        return float(driver.find_element(by, selector).get_attribute(attr)[-10])\n",
    "    except NoSuchElementException:\n",
    "        return None\n",
    "    except Exception as e:\n",
    "        print(f'{bank_name}에서 {element_name} 수집 중')\n",
    "        print(f\"⚠️ 예외 발생: {e} | selector: {selector} | attr: {attr}\")\n",
    "        return None\n"
   ]
  },
  {
   "cell_type": "code",
   "execution_count": 14,
   "id": "839cbf94",
   "metadata": {},
   "outputs": [],
   "source": [
    "driver = webdriver.Chrome(\n",
    "service=Service(ChromeDriverManager().install()),\n",
    "options=options\n",
    ")\n",
    "\n",
    "driver.get(f'https://play.google.com/store/apps/details?id=viva.republica.toss')\n",
    "\n",
    "reviews_btn = WebDriverWait(driver, 10).until(\n",
    "            EC.element_to_be_clickable((By.CSS_SELECTOR, \"button[aria-label*='평점 및 리뷰 자세히 알아보기']\"))\n",
    "        )\n",
    "reviews_btn.click()\n",
    "order_btn = WebDriverWait(driver, 10).until(\n",
    "        EC.element_to_be_clickable((By.CSS_SELECTOR, \"#sortBy_1\"))\n",
    "    )\n",
    "order_btn.click()\n",
    "recent_order = WebDriverWait(driver, 10).until(\n",
    "        EC.element_to_be_clickable((By.CSS_SELECTOR, 'span[aria-label*=\"최신\"]'))\n",
    "    )\n",
    "recent_order.click()\n",
    "\n",
    "reviews_modal = driver.find_element(By.CSS_SELECTOR, '#yDmH0d > div.VfPpkd-Sx9Kwc.cC1eCc.UDxLd.PzCPDd.HQdjr.VfPpkd-Sx9Kwc-OWXEXe-FNFY6c > div.VfPpkd-wzTsW > div > div > div > div > div.fysCi.Vk3ZVd')"
   ]
  },
  {
   "cell_type": "code",
   "execution_count": 9,
   "id": "93d20ea7",
   "metadata": {},
   "outputs": [
    {
     "data": {
      "text/plain": [
       "'유7080'"
      ]
     },
     "execution_count": 9,
     "metadata": {},
     "output_type": "execute_result"
    }
   ],
   "source": [
    "driver.find_element(By.CSS_SELECTOR, f'div.RHo1pe:nth-of-type(1) header > div div.X5PpBb').text"
   ]
  },
  {
   "cell_type": "code",
   "execution_count": null,
   "id": "97b1cfad",
   "metadata": {
    "scrolled": true
   },
   "outputs": [
    {
     "name": "stdout",
     "output_type": "stream",
     "text": [
      "1400 2025년 2월 18일 박예솔 5.0 사용하기 편리하고 다른 은행들보다 다양한 기능들을 편하게 이용할 수 있어서 너무 좋습니다.으로 돌아와지네요.. 조회도안되구 아무것도 할수가없어요... 너무 불편합니다..;;서 노출해야하는 불편함과 불안함을 동시에 만들어내는 기이한 은행어플 지문인증 다시 개발하라요런게 아니더라고요안 보임 ㅋㅋㅋㅋ 진짜 답대가리가 없는 수준. 돈 받아쳐먹고 이런거 할 생각은 못하나봄있는데? 하고 다시 해보면 또 입력하라하고 .. 그럴꺼면 애초에 입력란을 날리던가.. 왜 입력되어있는 척을 하는지 모르겠음.. 여로모로 미친 어플가? 왜 주머니에 넣고 실내에서 실컷 돌아다녔는데도 걸음수가 오르질 않는것인지? 게다가 왜 핸드폰 상단에 걷기 상태창은 계속 뜨고있게 만드는거? 없애도 좀 지나면 또 생기고.. 알림을 끄고 싶어도 입출금알림같은 뱅킹 내 알림을 받아야하는데.. 진짜 생각없는 업데이트입니다.\r"
     ]
    }
   ],
   "source": [
    "columns = ['날짜', '닉네임','평점','리뷰내용']\n",
    "\n",
    "for bank, domain in bank_list.items():\n",
    "    idx = 1\n",
    "    driver = webdriver.Chrome(\n",
    "    service=Service(ChromeDriverManager().install()),\n",
    "    options=options\n",
    "    )\n",
    "\n",
    "    driver.get(f'https://play.google.com/store/apps/details?id={domain}')\n",
    "\n",
    "    reviews_btn = WebDriverWait(driver, 10).until(\n",
    "            EC.element_to_be_clickable((By.CSS_SELECTOR, \"button[aria-label*='평점 및 리뷰 자세히 알아보기']\"))\n",
    "        )\n",
    "    reviews_btn.click()\n",
    "    order_btn = WebDriverWait(driver, 10).until(\n",
    "            EC.element_to_be_clickable((By.CSS_SELECTOR, \"#sortBy_1\"))\n",
    "        )\n",
    "    order_btn.click()\n",
    "    recent_order = WebDriverWait(driver, 10).until(\n",
    "            EC.element_to_be_clickable((By.CSS_SELECTOR, 'span[aria-label*=\"최신\"]'))\n",
    "        )\n",
    "    time.sleep(1)\n",
    "    recent_order.click()\n",
    "\n",
    "\n",
    "    reviews_modal = driver.find_element(By.CSS_SELECTOR, '#yDmH0d > div.VfPpkd-Sx9Kwc.cC1eCc.UDxLd.PzCPDd.HQdjr.VfPpkd-Sx9Kwc-OWXEXe-FNFY6c > div.VfPpkd-wzTsW > div > div > div > div > div.fysCi.Vk3ZVd')\n",
    "\n",
    "    try: \n",
    "        while True:\n",
    "            time.sleep(1)\n",
    "            date = safe_find_text(idx, bank, 'date', f'div.RHo1pe:nth-of-type({idx}) header span.bp9Aid', driver=driver)\n",
    "            nickname = safe_find_text(idx, bank, 'nickname', f'div.RHo1pe:nth-of-type({idx}) header > div div.X5PpBb', driver=driver)\n",
    "            rating = safe_find_attr(idx, bank, 'rating', f'div.RHo1pe:nth-of-type({idx}) header .Jx4nYe > div', 'aria-label', driver=driver)\n",
    "            content = safe_find_text(idx, bank, 'content', f'div.RHo1pe:nth-of-type({idx}) div.h3YV2d', driver=driver)\n",
    "\n",
    "            print(idx, date, nickname, rating, content, end='\\r')\n",
    "            \n",
    "            if not date:\n",
    "                continue\n",
    "\n",
    "            date_cast = datetime.strptime(date, '%Y년 %m월 %d일')\n",
    "            if date_cast <= end_date:\n",
    "                break\n",
    "\n",
    "            temp = (date, nickname, rating, content)\n",
    "            df = pd.DataFrame([temp], columns=columns)\n",
    "            saveDB(df, 'google_play_reviews', bank)\n",
    "            time.sleep(1)\n",
    "            try:\n",
    "                driver.execute_script(\"arguments[0].scrollTop += 1000;\", reviews_modal)  # 아래로 500px씩 스크롤\n",
    "                time.sleep(1)\n",
    "            except:\n",
    "                print('스크롤 안됨')\n",
    "\n",
    "            idx += 1\n",
    "    except Exception as e:\n",
    "        print(f'예외 발생: {type(e).__name__} - {e}')\n",
    "    finally:\n",
    "        driver.quit()"
   ]
  },
  {
   "cell_type": "code",
   "execution_count": 12,
   "id": "e82c7ff4",
   "metadata": {},
   "outputs": [],
   "source": [
    "driver.quit()"
   ]
  }
 ],
 "metadata": {
  "kernelspec": {
   "display_name": "Python 3 (ipykernel)",
   "language": "python",
   "name": "python3"
  },
  "language_info": {
   "codemirror_mode": {
    "name": "ipython",
    "version": 3
   },
   "file_extension": ".py",
   "mimetype": "text/x-python",
   "name": "python",
   "nbconvert_exporter": "python",
   "pygments_lexer": "ipython3",
   "version": "3.9.21"
  }
 },
 "nbformat": 4,
 "nbformat_minor": 5
}
