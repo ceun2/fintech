{
 "cells": [
  {
   "cell_type": "markdown",
   "id": "9fc8885a",
   "metadata": {},
   "source": [
    "1. 하나은행에서 환율 정보 가져오기\n",
    "2. 1995-01-03부터 2025-04-08\n",
    "3. 월-금 datetime 함수\n",
    "4. selenium으로 날짜 입력 후 환율 조회\n",
    "5. pd.read_html으로 테이블 데이터 추출\n",
    "6. mysql에 exchange_rate DB 생성 후 exchange_rate 테이블로 저장\n",
    "7. dataframe['date'] = date 추가"
   ]
  },
  {
   "cell_type": "code",
   "execution_count": 5,
   "id": "387201eb",
   "metadata": {},
   "outputs": [],
   "source": [
    "import pandas as pd\n",
    "from io import StringIO\n",
    "\n",
    "import time\n",
    "import holidays\n",
    "from datetime import datetime\n",
    "\n",
    "from general_dbio import *"
   ]
  },
  {
   "cell_type": "code",
   "execution_count": 11,
   "id": "11727d92",
   "metadata": {},
   "outputs": [],
   "source": [
    "from selenium import webdriver\n",
    "from selenium.webdriver.chrome.service import Service\n",
    "from selenium.webdriver.chrome.options import Options\n",
    "from webdriver_manager.chrome import ChromeDriverManager\n",
    "\n",
    "from selenium.webdriver.common.by import By\n",
    "from selenium.webdriver.common.keys import Keys\n",
    "\n",
    "from selenium.webdriver.support.ui import WebDriverWait\n",
    "from selenium.webdriver.support import expected_conditions as EC\n",
    "\n",
    "options = Options()\n",
    "options.add_experimental_option(\"detach\", True)\n",
    "options.add_argument('start-maximized')\n",
    "\n",
    "# 사람인척하기위해서 개발자도구 network에서 user-agent추가, 언어 추가\n",
    "options.add_argument('Chrome/134.0.0.0')\n",
    "options.add_argument('lang=ko_KR')\n",
    "\n",
    "driver = webdriver.Chrome(\n",
    "    service=Service(ChromeDriverManager().install()),\n",
    "    options=options\n",
    "    )\n",
    "driver.get(\"https://www.kebhana.com/cont/mall/mall15/mall1501/index.jsp?_menuNo=23100&#35;//HanaBank\")"
   ]
  },
  {
   "cell_type": "markdown",
   "id": "db86c7a8",
   "metadata": {},
   "source": [
    "## iframe의 존재 확인--!!"
   ]
  },
  {
   "attachments": {
    "image.png": {
     "image/png": "[encoded data removed]"
    }
   },
   "cell_type": "markdown",
   "id": "44f7315c",
   "metadata": {},
   "source": [
    "![image.png](attachment:image.png)"
   ]
  },
  {
   "cell_type": "markdown",
   "id": "e8474c71",
   "metadata": {},
   "source": [
    "✅ 결론:\n",
    "* iframe = WebDriverWait(...).until(...) → iframe 변수에 WebElement가 할당됨 ✔️\n",
    "\n",
    "* 실제로 find_element()와 동일하게 동작함 (단, 타이밍 이슈를 회피)\n",
    "\n",
    "* 이후에 driver.switch_to.frame(iframe) 쓸 수 있음"
   ]
  },
  {
   "cell_type": "markdown",
   "id": "192a6370",
   "metadata": {},
   "source": [
    "#### 프레임이 여러개인 경우\n",
    "iframes = WebDriverWait(driver, 10).until(\n",
    "____EC.presence_of_all_elements_located((By.TAG_NAME, 'iframe'))\n",
    ")\n",
    "\n",
    "driver.switch_to.frame(iframes[0])  # 첫 번째 프레임으로 이동"
   ]
  },
  {
   "cell_type": "code",
   "execution_count": 50,
   "id": "a0806535",
   "metadata": {},
   "outputs": [
    {
     "name": "stdout",
     "output_type": "stream",
     "text": [
      "\n",
      "    DB에 저장하는 함수\n",
      "    df, db_name, table_name을 argument로\n",
      "    \n"
     ]
    }
   ],
   "source": [
    "print(saveDB.__doc__)"
   ]
  },
  {
   "cell_type": "markdown",
   "id": "a01d39c7",
   "metadata": {},
   "source": [
    "## 특정 기간을 기준으로 반복문\n",
    "* pandas의 date_range() 사용"
   ]
  },
  {
   "cell_type": "code",
   "execution_count": 12,
   "id": "6c0520ad",
   "metadata": {},
   "outputs": [
    {
     "name": "stdout",
     "output_type": "stream",
     "text": [
      "2025-04-08 : 저장완료\r"
     ]
    }
   ],
   "source": [
    "start_date = \"1995-01-03\"\n",
    "end_date = \"2025-04-08\"\n",
    "columns = ['통화', '현찰_살때_환율', '현찰_살때_spread', '현찰_팔때_환율', '현찰_팔때_spread', '송금_보낼때', '송금_받을때', '외화_수표_팔때', '매매기준율', '환가료율', '미화환산율']\n",
    "\n",
    "# 한국 공휴일 리스트 가져오기 (1995년~2025년)\n",
    "kr_holidays = holidays.KR(years=[1995, 2025])\n",
    "\n",
    "for date in pd.date_range(start=start_date, end=end_date):\n",
    "    if date.weekday() >= 5 or date in kr_holidays:\n",
    "        continue\n",
    "\n",
    "    iframe = WebDriverWait(driver, 10).until(\n",
    "        EC.presence_of_element_located((By.TAG_NAME, 'iframe'))\n",
    "    )\n",
    "    driver.switch_to.frame(iframe)\n",
    "\n",
    "    date_search_box = driver.find_element(By.CSS_SELECTOR, '#tmpInqStrDt')\n",
    "    date_search_box.clear()\n",
    "    date_search_box.send_keys(date.strftime('%Y-%m-%d'))\n",
    "\n",
    "    search_btn = driver.find_element(By.CSS_SELECTOR, '#HANA_CONTENTS_DIV > div.btnBoxCenter > a')\n",
    "    search_btn.click()\n",
    "\n",
    "    exchange_rate_table = WebDriverWait(driver, 10).until(\n",
    "        EC.presence_of_element_located((By.CSS_SELECTOR, '#searchContentDiv > div.printdiv > table'))\n",
    "    ) #.get_attribute('outerHTML') 했어도 됐을 듯!!!\n",
    "\n",
    "    df = pd.read_html(StringIO(driver.page_source))[1]\n",
    "    df.columns = columns\n",
    "    df.insert(0, '날짜', date.strftime('%Y-%m-%d'))\n",
    "#     display(df)\n",
    "\n",
    "    saveDB(df, 'hanabank_exchange_rate', 'exchange_rate')\n",
    "\n",
    "    driver.switch_to.default_content()  # 원래 메인 페이지로 돌아오기\n",
    "    print(date.strftime('%Y-%m-%d'), ': 저장완료', end='\\r')\n",
    "    time.sleep(5)"
   ]
  },
  {
   "cell_type": "code",
   "execution_count": 10,
   "id": "8272a8b0",
   "metadata": {},
   "outputs": [],
   "source": [
    "driver.quit()"
   ]
  }
 ],
 "metadata": {
  "kernelspec": {
   "display_name": "Python 3 (ipykernel)",
   "language": "python",
   "name": "python3"
  },
  "language_info": {
   "codemirror_mode": {
    "name": "ipython",
    "version": 3
   },
   "file_extension": ".py",
   "mimetype": "text/x-python",
   "name": "python",
   "nbconvert_exporter": "python",
   "pygments_lexer": "ipython3",
   "version": "3.9.21"
  }
 },
 "nbformat": 4,
 "nbformat_minor": 5
}
