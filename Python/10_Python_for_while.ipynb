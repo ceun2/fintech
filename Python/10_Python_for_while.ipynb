{
 "cells": [
  {
   "cell_type": "markdown",
   "id": "3ca3330d",
   "metadata": {},
   "source": [
    "# 반복문 for, while\n",
    "* 반복문은 동일한 작업을 여러번 반복해야할 경우 사용\n",
    "* for, while 두 종류의 반복문이 있음\n",
    "* for : 반복 횟수가 정해져 있는 경우\n",
    "* while : 반복 횟수가 정해져 있지 않은 경우 (무한 반복)"
   ]
  },
  {
   "cell_type": "markdown",
   "id": "430dc279",
   "metadata": {},
   "source": [
    "## for 반복문\n",
    "* 반복할 횟수가 정해져 있는 경우\n",
    "\n",
    "for 변수1, 변수2.. in 반복할 객체/자료: <br>\n",
    "____ 반복할 코드\n",
    "\n",
    "* 순서가 있는 자료형(문자열, 리스트, 튜플) + 순서는 없지만 dict도 반복문에서 사용 가능"
   ]
  },
  {
   "cell_type": "code",
   "execution_count": 1,
   "id": "64238e09",
   "metadata": {},
   "outputs": [
    {
     "name": "stdout",
     "output_type": "stream",
     "text": [
      "1\n",
      "2\n",
      "3\n",
      "4\n",
      "5\n",
      "6\n",
      "7\n",
      "8\n",
      "9\n",
      "10\n"
     ]
    }
   ],
   "source": [
    "for i in range(1,11):\n",
    "    print(i)"
   ]
  },
  {
   "cell_type": "code",
   "execution_count": 2,
   "id": "40a052f7",
   "metadata": {},
   "outputs": [
    {
     "name": "stdout",
     "output_type": "stream",
     "text": [
      "파 이 썬 은   문 자 열 을   반 복 문 에   넣 어   출 력   가 능 "
     ]
    }
   ],
   "source": [
    "# 문자열\n",
    "for char in '파이썬은 문자열을 반복문에 넣어 출력 가능':\n",
    "    print(char, end=' ')"
   ]
  },
  {
   "cell_type": "code",
   "execution_count": 3,
   "id": "da96a0c5",
   "metadata": {},
   "outputs": [
    {
     "name": "stdout",
     "output_type": "stream",
     "text": [
      "1\n",
      "2\n",
      "3\n",
      "사\n",
      "오\n",
      "육\n",
      "[7, 8, 9]\n",
      "(10, 11)\n",
      "{'key': 'value'}\n"
     ]
    }
   ],
   "source": [
    "# 리스트\n",
    "for item in [1,2,3,'사','오','육',[7,8,9],(10,11),{'key':'value'}]:\n",
    "    print(item)"
   ]
  },
  {
   "cell_type": "code",
   "execution_count": 7,
   "id": "eec9edd3",
   "metadata": {},
   "outputs": [],
   "source": [
    "# 딕셔너리\n",
    "data = dict(이름='홍길동',나이=40, 주소='서울',전화번호='010-0000-0000')"
   ]
  },
  {
   "cell_type": "code",
   "execution_count": 12,
   "id": "1c2ddf31",
   "metadata": {},
   "outputs": [
    {
     "name": "stdout",
     "output_type": "stream",
     "text": [
      "이름\n",
      "나이\n",
      "주소\n",
      "전화번호\n",
      "\n",
      "이름\n",
      "나이\n",
      "주소\n",
      "전화번호\n"
     ]
    }
   ],
   "source": [
    "for item in data:\n",
    "    print(item)\n",
    "    \n",
    "print()\n",
    "\n",
    "for item in data.keys():\n",
    "    print(item)"
   ]
  },
  {
   "cell_type": "code",
   "execution_count": 11,
   "id": "135836fa",
   "metadata": {},
   "outputs": [
    {
     "name": "stdout",
     "output_type": "stream",
     "text": [
      "홍길동\n",
      "40\n",
      "서울\n",
      "010-0000-0000\n",
      "\n",
      "홍길동\n",
      "40\n",
      "서울\n",
      "010-0000-0000\n"
     ]
    }
   ],
   "source": [
    "for item in data:\n",
    "    print(data[item])\n",
    "    \n",
    "print()\n",
    "\n",
    "for item in data.values():\n",
    "    print(item)"
   ]
  },
  {
   "cell_type": "code",
   "execution_count": 13,
   "id": "86e7d7ca",
   "metadata": {},
   "outputs": [
    {
     "name": "stdout",
     "output_type": "stream",
     "text": [
      "이름 홍길동\n",
      "나이 40\n",
      "주소 서울\n",
      "전화번호 010-0000-0000\n"
     ]
    }
   ],
   "source": [
    "for key, value in data.items():\n",
    "    print(key, value)"
   ]
  },
  {
   "cell_type": "markdown",
   "id": "a8c71759",
   "metadata": {},
   "source": [
    "* for 반복문을 이용해서 1부터 10까지 정수를 더한 합을 출력"
   ]
  },
  {
   "cell_type": "code",
   "execution_count": 14,
   "id": "305a0563",
   "metadata": {},
   "outputs": [
    {
     "name": "stdout",
     "output_type": "stream",
     "text": [
      "1\n",
      "3\n",
      "6\n",
      "10\n",
      "15\n",
      "21\n",
      "28\n",
      "36\n",
      "45\n",
      "55\n"
     ]
    }
   ],
   "source": [
    "sum = 0\n",
    "\n",
    "for i in range(1,11):\n",
    "    sum += i\n",
    "    print(sum)"
   ]
  }
 ],
 "metadata": {
  "kernelspec": {
   "display_name": "Python 3 (ipykernel)",
   "language": "python",
   "name": "python3"
  },
  "language_info": {
   "codemirror_mode": {
    "name": "ipython",
    "version": 3
   },
   "file_extension": ".py",
   "mimetype": "text/x-python",
   "name": "python",
   "nbconvert_exporter": "python",
   "pygments_lexer": "ipython3",
   "version": "3.9.21"
  }
 },
 "nbformat": 4,
 "nbformat_minor": 5
}
