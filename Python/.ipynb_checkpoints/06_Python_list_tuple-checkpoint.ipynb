{
 "cells": [
  {
   "cell_type": "markdown",
   "id": "666e5cfd",
   "metadata": {},
   "source": [
    "# 리스트와 튜플 사용하기 초급편"
   ]
  },
  {
   "cell_type": "code",
   "execution_count": null,
   "id": "5e4d23a8",
   "metadata": {},
   "outputs": [],
   "source": [
    "a = 1\n",
    "b = 2\n",
    "c = 3\n",
    "d = 4\n",
    "e = 5"
   ]
  },
  {
   "cell_type": "code",
   "execution_count": 35,
   "id": "4a4485fc",
   "metadata": {},
   "outputs": [
    {
     "name": "stdout",
     "output_type": "stream",
     "text": [
      "<class 'list'> <class 'list'>\n"
     ]
    }
   ],
   "source": [
    "data = [1,2,3,4,5]\n",
    "data2 = [1, 2, \"파이썬\", \"중복\", 3.0, [4,5,6], \"중복\", (7,8,\"리스트\"), True, False]\n",
    "print(type(data), type(data2))"
   ]
  },
  {
   "cell_type": "markdown",
   "id": "6f30f884",
   "metadata": {},
   "source": [
    "* 모든 자료형이 다 들어갈 수 있기 때문에 속도가 느리다"
   ]
  },
  {
   "cell_type": "markdown",
   "id": "ee27a0f4",
   "metadata": {},
   "source": [
    "# 리스트 만들기\n",
    "* 대괄호 안에 자료를 나열해서 만듦\n",
    "* 내용이 비어있는 리스트도 생성 가능 []\n",
    "* 자료가 1개만 있는 리스트도 생성 가능"
   ]
  },
  {
   "cell_type": "code",
   "execution_count": 2,
   "id": "7cc94c3c",
   "metadata": {},
   "outputs": [
    {
     "name": "stdout",
     "output_type": "stream",
     "text": [
      "[] <class 'list'>\n"
     ]
    }
   ],
   "source": [
    "empty_list = []\n",
    "print(empty_list, type(empty_list))"
   ]
  },
  {
   "cell_type": "markdown",
   "id": "353260b5",
   "metadata": {},
   "source": [
    "## 리스트 형변환 함수 list()"
   ]
  },
  {
   "cell_type": "code",
   "execution_count": 8,
   "id": "215db8e1",
   "metadata": {},
   "outputs": [
    {
     "name": "stdout",
     "output_type": "stream",
     "text": [
      "<class 'range'>\n",
      "\n",
      "[1, 2, 3, 4, 5, 6, 7, 8, 9] <class 'list'>\n"
     ]
    }
   ],
   "source": [
    "print(type(range(1,10)))\n",
    "\n",
    "print()\n",
    "\n",
    "print(list(range(1, 10)), type(list(range(1, 10))))"
   ]
  },
  {
   "cell_type": "markdown",
   "id": "8ff98002",
   "metadata": {},
   "source": [
    "## 숫자를 생성해주는 range()\n",
    "* range(시작번호, 끝번호+1, step)"
   ]
  },
  {
   "cell_type": "code",
   "execution_count": 11,
   "id": "79d5dcaa",
   "metadata": {},
   "outputs": [
    {
     "data": {
      "text/plain": [
       "[1, 3, 5, 7, 9]"
      ]
     },
     "execution_count": 11,
     "metadata": {},
     "output_type": "execute_result"
    }
   ],
   "source": [
    "list(range(1,11,2))"
   ]
  },
  {
   "cell_type": "code",
   "execution_count": 12,
   "id": "629b570e",
   "metadata": {},
   "outputs": [
    {
     "data": {
      "text/plain": [
       "[3, 6, 9]"
      ]
     },
     "execution_count": 12,
     "metadata": {},
     "output_type": "execute_result"
    }
   ],
   "source": [
    "list(range(3,10,3))"
   ]
  },
  {
   "cell_type": "code",
   "execution_count": 15,
   "id": "e543a29c",
   "metadata": {},
   "outputs": [
    {
     "data": {
      "text/plain": [
       "[20, 16, 12, 8, 4]"
      ]
     },
     "execution_count": 15,
     "metadata": {},
     "output_type": "execute_result"
    }
   ],
   "source": [
    "list(range(20,1,-4))"
   ]
  },
  {
   "cell_type": "markdown",
   "id": "0c05f233",
   "metadata": {},
   "source": [
    "## 리스트에 자료 추가하기 .append()"
   ]
  },
  {
   "cell_type": "code",
   "execution_count": 16,
   "id": "b71697b6",
   "metadata": {},
   "outputs": [
    {
     "name": "stdout",
     "output_type": "stream",
     "text": [
      "[1, 2, 3, 4, 5]\n",
      "\n",
      "[1, 2, 3, 4, 5, '추가']\n"
     ]
    }
   ],
   "source": [
    "print(data)\n",
    "\n",
    "print()\n",
    "\n",
    "data.append(\"추가\")\n",
    "print(data)"
   ]
  },
  {
   "cell_type": "markdown",
   "id": "1b1308ab",
   "metadata": {},
   "source": [
    "## 특정 위치에 자료 추가 .insert\n",
    "* insert(추가할 위치의 인덱스, 추가할 값)"
   ]
  },
  {
   "cell_type": "code",
   "execution_count": 17,
   "id": "e3276333",
   "metadata": {},
   "outputs": [
    {
     "name": "stdout",
     "output_type": "stream",
     "text": [
      "[1, 2, 3, 4, 5, '추가']\n",
      "\n",
      "[1, 2, '특정 위치', 3, 4, 5, '추가']\n"
     ]
    }
   ],
   "source": [
    "print(data)\n",
    "\n",
    "print()\n",
    "\n",
    "data.insert(2, \"특정 위치\")\n",
    "print(data)"
   ]
  },
  {
   "cell_type": "markdown",
   "id": "23f71e06",
   "metadata": {},
   "source": [
    "## 리스트의 자료 삭제하기\n",
    "* del 변수명[인덱스 번호] : 해당 인덱스 번호의 자료 삭제\n",
    "* .pop() : 리스트의 가장 끝 자료가 출력되면서 삭제됨\n",
    "* .remove(값) : 리스트의 앞부터 일치하는 값 1개를 찾아서 삭제"
   ]
  },
  {
   "cell_type": "code",
   "execution_count": 21,
   "id": "9707b739",
   "metadata": {},
   "outputs": [
    {
     "name": "stdout",
     "output_type": "stream",
     "text": [
      "[1, 2, '파이썬', '중복', 3.0, [4, 5, 6], '중복', (7, 8, '리스트'), True, False]\n",
      "\n",
      "[2, '파이썬', '중복', 3.0, [4, 5, 6], '중복', (7, 8, '리스트'), True, False]\n"
     ]
    }
   ],
   "source": [
    "print(data2)\n",
    "\n",
    "print()\n",
    "\n",
    "del data2[0]\n",
    "print(data2)"
   ]
  },
  {
   "cell_type": "code",
   "execution_count": 22,
   "id": "24428800",
   "metadata": {},
   "outputs": [
    {
     "name": "stdout",
     "output_type": "stream",
     "text": [
      "[2, '파이썬', '중복', 3.0, [4, 5, 6], '중복', (7, 8, '리스트'), True, False]\n",
      "\n",
      "[2, '파이썬', '중복', 3.0, [4, 5, 6], '중복', (7, 8, '리스트'), True]\n"
     ]
    }
   ],
   "source": [
    "print(data2)\n",
    "\n",
    "print()\n",
    "\n",
    "data2.pop()\n",
    "print(data2)"
   ]
  },
  {
   "cell_type": "code",
   "execution_count": 23,
   "id": "c4905da3",
   "metadata": {},
   "outputs": [
    {
     "name": "stdout",
     "output_type": "stream",
     "text": [
      "[2, '파이썬', '중복', 3.0, [4, 5, 6], '중복', (7, 8, '리스트'), True]\n",
      "\n",
      "[2, '파이썬', 3.0, [4, 5, 6], '중복', (7, 8, '리스트'), True]\n"
     ]
    }
   ],
   "source": [
    "print(data2)\n",
    "\n",
    "print()\n",
    "\n",
    "data2.remove(\"중복\")\n",
    "print(data2)"
   ]
  },
  {
   "cell_type": "markdown",
   "id": "88dad41c",
   "metadata": {},
   "source": [
    "## 리스트를 확장하기 .extend()\n",
    "* 리스트에 자료를 추가하되, 요소만 추가"
   ]
  },
  {
   "cell_type": "code",
   "execution_count": 28,
   "id": "1622faa5",
   "metadata": {},
   "outputs": [
    {
     "name": "stdout",
     "output_type": "stream",
     "text": [
      "[1, 2, 3, [4, 5, 6]]\n"
     ]
    }
   ],
   "source": [
    "a = [1, 2, 3]\n",
    "b = [4, 5, 6]\n",
    "a.append(b)\n",
    "print(a)"
   ]
  },
  {
   "cell_type": "code",
   "execution_count": 29,
   "id": "25a26ae2",
   "metadata": {
    "scrolled": true
   },
   "outputs": [
    {
     "name": "stdout",
     "output_type": "stream",
     "text": [
      "[0, 1, 2, 5, 6, 7]\n"
     ]
    }
   ],
   "source": [
    "c = [0, 1, 2]\n",
    "d = [5, 6, 7]\n",
    "c.extend(d)\n",
    "print(c)"
   ]
  },
  {
   "cell_type": "markdown",
   "id": "7c2b8a10",
   "metadata": {},
   "source": [
    "## list + list = .extend()를 한 것과 동일"
   ]
  },
  {
   "cell_type": "code",
   "execution_count": 30,
   "id": "f6dc06f7",
   "metadata": {},
   "outputs": [
    {
     "name": "stdout",
     "output_type": "stream",
     "text": [
      "[0, 0, 0, 1, 1, 1]\n"
     ]
    }
   ],
   "source": [
    "e = [0, 0, 0]\n",
    "f = [1, 1, 1]\n",
    "print(e + f)"
   ]
  },
  {
   "cell_type": "markdown",
   "id": "920bd5bc",
   "metadata": {},
   "source": [
    "## 리스트 안에서 원하는 값의 인덱스 찾기\n",
    "* in, not in : 리스트 안에 원하는 값이 있는지 확인\n",
    "* .index(찾는 값) : 원하는 값이 있는 첫번째 위치를 찾을 수 있음\n",
    "* .index(찾는 값, 탐색 시작 인덱스) : 동일한 값 여러 개일 경우 사용하기 좋음"
   ]
  },
  {
   "cell_type": "code",
   "execution_count": 32,
   "id": "50decc67",
   "metadata": {},
   "outputs": [
    {
     "name": "stdout",
     "output_type": "stream",
     "text": [
      "True\n",
      "False\n"
     ]
    }
   ],
   "source": [
    "print(4 in data)\n",
    "print(5 not in data)"
   ]
  },
  {
   "cell_type": "code",
   "execution_count": 39,
   "id": "3032cf6b",
   "metadata": {},
   "outputs": [
    {
     "name": "stdout",
     "output_type": "stream",
     "text": [
      "[1, 2, '파이썬', '중복', 3.0, [4, 5, 6], '중복', (7, 8, '리스트'), True, False]\n",
      "3\n",
      "6\n"
     ]
    }
   ],
   "source": [
    "print(data2)\n",
    "print(data2.index(\"중복\"))\n",
    "print(data2.index(\"중복\", 4))"
   ]
  },
  {
   "cell_type": "markdown",
   "id": "88329af2",
   "metadata": {},
   "source": [
    "## 리스트 안에서 특정 값의 개수 구하기 .count(값)"
   ]
  },
  {
   "cell_type": "code",
   "execution_count": 40,
   "id": "50f03b48",
   "metadata": {},
   "outputs": [
    {
     "name": "stdout",
     "output_type": "stream",
     "text": [
      "[1, 2, '파이썬', '중복', 3.0, [4, 5, 6], '중복', (7, 8, '리스트'), True, False]\n",
      "2\n"
     ]
    }
   ],
   "source": [
    "print(data2)\n",
    "print(data2.count(\"중복\"))"
   ]
  },
  {
   "cell_type": "markdown",
   "id": "ebe4d498",
   "metadata": {},
   "source": [
    "## 리스트 순서 뒤집기 .reverse()\n",
    "* 실행 즉시 원본 데이터 변경\n",
    "* 재할당이 필요없음"
   ]
  },
  {
   "cell_type": "code",
   "execution_count": 41,
   "id": "1ba8a048",
   "metadata": {},
   "outputs": [
    {
     "name": "stdout",
     "output_type": "stream",
     "text": [
      "[1, 2, 3, 4, 5, 6, 7, 8, 9, 10]\n",
      "\n",
      "[10, 9, 8, 7, 6, 5, 4, 3, 2, 1]\n"
     ]
    }
   ],
   "source": [
    "numbers = list(range(1,11))\n",
    "print(numbers)\n",
    "\n",
    "print()\n",
    "\n",
    "numbers.reverse()\n",
    "print(numbers)"
   ]
  },
  {
   "cell_type": "markdown",
   "id": "28573b9b",
   "metadata": {},
   "source": [
    "### 출력만 역순으로 하기\n",
    "* 원데이터는 바꾸고 싶지 않을 때\n",
    "* 인덱싱으로 순서 뒤집기"
   ]
  },
  {
   "cell_type": "code",
   "execution_count": 42,
   "id": "1826bca1",
   "metadata": {},
   "outputs": [
    {
     "name": "stdout",
     "output_type": "stream",
     "text": [
      "[1, 2, 3, 4, 5, 6, 7, 8, 9, 10]\n"
     ]
    }
   ],
   "source": [
    "print(numbers[::-1])"
   ]
  },
  {
   "cell_type": "markdown",
   "id": "e224ebd1",
   "metadata": {},
   "source": [
    "## 리스트 정렬 .sort() 오름차순 .sort(reverse=True) 내림차순\n",
    "* 실행 즉시 원본 데이터를 바꿈"
   ]
  },
  {
   "cell_type": "code",
   "execution_count": 43,
   "id": "59636b15",
   "metadata": {},
   "outputs": [],
   "source": [
    "mixed1 = [5, 2, 1, 4, 7, 0]\n",
    "mixed2 = [0, 2, 4, 7, 1, 3]"
   ]
  },
  {
   "cell_type": "code",
   "execution_count": 44,
   "id": "009271f6",
   "metadata": {},
   "outputs": [
    {
     "name": "stdout",
     "output_type": "stream",
     "text": [
      "[0, 1, 2, 4, 5, 7]\n"
     ]
    }
   ],
   "source": [
    "mixed1.sort()\n",
    "print(mixed1)"
   ]
  },
  {
   "cell_type": "code",
   "execution_count": 45,
   "id": "a3f12b49",
   "metadata": {},
   "outputs": [
    {
     "name": "stdout",
     "output_type": "stream",
     "text": [
      "[7, 4, 3, 2, 1, 0]\n"
     ]
    }
   ],
   "source": [
    "mixed2.sort(reverse=True)\n",
    "print(mixed2)"
   ]
  },
  {
   "cell_type": "markdown",
   "id": "10123dd0",
   "metadata": {},
   "source": [
    "## sorted(리스트) 오름차순 \n",
    "## sorted(리스트, reverse=True) 내림차순\n",
    "* 원본 데이터를 바꾸지 않고 리스트를 정렬"
   ]
  },
  {
   "cell_type": "code",
   "execution_count": 46,
   "id": "c233e4e4",
   "metadata": {},
   "outputs": [],
   "source": [
    "mixed3 = [5, 2, 1, 4, 7, 0]\n",
    "mixed4 = [0, 2, 4, 7, 1, 3]"
   ]
  },
  {
   "cell_type": "code",
   "execution_count": 53,
   "id": "c615a31d",
   "metadata": {},
   "outputs": [
    {
     "name": "stdout",
     "output_type": "stream",
     "text": [
      "[0, 1, 2, 4, 5, 7]\n",
      "[5, 2, 1, 4, 7, 0]\n"
     ]
    }
   ],
   "source": [
    "print(sorted(mixed3))\n",
    "print(mixed3)"
   ]
  },
  {
   "cell_type": "code",
   "execution_count": 54,
   "id": "dc66479a",
   "metadata": {},
   "outputs": [
    {
     "name": "stdout",
     "output_type": "stream",
     "text": [
      "[7, 4, 3, 2, 1, 0]\n",
      "[0, 2, 4, 7, 1, 3]\n"
     ]
    }
   ],
   "source": [
    "print(sorted(mixed4, reverse = True))\n",
    "print(mixed4)"
   ]
  },
  {
   "cell_type": "markdown",
   "id": "68a713d0",
   "metadata": {},
   "source": [
    "# 튜플 tuple\n",
    "* 튜플은 리스트처럼 모든 자료형을 넣어 만들 수 있음\n",
    "* 순서가 있는 자료형, 인덱스가 있음\n",
    "* 인덱싱과 슬라이싱 모두 가능\n",
    "* 자료의 추가 및 삭제 불가능\n",
    "* ()안에 자료를 넣어서 만듦\n",
    "* 튜플 형변환 함수는 tuple()\n",
    "* 자료 1개만 넣어서 만들 수 있다 (단, (1,) 형식이어야 한다)\n",
    "* 튜플 생성 시 자료가 2개 이상인 경우 ()는 생략 가능 "
   ]
  },
  {
   "cell_type": "markdown",
   "id": "41fa9026",
   "metadata": {},
   "source": [
    "### 괄호 생략학 튜플 만들기"
   ]
  },
  {
   "cell_type": "code",
   "execution_count": null,
   "id": "ee55899b",
   "metadata": {},
   "outputs": [],
   "source": [
    "t1 = 1, 2, 3\n",
    "print(t1, type(t1))\n",
    "\n",
    "print()\n",
    "\n",
    "t2 = (1, 2, 3)\n",
    "print(t2, type(t2))"
   ]
  },
  {
   "cell_type": "markdown",
   "id": "9de3ef96",
   "metadata": {},
   "source": [
    "## 튜플 + 튜플 = 두 개의 튜플의 요소가 하나로 합쳐짐"
   ]
  },
  {
   "cell_type": "code",
   "execution_count": 57,
   "id": "85862608",
   "metadata": {},
   "outputs": [
    {
     "name": "stdout",
     "output_type": "stream",
     "text": [
      "(1, 2, 3, 1, 2, 3)\n"
     ]
    }
   ],
   "source": [
    "print(t1 + t2)"
   ]
  },
  {
   "cell_type": "markdown",
   "id": "1f5a9df5",
   "metadata": {},
   "source": [
    "### list와 같이 특정 값의 인덱스를 찾는 것은 가능"
   ]
  },
  {
   "cell_type": "code",
   "execution_count": 62,
   "id": "6e8acb9e",
   "metadata": {},
   "outputs": [
    {
     "name": "stdout",
     "output_type": "stream",
     "text": [
      "(1, 2, 3)\n",
      "1\n",
      "(1, 3)\n"
     ]
    }
   ],
   "source": [
    "print(t1)\n",
    "print(t1[0])\n",
    "print(t1[::2])"
   ]
  },
  {
   "cell_type": "markdown",
   "id": "9070088f",
   "metadata": {},
   "source": [
    "### list와 같이 특정 값의 개수 세는 것 가능"
   ]
  },
  {
   "cell_type": "code",
   "execution_count": 63,
   "id": "e53b62c9",
   "metadata": {},
   "outputs": [
    {
     "name": "stdout",
     "output_type": "stream",
     "text": [
      "2\n"
     ]
    }
   ],
   "source": [
    "print((t1+t2).count(1))"
   ]
  },
  {
   "cell_type": "markdown",
   "id": "00c97042",
   "metadata": {},
   "source": [
    "## 튜플에 자료를 추가하고 싶을 때\n",
    "* list로 형변환 → 자료 추가 → tuple 형변환"
   ]
  },
  {
   "cell_type": "code",
   "execution_count": 64,
   "id": "6e13ddd7",
   "metadata": {},
   "outputs": [
    {
     "name": "stdout",
     "output_type": "stream",
     "text": [
      "(1, 2, 3) <class 'tuple'>\n",
      "\n",
      "(1, 2, 3, 4, 5, 6) <class 'tuple'>\n"
     ]
    }
   ],
   "source": [
    "print(t1, type(t1))\n",
    "\n",
    "print()\n",
    "\n",
    "t1 = list(t1)\n",
    "t1.extend([4,5,6])\n",
    "t1 = tuple(t1)\n",
    "print(t1, type(t1))"
   ]
  },
  {
   "cell_type": "markdown",
   "id": "e68f9761",
   "metadata": {},
   "source": [
    "### 튜플에 자료를 1개만 넣고 만들 때\n",
    "* 반드시 (자료,) 형태로 만들어야 함"
   ]
  },
  {
   "cell_type": "code",
   "execution_count": 69,
   "id": "ff7a42ee",
   "metadata": {},
   "outputs": [
    {
     "name": "stdout",
     "output_type": "stream",
     "text": [
      "1 <class 'int'>\n",
      "(1,) <class 'tuple'>\n",
      "(1,) <class 'tuple'>\n"
     ]
    }
   ],
   "source": [
    "single1 = (1)\n",
    "single2 = (1,)\n",
    "single3 = 1,\n",
    "\n",
    "print(single1, type(single1))\n",
    "print(single2, type(single2))\n",
    "print(single3, type(single3))"
   ]
  },
  {
   "cell_type": "markdown",
   "id": "bff1a7ed",
   "metadata": {},
   "source": [
    "# 시퀀스 객체(자료형)\n",
    "* 문자열, 리스트, 튜플 같은 순서가 있는 자료형 : 시퀀스 자료형\n",
    "* 순서가 있고, 인덱스 번호가 부여되며 인덱싱과 슬라이싱이 가능\n",
    "* 반복문에 시퀀스 자료형을 그대로 넣어서 반복시키는 것이 가능\n",
    "* in, not in을 사용할 수 있음\n",
    "* \\+ 연산자를 이용해서 서로 연결 가능\n",
    "* \\*로 반복이 가능"
   ]
  },
  {
   "cell_type": "code",
   "execution_count": 70,
   "id": "49cb87c9",
   "metadata": {},
   "outputs": [
    {
     "name": "stdout",
     "output_type": "stream",
     "text": [
      "[1, 2, 3, 1, 2, 3, 1, 2, 3]\n",
      "('?', '?', '?', '?', '?')\n"
     ]
    }
   ],
   "source": [
    "print([1,2,3]*3)\n",
    "print((\"?\",)*5)"
   ]
  },
  {
   "cell_type": "code",
   "execution_count": 71,
   "id": "a71c2fbb",
   "metadata": {},
   "outputs": [
    {
     "name": "stdout",
     "output_type": "stream",
     "text": [
      "안\n",
      "녕\n",
      "하\n",
      "세\n",
      "요\n"
     ]
    }
   ],
   "source": [
    "for i in \"안녕하세요\":\n",
    "    print(i)"
   ]
  },
  {
   "cell_type": "code",
   "execution_count": 72,
   "id": "3a833b8c",
   "metadata": {},
   "outputs": [
    {
     "name": "stdout",
     "output_type": "stream",
     "text": [
      "1\n",
      "2\n",
      "3\n",
      "4\n"
     ]
    }
   ],
   "source": [
    "for i in [1, 2, 3, 4]:\n",
    "    print(i)"
   ]
  },
  {
   "cell_type": "code",
   "execution_count": 73,
   "id": "e56bc616",
   "metadata": {
    "scrolled": true
   },
   "outputs": [
    {
     "name": "stdout",
     "output_type": "stream",
     "text": [
      "10\n",
      "20\n",
      "30\n",
      "40\n",
      "50\n"
     ]
    }
   ],
   "source": [
    "for i in (10, 20, 30, 40, 50):\n",
    "    print(i)"
   ]
  },
  {
   "cell_type": "markdown",
   "id": "872bda2f",
   "metadata": {},
   "source": [
    "### 리스트, 튜플은 sum(), max(), min()과 같은 함수로 연산 가능"
   ]
  },
  {
   "cell_type": "code",
   "execution_count": 75,
   "id": "d02412e9",
   "metadata": {},
   "outputs": [
    {
     "name": "stdout",
     "output_type": "stream",
     "text": [
      "[1, 2, 3, 4, 5, 6, 7, 8, 9, 10]\n",
      "1\n",
      "10\n",
      "55\n"
     ]
    }
   ],
   "source": [
    "numbers = list(range(1,11))\n",
    "\n",
    "print(numbers)\n",
    "print(min(numbers))\n",
    "print(max(numbers))\n",
    "print(sum(numbers))"
   ]
  }
 ],
 "metadata": {
  "kernelspec": {
   "display_name": "Python 3 (ipykernel)",
   "language": "python",
   "name": "python3"
  },
  "language_info": {
   "codemirror_mode": {
    "name": "ipython",
    "version": 3
   },
   "file_extension": ".py",
   "mimetype": "text/x-python",
   "name": "python",
   "nbconvert_exporter": "python",
   "pygments_lexer": "ipython3",
   "version": "3.9.21"
  }
 },
 "nbformat": 4,
 "nbformat_minor": 5
}
