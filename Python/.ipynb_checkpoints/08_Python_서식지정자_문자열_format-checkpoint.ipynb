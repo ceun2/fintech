{
 "cells": [
  {
   "cell_type": "markdown",
   "id": "85c840ca",
   "metadata": {},
   "source": [
    "# 서식지정자, format method\n",
    "* 문자열로만 입력해야 하는 상황에서 같은 위치에 문자를 여러번 바꿔야 할 때 사용\n",
    "* 문자의 자리수 맞춤, 위치 정렬에도 사용"
   ]
  },
  {
   "cell_type": "markdown",
   "id": "5758d269",
   "metadata": {},
   "source": [
    "## 1. 서식지정자 %d, %s, %f, %길이s\n"
   ]
  },
  {
   "cell_type": "markdown",
   "id": "9fe891af",
   "metadata": {},
   "source": [
    "### 1) %s : 문자를 입력할 때\n",
    "* ,를 쓰지 않고 '(따옴표) 다음에 %와 함께 들어갈 변수쓰기"
   ]
  },
  {
   "cell_type": "code",
   "execution_count": 9,
   "id": "8fcc0b96",
   "metadata": {},
   "outputs": [
    {
     "name": "stdout",
     "output_type": "stream",
     "text": [
      "이 수업의 이름은 국어입니다.\n",
      "이 수업의 이름은 수학입니다.\n",
      "이 수업의 이름은 영어입니다.\n"
     ]
    }
   ],
   "source": [
    "course = ['국어', '수학', '영어']\n",
    "\n",
    "for i in course:\n",
    "    print('이 수업의 이름은 %s입니다.' %i)"
   ]
  },
  {
   "cell_type": "markdown",
   "id": "f02e4178",
   "metadata": {},
   "source": [
    "### 2) %d : 정수를 입력할 때"
   ]
  },
  {
   "cell_type": "code",
   "execution_count": 10,
   "id": "ce2bf406",
   "metadata": {},
   "outputs": [
    {
     "name": "stdout",
     "output_type": "stream",
     "text": [
      "올해는 20255년 입니다\n"
     ]
    }
   ],
   "source": [
    "print('올해는 %d년 입니다' %20255.55)"
   ]
  },
  {
   "cell_type": "markdown",
   "id": "a145e1a3",
   "metadata": {},
   "source": [
    "### 3) %f : 실수를 입력할 때 (기본 : 6자리)"
   ]
  },
  {
   "cell_type": "code",
   "execution_count": 11,
   "id": "b08a407c",
   "metadata": {},
   "outputs": [
    {
     "name": "stdout",
     "output_type": "stream",
     "text": [
      "사람의 정상 체온은 약 36.500000도 입니다.\n"
     ]
    }
   ],
   "source": [
    "print('사람의 정상 체온은 약 %f도 입니다.' %36.5)"
   ]
  },
  {
   "cell_type": "markdown",
   "id": "7a83bb71",
   "metadata": {},
   "source": [
    "### 소수점 표기를 조절할 때 **%.소수점자리수** ex) %.2f"
   ]
  },
  {
   "cell_type": "code",
   "execution_count": 12,
   "id": "697f7b21",
   "metadata": {},
   "outputs": [
    {
     "name": "stdout",
     "output_type": "stream",
     "text": [
      "사람의 정상 체온은 약 36.50도 입니다.\n"
     ]
    }
   ],
   "source": [
    "print('사람의 정상 체온은 약 %.2f도 입니다.' %36.5)"
   ]
  },
  {
   "cell_type": "markdown",
   "id": "68fca771",
   "metadata": {},
   "source": [
    "### 4) %(길이)(서식지정자) : 서식지정자로 문자열 길이/정렬 지정\n",
    "* 만약 문자열의 길이가 10자리(지정)보다 작다면, 나머지 공간은 공백으로 채워짐\n",
    "* 지정한 길이보다 문자열의 길이가 더 길 경우, 지정한 길이를 무시하고 문자열 전체가 출력\n",
    "* ex) 오른쪽 정렬하고 싶을 때 쓴다"
   ]
  },
  {
   "cell_type": "code",
   "execution_count": 15,
   "id": "2fa90054",
   "metadata": {},
   "outputs": [
    {
     "name": "stdout",
     "output_type": "stream",
     "text": [
      "      10자리\n"
     ]
    }
   ],
   "source": [
    "print('%10s' % '10자리')"
   ]
  },
  {
   "cell_type": "code",
   "execution_count": 16,
   "id": "c16016d2",
   "metadata": {},
   "outputs": [
    {
     "name": "stdout",
     "output_type": "stream",
     "text": [
      "가격은    1500 원입니다.\n",
      "가격은  150000 원입니다.\n"
     ]
    }
   ],
   "source": [
    "print('가격은 %7d 원입니다.' %1500)\n",
    "print('가격은 %7d 원입니다.' %150000)"
   ]
  },
  {
   "cell_type": "markdown",
   "id": "0f05a77c",
   "metadata": {},
   "source": [
    "### 5) 여러 항목 동시에 넣기"
   ]
  },
  {
   "cell_type": "code",
   "execution_count": 17,
   "id": "a907e499",
   "metadata": {},
   "outputs": [
    {
     "name": "stdout",
     "output_type": "stream",
     "text": [
      "오늘은 2025년  3월 17일 입니다.\n"
     ]
    }
   ],
   "source": [
    "print('오늘은 %4d년 %2d월 %2d일 입니다.' %(2025,3,17))"
   ]
  },
  {
   "cell_type": "code",
   "execution_count": 21,
   "id": "9fcc3cb3",
   "metadata": {
    "scrolled": true
   },
   "outputs": [
    {
     "name": "stdout",
     "output_type": "stream",
     "text": [
      "삼성전자의 주가는 71800 입니다.\n",
      "LG전자의 주가는 121000 입니다.\n",
      "현대차의 주가는 195000 입니다.\n",
      "대한항공의 주가는 31900 입니다.\n",
      "하나투어의 주가는 86600 입니다.\n"
     ]
    }
   ],
   "source": [
    "company = ['삼성전자', 'LG전자', '현대차', '대한항공', '하나투어']\n",
    "stock_price = [71800, 121000, 195000, 31900, 86600]\n",
    "\n",
    "for i,j in zip(company, stock_price):\n",
    "    print('%s의 주가는 %d 입니다.' %(i,j))"
   ]
  },
  {
   "cell_type": "markdown",
   "id": "06d0b05d",
   "metadata": {},
   "source": [
    "# 2. format method, f-string 문자열 포매팅"
   ]
  },
  {
   "cell_type": "markdown",
   "id": "acac2eee",
   "metadata": {},
   "source": [
    "### 1) format 매서드 사용하기\n",
    "* \"문자열 {인덱스} 문자열끝\".format(값)"
   ]
  },
  {
   "cell_type": "code",
   "execution_count": 22,
   "id": "abaa7647",
   "metadata": {},
   "outputs": [
    {
     "name": "stdout",
     "output_type": "stream",
     "text": [
      "삼성전자의 주가는 71800 입니다.\n"
     ]
    }
   ],
   "source": [
    "print('{}의 주가는 {} 입니다.'.format('삼성전자',71800))"
   ]
  },
  {
   "cell_type": "code",
   "execution_count": 23,
   "id": "a594ce19",
   "metadata": {},
   "outputs": [
    {
     "name": "stdout",
     "output_type": "stream",
     "text": [
      "삼성전자의 주가는 71800 입니다.\n"
     ]
    }
   ],
   "source": [
    "print('{0}의 주가는 {1} 입니다.'.format('삼성전자',71800))"
   ]
  },
  {
   "cell_type": "markdown",
   "id": "441d54b5",
   "metadata": {},
   "source": [
    "### 2) f-string (python 3.6 이상 사용 가능)"
   ]
  },
  {
   "cell_type": "code",
   "execution_count": 25,
   "id": "fa6fede3",
   "metadata": {},
   "outputs": [
    {
     "name": "stdout",
     "output_type": "stream",
     "text": [
      "삼성전자의 주가는 71800 입니다.\n"
     ]
    }
   ],
   "source": [
    "print(f'{company[0]}의 주가는 {stock_price[0]} 입니다.')"
   ]
  },
  {
   "cell_type": "markdown",
   "id": "6c5ce78a",
   "metadata": {},
   "source": [
    "### 3) format method와 f-string으로 문자열 정렬, 자리수 지정해 출력\n",
    "* '{인덱스:<길이}.'.format(값)\n",
    "* f'{값:>길이}'\n",
    "\n",
    "#### '와 \"가 중복되면 오류가 생겨서 번갈아서 써줘야함"
   ]
  },
  {
   "cell_type": "code",
   "execution_count": 27,
   "id": "84d147bf",
   "metadata": {},
   "outputs": [
    {
     "name": "stdout",
     "output_type": "stream",
     "text": [
      "삼성전자      \n",
      "      삼성전자\n"
     ]
    }
   ],
   "source": [
    "print('{0:<10}'.format('삼성전자'))\n",
    "print('{0:>10}'.format('삼성전자'))"
   ]
  },
  {
   "cell_type": "code",
   "execution_count": 31,
   "id": "2a9e0e7b",
   "metadata": {},
   "outputs": [
    {
     "name": "stdout",
     "output_type": "stream",
     "text": [
      "삼성전자      \n",
      "      삼성전자\n"
     ]
    }
   ],
   "source": [
    "print(f\"{'삼성전자':<10}\")\n",
    "print(f\"{'삼성전자':>10}\")"
   ]
  },
  {
   "cell_type": "markdown",
   "id": "bfba964b",
   "metadata": {},
   "source": [
    "### 4) 숫자 표기 시 숫자 자리수 맞추고 기본값 지정하기\n",
    "* '{인덱스:채울숫자/길이/서식지정자}'.format(값)\n",
    "* f'{값:채울숫자/길이/서식지정}'\n",
    "* 3개 사이에 공백은 없다.\n",
    "* 단, 서식지정자에서 %는 빼고 적는다."
   ]
  },
  {
   "cell_type": "code",
   "execution_count": 43,
   "id": "f6e9df8d",
   "metadata": {},
   "outputs": [
    {
     "name": "stdout",
     "output_type": "stream",
     "text": [
      "01월\n",
      "12월\n"
     ]
    }
   ],
   "source": [
    "print('{0:02d}월'.format(1))\n",
    "print('{0:02d}월'.format(12))"
   ]
  },
  {
   "cell_type": "code",
   "execution_count": 44,
   "id": "1c83112f",
   "metadata": {},
   "outputs": [
    {
     "name": "stdout",
     "output_type": "stream",
     "text": [
      "01월\n",
      "10월\n"
     ]
    }
   ],
   "source": [
    "print(f'{1:02d}월')\n",
    "print(f'{10:02d}월')"
   ]
  },
  {
   "cell_type": "markdown",
   "id": "27e62b73",
   "metadata": {},
   "source": [
    "### 4-1) 실수의 정수 자리수와 소수점 자리수 지정하기\n",
    "* '{인덱스:기본값/자리수/서식지정자}'.format(값)\n",
    "* f'{값:기본값/자리수/서식지정자}'\n",
    "* 실수에서 자리수는 정수 + . + 소수점"
   ]
  },
  {
   "cell_type": "code",
   "execution_count": 48,
   "id": "5983935f",
   "metadata": {},
   "outputs": [
    {
     "name": "stdout",
     "output_type": "stream",
     "text": [
      "2.246\n",
      "002.246\n",
      "000002.246\n"
     ]
    }
   ],
   "source": [
    "print('{0:03.3f}'.format(2.245678))\n",
    "print('{0:07.3f}'.format(2.245678))\n",
    "print('{0:010.3f}'.format(2.245678))"
   ]
  },
  {
   "cell_type": "code",
   "execution_count": 52,
   "id": "1ddb75c3",
   "metadata": {},
   "outputs": [
    {
     "name": "stdout",
     "output_type": "stream",
     "text": [
      "11시 59분\r"
     ]
    }
   ],
   "source": [
    "import time\n",
    "for hour in range(0,12):\n",
    "    for min in range(0,60):\n",
    "        print(f'{hour:02d}시 {min:02d}분', end='\\r')\n",
    "#         time.sleep(0.001)"
   ]
  },
  {
   "cell_type": "markdown",
   "id": "d3210e25",
   "metadata": {},
   "source": [
    "### 4-2) 공백을 원하는 문자로 채우고 자리수 맞추기\n",
    "* {인덱스:원하는숫자/문자><자리수}.format(값)\n",
    "* f'{값:원하는숫자/문자><자리수}'"
   ]
  },
  {
   "cell_type": "code",
   "execution_count": 54,
   "id": "78bd6130",
   "metadata": {},
   "outputs": [
    {
     "name": "stdout",
     "output_type": "stream",
     "text": [
      "0001\n",
      "---1\n"
     ]
    }
   ],
   "source": [
    "print('{0:0>4}'.format(1))\n",
    "print('{0:->4}'.format(1))"
   ]
  },
  {
   "cell_type": "code",
   "execution_count": 58,
   "id": "3c2df4a7",
   "metadata": {},
   "outputs": [
    {
     "name": "stdout",
     "output_type": "stream",
     "text": [
      "$$$$$$$$달러\n",
      "달러$$$$$$$$\n"
     ]
    }
   ],
   "source": [
    "print(f'{\"달러\":$>10}')\n",
    "print(f'{\"달러\":$<10}')"
   ]
  },
  {
   "cell_type": "code",
   "execution_count": 59,
   "id": "0df746b2",
   "metadata": {},
   "outputs": [
    {
     "name": "stdout",
     "output_type": "stream",
     "text": [
      "https://finance.naver.com/sise/sise_trans_style.naver?sosok=01\n",
      "https://finance.naver.com/sise/sise_trans_style.naver?sosok=02\n",
      "https://finance.naver.com/sise/sise_trans_style.naver?sosok=03\n",
      "https://finance.naver.com/sise/sise_trans_style.naver?sosok=04\n",
      "https://finance.naver.com/sise/sise_trans_style.naver?sosok=05\n",
      "https://finance.naver.com/sise/sise_trans_style.naver?sosok=06\n",
      "https://finance.naver.com/sise/sise_trans_style.naver?sosok=07\n",
      "https://finance.naver.com/sise/sise_trans_style.naver?sosok=08\n",
      "https://finance.naver.com/sise/sise_trans_style.naver?sosok=09\n",
      "https://finance.naver.com/sise/sise_trans_style.naver?sosok=10\n"
     ]
    }
   ],
   "source": [
    "url = 'https://finance.naver.com/sise/sise_trans_style.naver?sosok='\n",
    "for i in range(1,11):\n",
    "    print(f'{url}{i:02d}')"
   ]
  }
 ],
 "metadata": {
  "kernelspec": {
   "display_name": "Python 3 (ipykernel)",
   "language": "python",
   "name": "python3"
  },
  "language_info": {
   "codemirror_mode": {
    "name": "ipython",
    "version": 3
   },
   "file_extension": ".py",
   "mimetype": "text/x-python",
   "name": "python",
   "nbconvert_exporter": "python",
   "pygments_lexer": "ipython3",
   "version": "3.9.21"
  }
 },
 "nbformat": 4,
 "nbformat_minor": 5
}
