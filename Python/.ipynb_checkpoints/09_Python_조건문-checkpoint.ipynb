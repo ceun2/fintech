{
 "cells": [
  {
   "cell_type": "markdown",
   "id": "2e322b3f",
   "metadata": {},
   "source": [
    "# if else 조건문"
   ]
  },
  {
   "cell_type": "markdown",
   "id": "6ae08c93",
   "metadata": {},
   "source": [
    "## 1. 조건문이란?\n",
    "* 특정 조건을 판별해서 작업을 분기시키는 문법 <br>\n",
    "\n",
    "if 조건식: <br>\n",
    "____ 조건이 참일 때 실행할 코드 <br>\n",
    "else:<br>\n",
    "____ 조건이 거짓일 때 실행할 코드"
   ]
  },
  {
   "cell_type": "code",
   "execution_count": 1,
   "id": "4c6b189d",
   "metadata": {},
   "outputs": [
    {
     "name": "stdout",
     "output_type": "stream",
     "text": [
      "13은 10이 아닙니다.\n"
     ]
    }
   ],
   "source": [
    "x = 13\n",
    "if x==10 : \n",
    "    print(f'{x}은 10입니다.')\n",
    "else:\n",
    "    print(f'{x}은 10이 아닙니다.')"
   ]
  },
  {
   "cell_type": "code",
   "execution_count": 2,
   "id": "be709d23",
   "metadata": {},
   "outputs": [
    {
     "name": "stdout",
     "output_type": "stream",
     "text": [
      "존재합니다.\n"
     ]
    }
   ],
   "source": [
    "l1 = ['파이썬', '조건문', 10, 15.3, True, [1,2,3], (4,5,6), {'key':365}]\n",
    "\n",
    "if '파이썬' in l1:\n",
    "    print(f'존재합니다.')\n",
    "else:\n",
    "    print('존재하지 않습니다.')"
   ]
  },
  {
   "cell_type": "markdown",
   "id": "417c008d",
   "metadata": {},
   "source": [
    "#### 숫자를 입력받아 홀수인지 짝수인지 판단하는 프로그램"
   ]
  },
  {
   "cell_type": "code",
   "execution_count": 3,
   "id": "0f81e4cd",
   "metadata": {},
   "outputs": [
    {
     "name": "stdout",
     "output_type": "stream",
     "text": [
      "숫자를 입력하세요 : 10\n",
      "입력한 숫자 10는 짝수입니다.\n"
     ]
    }
   ],
   "source": [
    "number = input('숫자를 입력하세요 : ')\n",
    "if int(number) %2 == 0:\n",
    "    print(f'입력한 숫자 {number}는 짝수입니다.')\n",
    "else:\n",
    "    print(f'입력한 숫자 {number}는 홀수입니다.')"
   ]
  },
  {
   "cell_type": "markdown",
   "id": "17f9f7e0",
   "metadata": {},
   "source": [
    "## 2. 다중조건문 사용하기 elif\n",
    "if 조건식: <br>\n",
    "____ 조건이 참일 때 실행할 코드 <br>\n",
    "elif 조건식2:<br>\n",
    "____ 조건2가 참일 때 실행할 코드 <br>\n",
    "else:<br>\n",
    "____ 조건이 거짓일 때 실행할 코드"
   ]
  },
  {
   "cell_type": "code",
   "execution_count": 10,
   "id": "7d3512c9",
   "metadata": {},
   "outputs": [
    {
     "name": "stdout",
     "output_type": "stream",
     "text": [
      "숫자 : 101\n",
      "100 초과 정수입니다\n"
     ]
    }
   ],
   "source": [
    "num = int(input('숫자 : '))\n",
    "\n",
    "if 0 <= num <= 10:\n",
    "    print('10이하의 정수입니다')\n",
    "elif 10 < num <=100:\n",
    "    print('10 초과 100이하입니다')\n",
    "else:\n",
    "    print('100 초과 정수입니다')"
   ]
  },
  {
   "cell_type": "code",
   "execution_count": 12,
   "id": "ea2302af",
   "metadata": {},
   "outputs": [
    {
     "name": "stdout",
     "output_type": "stream",
     "text": [
      "1-50 사이의 숫자 : 51\n",
      "숫자의 범위를 다시 확인해주세요.\n"
     ]
    }
   ],
   "source": [
    "num3 = int(input('1-50 사이의 숫자 : '))\n",
    "\n",
    "if num3 in range(1,51):\n",
    "    if num3 %3 == 0:\n",
    "        print('해당 숫자는 3의 배수입니다.')\n",
    "    else:\n",
    "        print('해당 숫자는 3의 배수가 아닙니다.')\n",
    "else:\n",
    "    print('숫자의 범위를 다시 확인해주세요.')"
   ]
  },
  {
   "cell_type": "markdown",
   "id": "3c61cb71",
   "metadata": {},
   "source": [
    "## 3. 조건 표현식\n",
    "* 파이썬만의 문법\n",
    "* 참일 때 실행코드 if 조건 else 거짓일 때 실행코드"
   ]
  },
  {
   "cell_type": "code",
   "execution_count": 13,
   "id": "e450b70f",
   "metadata": {},
   "outputs": [
    {
     "name": "stdout",
     "output_type": "stream",
     "text": [
      "숫자를 입력하세요 : 10\n",
      "짝수\n"
     ]
    }
   ],
   "source": [
    "numex = int(input('숫자를 입력하세요 : '))\n",
    "\n",
    "print('짝수') if numex %2 == 0 else print('홀수')"
   ]
  }
 ],
 "metadata": {
  "kernelspec": {
   "display_name": "Python 3 (ipykernel)",
   "language": "python",
   "name": "python3"
  },
  "language_info": {
   "codemirror_mode": {
    "name": "ipython",
    "version": 3
   },
   "file_extension": ".py",
   "mimetype": "text/x-python",
   "name": "python",
   "nbconvert_exporter": "python",
   "pygments_lexer": "ipython3",
   "version": "3.9.21"
  }
 },
 "nbformat": 4,
 "nbformat_minor": 5
}
