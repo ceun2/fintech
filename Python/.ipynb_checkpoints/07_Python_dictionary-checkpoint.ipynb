{
 "cells": [
  {
   "cell_type": "markdown",
   "id": "53bd78b2",
   "metadata": {},
   "source": [
    "# 딕셔너리 사용하기\n",
    "* dict 타입, 다른 언어에서는 JSON형이라고도 함\n",
    "* 웹에서 자료를 주고 받을 때 주로 사용하는 형식\n",
    "* key : value 쌍으로 이루어진 자료형\n",
    "* key를 호출하면 value가 나옴\n",
    "* key에는 list, dict를 제외한 자료형이 올 수 있음\n",
    "* value에는 모든 자료형의 자료가 들어갈 수 있음"
   ]
  },
  {
   "cell_type": "markdown",
   "id": "7f1a6803",
   "metadata": {},
   "source": [
    "# 딕셔너리 만들기\n",
    "* 중괄호 안에 key : value 쌍으로 만듦\n",
    "* 빈 딕셔너리 생성 가능 {}\n",
    "* dict() 함수를 이용해서 대량의 딕셔너리 생성 가능"
   ]
  },
  {
   "cell_type": "code",
   "execution_count": 34,
   "id": "342c2fd7",
   "metadata": {},
   "outputs": [
    {
     "name": "stdout",
     "output_type": "stream",
     "text": [
      "{}\n",
      "{'날짜': '20250314', '국가': '미국', '방문자수': 1000}\n"
     ]
    }
   ],
   "source": [
    "data1 = {}\n",
    "data2 = {\"날짜\" : '20250314', '국가' : '미국', '방문자수' : 1000}\n",
    "print(data1)\n",
    "print(data2)"
   ]
  },
  {
   "cell_type": "code",
   "execution_count": 36,
   "id": "8122cacd",
   "metadata": {},
   "outputs": [
    {
     "name": "stdout",
     "output_type": "stream",
     "text": [
      "20250314\n"
     ]
    }
   ],
   "source": [
    "print(data2['날짜'])"
   ]
  },
  {
   "cell_type": "markdown",
   "id": "5552dacd",
   "metadata": {},
   "source": [
    "## dict의 key 자료형\n",
    "* 문자열, 정수, 실수, boolean(True, False), tuple\n",
    "* dict와 list는 불가능"
   ]
  },
  {
   "cell_type": "code",
   "execution_count": 6,
   "id": "64e3e14a",
   "metadata": {},
   "outputs": [
    {
     "name": "stdout",
     "output_type": "stream",
     "text": [
      "{'백': 100, 100: '백', 3.5: [3.5, 3.7], False: 0, (0, 0): 'zero'}\n",
      "백\n",
      "0\n"
     ]
    }
   ],
   "source": [
    "data3 = {'백' : 100, 100 : '백', 3.5 : [3.5, 3.7], False : 0, (0,0) : \"zero\"}\n",
    "print(data3)\n",
    "print(data3[100])\n",
    "print(data3[False])"
   ]
  },
  {
   "cell_type": "markdown",
   "id": "659af3a6",
   "metadata": {},
   "source": [
    "## dict의 value의 자료형\n",
    "* value에는 모든 자료형이 올 수 있음"
   ]
  },
  {
   "cell_type": "code",
   "execution_count": 8,
   "id": "ca8210de",
   "metadata": {},
   "outputs": [
    {
     "name": "stdout",
     "output_type": "stream",
     "text": [
      "{'정수': 100, '실수': 3.5, '문자열': 'ㅎㅎ', '리스트': [1, 2, 3], '튜플': (1, 2, 3, 4), '딕셔너리': {'key': 'value'}}\n",
      "100\n",
      "{'key': 'value'}\n"
     ]
    }
   ],
   "source": [
    "data4 = {'정수' : 100, '실수' : 3.5, '문자열' : 'ㅎㅎ', '리스트' : [1,2,3],\n",
    "        '튜플' : (1,2,3,4), '딕셔너리' : {'key' : 'value'}}\n",
    "print(data4)\n",
    "print(data4['정수'])\n",
    "print(data4['딕셔너리'])"
   ]
  },
  {
   "cell_type": "markdown",
   "id": "50dd8105",
   "metadata": {},
   "source": [
    "## 빈 딕셔너리 만들기\n",
    "* 변수 = {}\n",
    "* 변수 = dict()"
   ]
  },
  {
   "cell_type": "code",
   "execution_count": 12,
   "id": "74b78d1f",
   "metadata": {},
   "outputs": [
    {
     "name": "stdout",
     "output_type": "stream",
     "text": [
      "{} <class 'dict'>\n",
      "{} <class 'dict'>\n"
     ]
    }
   ],
   "source": [
    "empty_dict1 = {}\n",
    "empty_dict2 = dict()\n",
    "\n",
    "print(empty_dict1, type(empty_dict1))\n",
    "print(empty_dict2, type(empty_dict2))"
   ]
  },
  {
   "cell_type": "markdown",
   "id": "5bfe5f06",
   "metadata": {},
   "source": [
    "## 딕셔너리에 자료 추가하기\n",
    "* 변수['key'] = value\n",
    "* 이미 똑같은 key가 있는 경우에는 자료가 수정됨"
   ]
  },
  {
   "cell_type": "code",
   "execution_count": 13,
   "id": "3c6455ed",
   "metadata": {},
   "outputs": [
    {
     "name": "stdout",
     "output_type": "stream",
     "text": [
      "{}\n",
      "{'번호': 0, '리스트': [1, 2, 3]}\n"
     ]
    }
   ],
   "source": [
    "print(empty_dict1)\n",
    "\n",
    "empty_dict1['번호'] = 0\n",
    "empty_dict1['리스트'] = [1,2,3]\n",
    "\n",
    "print(empty_dict1)"
   ]
  },
  {
   "cell_type": "markdown",
   "id": "5298d0f8",
   "metadata": {},
   "source": [
    "### 딕셔너리에서 key가 중복되면 나중에 들어온 key로 value가 변경"
   ]
  },
  {
   "cell_type": "code",
   "execution_count": 14,
   "id": "59909d66",
   "metadata": {},
   "outputs": [
    {
     "name": "stdout",
     "output_type": "stream",
     "text": [
      "{'번호': 1, '이름': '둘리', '나이': 15}\n"
     ]
    }
   ],
   "source": [
    "data5 = {'번호' : 0, '이름' : '홍길동' , '나이' : 25,\n",
    "        '번호' : 1, '이름' : '둘리' , '나이' : 15}\n",
    "print(data5)"
   ]
  },
  {
   "cell_type": "markdown",
   "id": "4f065ce8",
   "metadata": {},
   "source": [
    "# dict 함수를 사용해서 딕셔너리 만들기\n",
    "#### dict(key1=value1, key2=value2, key3=value3)\n",
    "* key에 ',\"를 사용하지 않음\n",
    "* key는 모두 문자형으로 변환됨\n",
    "* value가 문자형 자료면 반드시 ',\"가 필요"
   ]
  },
  {
   "cell_type": "code",
   "execution_count": 16,
   "id": "4b210a49",
   "metadata": {},
   "outputs": [
    {
     "name": "stdout",
     "output_type": "stream",
     "text": [
      "{'정수': 100, '실수': 3.5, '문자': 'abcde', '리스트': [1, 2, 3], '튜플': (1, 2, 3), '딕셔너리': {'key': 'value'}}\n"
     ]
    }
   ],
   "source": [
    "dict_ex1 = dict(정수=100, 실수=3.5, 문자='abcde', \n",
    "                리스트=[1,2,3], 튜플=(1,2,3), 딕셔너리={'key':'value'})\n",
    "print(dict_ex1)"
   ]
  },
  {
   "cell_type": "markdown",
   "id": "92d9e121",
   "metadata": {},
   "source": [
    "#### dict([(key1, value1), (key2, value2), (key3, value3)])\n",
    "* 리스트 안에 key, value 쌍으로 된 튜플을 넣어서 만듦"
   ]
  },
  {
   "cell_type": "code",
   "execution_count": 17,
   "id": "c53624a7",
   "metadata": {},
   "outputs": [
    {
     "name": "stdout",
     "output_type": "stream",
     "text": [
      "{'정수': 3, '실수': 3.5, '문자열': '문자문자'}\n"
     ]
    }
   ],
   "source": [
    "dict_ex2 = dict([('정수',3),('실수',3.5),('문자열','문자문자')])\n",
    "print(dict_ex2)"
   ]
  },
  {
   "cell_type": "markdown",
   "id": "9198b456",
   "metadata": {},
   "source": [
    "#### dict(zip([key1, key2, key3], [value1, value2, value3]))\n",
    "* key 묶음 리스트와 value 묶음 리스트를 zip 함수로 합친 후 dict 생성\n",
    "* key 묶음의 요소 개수와 value 묶음의 요소 개수가 일치해야 함"
   ]
  },
  {
   "cell_type": "code",
   "execution_count": 21,
   "id": "71d1b900",
   "metadata": {},
   "outputs": [
    {
     "name": "stdout",
     "output_type": "stream",
     "text": [
      "(1, 5)\n",
      "(2, 6)\n",
      "(3, 7)\n",
      "(4, 8)\n"
     ]
    }
   ],
   "source": [
    "for a in zip([1,2,3,4], [5,6,7,8]):\n",
    "    print(a)"
   ]
  },
  {
   "cell_type": "code",
   "execution_count": 22,
   "id": "f304601f",
   "metadata": {},
   "outputs": [
    {
     "name": "stdout",
     "output_type": "stream",
     "text": [
      "1 5\n",
      "2 6\n",
      "3 7\n",
      "4 8\n"
     ]
    }
   ],
   "source": [
    "for a, b in zip([1,2,3,4], [5,6,7,8]):\n",
    "    print(a, b)"
   ]
  },
  {
   "cell_type": "code",
   "execution_count": 25,
   "id": "8e4c8128",
   "metadata": {},
   "outputs": [
    {
     "name": "stdout",
     "output_type": "stream",
     "text": [
      "{'정수': 10, '실수': 10.5, '문자열': '문자문자', '리스트': [1, 2, 3]}\n"
     ]
    }
   ],
   "source": [
    "dict_ex3 = dict(zip(['정수','실수','문자열','리스트'],[10,10.5,'문자문자',[1,2,3]]))\n",
    "print(dict_ex3)"
   ]
  },
  {
   "cell_type": "markdown",
   "id": "0f2a905b",
   "metadata": {},
   "source": [
    "## 딕셔너리에서 값 삭제하기 del\n",
    "* del 변수명['key'] : key와 value 쌍이 모두 삭제"
   ]
  },
  {
   "cell_type": "code",
   "execution_count": 26,
   "id": "39e59bb9",
   "metadata": {},
   "outputs": [
    {
     "name": "stdout",
     "output_type": "stream",
     "text": [
      "{'정수': 10, '실수': 10.5, '문자열': '문자문자', '리스트': [1, 2, 3]}\n",
      "{'실수': 10.5, '문자열': '문자문자', '리스트': [1, 2, 3]}\n"
     ]
    }
   ],
   "source": [
    "print(dict_ex3)\n",
    "\n",
    "del dict_ex3['정수']\n",
    "print(dict_ex3)"
   ]
  },
  {
   "cell_type": "markdown",
   "id": "f6f58bb1",
   "metadata": {},
   "source": [
    "## 딕셔너리에서 삭제하기 pop(key)"
   ]
  },
  {
   "cell_type": "code",
   "execution_count": 49,
   "id": "637b82c8",
   "metadata": {},
   "outputs": [
    {
     "name": "stdout",
     "output_type": "stream",
     "text": [
      "{'실수': 10.5, '문자열': '문자문자', '리스트': [1, 2, 3]}\n",
      "{'실수': 10.5, '리스트': [1, 2, 3]}\n"
     ]
    }
   ],
   "source": [
    "print(dict_ex3)\n",
    "\n",
    "dict_ex3.pop('문자열')\n",
    "print(dict_ex3)"
   ]
  },
  {
   "cell_type": "markdown",
   "id": "94bb8e3e",
   "metadata": {},
   "source": [
    "## 딕셔너리 안에 특정 key가 있는지 확인하기\n",
    "* value는 확인 불가능"
   ]
  },
  {
   "cell_type": "code",
   "execution_count": 27,
   "id": "7d0c4b69",
   "metadata": {},
   "outputs": [
    {
     "data": {
      "text/plain": [
       "False"
      ]
     },
     "execution_count": 27,
     "metadata": {},
     "output_type": "execute_result"
    }
   ],
   "source": [
    "'정수' in dict_ex3"
   ]
  },
  {
   "cell_type": "markdown",
   "id": "d059eb12",
   "metadata": {},
   "source": [
    "## 딕셔너리 안에 key가 몇 개 있는지 확인하기\n",
    "* value는 확인 불가능"
   ]
  },
  {
   "cell_type": "code",
   "execution_count": 28,
   "id": "0b39d2c4",
   "metadata": {},
   "outputs": [
    {
     "data": {
      "text/plain": [
       "3"
      ]
     },
     "execution_count": 28,
     "metadata": {},
     "output_type": "execute_result"
    }
   ],
   "source": [
    "len(dict_ex3)"
   ]
  },
  {
   "cell_type": "markdown",
   "id": "466359be",
   "metadata": {},
   "source": [
    "## 딕셔너리 함수 사용하기\n",
    "### setdefault(key, value)\n",
    "* 딕셔너리에 key와 value를 추가\n",
    "* key가 중복되면 나중에 추가하는 값을 무시 (원래 자료 보존)\n",
    "* key만 넣고 value를 생략하면 자동으로 'None'이 입력됨"
   ]
  },
  {
   "cell_type": "code",
   "execution_count": 38,
   "id": "050b3042",
   "metadata": {},
   "outputs": [
    {
     "name": "stdout",
     "output_type": "stream",
     "text": [
      "{'날짜': '20250314', '국가': '미국', '방문자수': 1000}\n",
      "{'날짜': '20250314', '국가': '미국', '방문자수': 1000, '도시': '워싱턴'}\n"
     ]
    }
   ],
   "source": [
    "print(data2)\n",
    "\n",
    "data2.setdefault('날짜','2024')\n",
    "data2.setdefault('도시','워싱턴')\n",
    "\n",
    "print(data2)"
   ]
  },
  {
   "cell_type": "markdown",
   "id": "616579ba",
   "metadata": {},
   "source": [
    "### update(key=value)\n",
    "* 기존에 key가 있는 경우 값을 새로운 값으로 update\n",
    "* 기존에 key가 없는 경우 새로운 key, value가 생성\n",
    "* **key 부분은 ',\" 사용하지 않는다**"
   ]
  },
  {
   "cell_type": "code",
   "execution_count": 39,
   "id": "006bc813",
   "metadata": {},
   "outputs": [
    {
     "name": "stdout",
     "output_type": "stream",
     "text": [
      "{'날짜': '20250314', '국가': '미국', '방문자수': 1000, '도시': '워싱턴'}\n",
      "{'날짜': '20250314', '국가': '미국', '방문자수': 500, '도시': '워싱턴', '날씨': '맑음'}\n"
     ]
    }
   ],
   "source": [
    "print(data2)\n",
    "\n",
    "data2.update(방문자수=500)\n",
    "data2.update(날씨='맑음')\n",
    "\n",
    "print(data2)"
   ]
  },
  {
   "cell_type": "markdown",
   "id": "76368a7a",
   "metadata": {},
   "source": [
    "## 딕셔너리에서 value를 가져오는 함수 .get\n",
    "* .get(key, key가 없을 때 기본값)\n",
    "* 딕셔너리 내에 key가 있다 없다를 반복하는 경우 오류 방지"
   ]
  },
  {
   "cell_type": "code",
   "execution_count": 42,
   "id": "2afd11d4",
   "metadata": {},
   "outputs": [
    {
     "name": "stdout",
     "output_type": "stream",
     "text": [
      "맑음\n",
      "None\n",
      "해당 key 없음\n"
     ]
    }
   ],
   "source": [
    "print(data2.get('날씨'))\n",
    "print(data2.get('강수량'))\n",
    "print(data2.get('강수량','해당 key 없음'))"
   ]
  },
  {
   "cell_type": "markdown",
   "id": "80563ac4",
   "metadata": {},
   "source": [
    "## 딕셔너리에서 key, value, (key, value)를 가져오는 함수\n",
    "* keys() : 딕셔너리에서 key만 출력\n",
    "* values() : 딕셔너리에서 value만 출력\n",
    "* items() : 딕셔너리의 key와 value를 튜플 묶음 형태(key, value)로 출력"
   ]
  },
  {
   "cell_type": "code",
   "execution_count": 47,
   "id": "f5d77c56",
   "metadata": {},
   "outputs": [
    {
     "data": {
      "text/plain": [
       "dict_keys(['날짜', '국가', '방문자수', '도시', '날씨'])"
      ]
     },
     "execution_count": 47,
     "metadata": {},
     "output_type": "execute_result"
    }
   ],
   "source": [
    "data2.keys()"
   ]
  },
  {
   "cell_type": "code",
   "execution_count": 44,
   "id": "0c3e3ad9",
   "metadata": {},
   "outputs": [
    {
     "data": {
      "text/plain": [
       "dict_values(['20250314', '미국', 500, '워싱턴', '맑음'])"
      ]
     },
     "execution_count": 44,
     "metadata": {},
     "output_type": "execute_result"
    }
   ],
   "source": [
    "data2.values()"
   ]
  },
  {
   "cell_type": "code",
   "execution_count": 45,
   "id": "87119be0",
   "metadata": {},
   "outputs": [
    {
     "data": {
      "text/plain": [
       "dict_items([('날짜', '20250314'), ('국가', '미국'), ('방문자수', 500), ('도시', '워싱턴'), ('날씨', '맑음')])"
      ]
     },
     "execution_count": 45,
     "metadata": {},
     "output_type": "execute_result"
    }
   ],
   "source": [
    "data2.items()"
   ]
  },
  {
   "cell_type": "code",
   "execution_count": 48,
   "id": "500052ff",
   "metadata": {},
   "outputs": [
    {
     "name": "stdout",
     "output_type": "stream",
     "text": [
      "날짜\n",
      "국가\n",
      "방문자수\n",
      "도시\n",
      "날씨\n"
     ]
    }
   ],
   "source": [
    "for i in data2.keys():\n",
    "    print(i)"
   ]
  }
 ],
 "metadata": {
  "kernelspec": {
   "display_name": "Python 3 (ipykernel)",
   "language": "python",
   "name": "python3"
  },
  "language_info": {
   "codemirror_mode": {
    "name": "ipython",
    "version": 3
   },
   "file_extension": ".py",
   "mimetype": "text/x-python",
   "name": "python",
   "nbconvert_exporter": "python",
   "pygments_lexer": "ipython3",
   "version": "3.9.21"
  }
 },
 "nbformat": 4,
 "nbformat_minor": 5
}
