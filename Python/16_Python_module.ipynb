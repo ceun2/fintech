{
 "cells": [
  {
   "cell_type": "markdown",
   "id": "3c923270",
   "metadata": {},
   "source": [
    "# 모듈 사용하기\n",
    "* 누군가가 미리 사용하기 편하게 만들어 놓은 함수, 클래스\n",
    "* import 명령을 통해서 프로그램 가장 위에서 모듈을 불러와 사용할 수 있음\n",
    "* 모듈에 너무 많은 기능이 있는 경우 from 모듈명 import 함수/메서드명 형식으로 일부 기능만 불러올 수도 있음\n",
    "* 모듈은 사용자가 직접 만들 수도 있음\n",
    "* 사용자 모듈을 불러올 때는 실행하는 파일과 같은 위치에 있어야 함"
   ]
  },
  {
   "cell_type": "markdown",
   "id": "7e5ec4cd",
   "metadata": {},
   "source": [
    "# datetime 모듈 사용하기"
   ]
  },
  {
   "cell_type": "code",
   "execution_count": 2,
   "id": "24bd5b75",
   "metadata": {},
   "outputs": [],
   "source": [
    "from datetime import datetime"
   ]
  },
  {
   "cell_type": "code",
   "execution_count": 3,
   "id": "befc39de",
   "metadata": {},
   "outputs": [
    {
     "data": {
      "text/plain": [
       "datetime.datetime(2025, 3, 28, 16, 28, 16, 493851)"
      ]
     },
     "execution_count": 3,
     "metadata": {},
     "output_type": "execute_result"
    }
   ],
   "source": [
    "datetime.now()"
   ]
  },
  {
   "cell_type": "code",
   "execution_count": 5,
   "id": "7963b590",
   "metadata": {},
   "outputs": [],
   "source": [
    "now = datetime.now()"
   ]
  },
  {
   "cell_type": "code",
   "execution_count": 6,
   "id": "4f07d88e",
   "metadata": {},
   "outputs": [
    {
     "data": {
      "text/plain": [
       "2025"
      ]
     },
     "execution_count": 6,
     "metadata": {},
     "output_type": "execute_result"
    }
   ],
   "source": [
    "now.year"
   ]
  },
  {
   "cell_type": "code",
   "execution_count": 7,
   "id": "baac1128",
   "metadata": {},
   "outputs": [
    {
     "data": {
      "text/plain": [
       "3"
      ]
     },
     "execution_count": 7,
     "metadata": {},
     "output_type": "execute_result"
    }
   ],
   "source": [
    "now.month"
   ]
  },
  {
   "cell_type": "code",
   "execution_count": 8,
   "id": "fc874598",
   "metadata": {},
   "outputs": [
    {
     "data": {
      "text/plain": [
       "50"
      ]
     },
     "execution_count": 8,
     "metadata": {},
     "output_type": "execute_result"
    }
   ],
   "source": [
    "now.second"
   ]
  },
  {
   "cell_type": "markdown",
   "id": "440fb85d",
   "metadata": {},
   "source": [
    "### 시간을 포맷에 맞춰 출력하기"
   ]
  },
  {
   "cell_type": "code",
   "execution_count": 9,
   "id": "b5357d01",
   "metadata": {},
   "outputs": [
    {
     "data": {
      "text/plain": [
       "'2025.03.28 16:29:50'"
      ]
     },
     "execution_count": 9,
     "metadata": {},
     "output_type": "execute_result"
    }
   ],
   "source": [
    "now.strftime('%Y.%m.%d %H:%M:%S')"
   ]
  },
  {
   "cell_type": "markdown",
   "id": "a6b46621",
   "metadata": {},
   "source": [
    "# OS 모듈"
   ]
  },
  {
   "cell_type": "code",
   "execution_count": 11,
   "id": "7bdbbf9c",
   "metadata": {},
   "outputs": [],
   "source": [
    "import os"
   ]
  },
  {
   "cell_type": "code",
   "execution_count": 15,
   "id": "e7024476",
   "metadata": {},
   "outputs": [
    {
     "name": "stdout",
     "output_type": "stream",
     "text": [
      "현재 운영체제 :  nt\n",
      "현재 사용하는 폴더 : C:\\fintech\\Python\n",
      "현재 폴더 내부의 파일 리스트 :  ['.ipynb_checkpoints', '01_Jupyter_Notebook_사용법.ipynb', '02_Python_syntax_basic.ipynb', '03_Python_자료형.ipynb', '04_Python_연산자.ipynb', '05_Python_str.ipynb', '06_Python_list_tuple.ipynb', '07_Python_dictionary.ipynb', '08_Python_서식지정자_문자열_format.ipynb', '09_Python_조건문.ipynb', '10_Python_for_while.ipynb', '11_Python_list표현식_file.ipynb', '12_Python_JSON_unpacking.ipynb', '13_Python_function_exception.ipynb', '14_Python_JSON_unpacking_호텔스닷컴리뷰정리.ipynb', '15_Python_class.ipynb', '16_Python_module.ipynb', 'data', 'test.txt', 'test2.txt', 'test_utf-8.txt', '연습문제_01_print_자료형_연산자.ipynb', '연습문제_02_문자열_리스트.ipynb', '연습문제_03_리스트_튜플_20문제.ipynb', '연습문제_04_딕셔너리_30문제.ipynb', '연습문제_05_딕셔너리_조건문_반복문연습문제.ipynb', '호텔스닷컴리뷰.csv', '호텔정보.csv']\n"
     ]
    }
   ],
   "source": [
    "# 내가 사용하는 컴퓨터의 기본정보 출력하기\n",
    "print('현재 운영체제 : ', os.name)\n",
    "print('현재 사용하는 폴더 :', os.getcwd())\n",
    "print('현재 폴더 내부의 파일 리스트 : ',os.listdir())"
   ]
  },
  {
   "cell_type": "code",
   "execution_count": 20,
   "id": "d0520fef",
   "metadata": {},
   "outputs": [
    {
     "name": "stdout",
     "output_type": "stream",
     "text": [
      "test.txt\n",
      "test2.txt\n",
      "test_utf-8.txt\n"
     ]
    }
   ],
   "source": [
    "for name in os.listdir():\n",
    "    if name[-3:] == 'txt':\n",
    "        print(name)"
   ]
  },
  {
   "cell_type": "code",
   "execution_count": 21,
   "id": "ad9e0336",
   "metadata": {},
   "outputs": [],
   "source": [
    "# 현재 위치에서 폴더 만들기\n",
    "os.mkdir('testdir')"
   ]
  },
  {
   "cell_type": "code",
   "execution_count": 22,
   "id": "03808868",
   "metadata": {},
   "outputs": [],
   "source": [
    "# 현재 위치에서 폴더 삭제하기\n",
    "os.rmdir('testdir')"
   ]
  },
  {
   "cell_type": "code",
   "execution_count": 25,
   "id": "7e4a8616",
   "metadata": {},
   "outputs": [
    {
     "data": {
      "text/plain": [
       "0"
      ]
     },
     "execution_count": 25,
     "metadata": {},
     "output_type": "execute_result"
    }
   ],
   "source": [
    "# cmd 명렁어 실행하기\n",
    "os.system('dir /w')"
   ]
  },
  {
   "cell_type": "code",
   "execution_count": 29,
   "id": "a22692fa",
   "metadata": {},
   "outputs": [],
   "source": [
    "# 파일을 생성하고 파일이름 변경하기\n",
    "with open('original.txt','w') as file:\n",
    "    file.write('안녕하세요')"
   ]
  },
  {
   "cell_type": "code",
   "execution_count": 30,
   "id": "3e213a55",
   "metadata": {},
   "outputs": [],
   "source": [
    "os.rename('original.txt','new.txt')"
   ]
  },
  {
   "cell_type": "code",
   "execution_count": 32,
   "id": "6aed2642",
   "metadata": {},
   "outputs": [],
   "source": [
    "# 폴더가 있는지 확인하고 없으면 폴더 생성하기\n",
    "if not os.path.exists('./testdir'):\n",
    "    os.mkdir('testdir')\n",
    "else:\n",
    "    os.rmdir('testdir')"
   ]
  },
  {
   "cell_type": "code",
   "execution_count": null,
   "id": "e3cc1548",
   "metadata": {},
   "outputs": [],
   "source": [
    "# 환경변수에 변수와 값 추가하기\n",
    "os.environ['key'] = 'value'\n",
    "print(os.environ.get('key'))"
   ]
  },
  {
   "cell_type": "code",
   "execution_count": 33,
   "id": "ff016386",
   "metadata": {},
   "outputs": [
    {
     "name": "stdout",
     "output_type": "stream",
     "text": [
      "C:\\Users\\Admin\\miniforge3\\envs\\fintech;C:\\Users\\Admin\\miniforge3\\envs\\fintech\\Library\\mingw-w64\\bin;C:\\Users\\Admin\\miniforge3\\envs\\fintech\\Library\\usr\\bin;C:\\Users\\Admin\\miniforge3\\envs\\fintech\\Library\\bin;C:\\Users\\Admin\\miniforge3\\envs\\fintech\\Scripts;C:\\Users\\Admin\\miniforge3\\envs\\fintech\\bin;C:\\Users\\Admin\\miniforge3\\condabin;C:\\Windows\\system32;C:\\Windows;C:\\Windows\\System32\\Wbem;C:\\Windows\\System32\\WindowsPowerShell\\v1.0;C:\\Windows\\System32\\OpenSSH;C:\\Program Files\\Bandizip;C:\\Program Files\\Git\\cmd;C:\\Users\\Admin\\AppData\\Local\\Microsoft\\WindowsApps;C:\\Users\\Admin\\AppData\\Local\\Programs\\Microsoft VS Code\\bin\n"
     ]
    }
   ],
   "source": [
    "print(os.environ.get('Path'))"
   ]
  },
  {
   "cell_type": "code",
   "execution_count": 1,
   "id": "19bf3897",
   "metadata": {},
   "outputs": [],
   "source": [
    "from myfunc import *"
   ]
  },
  {
   "cell_type": "code",
   "execution_count": 36,
   "id": "7db16040",
   "metadata": {},
   "outputs": [
    {
     "data": {
      "text/plain": [
       "7"
      ]
     },
     "execution_count": 36,
     "metadata": {},
     "output_type": "execute_result"
    }
   ],
   "source": [
    "add(3,4)"
   ]
  },
  {
   "cell_type": "code",
   "execution_count": 2,
   "id": "dba5ef5c",
   "metadata": {},
   "outputs": [],
   "source": [
    "sam = Cal(1,2)"
   ]
  },
  {
   "cell_type": "code",
   "execution_count": 3,
   "id": "1ae9ff6a",
   "metadata": {},
   "outputs": [
    {
     "data": {
      "text/plain": [
       "3"
      ]
     },
     "execution_count": 3,
     "metadata": {},
     "output_type": "execute_result"
    }
   ],
   "source": [
    "sam.add()"
   ]
  },
  {
   "cell_type": "code",
   "execution_count": 4,
   "id": "59897b83",
   "metadata": {},
   "outputs": [
    {
     "data": {
      "text/plain": [
       "-1"
      ]
     },
     "execution_count": 4,
     "metadata": {},
     "output_type": "execute_result"
    }
   ],
   "source": [
    "sam.sub()"
   ]
  }
 ],
 "metadata": {
  "kernelspec": {
   "display_name": "Python 3 (ipykernel)",
   "language": "python",
   "name": "python3"
  },
  "language_info": {
   "codemirror_mode": {
    "name": "ipython",
    "version": 3
   },
   "file_extension": ".py",
   "mimetype": "text/x-python",
   "name": "python",
   "nbconvert_exporter": "python",
   "pygments_lexer": "ipython3",
   "version": "3.9.21"
  }
 },
 "nbformat": 4,
 "nbformat_minor": 5
}
