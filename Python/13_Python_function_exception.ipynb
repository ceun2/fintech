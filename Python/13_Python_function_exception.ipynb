{
 "cells": [
  {
   "cell_type": "markdown",
   "id": "bcc5bb1e",
   "metadata": {},
   "source": [
    "# 함수만들기\n",
    "* print(), split(), input() => 함수\n",
    "* 함수의 괄호 안에 값을 넣으면 출력을 해주거나 입력을 받거나 변환을 해줌\n",
    "* 만들어져 있는 도구\n",
    "* function 기능\n",
    "* 자주 사용하는 기능을 미리 만들어서 **반복 재사용**을 할 수 있게 만든 것"
   ]
  },
  {
   "cell_type": "code",
   "execution_count": 2,
   "id": "7d861263",
   "metadata": {},
   "outputs": [
    {
     "name": "stdout",
     "output_type": "stream",
     "text": [
      "[10, 20, 30, 40]\n"
     ]
    }
   ],
   "source": [
    "# 리스트의 자료에 10을 곱해서 다시 리스트로 출력\n",
    "# result = [10,20,30,40]\n",
    "\n",
    "l = [1,2,3,4]\n",
    "result = []\n",
    "\n",
    "for i in l:\n",
    "    result.append(i*10)\n",
    "print(result)"
   ]
  },
  {
   "cell_type": "code",
   "execution_count": 4,
   "id": "3a6d15dc",
   "metadata": {},
   "outputs": [],
   "source": [
    "def mul10(num):\n",
    "    result = []\n",
    "    for i in num:\n",
    "        result.append(i*10)\n",
    "    return result"
   ]
  },
  {
   "cell_type": "code",
   "execution_count": 6,
   "id": "333a82e4",
   "metadata": {},
   "outputs": [
    {
     "name": "stdout",
     "output_type": "stream",
     "text": [
      "[0, 10, 20, 30, 40, 50, 60, 70, 80, 90, 100, 110, 120, 130, 140, 150, 160, 170, 180, 190, 200, 210, 220, 230, 240, 250, 260, 270, 280, 290, 300, 310, 320, 330, 340, 350, 360, 370, 380, 390, 400, 410, 420, 430, 440, 450, 460, 470, 480, 490, 500]\n"
     ]
    }
   ],
   "source": [
    "l2 = list(range(51))\n",
    "print(mul10(l2))"
   ]
  },
  {
   "cell_type": "markdown",
   "id": "226bc26e",
   "metadata": {},
   "source": [
    "# 함수 만드는 법\n",
    "def 함수이름(변수명1, 변수명2, ...):<br>\n",
    "____ 실행코드 <br>\n",
    "____ return 반환할 값(결과)"
   ]
  },
  {
   "cell_type": "code",
   "execution_count": 7,
   "id": "6f44cf8d",
   "metadata": {},
   "outputs": [
    {
     "name": "stdout",
     "output_type": "stream",
     "text": [
      "Hello python 함수 만들기!\n"
     ]
    }
   ],
   "source": [
    "def hello():\n",
    "    print('Hello python 함수 만들기!')\n",
    "hello()"
   ]
  },
  {
   "cell_type": "markdown",
   "id": "906adc45",
   "metadata": {},
   "source": [
    "# 함수의 매개변수\n",
    "* 함수의 ()안에 받는 값을 저장하는 변수\n",
    "* ()안에 값을 받아서 함수 내에서 처리할 때 사용"
   ]
  },
  {
   "cell_type": "code",
   "execution_count": 8,
   "id": "989146dd",
   "metadata": {},
   "outputs": [
    {
     "name": "stdout",
     "output_type": "stream",
     "text": [
      "원의 넓이는 : 28.26 입니다.\n"
     ]
    }
   ],
   "source": [
    "def circle(c):\n",
    "    print(f'원의 넓이는 : {c*c*3.14} 입니다.')\n",
    "circle(3)"
   ]
  },
  {
   "cell_type": "code",
   "execution_count": 13,
   "id": "e8476787",
   "metadata": {},
   "outputs": [
    {
     "name": "stdout",
     "output_type": "stream",
     "text": [
      "1 3 5 7 9 "
     ]
    }
   ],
   "source": [
    "def num_maker(a,b,c):\n",
    "    for i in range(a, b+1, c):\n",
    "        print(i,end=' ')\n",
    "num_maker(1,10,2)"
   ]
  },
  {
   "cell_type": "markdown",
   "id": "ac86deab",
   "metadata": {},
   "source": [
    "# 중간에 함수를 종료시키기 위한 용도의 return\n",
    "* 반복문에서 break처럼 활용 가능"
   ]
  },
  {
   "cell_type": "code",
   "execution_count": 14,
   "id": "09cf7053",
   "metadata": {},
   "outputs": [],
   "source": [
    "def even(num):\n",
    "    total = 0\n",
    "    for i in num:\n",
    "        if i%2==0:\n",
    "            total += i\n",
    "        if total >= 50:\n",
    "            return total"
   ]
  },
  {
   "cell_type": "code",
   "execution_count": 15,
   "id": "352def49",
   "metadata": {},
   "outputs": [
    {
     "data": {
      "text/plain": [
       "56"
      ]
     },
     "execution_count": 15,
     "metadata": {},
     "output_type": "execute_result"
    }
   ],
   "source": [
    "even(list(range(1,101)))"
   ]
  },
  {
   "cell_type": "code",
   "execution_count": 17,
   "id": "39c6902d",
   "metadata": {},
   "outputs": [],
   "source": [
    "def student_grade():\n",
    "    score = int(input('점수를 입력해주세요 : '))\n",
    "    if score> 90:\n",
    "        print('A학점')\n",
    "    elif score > 80:\n",
    "        print('B학점')\n",
    "    elif score > 70:\n",
    "        print('C학점')\n",
    "    elif score > 60:\n",
    "        print('D학점')\n",
    "    else:\n",
    "        print('F학점')"
   ]
  },
  {
   "cell_type": "code",
   "execution_count": 18,
   "id": "ac263c4c",
   "metadata": {},
   "outputs": [
    {
     "name": "stdout",
     "output_type": "stream",
     "text": [
      "점수를 입력해주세요 : 100\n",
      "A학점\n"
     ]
    }
   ],
   "source": [
    "student_grade()"
   ]
  },
  {
   "cell_type": "markdown",
   "id": "5335291c",
   "metadata": {},
   "source": [
    "# 인수\n",
    "* 함수에 집어넣는 자료\n",
    "* 매개변수에 넣는 자료\n",
    "#### 위치인수(positional argument)\n",
    "* 위치가 고정된 인수"
   ]
  },
  {
   "cell_type": "code",
   "execution_count": 19,
   "id": "c20a7831",
   "metadata": {},
   "outputs": [
    {
     "name": "stdout",
     "output_type": "stream",
     "text": [
      "1 2 3\n"
     ]
    }
   ],
   "source": [
    "def print_nums(a,b,c):\n",
    "    print(a,b,c)\n",
    "print_nums(1,2,3)"
   ]
  },
  {
   "cell_type": "code",
   "execution_count": 21,
   "id": "63c964dc",
   "metadata": {},
   "outputs": [
    {
     "name": "stdout",
     "output_type": "stream",
     "text": [
      "[1, 2, 3]\n",
      "1 2 3\n"
     ]
    }
   ],
   "source": [
    "three = [1,2,3]\n",
    "print(three)\n",
    "print_nums(*three)"
   ]
  },
  {
   "cell_type": "markdown",
   "id": "4fcd1211",
   "metadata": {},
   "source": [
    "#### 가변위치인수(args, Variable-length Arguments)\n",
    "* 여러개의 자료를 넣을 수 있는 인수, 제한 없음"
   ]
  },
  {
   "cell_type": "code",
   "execution_count": 23,
   "id": "a558ac17",
   "metadata": {},
   "outputs": [
    {
     "name": "stdout",
     "output_type": "stream",
     "text": [
      "1 2 3 4 5 6 7 8 "
     ]
    }
   ],
   "source": [
    "def print_nums_2(*nums):\n",
    "    for i in nums:\n",
    "        print(i, end=' ')\n",
    "print_nums_2(1,2,3,4,5,6,7,8)"
   ]
  },
  {
   "cell_type": "code",
   "execution_count": 28,
   "id": "2370ca0c",
   "metadata": {},
   "outputs": [],
   "source": [
    "def my_sum(*args):\n",
    "    total = 0\n",
    "    for i in args:\n",
    "        total += i\n",
    "    return total"
   ]
  },
  {
   "cell_type": "code",
   "execution_count": 29,
   "id": "4f7914c4",
   "metadata": {},
   "outputs": [
    {
     "name": "stdout",
     "output_type": "stream",
     "text": [
      "55\n"
     ]
    }
   ],
   "source": [
    "result = my_sum(*list(range(1,11)))\n",
    "print(result)"
   ]
  },
  {
   "cell_type": "markdown",
   "id": "f932028e",
   "metadata": {},
   "source": [
    "#### 위치인수와 가변인수 동시에 받기\n",
    "* 반드시 위치인수가 가변인수보다 먼저 와야함"
   ]
  },
  {
   "cell_type": "code",
   "execution_count": 30,
   "id": "1910e383",
   "metadata": {},
   "outputs": [],
   "source": [
    "def muls(a, *args):\n",
    "    result = []\n",
    "    for num in args:\n",
    "        result.append(num*a)\n",
    "    return result"
   ]
  },
  {
   "cell_type": "code",
   "execution_count": 31,
   "id": "91d0b111",
   "metadata": {},
   "outputs": [
    {
     "data": {
      "text/plain": [
       "[2, 4, 6, 8, 10]"
      ]
     },
     "execution_count": 31,
     "metadata": {},
     "output_type": "execute_result"
    }
   ],
   "source": [
    "l5 = [1,2,3,4,5]\n",
    "muls(2,*l5)"
   ]
  },
  {
   "cell_type": "markdown",
   "id": "e339e167",
   "metadata": {},
   "source": [
    "#### 키워드 인수(keyword arguments)\n",
    "* 매개변수에 이름을 명시해서 인수를 넣어주는 것\n",
    "* 기본값 설정 가능\n",
    "* 기본값 설정한 인수는 가장 마지막에 배치"
   ]
  },
  {
   "cell_type": "code",
   "execution_count": 37,
   "id": "e7b6bad0",
   "metadata": {},
   "outputs": [],
   "source": [
    "def personal_info(name, age, address):\n",
    "    print('이름 : ', name)\n",
    "    print('나이 : ', age)\n",
    "    print('주소 : ', address)"
   ]
  },
  {
   "cell_type": "code",
   "execution_count": 33,
   "id": "ceaf833a",
   "metadata": {},
   "outputs": [
    {
     "name": "stdout",
     "output_type": "stream",
     "text": [
      "이름 :  홍길동\n",
      "나이 :  30\n",
      "주소 :  서울시\n"
     ]
    }
   ],
   "source": [
    "personal_info('홍길동', 30, '서울시')"
   ]
  },
  {
   "cell_type": "code",
   "execution_count": 38,
   "id": "13dd3cf7",
   "metadata": {},
   "outputs": [
    {
     "name": "stdout",
     "output_type": "stream",
     "text": [
      "이름 :  홍길동\n",
      "나이 :  30\n",
      "주소 :  서울시\n"
     ]
    }
   ],
   "source": [
    "personal_info(age=30, address='서울시', name='홍길동')"
   ]
  },
  {
   "cell_type": "code",
   "execution_count": 39,
   "id": "84dad3c7",
   "metadata": {},
   "outputs": [],
   "source": [
    "def personal_info_2(name,address,age=20):\n",
    "    print('이름 : ', name)\n",
    "    print('나이 : ', age)\n",
    "    print('주소 : ', address)"
   ]
  },
  {
   "cell_type": "code",
   "execution_count": 40,
   "id": "0f1678fa",
   "metadata": {},
   "outputs": [
    {
     "name": "stdout",
     "output_type": "stream",
     "text": [
      "이름 :  홍길동\n",
      "나이 :  20\n",
      "주소 :  서울시\n"
     ]
    }
   ],
   "source": [
    "personal_info_2(address='서울시', name='홍길동')"
   ]
  },
  {
   "cell_type": "markdown",
   "id": "fe8d1f0c",
   "metadata": {},
   "source": [
    "### 딕셔너리 언패킹\n",
    "* 딕셔너리 앞에 \\*\\*를 붙여서 딕셔너리 언패킹 가능"
   ]
  },
  {
   "cell_type": "code",
   "execution_count": 43,
   "id": "a9d634cd",
   "metadata": {},
   "outputs": [
    {
     "name": "stdout",
     "output_type": "stream",
     "text": [
      "이름 :  홍길동\n",
      "나이 :  30\n",
      "주소 :  서울시 강남구\n"
     ]
    }
   ],
   "source": [
    "personal_info(**{'address' : '서울시 강남구', 'name' : '홍길동', 'age' : 30})"
   ]
  },
  {
   "cell_type": "markdown",
   "id": "fc295dfc",
   "metadata": {},
   "source": [
    "#### 가변 키워드 인수(kwargs, variable-length keyword arguments)\n",
    "* 키워드 인수를 숫자 제한없이 넣는 경우"
   ]
  },
  {
   "cell_type": "code",
   "execution_count": 48,
   "id": "593d683a",
   "metadata": {},
   "outputs": [],
   "source": [
    "def personal_info_3(**kwargs):\n",
    "    for key, value in kwargs.items():\n",
    "        print(f'{key} : {value}')"
   ]
  },
  {
   "cell_type": "code",
   "execution_count": 49,
   "id": "2857beca",
   "metadata": {},
   "outputs": [
    {
     "name": "stdout",
     "output_type": "stream",
     "text": [
      "address : 서울시\n",
      "name : 홍길동\n",
      "age : 50\n"
     ]
    }
   ],
   "source": [
    "personal_info_3(address='서울시',name='홍길동',age=50)"
   ]
  },
  {
   "cell_type": "markdown",
   "id": "b3eceacc",
   "metadata": {},
   "source": [
    "#### 위치인수와 가변키워드인수 동시에 받기\n",
    "* 반드시 위치인수가 가변키워드인수보다 먼저 와야함"
   ]
  },
  {
   "cell_type": "code",
   "execution_count": 50,
   "id": "721be1f7",
   "metadata": {},
   "outputs": [],
   "source": [
    "def personal_info_4(num, **kwargs):\n",
    "    print(f'num : {num}')\n",
    "    for key, value in kwargs.items():\n",
    "        print(f'{key} : {value}')"
   ]
  },
  {
   "cell_type": "code",
   "execution_count": 51,
   "id": "38440b26",
   "metadata": {},
   "outputs": [
    {
     "name": "stdout",
     "output_type": "stream",
     "text": [
      "num : 1\n",
      "name : 홍길동\n",
      "address : 서울시\n"
     ]
    }
   ],
   "source": [
    "personal_info_4(1,name='홍길동',address='서울시')"
   ]
  },
  {
   "cell_type": "markdown",
   "id": "e941e3e9",
   "metadata": {},
   "source": [
    "#### 가변인수와 가변키워드인수 동시에 받기\n",
    "* 반드시 가변인수가 가변키워드인수보다 먼저 와야함"
   ]
  },
  {
   "cell_type": "code",
   "execution_count": 56,
   "id": "64de76e0",
   "metadata": {},
   "outputs": [],
   "source": [
    "def custom_print(*args, **kwargs):\n",
    "    print(*args, **kwargs)"
   ]
  },
  {
   "cell_type": "code",
   "execution_count": 57,
   "id": "db2bcb8f",
   "metadata": {},
   "outputs": [
    {
     "name": "stdout",
     "output_type": "stream",
     "text": [
      "1||2||3!!"
     ]
    }
   ],
   "source": [
    "custom_print(1,2,3,sep='||',end='!!')"
   ]
  },
  {
   "cell_type": "markdown",
   "id": "6b3366f0",
   "metadata": {},
   "source": [
    "### 매개변수 : 함수에서 자료를 받을 때 사용하는 변수\n",
    "* 위치인수(a) : 위치가 고정된 매개변수, 위치인수는 키워드 인수로 사용가능(변수명=값)\n",
    "* 가변인수(*args) : 여러 개의 자료를 동시에 받을 수 있음. → tuple로 변환되어 들어옴\n",
    "* 키워드 가변인수(**kwargs) : 여러 개의 자료를 동시에 받을 수 있는데 key=value 형태로 받는 인수 → dict로 들어옴"
   ]
  },
  {
   "cell_type": "markdown",
   "id": "7b7d000e",
   "metadata": {},
   "source": [
    "### 매개변수 기본값 지정하기\n",
    "* 기본값이 지정된 매개변수는 반드시 마지막에 위치해야함"
   ]
  },
  {
   "cell_type": "markdown",
   "id": "9c3fabaa",
   "metadata": {},
   "source": [
    "### 동시에 사용할 경우\n",
    "* 위치인수, 키워드 인수(기본값), 가변인수, 키워드가변인수 순서로 사용한다.<br>\n",
    "\n",
    "✅ *args는 기본값이 있는 위치 매개변수 뒤에 올 수 없음!"
   ]
  },
  {
   "cell_type": "code",
   "execution_count": 67,
   "id": "6bc9ab9a",
   "metadata": {},
   "outputs": [],
   "source": [
    "def personal_info_6(idx,*args ,address='비공개', **kwargs):\n",
    "    print(f'idx : {idx}')\n",
    "    print(f'address : {address}')\n",
    "    print(f'*args : {args}')\n",
    "    print(f'*kwargs : {kwargs}')"
   ]
  },
  {
   "cell_type": "code",
   "execution_count": 69,
   "id": "69459fe9",
   "metadata": {},
   "outputs": [
    {
     "name": "stdout",
     "output_type": "stream",
     "text": [
      "idx : 1\n",
      "address : 비공개\n",
      "*args : (30, 40, 50)\n",
      "*kwargs : {'이름': '홍길동', '성별': '남자'}\n"
     ]
    }
   ],
   "source": [
    "personal_info_6(1, 30, 40, 50, 이름='홍길동', 성별='남자')"
   ]
  },
  {
   "cell_type": "code",
   "execution_count": 68,
   "id": "cb77a30f",
   "metadata": {},
   "outputs": [
    {
     "name": "stdout",
     "output_type": "stream",
     "text": [
      "idx : 1\n",
      "address : 서울\n",
      "*args : (30, 40, 50)\n",
      "*kwargs : {'이름': '홍길동', '성별': '남자'}\n"
     ]
    }
   ],
   "source": [
    "personal_info_6(1, 30, 40, 50, address='서울',이름='홍길동', 성별='남자')"
   ]
  },
  {
   "cell_type": "markdown",
   "id": "74253b51",
   "metadata": {},
   "source": [
    "## 함수 doc 스트링 사용하기\n",
    "* 함수의 기능을 설명하거나 사용법을 함수 내에 적어 놓는 것<br>\n",
    "\n",
    "def 함수이름(매개변수):<br>\n",
    "\"\"\"doc스트링으로 설명 \"\"\"<br>\n",
    "\n",
    "* 함수 실행시에는 출력되지않음\n",
    "* print(함수이름.\\_\\_doc\\_\\_)\n",
    "* help(함수이름)"
   ]
  },
  {
   "cell_type": "code",
   "execution_count": 70,
   "id": "f13a55b0",
   "metadata": {},
   "outputs": [
    {
     "name": "stdout",
     "output_type": "stream",
     "text": [
      "Help on function personal_info_6 in module __main__:\n",
      "\n",
      "personal_info_6(idx, *args, address='비공개', **kwargs)\n",
      "\n"
     ]
    }
   ],
   "source": [
    "help(personal_info_6)"
   ]
  },
  {
   "cell_type": "code",
   "execution_count": 71,
   "id": "c9d1d07d",
   "metadata": {},
   "outputs": [],
   "source": [
    "def add(a,b):\n",
    "    \"\"\"\n",
    "    이 함수는 a와 b의 합을 출력하는 함수입니다.\n",
    "    \"\"\"\n",
    "    print(a+b)"
   ]
  },
  {
   "cell_type": "code",
   "execution_count": 72,
   "id": "6674a866",
   "metadata": {},
   "outputs": [
    {
     "name": "stdout",
     "output_type": "stream",
     "text": [
      "Help on function add in module __main__:\n",
      "\n",
      "add(a, b)\n",
      "    이 함수는 a와 b의 합을 출력하는 함수입니다.\n",
      "\n"
     ]
    }
   ],
   "source": [
    "help(add)"
   ]
  },
  {
   "cell_type": "code",
   "execution_count": 77,
   "id": "b2cc2edc",
   "metadata": {},
   "outputs": [
    {
     "name": "stdout",
     "output_type": "stream",
     "text": [
      "\n",
      "    이 함수는 a와 b의 합을 출력하는 함수입니다.\n",
      "    \n"
     ]
    }
   ],
   "source": [
    "print(add.__doc__)"
   ]
  },
  {
   "cell_type": "markdown",
   "id": "fd9cd6cd",
   "metadata": {},
   "source": [
    "# 람다 표현식 (lambda expression)\n",
    "* 익명함수(함수 이름이 없음)\n",
    "* 간단한 함수를 작성하거나 다른 함수의 인수로 함수를 넣을 때 사용\n",
    "* 사용 후 메모리에서 삭제\n",
    "* lambda 매개변수 : return할 값, 계산"
   ]
  },
  {
   "cell_type": "code",
   "execution_count": 78,
   "id": "62ffe6f2",
   "metadata": {},
   "outputs": [
    {
     "name": "stdout",
     "output_type": "stream",
     "text": [
      "{'__name__': '__main__', '__doc__': 'Automatically created module for IPython interactive environment', '__package__': None, '__loader__': None, '__spec__': None, '__builtin__': <module 'builtins' (built-in)>, '__builtins__': <module 'builtins' (built-in)>, '_ih': ['', '# 리스트의 자료에 10을 곱해서 다시 리스트로 출력\\n# result = [10,20,30,40]\\n\\nl = [1,2,3,4]\\nresult = []\\n\\nfor i in l:\\n    resut.append(i*10)\\nprint(result)', '# 리스트의 자료에 10을 곱해서 다시 리스트로 출력\\n# result = [10,20,30,40]\\n\\nl = [1,2,3,4]\\nresult = []\\n\\nfor i in l:\\n    result.append(i*10)\\nprint(result)', 'l2 = list(range(51))\\nmul10(l2)', 'def mul10(num):\\n    result = []\\n    for i in num:\\n        result.append(i*10)\\n    return result', 'l2 = list(range(51))\\nmul10(l2)', 'l2 = list(range(51))\\nprint(mul10(l2))', \"def hello():\\n    print('Hello python 함수 만들기!')\\nhello()\", \"def circle(c):\\n    print(f'원의 넓이는 : {c*c*3.14} 입니다.')\\ncircle(3)\", \"def num_maker(a,b,c):\\n    for i in range(a, b+1, c):\\n        print(i,end='')\", \"def num_maker(a,b,c):\\n    for i in range(a, b+1, c):\\n        print(i,end='')\\nnum_maker(1,11,2)\", \"def num_maker(a,b,c):\\n    for i in range(a, b+1, c):\\n        print(i,end=' ')\\nnum_maker(1,11,2)\", \"def num_maker(a,b,c):\\n    for i in range(a, b, c):\\n        print(i,end=' ')\\nnum_maker(1,11,2)\", \"def num_maker(a,b,c):\\n    for i in range(a, b+1, c):\\n        print(i,end=' ')\\nnum_maker(1,10,2)\", 'def even(num):\\n    total = 0\\n    for i in num:\\n        if i%2==0:\\n            total += i\\n        if total >= 50:\\n            return total', 'even(list(range(1,101)))', \"def student_grade:\\n    score = int(input('점수를 입력해주세요 : '))\\n    if score> 90:\\n        print('A학점')\\n    elif score > 80:\\n        print('B학점')\\n    elif score > 70:\\n        print('C학점')\\n    elif score > 60:\\n        print('D학점')\\n    else:\\n        print('F학점')\", \"def student_grade():\\n    score = int(input('점수를 입력해주세요 : '))\\n    if score> 90:\\n        print('A학점')\\n    elif score > 80:\\n        print('B학점')\\n    elif score > 70:\\n        print('C학점')\\n    elif score > 60:\\n        print('D학점')\\n    else:\\n        print('F학점')\", 'student_grade()', 'def print_nums(a,b,c):\\n    print(a,b,c)\\nprint_nums(1,2,3)', 'three = [1,2,3]\\nprint_nums(*three)', 'three = [1,2,3]\\nprint(three)\\nprint_nums(*three)', \"def print_nums_2(*nums):\\n    for i in nums:\\n        print(i, end=' ')\", \"def print_nums_2(*nums):\\n    for i in nums:\\n        print(i, end=' ')\\nprint_nums_2(1,2,3,4,5,6,7,8)\", 'def my_sum(*nums):\\n    total = 0\\n    for i in nums:\\n        total += i\\n    return total', 'result = my_sum(*list(range(1,11)))\\nprint(result)', 'result = my_sum(list(range(1,11)))\\nprint(result)', 'result = my_sum(*list(range(1,11)))\\nprint(result)', 'def my_sum(*args):\\n    total = 0\\n    for i in args:\\n        total += i\\n    return total', 'result = my_sum(*list(range(1,11)))\\nprint(result)', 'def muls(a, *args):\\n    result = []\\n    for num in args:\\n        result.append(num*a)\\n    return result', 'l5 = [1,2,3,4,5]\\nmuls(2,*l5)', \"def personal_info(name, age, address):\\n    print('이름 : ', name)\\n    print('나이 : ', age)\\n    print('주소 : ', address)\", \"personal_info('홍길동', 30, '서울시')\", \"personal_info(age=30, address='서울시', name='홍길동')\", \"personal_info(address='서울시', name='홍길동')\", \"def personal_info(name, age=50, address):\\n    print('이름 : ', name)\\n    print('나이 : ', age)\\n    print('주소 : ', address)\", \"def personal_info(name, age, address):\\n    print('이름 : ', name)\\n    print('나이 : ', age)\\n    print('주소 : ', address)\", \"personal_info(age=30, address='서울시', name='홍길동')\", \"def personal_info_2(name,address,age=20):\\n    print('이름 : ', name)\\n    print('나이 : ', age)\\n    print('주소 : ', address)\", \"personal_info_2(address='서울시', name='홍길동')\", \"print(**{'address' : '서울시 강남구', 'name' : '홍길동', 'age' : 30})\", \"**{'address' : '서울시 강남구', 'name' : '홍길동', 'age' : 30}\", \"personal_info(**{'address' : '서울시 강남구', 'name' : '홍길동', 'age' : 30})\", \"personal_info_3(address='서울시',name='홍길동',age=50)\", 'def personal_info_3(**kwargs):\\n    print(kwargs)', \"personal_info_3(address='서울시',name='홍길동',age=50)\", \"def personal_info_3(**kwargs):\\n    for key, value in kwargs.items():\\n        print(f'{key} : {value}')\", \"def personal_info_3(**kwargs):\\n    for key, value in kwargs.items():\\n        print(f'{key} : {value}')\", \"personal_info_3(address='서울시',name='홍길동',age=50)\", \"def personal_info_4(num, **kwargs):\\n    print(f'num : {num}')\\n    for key, value in kwargs.items():\\n        print(f'{key} : {value}')\", \"personal_info_4(1,name='홍길동',address='서울시')\", 'def custom_print(*args, **kwargs):\\n    print(args, kwargs)', \"custom_print(1,2,3,sep='||',end='!!')\", 'def custom_print(*args, **kwargs):\\n    print(**args, **kwargs)', \"custom_print(1,2,3,sep='||',end='!!')\", 'def custom_print(*args, **kwargs):\\n    print(*args, **kwargs)', \"custom_print(1,2,3,sep='||',end='!!')\", \"def personal_info_6(idx, address='비공개',*args, **kwargs):\\n    print(f'idx : {idx}')\\n    print(f'address : {address}')\\n    print(f'*args : {args}')\\n    print(f'*kwargs : {kwargs}')\", \"personal_info_6(1, address='서울', 30, 40, 50, 이름='홍길동', 성별='남자')\", \"def personal_info_6(idx,*args,address='비공개', **kwargs):\\n    print(f'idx : {idx}')\\n    print(f'address : {address}')\\n    print(f'*args : {args}')\\n    print(f'*kwargs : {kwargs}')\", \"def personal_info_6(idx,*args,address='비공개', **kwargs):\\n    print(f'idx : {idx}')\\n    print(f'address : {address}')\\n    print(f'*args : {args}')\\n    print(f'*kwargs : {kwargs}')\", \"personal_info_6(1, address='서울', 30, 40, 50, 이름='홍길동', 성별='남자')\", \"personal_info_6(1, address='서울', 30, 40, 50, 이름='홍길동', 성별='남자')\", \"def personal_info_6(idx,*args,address='비공개', **kwargs):\\n    print(f'idx : {idx}')\\n    print(f'address : {address}')\\n    print(f'*args : {args}')\\n    print(f'*kwargs : {kwargs}')\", \"personal_info_6(1, 30, 40, 50, 이름='홍길동', 성별='남자')\", \"personal_info_6(1, 30, 40, 50, address='서울',이름='홍길동', 성별='남자')\", \"def personal_info_6(idx,*args ,address='비공개', **kwargs):\\n    print(f'idx : {idx}')\\n    print(f'address : {address}')\\n    print(f'*args : {args}')\\n    print(f'*kwargs : {kwargs}')\", \"personal_info_6(1, 30, 40, 50, address='서울',이름='홍길동', 성별='남자')\", \"personal_info_6(1, 30, 40, 50,이름='홍길동', 성별='남자')\", 'help(personal_info_6)', 'def add(a,b):\\n    \"\"\"\\n    이 함수는 a와 b의 합을 출력하는 함수입니다.\\n    \"\"\"\\n    print(a+b)', 'help(add)', 'print(add.__docs__)', 'print(add.docs)', 'print(add.doc)', 'print(add().doc)', 'print(add.__doc__)', 'print(globals())'], '_oh': {5: [0, 10, 20, 30, 40, 50, 60, 70, 80, 90, 100, 110, 120, 130, 140, 150, 160, 170, 180, 190, 200, 210, 220, 230, 240, 250, 260, 270, 280, 290, 300, 310, 320, 330, 340, 350, 360, 370, 380, 390, 400, 410, 420, 430, 440, 450, 460, 470, 480, 490, 500], 15: 56, 31: [2, 4, 6, 8, 10]}, '_dh': [WindowsPath('C:/fintech/Python')], 'In': ['', '# 리스트의 자료에 10을 곱해서 다시 리스트로 출력\\n# result = [10,20,30,40]\\n\\nl = [1,2,3,4]\\nresult = []\\n\\nfor i in l:\\n    resut.append(i*10)\\nprint(result)', '# 리스트의 자료에 10을 곱해서 다시 리스트로 출력\\n# result = [10,20,30,40]\\n\\nl = [1,2,3,4]\\nresult = []\\n\\nfor i in l:\\n    result.append(i*10)\\nprint(result)', 'l2 = list(range(51))\\nmul10(l2)', 'def mul10(num):\\n    result = []\\n    for i in num:\\n        result.append(i*10)\\n    return result', 'l2 = list(range(51))\\nmul10(l2)', 'l2 = list(range(51))\\nprint(mul10(l2))', \"def hello():\\n    print('Hello python 함수 만들기!')\\nhello()\", \"def circle(c):\\n    print(f'원의 넓이는 : {c*c*3.14} 입니다.')\\ncircle(3)\", \"def num_maker(a,b,c):\\n    for i in range(a, b+1, c):\\n        print(i,end='')\", \"def num_maker(a,b,c):\\n    for i in range(a, b+1, c):\\n        print(i,end='')\\nnum_maker(1,11,2)\", \"def num_maker(a,b,c):\\n    for i in range(a, b+1, c):\\n        print(i,end=' ')\\nnum_maker(1,11,2)\", \"def num_maker(a,b,c):\\n    for i in range(a, b, c):\\n        print(i,end=' ')\\nnum_maker(1,11,2)\", \"def num_maker(a,b,c):\\n    for i in range(a, b+1, c):\\n        print(i,end=' ')\\nnum_maker(1,10,2)\", 'def even(num):\\n    total = 0\\n    for i in num:\\n        if i%2==0:\\n            total += i\\n        if total >= 50:\\n            return total', 'even(list(range(1,101)))', \"def student_grade:\\n    score = int(input('점수를 입력해주세요 : '))\\n    if score> 90:\\n        print('A학점')\\n    elif score > 80:\\n        print('B학점')\\n    elif score > 70:\\n        print('C학점')\\n    elif score > 60:\\n        print('D학점')\\n    else:\\n        print('F학점')\", \"def student_grade():\\n    score = int(input('점수를 입력해주세요 : '))\\n    if score> 90:\\n        print('A학점')\\n    elif score > 80:\\n        print('B학점')\\n    elif score > 70:\\n        print('C학점')\\n    elif score > 60:\\n        print('D학점')\\n    else:\\n        print('F학점')\", 'student_grade()', 'def print_nums(a,b,c):\\n    print(a,b,c)\\nprint_nums(1,2,3)', 'three = [1,2,3]\\nprint_nums(*three)', 'three = [1,2,3]\\nprint(three)\\nprint_nums(*three)', \"def print_nums_2(*nums):\\n    for i in nums:\\n        print(i, end=' ')\", \"def print_nums_2(*nums):\\n    for i in nums:\\n        print(i, end=' ')\\nprint_nums_2(1,2,3,4,5,6,7,8)\", 'def my_sum(*nums):\\n    total = 0\\n    for i in nums:\\n        total += i\\n    return total', 'result = my_sum(*list(range(1,11)))\\nprint(result)', 'result = my_sum(list(range(1,11)))\\nprint(result)', 'result = my_sum(*list(range(1,11)))\\nprint(result)', 'def my_sum(*args):\\n    total = 0\\n    for i in args:\\n        total += i\\n    return total', 'result = my_sum(*list(range(1,11)))\\nprint(result)', 'def muls(a, *args):\\n    result = []\\n    for num in args:\\n        result.append(num*a)\\n    return result', 'l5 = [1,2,3,4,5]\\nmuls(2,*l5)', \"def personal_info(name, age, address):\\n    print('이름 : ', name)\\n    print('나이 : ', age)\\n    print('주소 : ', address)\", \"personal_info('홍길동', 30, '서울시')\", \"personal_info(age=30, address='서울시', name='홍길동')\", \"personal_info(address='서울시', name='홍길동')\", \"def personal_info(name, age=50, address):\\n    print('이름 : ', name)\\n    print('나이 : ', age)\\n    print('주소 : ', address)\", \"def personal_info(name, age, address):\\n    print('이름 : ', name)\\n    print('나이 : ', age)\\n    print('주소 : ', address)\", \"personal_info(age=30, address='서울시', name='홍길동')\", \"def personal_info_2(name,address,age=20):\\n    print('이름 : ', name)\\n    print('나이 : ', age)\\n    print('주소 : ', address)\", \"personal_info_2(address='서울시', name='홍길동')\", \"print(**{'address' : '서울시 강남구', 'name' : '홍길동', 'age' : 30})\", \"**{'address' : '서울시 강남구', 'name' : '홍길동', 'age' : 30}\", \"personal_info(**{'address' : '서울시 강남구', 'name' : '홍길동', 'age' : 30})\", \"personal_info_3(address='서울시',name='홍길동',age=50)\", 'def personal_info_3(**kwargs):\\n    print(kwargs)', \"personal_info_3(address='서울시',name='홍길동',age=50)\", \"def personal_info_3(**kwargs):\\n    for key, value in kwargs.items():\\n        print(f'{key} : {value}')\", \"def personal_info_3(**kwargs):\\n    for key, value in kwargs.items():\\n        print(f'{key} : {value}')\", \"personal_info_3(address='서울시',name='홍길동',age=50)\", \"def personal_info_4(num, **kwargs):\\n    print(f'num : {num}')\\n    for key, value in kwargs.items():\\n        print(f'{key} : {value}')\", \"personal_info_4(1,name='홍길동',address='서울시')\", 'def custom_print(*args, **kwargs):\\n    print(args, kwargs)', \"custom_print(1,2,3,sep='||',end='!!')\", 'def custom_print(*args, **kwargs):\\n    print(**args, **kwargs)', \"custom_print(1,2,3,sep='||',end='!!')\", 'def custom_print(*args, **kwargs):\\n    print(*args, **kwargs)', \"custom_print(1,2,3,sep='||',end='!!')\", \"def personal_info_6(idx, address='비공개',*args, **kwargs):\\n    print(f'idx : {idx}')\\n    print(f'address : {address}')\\n    print(f'*args : {args}')\\n    print(f'*kwargs : {kwargs}')\", \"personal_info_6(1, address='서울', 30, 40, 50, 이름='홍길동', 성별='남자')\", \"def personal_info_6(idx,*args,address='비공개', **kwargs):\\n    print(f'idx : {idx}')\\n    print(f'address : {address}')\\n    print(f'*args : {args}')\\n    print(f'*kwargs : {kwargs}')\", \"def personal_info_6(idx,*args,address='비공개', **kwargs):\\n    print(f'idx : {idx}')\\n    print(f'address : {address}')\\n    print(f'*args : {args}')\\n    print(f'*kwargs : {kwargs}')\", \"personal_info_6(1, address='서울', 30, 40, 50, 이름='홍길동', 성별='남자')\", \"personal_info_6(1, address='서울', 30, 40, 50, 이름='홍길동', 성별='남자')\", \"def personal_info_6(idx,*args,address='비공개', **kwargs):\\n    print(f'idx : {idx}')\\n    print(f'address : {address}')\\n    print(f'*args : {args}')\\n    print(f'*kwargs : {kwargs}')\", \"personal_info_6(1, 30, 40, 50, 이름='홍길동', 성별='남자')\", \"personal_info_6(1, 30, 40, 50, address='서울',이름='홍길동', 성별='남자')\", \"def personal_info_6(idx,*args ,address='비공개', **kwargs):\\n    print(f'idx : {idx}')\\n    print(f'address : {address}')\\n    print(f'*args : {args}')\\n    print(f'*kwargs : {kwargs}')\", \"personal_info_6(1, 30, 40, 50, address='서울',이름='홍길동', 성별='남자')\", \"personal_info_6(1, 30, 40, 50,이름='홍길동', 성별='남자')\", 'help(personal_info_6)', 'def add(a,b):\\n    \"\"\"\\n    이 함수는 a와 b의 합을 출력하는 함수입니다.\\n    \"\"\"\\n    print(a+b)', 'help(add)', 'print(add.__docs__)', 'print(add.docs)', 'print(add.doc)', 'print(add().doc)', 'print(add.__doc__)', 'print(globals())'], 'Out': {5: [0, 10, 20, 30, 40, 50, 60, 70, 80, 90, 100, 110, 120, 130, 140, 150, 160, 170, 180, 190, 200, 210, 220, 230, 240, 250, 260, 270, 280, 290, 300, 310, 320, 330, 340, 350, 360, 370, 380, 390, 400, 410, 420, 430, 440, 450, 460, 470, 480, 490, 500], 15: 56, 31: [2, 4, 6, 8, 10]}, 'get_ipython': <bound method InteractiveShell.get_ipython of <ipykernel.zmqshell.ZMQInteractiveShell object at 0x00000236F25360A0>>, 'exit': <IPython.core.autocall.ZMQExitAutocall object at 0x00000236F2536C70>, 'quit': <IPython.core.autocall.ZMQExitAutocall object at 0x00000236F2536C70>, 'open': <function open at 0x00000236F0E19940>, '_': [2, 4, 6, 8, 10], '__': 56, '___': [0, 10, 20, 30, 40, 50, 60, 70, 80, 90, 100, 110, 120, 130, 140, 150, 160, 170, 180, 190, 200, 210, 220, 230, 240, 250, 260, 270, 280, 290, 300, 310, 320, 330, 340, 350, 360, 370, 380, 390, 400, 410, 420, 430, 440, 450, 460, 470, 480, 490, 500], '_i': 'print(add.__doc__)', '_ii': 'print(add().doc)', '_iii': 'print(add.doc)', '_i1': '# 리스트의 자료에 10을 곱해서 다시 리스트로 출력\\n# result = [10,20,30,40]\\n\\nl = [1,2,3,4]\\nresult = []\\n\\nfor i in l:\\n    resut.append(i*10)\\nprint(result)', 'l': [1, 2, 3, 4], 'result': 55, 'i': 4, '_i2': '# 리스트의 자료에 10을 곱해서 다시 리스트로 출력\\n# result = [10,20,30,40]\\n\\nl = [1,2,3,4]\\nresult = []\\n\\nfor i in l:\\n    result.append(i*10)\\nprint(result)', '_i3': 'l2 = list(range(51))\\nmul10(l2)', 'l2': [0, 1, 2, 3, 4, 5, 6, 7, 8, 9, 10, 11, 12, 13, 14, 15, 16, 17, 18, 19, 20, 21, 22, 23, 24, 25, 26, 27, 28, 29, 30, 31, 32, 33, 34, 35, 36, 37, 38, 39, 40, 41, 42, 43, 44, 45, 46, 47, 48, 49, 50], '_i4': 'def mul10(num):\\n    result = []\\n    for i in num:\\n        result.append(i*10)\\n    return result', 'mul10': <function mul10 at 0x00000236F39A8E50>, '_i5': 'l2 = list(range(51))\\nmul10(l2)', '_5': [0, 10, 20, 30, 40, 50, 60, 70, 80, 90, 100, 110, 120, 130, 140, 150, 160, 170, 180, 190, 200, 210, 220, 230, 240, 250, 260, 270, 280, 290, 300, 310, 320, 330, 340, 350, 360, 370, 380, 390, 400, 410, 420, 430, 440, 450, 460, 470, 480, 490, 500], '_i6': 'l2 = list(range(51))\\nprint(mul10(l2))', '_i7': \"def hello():\\n    print('Hello python 함수 만들기!')\\nhello()\", 'hello': <function hello at 0x00000236F3A1C280>, '_i8': \"def circle(c):\\n    print(f'원의 넓이는 : {c*c*3.14} 입니다.')\\ncircle(3)\", 'circle': <function circle at 0x00000236F39A8820>, '_i9': \"def num_maker(a,b,c):\\n    for i in range(a, b+1, c):\\n        print(i,end='')\", 'num_maker': <function num_maker at 0x00000236F3A1CAF0>, '_i10': \"def num_maker(a,b,c):\\n    for i in range(a, b+1, c):\\n        print(i,end='')\\nnum_maker(1,11,2)\", '_i11': \"def num_maker(a,b,c):\\n    for i in range(a, b+1, c):\\n        print(i,end=' ')\\nnum_maker(1,11,2)\", '_i12': \"def num_maker(a,b,c):\\n    for i in range(a, b, c):\\n        print(i,end=' ')\\nnum_maker(1,11,2)\", '_i13': \"def num_maker(a,b,c):\\n    for i in range(a, b+1, c):\\n        print(i,end=' ')\\nnum_maker(1,10,2)\", '_i14': 'def even(num):\\n    total = 0\\n    for i in num:\\n        if i%2==0:\\n            total += i\\n        if total >= 50:\\n            return total', 'even': <function even at 0x00000236F3A1C5E0>, '_i15': 'even(list(range(1,101)))', '_15': 56, '_i16': \"def student_grade:\\n    score = int(input('점수를 입력해주세요 : '))\\n    if score> 90:\\n        print('A학점')\\n    elif score > 80:\\n        print('B학점')\\n    elif score > 70:\\n        print('C학점')\\n    elif score > 60:\\n        print('D학점')\\n    else:\\n        print('F학점')\", '_i17': \"def student_grade():\\n    score = int(input('점수를 입력해주세요 : '))\\n    if score> 90:\\n        print('A학점')\\n    elif score > 80:\\n        print('B학점')\\n    elif score > 70:\\n        print('C학점')\\n    elif score > 60:\\n        print('D학점')\\n    else:\\n        print('F학점')\", 'student_grade': <function student_grade at 0x00000236F256EE50>, '_i18': 'student_grade()', '_i19': 'def print_nums(a,b,c):\\n    print(a,b,c)\\nprint_nums(1,2,3)', 'print_nums': <function print_nums at 0x00000236F3A40160>, '_i20': 'three = [1,2,3]\\nprint_nums(*three)', 'three': [1, 2, 3], '_i21': 'three = [1,2,3]\\nprint(three)\\nprint_nums(*three)', '_i22': \"def print_nums_2(*nums):\\n    for i in nums:\\n        print(i, end=' ')\", 'print_nums_2': <function print_nums_2 at 0x00000236F39A83A0>, '_i23': \"def print_nums_2(*nums):\\n    for i in nums:\\n        print(i, end=' ')\\nprint_nums_2(1,2,3,4,5,6,7,8)\", '_i24': 'def my_sum(*nums):\\n    total = 0\\n    for i in nums:\\n        total += i\\n    return total', 'my_sum': <function my_sum at 0x00000236F3A00670>, '_i25': 'result = my_sum(*list(range(1,11)))\\nprint(result)', '_i26': 'result = my_sum(list(range(1,11)))\\nprint(result)', '_i27': 'result = my_sum(*list(range(1,11)))\\nprint(result)', '_i28': 'def my_sum(*args):\\n    total = 0\\n    for i in args:\\n        total += i\\n    return total', '_i29': 'result = my_sum(*list(range(1,11)))\\nprint(result)', '_i30': 'def muls(a, *args):\\n    result = []\\n    for num in args:\\n        result.append(num*a)\\n    return result', 'muls': <function muls at 0x00000236F3A1CB80>, '_i31': 'l5 = [1,2,3,4,5]\\nmuls(2,*l5)', 'l5': [1, 2, 3, 4, 5], '_31': [2, 4, 6, 8, 10], '_i32': \"def personal_info(name, age, address):\\n    print('이름 : ', name)\\n    print('나이 : ', age)\\n    print('주소 : ', address)\", 'personal_info': <function personal_info at 0x00000236F3A00700>, '_i33': \"personal_info('홍길동', 30, '서울시')\", '_i34': \"personal_info(age=30, address='서울시', name='홍길동')\", '_i35': \"personal_info(address='서울시', name='홍길동')\", '_i36': \"def personal_info(name, age=50, address):\\n    print('이름 : ', name)\\n    print('나이 : ', age)\\n    print('주소 : ', address)\", '_i37': \"def personal_info(name, age, address):\\n    print('이름 : ', name)\\n    print('나이 : ', age)\\n    print('주소 : ', address)\", '_i38': \"personal_info(age=30, address='서울시', name='홍길동')\", '_i39': \"def personal_info_2(name,address,age=20):\\n    print('이름 : ', name)\\n    print('나이 : ', age)\\n    print('주소 : ', address)\", 'personal_info_2': <function personal_info_2 at 0x00000236F3A1CEE0>, '_i40': \"personal_info_2(address='서울시', name='홍길동')\", '_i41': \"print(**{'address' : '서울시 강남구', 'name' : '홍길동', 'age' : 30})\", '_i42': \"**{'address' : '서울시 강남구', 'name' : '홍길동', 'age' : 30}\", '_i43': \"personal_info(**{'address' : '서울시 강남구', 'name' : '홍길동', 'age' : 30})\", '_i44': \"personal_info_3(address='서울시',name='홍길동',age=50)\", '_i45': 'def personal_info_3(**kwargs):\\n    print(kwargs)', 'personal_info_3': <function personal_info_3 at 0x00000236F26E3B80>, '_i46': \"personal_info_3(address='서울시',name='홍길동',age=50)\", '_i47': \"def personal_info_3(**kwargs):\\n    for key, value in kwargs.items():\\n        print(f'{key} : {value}')\", '_i48': \"def personal_info_3(**kwargs):\\n    for key, value in kwargs.items():\\n        print(f'{key} : {value}')\", '_i49': \"personal_info_3(address='서울시',name='홍길동',age=50)\", '_i50': \"def personal_info_4(num, **kwargs):\\n    print(f'num : {num}')\\n    for key, value in kwargs.items():\\n        print(f'{key} : {value}')\", 'personal_info_4': <function personal_info_4 at 0x00000236F26E3A60>, '_i51': \"personal_info_4(1,name='홍길동',address='서울시')\", '_i52': 'def custom_print(*args, **kwargs):\\n    print(args, kwargs)', 'custom_print': <function custom_print at 0x00000236F39A8790>, '_i53': \"custom_print(1,2,3,sep='||',end='!!')\", '_i54': 'def custom_print(*args, **kwargs):\\n    print(**args, **kwargs)', '_i55': \"custom_print(1,2,3,sep='||',end='!!')\", '_i56': 'def custom_print(*args, **kwargs):\\n    print(*args, **kwargs)', '_i57': \"custom_print(1,2,3,sep='||',end='!!')\", '_i58': \"def personal_info_6(idx, address='비공개',*args, **kwargs):\\n    print(f'idx : {idx}')\\n    print(f'address : {address}')\\n    print(f'*args : {args}')\\n    print(f'*kwargs : {kwargs}')\", 'personal_info_6': <function personal_info_6 at 0x00000236F39A8430>, '_i59': \"personal_info_6(1, address='서울', 30, 40, 50, 이름='홍길동', 성별='남자')\", '_i60': \"def personal_info_6(idx,*args,address='비공개', **kwargs):\\n    print(f'idx : {idx}')\\n    print(f'address : {address}')\\n    print(f'*args : {args}')\\n    print(f'*kwargs : {kwargs}')\", '_i61': \"def personal_info_6(idx,*args,address='비공개', **kwargs):\\n    print(f'idx : {idx}')\\n    print(f'address : {address}')\\n    print(f'*args : {args}')\\n    print(f'*kwargs : {kwargs}')\", '_i62': \"personal_info_6(1, address='서울', 30, 40, 50, 이름='홍길동', 성별='남자')\", '_i63': \"personal_info_6(1, address='서울', 30, 40, 50, 이름='홍길동', 성별='남자')\", '_i64': \"def personal_info_6(idx,*args,address='비공개', **kwargs):\\n    print(f'idx : {idx}')\\n    print(f'address : {address}')\\n    print(f'*args : {args}')\\n    print(f'*kwargs : {kwargs}')\", '_i65': \"personal_info_6(1, 30, 40, 50, 이름='홍길동', 성별='남자')\", '_i66': \"personal_info_6(1, 30, 40, 50, address='서울',이름='홍길동', 성별='남자')\", '_i67': \"def personal_info_6(idx,*args ,address='비공개', **kwargs):\\n    print(f'idx : {idx}')\\n    print(f'address : {address}')\\n    print(f'*args : {args}')\\n    print(f'*kwargs : {kwargs}')\", '_i68': \"personal_info_6(1, 30, 40, 50, address='서울',이름='홍길동', 성별='남자')\", '_i69': \"personal_info_6(1, 30, 40, 50,이름='홍길동', 성별='남자')\", '_i70': 'help(personal_info_6)', '_i71': 'def add(a,b):\\n    \"\"\"\\n    이 함수는 a와 b의 합을 출력하는 함수입니다.\\n    \"\"\"\\n    print(a+b)', 'add': <function add at 0x00000236F3A1C040>, '_i72': 'help(add)', '_i73': 'print(add.__docs__)', '_i74': 'print(add.docs)', '_i75': 'print(add.doc)', '_i76': 'print(add().doc)', '_i77': 'print(add.__doc__)', '_i78': 'print(globals())'}\n"
     ]
    }
   ],
   "source": [
    "print(globals())"
   ]
  },
  {
   "cell_type": "code",
   "execution_count": 80,
   "id": "4a5c259d",
   "metadata": {},
   "outputs": [
    {
     "data": {
      "text/plain": [
       "15"
      ]
     },
     "execution_count": 80,
     "metadata": {},
     "output_type": "execute_result"
    }
   ],
   "source": [
    "(lambda x : x+10)(5)"
   ]
  },
  {
   "cell_type": "code",
   "execution_count": 81,
   "id": "7c1c372a",
   "metadata": {},
   "outputs": [
    {
     "data": {
      "text/plain": [
       "15"
      ]
     },
     "execution_count": 81,
     "metadata": {},
     "output_type": "execute_result"
    }
   ],
   "source": [
    "plus_ten = lambda x : x+10\n",
    "plus_ten(5)"
   ]
  },
  {
   "cell_type": "code",
   "execution_count": 82,
   "id": "cd0f10cc",
   "metadata": {},
   "outputs": [
    {
     "data": {
      "text/plain": [
       "'짝수'"
      ]
     },
     "execution_count": 82,
     "metadata": {},
     "output_type": "execute_result"
    }
   ],
   "source": [
    "(lambda x : \"짝수\" if x %2 ==0 else \"홀수\")(2)"
   ]
  },
  {
   "cell_type": "code",
   "execution_count": 86,
   "id": "1935a26e",
   "metadata": {},
   "outputs": [
    {
     "data": {
      "text/plain": [
       "[1, 2, '3', 4, 5, '6', 7, 8, '9', 10]"
      ]
     },
     "execution_count": 86,
     "metadata": {},
     "output_type": "execute_result"
    }
   ],
   "source": [
    "numbers = list(map((lambda x : str(x) if x %3 == 0 else x), list(range(1,11))))\n",
    "numbers"
   ]
  },
  {
   "cell_type": "code",
   "execution_count": 88,
   "id": "f2a19558",
   "metadata": {},
   "outputs": [],
   "source": [
    "a = [1,2,3,4,5]\n",
    "b = [2,4,6,8,10]\n",
    "c = [3,6,9,12,15]"
   ]
  },
  {
   "cell_type": "code",
   "execution_count": 89,
   "id": "9e0c5504",
   "metadata": {},
   "outputs": [
    {
     "data": {
      "text/plain": [
       "[6, 48, 162, 384, 750]"
      ]
     },
     "execution_count": 89,
     "metadata": {},
     "output_type": "execute_result"
    }
   ],
   "source": [
    "list(map(lambda x,y,z : x*y*z, a,b,c))"
   ]
  }
 ],
 "metadata": {
  "kernelspec": {
   "display_name": "Python 3 (ipykernel)",
   "language": "python",
   "name": "python3"
  },
  "language_info": {
   "codemirror_mode": {
    "name": "ipython",
    "version": 3
   },
   "file_extension": ".py",
   "mimetype": "text/x-python",
   "name": "python",
   "nbconvert_exporter": "python",
   "pygments_lexer": "ipython3",
   "version": "3.9.21"
  }
 },
 "nbformat": 4,
 "nbformat_minor": 5
}
