{
 "cells": [
  {
   "cell_type": "markdown",
   "id": "df07ede3",
   "metadata": {},
   "source": [
    "## 구글 Gemini\n",
    "* https://ai.google.dev/gemini-api/docs?_gl=1*7d63z1*_up*MQ..*_ga*MTQ4OTk4NTE2LjE3NDk2MjU0MDY.*_ga_P1DBVKWT6V*czE3NDk2MjU0MDYkbzEkZzAkdDE3NDk2MjU0MDYkajYwJGwwJGgyMjE5OTQxNzI.&hl=ko"
   ]
  },
  {
   "cell_type": "markdown",
   "id": "cfc4e52c",
   "metadata": {},
   "source": [
    "### API키"
   ]
  },
  {
   "cell_type": "code",
   "execution_count": 5,
   "id": "0b4b3447",
   "metadata": {
    "scrolled": true
   },
   "outputs": [
    {
     "name": "stdout",
     "output_type": "stream",
     "text": [
      "Collecting python-dotenv\n",
      "  Downloading python_dotenv-1.1.0-py3-none-any.whl.metadata (24 kB)\n",
      "Downloading python_dotenv-1.1.0-py3-none-any.whl (20 kB)\n",
      "Installing collected packages: python-dotenv\n",
      "Successfully installed python-dotenv-1.1.0\n"
     ]
    }
   ],
   "source": [
    "!pip install python-dotenv"
   ]
  },
  {
   "cell_type": "code",
   "execution_count": 2,
   "id": "7ed58b53",
   "metadata": {},
   "outputs": [],
   "source": [
    "!pip install -q -U google-genai"
   ]
  },
  {
   "cell_type": "code",
   "execution_count": 7,
   "id": "feb13258",
   "metadata": {},
   "outputs": [],
   "source": [
    "import os\n",
    "from dotenv import load_dotenv\n",
    "load_dotenv()\n",
    "apikey = os.getenv('google_api_key')"
   ]
  },
  {
   "cell_type": "code",
   "execution_count": 8,
   "id": "8e2bdf43",
   "metadata": {},
   "outputs": [
    {
     "name": "stdout",
     "output_type": "stream",
     "text": [
      "인공지능(AI)의 발전은 개발자 직업에 큰 영향을 미치고 있으며, 미래에는 더욱 심오한 변화를 가져올 것으로 예상됩니다. 긍정적인 측면과 도전적인 측면을 모두 고려하여 AI와 개발자의 미래에 대해 자세히 알아보겠습니다.\n",
      "\n",
      "**1. AI가 개발에 미치는 긍정적인 영향**\n",
      "\n",
      "*   **생산성 향상:**\n",
      "    *   **코드 자동 완성 및 제안:** AI 기반 도구는 코드를 자동으로 완성하고 제안하여 개발 속도를 크게 향상시킵니다. 예를 들어, GitHub Copilot은 AI를 활용하여 코드 스니펫, 함수, 심지어 전체 코드 블록을 제안할 수 있습니다.\n",
      "    *   **자동화된 테스트:** AI는 소프트웨어 테스트를 자동화하여 오류를 더 빠르고 효율적으로 발견할 수 있도록 돕습니다. AI 기반 테스트 도구는 다양한 시나리오를 자동으로 생성하고 테스트를 실행하여 개발자가 더 중요한 문제에 집중할 수 있게 합니다.\n",
      "    *   **코드 분석 및 품질 향상:** AI는 코드의 품질을 분석하고 잠재적인 버그나 보안 취약점을 식별하여 코드 품질을 향상시키는 데 도움을 줍니다. SonarQube와 같은 도구는 AI 기반 분석을 통해 코드의 유지 보수성을 높이고 기술 부채를 줄이는 데 기여합니다.\n",
      "*   **새로운 기술 습득 용이:**\n",
      "    *   **AI 튜터 및 학습 플랫폼:** AI 튜터는 개발자가 새로운 프로그래밍 언어, 프레임워크 또는 기술을 학습하는 데 개인 맞춤형 지원을 제공합니다. AI 기반 학습 플랫폼은 학습 진도를 추적하고, 부족한 부분을 파악하여 맞춤형 학습 계획을 제시합니다.\n",
      "    *   **자동 문서 생성:** AI는 코드에 대한 문서를 자동으로 생성하여 새로운 기술을 더 쉽게 이해하고 사용할 수 있도록 돕습니다. Swagger와 같은 도구는 API 문서를 자동으로 생성하여 개발자가 API를 더 쉽게 통합하고 사용할 수 있도록 지원합니다.\n",
      "*   **더 창의적인 작업에 집중:**\n",
      "    *   **반복적인 작업 자동화:** AI는 반복적이고 지루한 작업을 자동화하여 개발자가 더 창의적이고 전략적인 작업에 집중할 수 있도록 합니다. 예를 들어, AI는 데이터 전처리, 모델 학습, 배포와 같은 머신러닝 파이프라인을 자동화하여 개발자가 모델 설계 및 평가에 더 많은 시간을 할애할 수 있도록 합니다.\n",
      "    *   **새로운 아이디어 및 솔루션 제시:** AI는 방대한 데이터를 분석하여 개발자가 미처 생각하지 못했던 새로운 아이디어나 솔루션을 제시할 수 있습니다. AI 기반 추천 시스템은 사용자 행동 패턴을 분석하여 맞춤형 추천을 제공하고, 새로운 제품 또는 서비스 개발에 대한 아이디어를 제공할 수 있습니다.\n",
      "\n",
      "**2. AI가 개발에 미치는 도전적인 영향**\n",
      "\n",
      "*   **일자리 감소에 대한 우려:**\n",
      "    *   **자동화로 인한 일자리 대체:** AI가 일부 개발 작업을 자동화함에 따라, 특정 기술이나 경험이 부족한 개발자의 일자리가 감소할 수 있다는 우려가 있습니다. 특히, 간단한 코드 작성, 테스트, 유지 보수와 같은 작업은 AI에 의해 대체될 가능성이 높습니다.\n",
      "    *   **새로운 기술 요구:** AI 시대에는 개발자가 AI 관련 기술을 습득해야 경쟁력을 유지할 수 있습니다. AI, 머신러닝, 데이터 과학 등의 분야에 대한 지식과 경험이 중요해지면서, 기존 개발자의 기술 업스킬링 및 리스킬링이 필요합니다.\n",
      "*   **새로운 기술 습득의 필요성:**\n",
      "    *   **AI 기술의 빠른 발전 속도:** AI 기술은 매우 빠른 속도로 발전하고 있어, 개발자는 끊임없이 새로운 기술을 학습하고 적응해야 합니다. 새로운 AI 모델, 알고리즘, 도구에 대한 이해는 개발자의 경쟁력을 유지하는 데 필수적입니다.\n",
      "    *   **AI 윤리 및 보안 문제:** AI 기술의 발전은 윤리적 문제와 보안 문제를 야기할 수 있습니다. 개발자는 AI 시스템의 공정성, 투명성, 책임성을 확보하고, 악의적인 사용으로부터 보호하기 위한 기술적 지식과 윤리적 책임을 가져야 합니다.\n",
      "*   **AI 도구에 대한 의존성 증가:**\n",
      "    *   **블랙박스 문제:** AI 도구의 작동 방식이 불투명하여 개발자가 AI의 결정을 이해하고 디버깅하는 데 어려움을 겪을 수 있습니다. AI 모델의 의사 결정 과정을 이해하지 못하면, 오류 발생 시 원인을 파악하고 수정하기 어려울 수 있습니다.\n",
      "    *   **창의성 저하:** AI 도구에 지나치게 의존하면 개발자의 문제 해결 능력과 창의성이 저하될 수 있습니다. AI가 제공하는 솔루션에만 의존하면, 스스로 문제를 분석하고 해결하는 능력이 약화될 수 있습니다.\n",
      "\n",
      "**3. 개발자의 미래 역할 변화**\n",
      "\n",
      "*   **AI 기반 도구 활용 전문가:**\n",
      "    *   **AI 도구 통합 및 관리:** 개발자는 AI 기반 개발 도구를 효과적으로 통합하고 관리하는 역할을 수행하게 될 것입니다. AI 도구를 개발 워크플로우에 통합하고, AI 모델을 학습 및 배포하고, AI 시스템의 성능을 모니터링하는 능력이 중요해집니다.\n",
      "    *   **AI 모델 커스터마이징 및 개선:** 개발자는 AI 모델을 특정 요구사항에 맞게 커스터마이징하고 개선하는 역할을 수행하게 될 것입니다. AI 모델의 파라미터를 조정하고, 새로운 데이터를 추가하여 모델의 정확도와 효율성을 향상시키는 능력이 필요합니다.\n",
      "*   **AI 윤리 및 보안 전문가:**\n",
      "    *   **AI 시스템의 윤리적 문제 해결:** 개발자는 AI 시스템의 편향성, 차별, 개인 정보 침해와 같은 윤리적 문제를 해결하는 데 중요한 역할을 수행해야 합니다. AI 시스템의 공정성, 투명성, 책임성을 확보하기 위한 기술적 및 정책적 해결책을 제시해야 합니다.\n",
      "    *   **AI 시스템 보안 강화:** 개발자는 AI 시스템을 해킹, 데이터 유출, 적대적 공격으로부터 보호하는 데 필요한 보안 기술을 개발하고 적용해야 합니다. AI 모델의 취약점을 분석하고, 보안 패치를 적용하고, AI 시스템의 보안 프로토콜을 강화하는 능력이 중요합니다.\n",
      "*   **문제 해결 및 창의적 솔루션 설계자:**\n",
      "    *   **복잡한 문제 정의 및 해결:** 개발자는 AI가 해결하기 어려운 복잡한 문제를 정의하고 해결하는 데 집중해야 합니다. 문제의 근본 원인을 파악하고, 다양한 해결책을 모색하고, 최적의 솔루션을 설계하는 능력이 필요합니다.\n",
      "    *   **새로운 기술 융합 및 혁신:** 개발자는 AI 기술과 다른 기술을 융합하여 새로운 가치를 창출하고 혁신적인 솔루션을 개발하는 데 주력해야 합니다. AI, 블록체인, 사물 인터넷(IoT) 등 다양한 기술을 융합하여 새로운 서비스와 제품을 개발하는 능력이 중요합니다.\n",
      "\n",
      "**4. 개발자가 준비해야 할 사항**\n",
      "\n",
      "*   **AI 관련 기술 학습:**\n",
      "    *   **머신러닝 및 딥러닝:** 머신러닝 알고리즘, 딥러닝 모델, 신경망 구조에 대한 이해는 필수적입니다. TensorFlow, PyTorch와 같은 머신러닝 프레임워크를 사용하여 AI 모델을 개발하고 훈련하는 방법을 익혀야 합니다.\n",
      "    *   **데이터 과학:** 데이터 수집, 전처리, 분석, 시각화 능력을 키워야 합니다. Python, R과 같은 데이터 분석 도구를 사용하여 데이터를 탐색하고 분석하는 방법을 배우고, 데이터 기반 의사 결정을 지원하는 능력을 키워야 합니다.\n",
      "*   **소프트 스킬 강화:**\n",
      "    *   **문제 해결 능력:** 복잡한 문제를 분석하고 해결하는 능력을 강화해야 합니다. 비판적 사고, 창의적 사고, 시스템적 사고를 통해 문제의 본질을 파악하고 효과적인 해결책을 제시하는 능력이 필요합니다.\n",
      "    *   **커뮤니케이션 및 협업 능력:** 다양한 배경을 가진 사람들과 효과적으로 소통하고 협력하는 능력을 키워야 합니다. 팀원들과 아이디어를 공유하고, 피드백을 주고받고, 공동의 목표를 달성하기 위해 협력하는 능력이 중요합니다.\n",
      "*   **지속적인 학습:**\n",
      "    *   **업계 트렌드 주시:** AI 기술의 발전 속도에 발맞춰 새로운 기술 트렌드를 지속적으로 학습해야 합니다. 컨퍼런스 참석, 온라인 강의 수강, 기술 블로그 구독 등을 통해 최신 정보를 습득하고 지식을 업데이트해야 합니다.\n",
      "    *   **개인 프로젝트:** 새로운 기술을 배우고 적용하는 개인 프로젝트를 수행하여 실력을 향상시켜야 합니다. 개인 프로젝트를 통해 이론적인 지식을 실제 문제 해결에 적용하고, 실무 경험을 쌓을 수 있습니다.\n",
      "\n",
      "**결론**\n",
      "\n",
      "AI는 개발자에게 위협이 될 수도 있지만, 동시에 엄청난 기회를 제공합니다. AI 기술을 적극적으로 활용하고, 새로운 기술을 꾸준히 학습하며, 창의적인 문제 해결 능력을 키운다면 개발자는 AI 시대에도 성공적인 커리어를 쌓을 수 있을 것입니다. AI와 협력하여 더 나은 소프트웨어를 만들고, 새로운 기술 혁신을 이끌어내는 개발자의 역할은 더욱 중요해질 것입니다.\n"
     ]
    }
   ],
   "source": [
    "from google import genai\n",
    "\n",
    "client = genai.Client(api_key=apikey)\n",
    "\n",
    "response = client.models.generate_content(\n",
    "    model=\"gemini-2.0-flash\",\n",
    "    contents=\"인공지능과 개발자의 미래에 대해서 알려줘\",\n",
    ")\n",
    "\n",
    "print(response.text)"
   ]
  },
  {
   "cell_type": "code",
   "execution_count": 15,
   "id": "bfd2e041",
   "metadata": {
    "scrolled": false
   },
   "outputs": [
    {
     "name": "stderr",
     "output_type": "stream",
     "text": [
      "C:\\Users\\Admin\\AppData\\Local\\Temp\\ipykernel_12996\\2959465891.py:26: UserWarning: You have not specified a value for the `type` parameter. Defaulting to the 'tuples' format for chatbot messages, but this is deprecated and will be removed in a future version of Gradio. Please set type='messages' instead, which uses openai-style dictionaries with 'role' and 'content' keys.\n",
      "  chatbot = gr.Chatbot()\n"
     ]
    },
    {
     "name": "stdout",
     "output_type": "stream",
     "text": [
      "* Running on local URL:  http://127.0.0.1:7860\n",
      "* To create a public link, set `share=True` in `launch()`.\n"
     ]
    },
    {
     "data": {
      "text/html": [
       "<div><iframe src=\"http://127.0.0.1:7860/\" width=\"100%\" height=\"500\" allow=\"autoplay; camera; microphone; clipboard-read; clipboard-write;\" frameborder=\"0\" allowfullscreen></iframe></div>"
      ],
      "text/plain": [
       "<IPython.core.display.HTML object>"
      ]
     },
     "metadata": {},
     "output_type": "display_data"
    },
    {
     "data": {
      "text/plain": []
     },
     "execution_count": 15,
     "metadata": {},
     "output_type": "execute_result"
    }
   ],
   "source": [
    "import gradio as gr\n",
    "from google import genai\n",
    "\n",
    "# API 키 입력\n",
    "client = genai.Client(api_key=apikey)\n",
    "\n",
    "# Gemini 응답 함수\n",
    "def chat_with_gemini(user_input, history):\n",
    "    full_prompt = \"\"\n",
    "    for pair in history:\n",
    "        full_prompt += f\"User: {pair[0]}\\nAssistant: {pair[1]}\\n\"\n",
    "    full_prompt += f\"User: {user_input}\\nAssistant:\"\n",
    "\n",
    "    response = client.models.generate_content(\n",
    "        model=\"gemini-2.0-flash\",\n",
    "        contents=full_prompt,\n",
    "    )\n",
    "    bot_reply = response.text.strip()\n",
    "    history.append((user_input, bot_reply))\n",
    "    return history, history, \"\"  # chatbot, state, clear textbox\n",
    "\n",
    "# Gradio UI\n",
    "with gr.Blocks() as demo:\n",
    "    gr.Markdown(\"# 🤖 Gemini 2.0 Flash Chatbot\")\n",
    "\n",
    "    chatbot = gr.Chatbot()\n",
    "    msg = gr.Textbox(\n",
    "        placeholder=\"메시지를 입력해주세요!\",\n",
    "        lines=1,\n",
    "        max_lines=1,\n",
    "        autofocus=True,\n",
    "        show_label=False\n",
    "    )\n",
    "    state = gr.State([])\n",
    "\n",
    "    send_btn = gr.Button(\"전송\")\n",
    "\n",
    "    send_btn.click(chat_with_gemini, inputs=[msg, state], outputs=[chatbot, state, msg])\n",
    "    msg.submit(chat_with_gemini, inputs=[msg, state], outputs=[chatbot, state, msg])\n",
    "\n",
    "demo.launch()"
   ]
  },
  {
   "cell_type": "code",
   "execution_count": 23,
   "id": "ccc9bdaa",
   "metadata": {},
   "outputs": [
    {
     "name": "stdout",
     "output_type": "stream",
     "text": [
      "Closing server running on port: 7860\n"
     ]
    }
   ],
   "source": [
    "demo.close()"
   ]
  },
  {
   "cell_type": "markdown",
   "id": "52eb3057",
   "metadata": {},
   "source": [
    "## 네이버에서 뉴스 제목 수집 후 내용 요약하기"
   ]
  },
  {
   "cell_type": "code",
   "execution_count": 16,
   "id": "0d0e2d05",
   "metadata": {},
   "outputs": [],
   "source": [
    "import requests\n",
    "import pandas as pd\n",
    "from datetime import date"
   ]
  },
  {
   "cell_type": "code",
   "execution_count": 18,
   "id": "c293afcf",
   "metadata": {},
   "outputs": [
    {
     "name": "stdout",
     "output_type": "stream",
     "text": [
      "https://openapi.naver.com/v1/search/news.json?query=%ED%95%80%ED%85%8C%ED%81%AC&start=1&display=100&sort=sim\n",
      "200\n",
      "<class 'dict'>\n",
      "{'lastBuildDate': 'Wed, 11 Jun 2025 16:46:35 +0900', 'total': 505883, 'start': 1, 'display': 100, 'items': [{'title': '강태영 ‘<b>핀테크</b>동맹’ 디지털드라이브', 'originallink': 'https://biz.heraldcorp.com/article/10506763?ref=naver', 'link': 'https://n.news.naver.com/mnews/article/016/0002483310?sid=101', 'description': '농협은행은 올 1월 강 행장이 취임한 뒤로 <b>핀테크</b> 기업과 적극 협업에 나서고 있다. 최근 농협은행은 컬리의... 농협은행은 <b>핀테크</b>와의 제휴를 통해 신규 고객 공략에 시너지 효과를 내겠다는 방침이다. 특히 외부와... ', 'pubDate': 'Wed, 11 Jun 2025 11:27:00 +0900'}, {'title': '디지털 해외송금 시장 커진다…<b>핀테크</b> 스타트업이 견인', 'originallink': 'https://www.newsis.com/view/NISX20250610_0003207070', 'link': 'https://n.news.naver.com/mnews/article/003/0013294567?sid=101', 'description': '<b>핀테크</b> 기업들을 중심으로 해외송금 시장이 빠르게 성장하고 있다. 낮은 송금 비용과 편의성을 기반으로... 해외송금 시장은 <b>핀테크</b> 기업들이 높은 점유율로 주도하고 있다. 기존 은행 대비 낮은 수수료와 빠른 송금... ', 'pubDate': 'Tue, 10 Jun 2025 11:15:00 +0900'}, {'title': \"속도전 내건 민주당…은행·<b>핀테크</b> '원화 스테이블코인' 발행 두고 딜레...\", 'originallink': 'https://www.topstarnews.net/news/articleView.html?idxno=15693230', 'link': 'https://www.topstarnews.net/news/articleView.html?idxno=15693230', 'description': '금융권과 <b>핀테크</b> 업계가 복잡한 딜레마에 직면했다. 은행 주도의 발행은 시간이 오래 걸리고, 비은행... 그러나 이 경우 자격 요건이 낮아지면서 자금세탁 방지(AML)나 고객 확인(KYC) 시스템이 미비한 영세 <b>핀테크</b> 기업들의... ', 'pubDate': 'Wed, 11 Jun 2025 09:18:00 +0900'}, {'title': '은행은 느리고 <b>핀테크</b>는 불안?..원화 스테이블코인 딜레마', 'originallink': 'https://www.ikbc.co.kr/article/view/kbc202506110011', 'link': 'https://n.news.naver.com/mnews/article/660/0000086951?sid=101', 'description': '있어, <b>핀테크</b>와 스타트업의 시장 진입이 크게 열릴 수 있습니다. 문제는 자금세탁방지(AML), 고객 확인(KYC)... 스테이블코인이 통화 주권을 지킬 수 있다&quot;는 입장을 내놓고 있습니다. #민주당 #원화스테이블코인 #은행 #<b>핀테크</b>', 'pubDate': 'Wed, 11 Jun 2025 07:30:00 +0900'}, {'title': '“여기 들어온 회사 매출 10배 뛰었다며?”…‘<b>핀테크</b> 명당’ 어떻게 들...', 'originallink': 'https://www.mk.co.kr/article/11338643', 'link': 'https://n.news.naver.com/mnews/article/009/0005506199?sid=102', 'description': '‘부산 <b>핀테크</b> 허브’에 입주할 기업을 모집한다. 10일 부산시에 따르면 부산 <b>핀테크</b> 허브에 입주 가능한 기업은 창업 7년 이내의 기술 기반 기업으로, 금융기술과 디지털 전환, 데이터 기반 사업모델을 보유하거나 해당... ', 'pubDate': 'Tue, 10 Jun 2025 11:43:00 +0900'}, {'title': \"토스, 'MAU 1위'로 금융 플랫폼 왕좌 굳혀... 흑자 행진도 계속\", 'originallink': 'https://www.insight.co.kr/news/506712', 'link': 'https://www.insight.co.kr/news/506712', 'description': '<b>핀테크</b> 기업 토스가 지난달 월간 활성 이용자수에서 2100만 명에 육박하는 수치를 기록하며 금융 앱 중... 토스는 <b>핀테크</b> 시장에서의 경쟁력을 강화하기 위해 서비스 영역을 지속적으로 확장하고 있다. 해외 송금... ', 'pubDate': 'Wed, 11 Jun 2025 16:04:00 +0900'}, {'title': '지라프에이아이랩스, 서울<b>핀테크</b>랩 상반기 입주기업 선정', 'originallink': 'https://www.etnews.com/20250610000415', 'link': 'https://n.news.naver.com/mnews/article/030/0003320419?sid=101', 'description': '지라프에이아이랩스는 서울시가 운영하는 서울<b>핀테크</b>랩의 2025년 상반기 신규 입주 기업으로 선정돼 지난 5월... 서울<b>핀테크</b>랩은 국내 <b>핀테크</b> 스타트업의 성장과 해외 진출을 지원하기 위해 서울시가 설립한 기관으로... ', 'pubDate': 'Tue, 10 Jun 2025 18:00:00 +0900'}, {'title': '‘부산 <b>핀테크</b> 허브’ 입주 기업 11곳 모집', 'originallink': 'https://news.kbs.co.kr/news/pc/view/view.do?ncd=8276079&ref=A', 'link': 'https://n.news.naver.com/mnews/article/056/0011967969?sid=101', 'description': \"부산시는 부산국제금융센터와 부산상의에 마련한 '부산 <b>핀테크</b> 허브'의 입주 기업을 모집합니다. 모집 대상은 창업 7년 이내 기업으로 금융기술이나 데이터 기반 사업 모델을 보유한 기업 등입니다. 부산시는 앞서 1차... \", 'pubDate': 'Wed, 11 Jun 2025 10:07:00 +0900'}, {'title': '지라프에이아이랩스, 서울<b>핀테크</b>랩 2025년 상반기 입주기업 선정', 'originallink': 'https://www.cstimes.com/news/articleView.html?idxno=651153', 'link': 'https://www.cstimes.com/news/articleView.html?idxno=651153', 'description': '서울<b>핀테크</b>랩의 2025년 상반기 신규 입주 기업으로 선정돼, 지난 5월 정식 입주를 완료했다.... 서울<b>핀테크</b>랩은 국내 <b>핀테크</b> 스타트업의 성장과 해외 진출을 지원하기 위해 서울시가 설립한 기관으로 유망한 입주 기업을... ', 'pubDate': 'Wed, 11 Jun 2025 13:58:00 +0900'}, {'title': '강태영 농협은행장, ‘<b>핀테크</b> 동맹’으로 디지털 드라이브', 'originallink': 'https://biz.heraldcorp.com/article/10506538?ref=naver', 'link': 'https://n.news.naver.com/mnews/article/016/0002483127?sid=101', 'description': '농협은행은 올 1월 강 행장이 취임한 뒤로 <b>핀테크</b> 기업과 적극 협업에 나서고 있다. 최근 농협은행은 컬리의... 농협은행은 <b>핀테크</b>와의 제휴를 통해 신규 고객 공략에 시너지 효과를 내겠다는 방침이다. 특히 외부와... ', 'pubDate': 'Wed, 11 Jun 2025 09:37:00 +0900'}, {'title': '<b>핀테크</b>, 중소 금융기관 대상 모바일 대출지원 서비스 출시', 'originallink': 'https://www.newsis.com/view/NISX20250610_0003206953', 'link': 'https://n.news.naver.com/mnews/article/003/0013294435?sid=101', 'description': 'SaaS(서비스형 소프트웨어) 플랫폼 전문 기업 핑거는 자회사 <b>핀테크</b>가 중·소규모 금융기관을 위한 모바일... 김갑영 <b>핀테크</b> 대표는 &quot;업무의 디지털 전환을 고민하는 중소형 금융기관, 대부업체 등에 새로운 패러다임을... ', 'pubDate': 'Tue, 10 Jun 2025 10:43:00 +0900'}, {'title': '웹케시 “<b>핀테크</b> 모든 제품 AI화” 금융AI 에이전트그룹 도약 선언', 'originallink': 'https://biz.heraldcorp.com/article/10506789?ref=naver', 'link': 'https://n.news.naver.com/mnews/article/016/0002483334?sid=101', 'description': '강원주 웹케시 대표는 “AI가 금융 업무 전반을 자동화하고, 경영자 의사결정을 도울 수 있는 시대가 도래했다”며 “웹케시는 국내 최초로 모든 B2B <b>핀테크</b> 제품을 AI 에이전트 기반으로 재구성하는 제2의 창업 수준의... ', 'pubDate': 'Wed, 11 Jun 2025 11:33:00 +0900'}, {'title': \"&quot;미래 금융 혁신 이끈다&quot;… 'K-<b>핀테크</b> 30' 3차 모집\", 'originallink': 'https://it.chosun.com/news/articleView.html?idxno=2023092142243', 'link': 'https://it.chosun.com/news/articleView.html?idxno=2023092142243', 'description': \"한국<b>핀테크</b>지원센터는 금융위원회와 함께 혁신성과 성장성을 갖춘 유망 <b>핀테크</b> 기업을 육성하기 위해 'K-<b>핀테크</b> 30' 3차 모집을 실시한다고 9일 밝혔다. K-<b>핀테크</b> 30은 미래 금융혁신을 이끌 <b>핀테크</b> 기업을 발굴... \", 'pubDate': 'Tue, 10 Jun 2025 09:00:00 +0900'}, {'title': \"'부산 <b>핀테크</b> 허브' 입주사 추가 모집\", 'originallink': 'https://www.mk.co.kr/article/11339090', 'link': 'https://n.news.naver.com/mnews/article/009/0005506517?sid=105', 'description': \"창업 7년 이내 11개사 선발 사무공간·컨설팅까지 지원 부산시가 금융기술 분야 성장을 지원하는 '부산 <b>핀테크</b> 허브'에 입주할 기업을 모집한다. 10일 부산시에 따르면 부산 <b>핀테크</b> 허브에 입주 가능한 곳은 창업 7년 이내... \", 'pubDate': 'Tue, 10 Jun 2025 17:46:00 +0900'}, {'title': '핑거 자회사 <b>핀테크</b>, 중소 금융기관 대상 모바일 대출지원 서비스 출시', 'originallink': 'http://www.edaily.co.kr/news/newspath.asp?newsid=03007766642200408', 'link': 'https://n.news.naver.com/mnews/article/018/0006035459?sid=101', 'description': 'SaaS(Service as a Software) 플랫폼 전문 기업 핑거(163730)의 자회사 <b>핀테크</b>가 중·소규모 금융기관을 위한 모바일... <b>핀테크</b> 김갑영 대표는 “업무의 디지털 전환을 고민하는 중소형 금융기관 및 대부업체 등에 새로운... ', 'pubDate': 'Tue, 10 Jun 2025 09:38:00 +0900'}, {'title': \"<b>핀테크</b>, 중소 금융기관 대상 모바일 대출지원 서비스 '파피노스' 출시\", 'originallink': 'https://www.newspim.com/news/view/20250610000128', 'link': 'https://www.newspim.com/news/view/20250610000128', 'description': 'SaaS(Service as a Software) 플랫폼 전문 기업 핑거의 자회사 <b>핀테크</b>가 중·소규모 금융기관을 위한 모바일... [사진=<b>핀테크</b>] 고객은 본인인증을 통해 건강보험료 납부확인서, 주민등록등본 등 기본 13종의 주요 서류를... ', 'pubDate': 'Tue, 10 Jun 2025 09:28:00 +0900'}, {'title': 'B2B <b>핀테크</b> 강자 웹케시가 제2의 창업 외친 까닭은?', 'originallink': 'http://www.datanews.co.kr/news/article.html?no=139055', 'link': 'http://www.datanews.co.kr/news/article.html?no=139055', 'description': '26년 업력을 가진 B2B <b>핀테크</b> 강자 웹케시가 제2의 창업에 준하는 대대적인 혁신을 선언했다. 웹케시는 10일 서울 여의도 콘래드서울호텔에서 ‘금융 AI 에이전트 컨퍼런스’를 열고 인공지능(AI) 중심의 금융 혁신을... ', 'pubDate': 'Tue, 10 Jun 2025 14:52:00 +0900'}, {'title': \"한국<b>핀테크</b>지원센터, 'K-Fintech 30' 3차 기업 모집\", 'originallink': 'https://www.nbntv.co.kr/news/articleView.html?idxno=4002332', 'link': 'https://www.nbntv.co.kr/news/articleView.html?idxno=4002332', 'description': \"| 내외경제TV=김혜인 기자 | 한국<b>핀테크</b>지원센터가 금융위원회와 함께 <b>핀테크</b> 대표기업 선발 프로그램 'K-Fintech 30'의 3차 모집을 오늘부터 시작한다. 'K-Fintech 30'은 <b>핀테크</b> 산업의 혁신성과 성장 가능성을 갖춘... \", 'pubDate': 'Tue, 10 Jun 2025 09:00:00 +0900'}, {'title': \"한국<b>핀테크</b>지원센터, <b>핀테크</b> 대표기업 'K-Fintech 30' 3차 모집 시작\", 'originallink': 'https://www.it-b.co.kr/news/articleView.html?idxno=82259', 'link': 'https://www.it-b.co.kr/news/articleView.html?idxno=82259', 'description': \"한국<b>핀테크</b>지원센터는 금융위원회와 6월 10일(화)부터 혁신성과 성장성을 갖춘 <b>핀테크</b> 대표기업 'K-Fintech 30' 선발절차를 시작한다고 밝혔다. 'K-Fintech 30' 선정은 <b>핀테크</b> 산업에 활력을 불어넣고, 미래의 금융혁신을... \", 'pubDate': 'Tue, 10 Jun 2025 09:02:00 +0900'}, {'title': '스타트업·<b>핀테크</b> 참여 확대…진입규제 풀어 美·日 따라잡는다', 'originallink': 'https://www.sedaily.com/NewsView/2GU0AUXGJL', 'link': 'https://n.news.naver.com/mnews/article/011/0004494835?sid=101', 'description': '과도하게 엄격한 발행 요건이 다양한 아이디어와 높은 기술력을 가진 <b>핀테크</b>·가상자산 업계 스타트업들의... 윤민섭 디지털소비자연구원 박사는 “민간 주도에 방점을 둔 법안이 마련됨에 따라 <b>핀테크</b>·가상자산... ', 'pubDate': 'Mon, 09 Jun 2025 17:08:00 +0900'}, {'title': '금투협, 외국환업무·<b>핀테크</b> 아카데미 과정 개설', 'originallink': 'https://www.dailian.co.kr/news/view/1508045/?sc=Naver', 'link': 'https://n.news.naver.com/mnews/article/119/0002965836?sid=101', 'description': \"금투협은 <b>핀테크</b> 전문인력 양성을 위해 제12기 '서울 <b>핀테크</b> 아카데미'과정도 무료로 개설한다. 해당 과정은 <b>핀테크</b> 산업의 전문 인력 양성을 위해 서울시와 금투협이 공동으로 개설하는 과정이다. 금투협 측은... \", 'pubDate': 'Mon, 09 Jun 2025 11:09:00 +0900'}, {'title': \"한국<b>핀테크</b>지원센터, 'K-Fintech 30' 3차 모집 시작…7월 1일까지 접수\", 'originallink': 'https://www.dailysecu.com/news/articleView.html?idxno=166762', 'link': 'https://www.dailysecu.com/news/articleView.html?idxno=166762', 'description': \"한국<b>핀테크</b>지원센터가 금융위원회와 함께 <b>핀테크</b> 대표기업 선발 프로그램인 'K-Fintech 30'의 3차 모집을 당일부터 시작했다. 'K-Fintech 30'은 <b>핀테크</b> 산업의 활성화를 도모하고, 혁신성과 성장 가능성을 갖춘 유망... \", 'pubDate': 'Tue, 10 Jun 2025 09:04:00 +0900'}, {'title': \"한국<b>핀테크</b>지원센터, <b>핀테크</b> 대표기업 'K-Fintech 30' 3차 모집\", 'originallink': 'https://www.itbiznews.com/news/articleView.html?idxno=171262', 'link': 'https://www.itbiznews.com/news/articleView.html?idxno=171262', 'description': \"한국<b>핀테크</b>지원센터가 금융위원회와 25년 6월 10일부터 혁신성과 성장성을 갖춘 <b>핀테크</b> 대표기업 'K-Fintech 30' 선발절차를 시작한다고 밝혔다. 'K-Fintech 30' 선정은 <b>핀테크</b> 산업에 활력을 불어넣고, 미래의 금융혁신을... \", 'pubDate': 'Tue, 10 Jun 2025 09:00:00 +0900'}, {'title': '지라프에이아이랩스, 서울<b>핀테크</b>랩 상반기 입주기업 선정', 'originallink': 'http://www.finomy.com/news/articleView.html?idxno=230758', 'link': 'http://www.finomy.com/news/articleView.html?idxno=230758', 'description': '인공지능(AI) 기반 퀀트 전략 기술 스타트업 지라프에이아이랩스(GirafeAILabs)가 서울<b>핀테크</b>랩의 다양한 지원 프로그램을 활용해 글로벌 <b>핀테크</b> 기업으로 성장할 수 있도록 적극 지원을 받게 됐다. 지라프에이아이랩스는... ', 'pubDate': 'Tue, 10 Jun 2025 11:00:00 +0900'}, {'title': '금투협, 서울 <b>핀테크</b> 아카데미 과정 개설...&quot;무료 실무 교육&quot;', 'originallink': 'http://www.fnnews.com/news/202506091034243649', 'link': 'https://n.news.naver.com/mnews/article/014/0005360482?sid=101', 'description': \"금융투자협회는 서울 여의도 금융투자교육원에서 오는 7월 4일부터 9월 6일까지 제12기 '서울 <b>핀테크</b> 아카데미' 과정을 무료로 개설한다고 9일 밝혔다. '서울 <b>핀테크</b> 아카데미' 과정은 <b>핀테크</b> 산업의 전문 인력 양성을... \", 'pubDate': 'Mon, 09 Jun 2025 10:40:00 +0900'}, {'title': '<b>핀테크</b>, 중소 금융기관 대상 모바일 대출지원 서비스 ‘파피노스’ 공식...', 'originallink': 'https://www.sentv.co.kr/article/view/sentv202506100042', 'link': 'https://www.sentv.co.kr/article/view/sentv202506100042', 'description': \"서울경제티브이 김수윤 기자 SaaS 플랫폼 전문 기업 핑거의 자회사 '<b>핀테크</b>'는 중·소규모 금융기관을 위한 모바일 대출지원 서비스인 ‘파피노스(Papynos)’를 지난 2일 공식 출시했다고 10일 밝혔다. 파피노스는 중소형... \", 'pubDate': 'Tue, 10 Jun 2025 09:34:00 +0900'}, {'title': '[알립니다] 매경 <b>핀테크</b> 어워드 주인공을 찾습니다', 'originallink': 'https://www.mk.co.kr/article/11339172', 'link': 'https://n.news.naver.com/mnews/article/009/0005506580?sid=102', 'description': \"금융산업에 활력을 불어넣고 시장을 선도할 <b>핀테크</b> 기업을 대상으로 '매경 <b>핀테크</b> 어워드 2025'를 공모합니다. 첨단기술로 혁신을 주도하는 <b>핀테크</b> 기업이라면 모두 참여할 수 있습니다. 많은 응모... \", 'pubDate': 'Tue, 10 Jun 2025 18:02:00 +0900'}, {'title': '금융투자협회, 외환·<b>핀테크</b> 전문 인력 양성 교육 과정 개설', 'originallink': 'http://www.seoulwire.com/news/articleView.html?idxno=654874', 'link': 'http://www.seoulwire.com/news/articleView.html?idxno=654874', 'description': \"금융투자협회 금융투자교육원은 외환과 <b>핀테크</b> 분야의 전문 인력 양성을 위해 두 가지 실무 교육 과정을... 또한, 금융투자협회는 서울시와 함께 '제12기 서울 <b>핀테크</b> 아카데미' 과정을 무료로 개설하고 오는 24일까지... \", 'pubDate': 'Mon, 09 Jun 2025 16:36:00 +0900'}, {'title': '&quot;중·소규모 금융회사, 대출 심사에 효과&quot;… 핑거 자회사 <b>핀테크</b>, 모바일...', 'originallink': 'https://www.ddaily.co.kr/page/view/2025061015251064470', 'link': 'https://n.news.naver.com/mnews/article/138/0002198208?sid=101', 'description': '자회사인 ㈜<b>핀테크</b>(대표 김갑영)가 중·소규모 금융기관들이 활용할 수 있는 모바일 대출지원 서비스인... <b>핀테크</b> 김갑영 대표는 “업무의 디지털 전환을 고민하는 중소형 금융기관 및 대부업체 등에 새로운 패러다임을... ', 'pubDate': 'Tue, 10 Jun 2025 15:26:00 +0900'}, {'title': '카카오페이, 새 정부 스테이블코인과 무슨 관계?', 'originallink': 'https://www.newsis.com/view/NISX20250610_0003207977', 'link': 'https://n.news.naver.com/mnews/article/003/0013296370?sid=101', 'description': '원화 스테이블코인 도입 논의가 빠르게 전개되면서 카카오페이 등 <b>핀테크</b> 업계에 대한 기대감도 높아지고... 비은행권인 <b>핀테크</b>와 가상자산 스타트업 등에 기회가 열릴 것이라는 해석이 나온다. 이 가운데 카카오페이는... ', 'pubDate': 'Wed, 11 Jun 2025 07:00:00 +0900'}, {'title': \"금융투자협회,'외국환업무전문인력·서울 <b>핀테크</b> 아카데미' 과정 개설\", 'originallink': 'https://www.newspim.com/news/view/20250609000332', 'link': 'https://www.newspim.com/news/view/20250609000332', 'description': '금융투자협회 금융투자교육원은 외환 전문 인력 양성을 위한 외국환업무전문인력 집합교육 및 서울 <b>핀테크</b>... 서울 <b>핀테크</b> 아카데미 과정은 <b>핀테크</b> 산업의 전문 인력 양성을 위해 서울시와 금융투자협회가 공동으로... ', 'pubDate': 'Mon, 09 Jun 2025 10:56:00 +0900'}, {'title': '‘원화 스테이블코인’ 주도권 경쟁… 은행 vs <b>핀테크</b>, 속도와 안정성 ...', 'originallink': 'https://www.tokenpost.kr/news/blockchain/256400', 'link': 'https://www.tokenpost.kr/news/blockchain/256400', 'description': '은행을 기다릴 필요 없이 <b>핀테크</b> 등 비은행권들이 빠르게 시장에 들어올 수 있도록 문을 연 것이다. 하지만... 특히 자금 세탁 방지(AML)나 고객 확인(KYC) 같은 금융기초 인프라가 부족한 <b>핀테크</b> 기업들이 무분별하게... ', 'pubDate': 'Wed, 11 Jun 2025 09:44:00 +0900'}, {'title': '원화 스테이블코인 탄력… ‘은행 vs <b>핀테크</b>’ 발행 주체 최대 관건', 'originallink': 'https://www.seoul.co.kr/news/economy/finance/2025/06/09/20250609018001?wlog_tag3=naver', 'link': 'https://n.news.naver.com/mnews/article/081/0003547220?sid=101', 'description': '통화당국, 은행에 국한 발행 입장 달러 기반 테더·서클 <b>핀테크</b> 발행 金 “발행과 동시에 자리 잡을 것 은행... 관건은 <b>핀테크</b> 등 비은행 기관에도 스테이블코인 발행을 허용할지 여부다. 한국은행은 감독 가능성과... ', 'pubDate': 'Mon, 09 Jun 2025 05:03:00 +0900'}, {'title': \"금융투자협회 '서울 <b>핀테크</b> 아카데미' 과정 개설\", 'originallink': 'https://view.asiae.co.kr/article/2025060910331746886', 'link': 'https://n.news.naver.com/mnews/article/277/0005604498?sid=101', 'description': \"금융투자협회 금융투자교육원은 <b>핀테크</b> 전문인력 양성을 위해 제12기 '서울 <b>핀테크</b> 아카데미' 과정을 무료로 개설한다고 9일 밝혔다. 오는 24일까지 교육생을 모집한다. 개강은 다음달 4일이다. 서울 <b>핀테크</b> 아카데미... \", 'pubDate': 'Mon, 09 Jun 2025 10:33:00 +0900'}, {'title': '<b>핀테크</b>, 중소 금융기관 대상 모바일 대출지원 서비스 출시', 'originallink': 'https://www.widedaily.com/news/articleView.html?idxno=269459', 'link': 'https://www.widedaily.com/news/articleView.html?idxno=269459', 'description': 'SaaS(서비스형 소프트웨어) 플랫폼 전문 기업 핑거는 자회사 <b>핀테크</b>가 중·소규모 금융기관을 위한 모바일... 김갑영 <b>핀테크</b> 대표는 &quot;업무의 디지털 전환을 고민하는 중소형 금융기관, 대부업체 등에 새로운 패러다임을... ', 'pubDate': 'Tue, 10 Jun 2025 10:54:00 +0900'}, {'title': 'iM금융그룹, 피움랩 7기 공식 출범…<b>핀테크</b> 스타트업 육성', 'originallink': 'https://www.newsis.com/view/NISX20250604_0003201059', 'link': 'https://n.news.naver.com/mnews/article/003/0013285235?sid=102', 'description': 'iM금융그룹은 <b>핀테크</b> 스타트업 육성프로그램인 피움랩(FIUM Lab) 7기 공식 출범식을 개최했다고 4일 밝혔다. 피움랩은 iM금융그룹의 디지털 경쟁력을 강화하고 <b>핀테크</b> 산업을 지원하기 위해 2019년 6월 설립된... ', 'pubDate': 'Wed, 04 Jun 2025 11:17:00 +0900'}, {'title': '부산 <b>핀테크</b>허브 입주기업 2차 모집…11개사', 'originallink': 'https://www.newsis.com/view/NISX20250604_0003200568', 'link': 'https://n.news.naver.com/mnews/article/003/0013284379?sid=102', 'description': '부산시는 <b>핀테크</b>, 빅데이터, 인공지능(AI) 등 금융기술 분야 기업의 집적과 성장을 지원하는 부산 <b>핀테크</b> 허브에 입주할 기업 11개사를 5일부터 25일까지 모집한다. 이번 모집은 1차 모집에서 선정된 6개사에 이은 2차... ', 'pubDate': 'Wed, 04 Jun 2025 07:32:00 +0900'}, {'title': \"금융투자협회,'서울 <b>핀테크</b> 아카데미' 과정 개설\", 'originallink': 'https://www.ziksir.com/news/articleView.html?idxno=93023', 'link': 'https://www.ziksir.com/news/articleView.html?idxno=93023', 'description': \"[직썰]  금융투자협회 금융투자교육원은 <b>핀테크</b> 전문인력 양성을 위해 제12기 '서울 <b>핀테크</b> 아카데미' 과정을 무료로 개설하고, 오는 24일까지 교육생을 모집한다고 9일 밝혔다. 개강은 7월 4일이다. '서울 <b>핀테크</b>... \", 'pubDate': 'Mon, 09 Jun 2025 11:50:00 +0900'}, {'title': '속도냐 질서냐…원화 스테이블코인 딜레마', 'originallink': 'https://www.yna.co.kr/view/AKR20250610148300002?input=1195m', 'link': 'https://n.news.naver.com/mnews/article/001/0015442505?sid=101', 'description': '법제화 서두르는 與…은행 물밑 논의 지지부진 <b>핀테크</b>는 인프라 미비…해킹 등 부작용 우려 더불어민주당이... 대부분 은행이 기본적으로 갖추고 있는 자금 세탁 방지(AML), 고객 확인(KYC) 등의 시스템 미비는 <b>핀테크</b>의... ', 'pubDate': 'Wed, 11 Jun 2025 06:05:00 +0900'}, {'title': 'iM금융그룹, <b>핀테크</b> 육성 ‘피움랩’ 7기 출범', 'originallink': 'https://www.mk.co.kr/article/11334265', 'link': 'https://n.news.naver.com/mnews/article/009/0005503456?sid=101', 'description': 'iM금융그룹은 <b>핀테크</b> 스타트업 육성프로그램인 ‘피움랩(FIUM Lab)’ 7기의 공식 출범식을 지난달 27일 개최했다고 4일 밝혔다. 피움랩은 iM금융그룹의 디지털 경쟁력을 강화하고 <b>핀테크</b> 산업을 지원하기 위해... ', 'pubDate': 'Wed, 04 Jun 2025 14:20:00 +0900'}, {'title': '與, 스테이블코인 발행기준 ‘50억→5억’ 확 낮춰… 韓銀선 ‘신중론’', 'originallink': 'https://www.donga.com/news/Economy/article/all/20250611/131781612/2', 'link': 'https://n.news.naver.com/mnews/article/020/0003640449?sid=101', 'description': '<b>핀테크</b>, 가상자산 스타트업 등 비은행권의 스테이블코인 발행을 허용함으로써 가상자산 시장을 더 키워... 투자자 보호 장치를 전제로 <b>핀테크</b> 등 비은행에도 문호를 개방하기로 한 것이다. 또 대통령 직속... ', 'pubDate': 'Wed, 11 Jun 2025 03:04:00 +0900'}, {'title': '디지털 해외송금 시장 커진다…<b>핀테크</b> 스타트업이 견인', 'originallink': 'https://www.widedaily.com/news/articleView.html?idxno=269474', 'link': 'https://www.widedaily.com/news/articleView.html?idxno=269474', 'description': '<b>핀테크</b> 기업들을 중심으로 해외송금 시장이 빠르게 성장하고 있다. 낮은 송금 비용과 편의성을 기반으로... 해외송금 시장은 <b>핀테크</b> 기업들이 높은 점유율로 주도하고 있다. 기존 은행 대비 낮은 수수료와 빠른 송금... ', 'pubDate': 'Tue, 10 Jun 2025 11:40:00 +0900'}, {'title': '헥토파이낸셜, 스테이블 코인 지급결제 사업 진출', 'originallink': 'https://www.newsis.com/view/NISX20250611_0003208311', 'link': 'https://n.news.naver.com/mnews/article/003/0013296505?sid=101', 'description': '<b>핀테크</b> 기업 헥토파이낸셜은 국내 최대 실증 이력을 보유한 블록체인 보안 전문기업 하이파이브랩과 스테이블코인 지급결제 시스템의 기술제휴를 위한 업무협약(MOU)을 체결했다고 11일 밝혔다. 이번 제휴는... ', 'pubDate': 'Wed, 11 Jun 2025 08:43:00 +0900'}, {'title': '서울 <b>핀테크</b> 아카데미 60명 모집…AI·빅데이터 실무인재 양성', 'originallink': 'https://www.yna.co.kr/view/AKR20250604056400004?input=1195m', 'link': 'https://n.news.naver.com/mnews/article/001/0015431209?sid=102', 'description': \"24일까지 모집…7∼9월 60시간 무료 교육 서울시는 <b>핀테크</b> 분야 실무·전문교육을 하는 '서울 <b>핀테크</b> 아카데미' 12기 교육생 60명을 모집한다고 4일 밝혔다. 서울 <b>핀테크</b> 아카데미는 2018년부터 운영 중인 지자체 최초의... \", 'pubDate': 'Wed, 04 Jun 2025 11:15:00 +0900'}, {'title': '카이아 DLT 재단, 다윈KS와 전략적 파트너십 체결', 'originallink': 'https://zdnet.co.kr/view/?no=20250611142058', 'link': 'https://n.news.naver.com/mnews/article/092/0002377725?sid=105', 'description': '카이아 DLT 재단(카이아)은 블록체인 기반 <b>핀테크</b> 기업 다윈KS와 전략적 파트너십을 체결하고, 디지털... 하이브리드 <b>핀테크</b> 서비스를 공동 개발하고, 국내외 시장 확대에 협력할 예정이다. 특히 카이아 USDT 및 KAIA... ', 'pubDate': 'Wed, 11 Jun 2025 14:22:00 +0900'}, {'title': 'RTP·QR 결제 급성장…<b>핀테크</b> 혁신 속 암호자산 규제 강화', 'originallink': 'https://www.upkoreanews.kr/news/articleView.html?idxno=95316', 'link': 'https://www.upkoreanews.kr/news/articleView.html?idxno=95316', 'description': '정부는 새로운 규제를 도입하며 시장 안정성 확보에 나섰고, 업계는 <b>핀테크</b> 혁신을 통해 소비자 편의와... <b>핀테크</b> 산업 발전 배경에는 정부의 정책적 지원도 있다. 금융위원회는 2020~2023년간 <b>핀테크</b> 스타트업에 2억... ', 'pubDate': 'Tue, 10 Jun 2025 09:35:00 +0900'}, {'title': '부산 <b>핀테크</b> 허브 입주 기업 모집…사무공간· 사업자금 지원', 'originallink': 'https://www.news1.kr/local/busan-gyeongnam/5803594', 'link': 'https://n.news.naver.com/mnews/article/421/0008293678?sid=102', 'description': \"부산시는 5일부터 '부산 <b>핀테크</b> 허브'에 입주할 기업 11개 사를 모집한다고 4일 밝혔다. 창업 7년 이내의 기술 기반 기업으로 금융기술(<b>핀테크</b>)과 디지털 전환, 데이터 기반 사업모델을 보유하거나 해당 분야로의 확장을... \", 'pubDate': 'Wed, 04 Jun 2025 08:05:00 +0900'}, {'title': '부산 <b>핀테크</b> 허브 입주 스타트업 11개사 모집', 'originallink': 'http://www.fnnews.com/news/202506040930430229', 'link': 'https://n.news.naver.com/mnews/article/014/0005358836?sid=102', 'description': \"부산시는 <b>핀테크</b>, 빅데이터, 인공지능(AI) 등 금융기술 분야 기업의 집적과 성장을 지원하는 '부산 <b>핀테크</b> 허브'에 입주할 기업 11개사를 5일부터 모집한다고 4일 밝혔다. 창업 7년 이내의 기술 기반 기업으로, <b>핀테크</b>... \", 'pubDate': 'Wed, 04 Jun 2025 09:38:00 +0900'}, {'title': \"iM금융, <b>핀테크</b>랩 '피움랩' 7기 출범\", 'originallink': 'http://www.metroseoul.co.kr/article/20250604500437', 'link': 'http://www.metroseoul.co.kr/article/20250604500437', 'description': \"/iM금융 iM금융그룹은 <b>핀테크</b> 스타트업 육성프로그램인 '피움랩(FIUM Lab)' 7기의 공식 출범식을 개최했다고 4일 밝혔다. 지난 2019년 설립된 피움랩은 iM금융그룹의 디지털 경쟁력을 강화하고 <b>핀테크</b> 산업을 지원하기... \", 'pubDate': 'Wed, 04 Jun 2025 16:22:00 +0900'}, {'title': \"'서울 <b>핀테크</b> 아카데미' 교육생 모집…<b>핀테크</b> 실무형 인재 양성\", 'originallink': 'https://www.news1.kr/local/seoul/5803580', 'link': 'https://n.news.naver.com/mnews/article/421/0008294409?sid=102', 'description': \"서울시는 <b>핀테크</b> 분야 실무·전문교육을 제공하는 '서울 <b>핀테크</b> 아카데미' 12기 교육생 60명을 4일부터 24일까지 밝혔다. 서울 <b>핀테크</b> 아카데미는 2018년부터 운영 중인 지자체 최초의 <b>핀테크</b> 전문 교육사업으로... \", 'pubDate': 'Wed, 04 Jun 2025 11:15:00 +0900'}, {'title': '부산시, ‘<b>핀테크</b> 허브’ 입주기업 11개사 추가 모집', 'originallink': 'https://www.sedaily.com/NewsView/2GTXYQ690V', 'link': 'https://n.news.naver.com/mnews/article/011/0004493180?sid=102', 'description': '부산시는 금융기술 분야 기업의 집적과 성장을 지원하는 ‘부산 <b>핀테크</b> 허브’에 입주할 11개 신생기업을... 시는 앞서 1차 모집을 통해 6개사를 선정한 바 있으며 이번 추가 선발로 부산의 <b>핀테크</b> 산업 생태계 조성을... ', 'pubDate': 'Wed, 04 Jun 2025 08:42:00 +0900'}, {'title': \"한국<b>핀테크</b>지원센터, '인구문제 인식개선 릴레이 캠페인' 동참\", 'originallink': 'https://www.news1.kr/industry/general-industry/5805120', 'link': 'https://n.news.naver.com/mnews/article/421/0008296598?sid=101', 'description': \"한국<b>핀테크</b>지원센터(이하 '센터')가 지난 4일 보건복지부와 한국보건복지인재원이 진행하고 있는 '인구문제... 센터는 혁신적인 금융생태계 조성과 <b>핀테크</b>의 활성화를 통해 금융 소비자의 편익을 제고하고 금융산업... \", 'pubDate': 'Thu, 05 Jun 2025 10:11:00 +0900'}, {'title': 'iM금융, <b>핀테크</b> 스타트업의 혁신 이끈다!', 'originallink': 'https://www.kbmaeil.com/article/20250604500293', 'link': 'https://www.kbmaeil.com/article/20250604500293', 'description': 'iM금융그룹은 최근 <b>핀테크</b> 스타트업 육성프로그램인 ‘피움랩 7기’ 출범식을 개최했다. 피움랩은 iM금융그룹의 디지털 경쟁력을 강화하고 <b>핀테크</b> 산업을 지원하기 위해 지난 2019년 6월 설립된 <b>핀테크</b>랩으로, 6기까지... ', 'pubDate': 'Wed, 04 Jun 2025 18:22:00 +0900'}, {'title': \"美 <b>핀테크</b> 회사 '백트' &quot;비트코인 등 암호화폐 투자나설 것&quot;\", 'originallink': 'https://www.theguru.co.kr/news/article.html?no=88018', 'link': 'https://www.theguru.co.kr/news/article.html?no=88018', 'description': '주식 공모·채권 발행 등으로 비트코인 투자금 조달 미국의 암호화폐 선물거래소 백트(Bakkt)가 비트코인을 포함한 가상자산을 전략준비자산으로 편입할 계획이다. 백트는 11일 이사회를 열고 비트코인 및 기타... ', 'pubDate': 'Wed, 11 Jun 2025 08:56:00 +0900'}, {'title': 'iM금융, <b>핀테크</b> 스타트업 육성 프로젝트 시작', 'originallink': 'https://www.idaegu.co.kr/news/articleView.html?idxno=512118', 'link': 'https://www.idaegu.co.kr/news/articleView.html?idxno=512118', 'description': \"iM금융그룹의 <b>핀테크</b> 스타트업 육성 프로그램인 '피움랩(FIUM Lab)' 7기가 최근 출범식을 갖고 본격적인 활동에 들어갔다. iM금융그룹 제공 iM금융그룹은 <b>핀테크</b> 스타트업 육성 프로그램인 '피움랩(FIUM Lab)' 7기가... \", 'pubDate': 'Wed, 04 Jun 2025 21:24:00 +0900'}, {'title': '[부산소식] <b>핀테크</b> 허브 입주 11개사 모집', 'originallink': 'https://www.yna.co.kr/view/AKR20250604032700051?input=1195m', 'link': 'https://n.news.naver.com/mnews/article/001/0015430544?sid=101', 'description': \"▲ 금융기술 신생기업 11개사 모집 = 부산시는 <b>핀테크</b>, 빅데이터, 인공지능 분야 기업의 집적과 성장을 지원하는 '부산 <b>핀테크</b> 허브'에 입주할 기업 11개사를 5일부터 모집한다. 창업 7년 이내의 기술 기반 기업으로... \", 'pubDate': 'Wed, 04 Jun 2025 08:09:00 +0900'}, {'title': '[기고] 한국조폐공사는 <b>핀테크</b> 기업이다', 'originallink': 'http://www.fnnews.com/news/202506081826221913', 'link': 'https://n.news.naver.com/mnews/article/014/0005360241?sid=110', 'description': '&quot;조폐공사는 <b>핀테크</b> 기업이다.&quot; 이 말이 맞을까, 틀릴까. 화폐를 만드는 제조 공기업이 금융(Finance)과 기술(Technology)이 결합된 <b>핀테크</b> 기업이라고 하기엔 어딘가 어울리지 않게 들릴지 모르겠지만 지금 이 질문에 대한... ', 'pubDate': 'Sun, 08 Jun 2025 18:27:00 +0900'}, {'title': \"李정부에 희비 엇갈린 2금융…저축銀·<b>핀테크</b> '기대' 카드 '신중'\", 'originallink': 'https://view.asiae.co.kr/article/2025060415380748899', 'link': 'https://n.news.naver.com/mnews/article/277/0005603192?sid=101', 'description': '이재명 정부가 출범하면서 저축은행, <b>핀테크</b>(금융+기술) 업권은 기대감을 보이고 카드 업권은 신중한... 5일 저축은행·<b>핀테크</b>·카드 업권에 따르면 이재명 정부의 배드뱅크 설립, 중금리 대출 전용 인터넷은행 설립... ', 'pubDate': 'Thu, 05 Jun 2025 06:10:00 +0900'}, {'title': \"헥토파이낸셜, 스테이블코인 지급결제 사업 진출…보안업체와 '맞손'\", 'originallink': 'https://www.news1.kr/industry/sb-founded/5809999', 'link': 'https://n.news.naver.com/mnews/article/421/0008305518?sid=101', 'description': '<b>핀테크</b> 업체 헥토파이낸셜(234340)은 국내 최대 실증 이력을 보유한 블록체인 보안 업체 하이파이브랩과 스테이블코인 지급결제시스템의 기술 제휴를 위한 업무협약을 체결했다고 11일 밝혔다. 이번 업무협약은... ', 'pubDate': 'Wed, 11 Jun 2025 09:27:00 +0900'}, {'title': '&quot;나 대신 AI가 금융업무 하는 시대&quot;…웹케시, 제2의 창업 선언', 'originallink': 'https://www.news1.kr/industry/sb-founded/5809015', 'link': 'https://n.news.naver.com/mnews/article/421/0008304230?sid=101', 'description': \"1999년 창업해 B2B(기업간거래) <b>핀테크</b> 1세대 기업으로 꼽히는 웹케시(053580)가 '제2의 창업'을 선언하며 'AI... 웹케시는 이르면 올해 안에 그룹이 보유한 경리나라, 브랜치, 인하우스뱅크 등 30여 개의 B2B <b>핀테크</b> 솔루션에... \", 'pubDate': 'Tue, 10 Jun 2025 15:03:00 +0900'}, {'title': \"[<b>핀테크</b>핫이슈] 이재명 정부 금융개혁 시동...'허니문 랠리' 이어지나\", 'originallink': 'https://www.digitaltoday.co.kr/news/articleView.html?idxno=569799', 'link': 'https://www.digitaltoday.co.kr/news/articleView.html?idxno=569799', 'description': \"[사진: 핀다] <b>핀테크</b> 기업 핀다가 한도조회 없이 사용자가 받을 수 있는 대출 조건을 예측해주는 '인공지능... 사례와 AI 사업 전략 등을 소개한 예정이다. 16일 금융위원회는 코리아 <b>핀테크</b> 위크 2025 개최 방안을 공개한다.\", 'pubDate': 'Tue, 10 Jun 2025 07:42:00 +0900'}, {'title': 'iM금융그룹, <b>핀테크</b> 육성 ‘피움랩 7기’ 출범…14개 스타트업 선발', 'originallink': 'https://www.kukinews.com/article/view/kuk202506040188', 'link': 'https://www.kukinews.com/article/view/kuk202506040188', 'description': 'iM금융그룹은 최근 <b>핀테크</b> 스타트업 육성프로그램 ‘피움랩(FIUM Lab)’ 7기 출범식을 가졌다고 4일 밝혔다. 피움랩은 2019년 설립 이후 디지털 경쟁력 강화와 <b>핀테크</b> 산업 지원을 목표로 지금까지 62개 기업을 육성했다.... ', 'pubDate': 'Wed, 04 Jun 2025 15:12:00 +0900'}, {'title': \"<b>핀테크</b> 실무인재 키운다...'서울 <b>핀테크</b> 아카데미' 60명 모집\", 'originallink': 'http://news.mt.co.kr/mtview.php?no=2025060411210795687', 'link': 'https://n.news.naver.com/mnews/article/008/0005203280?sid=102', 'description': \"서울시가 빅데이터, 챗-Gpt, 토큰증권(STO) 등 최신 트렌드를 반영한 <b>핀테크</b> 분야 실무형 인재 양성을 시작한다. 서울시는 '서울 <b>핀테크</b> 아카데미' 12기 교육생 60명을 4일부터 24일까지 모집한다. 아카데미는 2018년부터... \", 'pubDate': 'Wed, 04 Jun 2025 11:25:00 +0900'}, {'title': '헥토파이낸셜, 하이파이브랩과 스테이블코인 지급결제 기술제휴', 'originallink': 'https://www.hankyung.com/article/2025061171626', 'link': 'https://n.news.naver.com/mnews/article/015/0005143122?sid=101', 'description': '<b>핀테크</b> 기업 헥토파이낸셜은 국내 최대 실증 이력을 가진 블록체인 보안 전문기업 하이파이브랩과 스테이블코인 지급결제 시스템의 기술제휴를 위한 업무협약을 체결했다고 11일 밝혔다. 헥토파이낸셜은 이번 제휴에... ', 'pubDate': 'Wed, 11 Jun 2025 09:46:00 +0900'}, {'title': \"'부산 <b>핀테크</b> 허브' 입주기업 2차 모집\", 'originallink': 'http://www.enewstoday.co.kr/news/articleView.html?idxno=2285451', 'link': 'http://www.enewstoday.co.kr/news/articleView.html?idxno=2285451', 'description': \"부산시(시장 박형준)는 금융기술(<b>핀테크</b>, 빅데이터, AI 등) 분야 기업의 집적과 성장을 지원하는 '부산 <b>핀테크</b> 허브'에 입주할 기업 11개 사를 내일(5일)부터 모집한다. 창업 7년 이내의 기술(테크) 기반 기업으로... \", 'pubDate': 'Wed, 04 Jun 2025 10:45:00 +0900'}, {'title': \"글로벌 가상시장의 영향력으로 떠오른 '스테이블코인'\", 'originallink': 'https://www.sisamagazine.co.kr/news/articleView.html?idxno=515000', 'link': 'https://www.sisamagazine.co.kr/news/articleView.html?idxno=515000', 'description': '최근 세계 최대 은행과 <b>핀테크</b> 기업들이 법정화폐와 가상자산이 연동되는 스테이블코인을 직접 발행하려는... (사진_셔터스톡) 세계 최대 은행과 <b>핀테크</b> 기업, 스테이블코인 직접 발행 세계 최대 은행과 <b>핀테크</b> 기업들이... ', 'pubDate': 'Wed, 11 Jun 2025 15:50:00 +0900'}, {'title': \"iM금융, <b>핀테크</b> 육성 '피움랩 7기' 출범\", 'originallink': 'http://www.whitepaper.co.kr/news/articleView.html?idxno=247214', 'link': 'http://www.whitepaper.co.kr/news/articleView.html?idxno=247214', 'description': \"(사진=iM금융그룹)  iM금융그룹(회장 황병우)은 지난달 27일 <b>핀테크</b> 스타트업 육성프로그램인 '피움랩(FIUM Lab)' 7기의 공식 출범식을 개최했다고 4일 밝혔다. 피움랩은 iM금융그룹의 디지털 경쟁력을 강화하고 <b>핀테크</b>... \", 'pubDate': 'Wed, 04 Jun 2025 17:30:00 +0900'}, {'title': '“미래 금융 잡아라”… 부산시, ‘<b>핀테크</b>허브’ 입주 스타트업 공모', 'originallink': 'https://www.busan.com/view/busan/view.php?code=2025060410041858689', 'link': 'https://n.news.naver.com/mnews/article/082/0001328998?sid=101', 'description': '시는 오는 5일부터 25일까지 ‘부산 <b>핀테크</b>허브’에 입주할 유망 스타트업 총 11개 사를 공개 모집한다고 4일 밝혔다. 모집 대상은 <b>핀테크</b>·빅데이터·인공지능(AI) 등 IT 기반의 기술 창업기업이다. 창업 7년 이내의 법인... ', 'pubDate': 'Wed, 04 Jun 2025 10:09:00 +0900'}, {'title': 'iM금융그룹, 피움랩 7기 출범…<b>핀테크</b> 유망 스타트업 14곳 선발', 'originallink': 'https://www.kyongbuk.co.kr/news/articleView.html?idxno=4043456', 'link': 'https://www.kyongbuk.co.kr/news/articleView.html?idxno=4043456', 'description': \"iM금융그룹은 &quot;<b>핀테크</b> 스타트업 육성프로그램인 '피움랩(FIUM Lab)' 7기의 공식 출범식을 개최했다&quot;고 4일... 피움랩은 iM금융그룹의 디지털 경쟁력을 강화하고 <b>핀테크</b> 산업을 지원하기 위해 지난 2019년 6월 설립된... \", 'pubDate': 'Wed, 04 Jun 2025 17:38:00 +0900'}, {'title': '[한국 금융, 새판 짜기](31) 혁신과 규제, <b>핀테크</b> 균형점 어디인가', 'originallink': 'http://www.newsfc.co.kr/news/articleView.html?idxno=71697', 'link': 'http://www.newsfc.co.kr/news/articleView.html?idxno=71697', 'description': '<b>핀테크</b>(FinTech)와 빅테크(BigTech)의 부상은 기존 금융 질서에 큰 변화를 가져왔다. 송금, 대출, 자산관리, 보험... <b>핀테크</b> 기업들은 기술력을 바탕으로 빠른 혁신을 이끌고 있지만, 기존 금융기관에 비해 상대적으로 느슨한... ', 'pubDate': 'Mon, 09 Jun 2025 07:00:00 +0900'}, {'title': '카이아-다윈KS, 디지털 ATM 서비스 출시 협력', 'originallink': 'http://www.edaily.co.kr/news/newspath.asp?newsid=03043846642200736', 'link': 'https://n.news.naver.com/mnews/article/018/0006036274?sid=105', 'description': '카이아 DLT 재단은 블록체인 기반 <b>핀테크</b> 기업 다윈KS(DaWinKS)와 파트너십을 체결하고, 카이아 기반 테더... KYC <b>핀테크</b> 기술을 활용한 간편한 고객확인제도(임시허가)를 지원하는 블록체인 기반 DTM 사업을 진행... ', 'pubDate': 'Wed, 11 Jun 2025 10:29:00 +0900'}, {'title': \"iM금융, <b>핀테크</b> 스타트업 육성 '피움랩' 7기 출범\", 'originallink': 'http://www.hidomin.com/news/articleView.html?idxno=582910', 'link': 'http://www.hidomin.com/news/articleView.html?idxno=582910', 'description': \"iM금융그룹은 최근 황병우 회장 및 피움랩 참여 기업 대표들이 참석한 가운데 디지털 경쟁력 강화 및 <b>핀테크</b> 산업 지원을 위한 <b>핀테크</b> 스타트업(새싹기업) 육성 프로그램인 '피움랩(FIUM Lab)' 7기 공식 출범식을 갖고... \", 'pubDate': 'Sun, 08 Jun 2025 17:36:00 +0900'}, {'title': \"'부산 <b>핀테크</b> 허브' 입주기업 11곳 추가 모집…5일부터 접수\", 'originallink': 'http://news.lghellovision.net/news/articleView.html?idxno=508596', 'link': 'http://news.lghellovision.net/news/articleView.html?idxno=508596', 'description': \"부산시가 금융기술 분야 신생기업을 지원하는 '부산 <b>핀테크</b> 허브' 입주기업 11곳을 내일(5일)부터 모집합니다. 모집 대상은 창업 7년 이내 기술 기반 기업으로, <b>핀테크</b>·디지털 전환·데이터 기반 사업모델을 보유했거나... \", 'pubDate': 'Wed, 04 Jun 2025 10:14:00 +0900'}, {'title': '웹케시, 금융 AI 에이전트 기업으로 전환…“제2의 창업 수준”', 'originallink': 'https://www.mk.co.kr/article/11338881', 'link': 'https://n.news.naver.com/mnews/article/009/0005506363?sid=105', 'description': '알려진 <b>핀테크</b> 1세대 기업 웹케시가 모든 제품의 인공지능(AI)화를 선언하며 ‘금융 AI 에이전트’... B2B(기업 간 거래) <b>핀테크</b> 제품을 AI 에이전트 기반으로 재구성하는, 제2의 창업 수준 전환에 나설 것”이라고 강조했다.', 'pubDate': 'Tue, 10 Jun 2025 15:37:00 +0900'}, {'title': '카이아 DLT 재단, 다윈KS와 전략적 파트너십 체결', 'originallink': 'https://www.busan.com/view/busan/view.php?code=2025061116044073125', 'link': 'https://n.news.naver.com/mnews/article/082/0001330162?sid=101', 'description': '카이아 DLT 재단(이하 카이아)은 블록체인 기반 <b>핀테크</b> 기업 다윈KS와 전략적 파트너십을 체결하고, 디지털... 다양한 <b>핀테크</b> 서비스를 공동 개발한다. 국내외 시장 확대에도 협력할 예정이다. 특히 카이아 USDT와 KAIA... ', 'pubDate': 'Wed, 11 Jun 2025 16:05:00 +0900'}, {'title': '헥토파이낸셜, 하이파이브랩과 스테이블코인 지급결제 업무협약', 'originallink': 'https://daily.hankooki.com/news/articleView.html?idxno=1227915', 'link': 'https://daily.hankooki.com/news/articleView.html?idxno=1227915', 'description': '사진= 헥토파이낸셜 제공  <b>핀테크</b> 기업 헥토파이낸셜은 국내 최대 실증 이력을 보유한 블록체인 보안 전문기업 하이파이브랩과 스테이블코인 지급결제 시스템의 기술제휴를 위한 업무협약을 체결했다고 11일 밝혔다.... ', 'pubDate': 'Wed, 11 Jun 2025 15:24:00 +0900'}, {'title': \"서울시 &quot;AI·빅데이터 인재 교육비 전액 지원...'<b>핀테크</b> 아카데미' 60명...\", 'originallink': 'http://www.fnnews.com/news/202506041135095824', 'link': 'https://n.news.naver.com/mnews/article/014/0005359043?sid=102', 'description': \"서울시가 <b>핀테크</b> 분야 인재 양성을 위한 인재 모집에 나선다. 교육비 전액을 시에서 지원해 출석·시험... 서울시는 4일 <b>핀테크</b> 분야 실무·전문교육을 제공하는 '서울 <b>핀테크</b> 아카데미' 12기 교육생 60명을 24일까지... \", 'pubDate': 'Wed, 04 Jun 2025 14:17:00 +0900'}, {'title': '웹케시 &quot;금융 AI에이전트 혁신그룹으로 도약… 제2창업 수준&quot;', 'originallink': 'http://www.fnnews.com/news/202506101851437682', 'link': 'https://n.news.naver.com/mnews/article/014/0005361451?sid=105', 'description': '강원주 웹케시 대표는 &quot;AI가 금융 업무 전반을 자동화하고, 경영자 의사결정을 도울 수 있는 시대가 도래했다&quot;며 &quot;웹케시는 국내 최초로 모든 B2B <b>핀테크</b> 제품을 AI 에이전트 기반으로 재구성하는 제2의 창업 수준의... ', 'pubDate': 'Tue, 10 Jun 2025 18:52:00 +0900'}, {'title': \"헥토파이낸셜, '하이파이브랩'과 스테이블코인 지급결제 기술제휴 MOU\", 'originallink': 'http://www.edaily.co.kr/news/newspath.asp?newsid=02860166642200736', 'link': 'https://n.news.naver.com/mnews/article/018/0006036208?sid=105', 'description': '<b>핀테크</b> 기업 헥토파이낸셜(234340)은 국내 최대 실증 이력을 보유한 블록체인 보안 전문기업 하이파이브과 스테이블코인 지급결제 시스템의 기술제휴를 위한 업무협약(MOU)을 체결했다고 11일 밝혔다. 이번 제휴는... ', 'pubDate': 'Wed, 11 Jun 2025 09:37:00 +0900'}, {'title': 'iM금융, 피움랩 7기 출범...<b>핀테크</b> 스타트업 육성', 'originallink': 'http://www.opinionnews.co.kr/news/articleView.html?idxno=118452', 'link': 'http://www.opinionnews.co.kr/news/articleView.html?idxno=118452', 'description': \"사진 제공=iM금융  iM금융그룹이 지난달 27일 <b>핀테크</b> 스타트업 육성프로그램인 '피움랩(FIUM Lab)' 7기의 공식 출범식을 열었다고 4일 밝혔다. 피움랩은 iM금융의 디지털 경쟁력을 강화하고 <b>핀테크</b> 산업을 지원하기 위해... \", 'pubDate': 'Wed, 04 Jun 2025 14:18:00 +0900'}, {'title': \"서울시 '<b>핀테크</b> 아카데미' 교육생 60명 모집…AI·빅데이터 인재 양성\", 'originallink': 'http://www.inews24.com/view/1851400', 'link': 'https://n.news.naver.com/mnews/article/031/0000937792?sid=102', 'description': \"서울시가 인공지능(AI), 빅데이터, 챗-Gpt, 토큰증권(STO) 등 최신 트렌드를 반영한 <b>핀테크</b> 분야 실무형 인재 양성에 나선다. 4일 서울시는 이날부터 오는 24일까지 <b>핀테크</b> 분야 실무·전문교육 등을 제공하는 '서울 <b>핀테크</b>... \", 'pubDate': 'Wed, 04 Jun 2025 16:00:00 +0900'}, {'title': \"헥토파이낸셜, '하이파이브랩'과 스테이블코인 지급결제 기술제휴\", 'originallink': 'https://www.etnews.com/20250611000147', 'link': 'https://n.news.naver.com/mnews/article/030/0003320602?sid=101', 'description': '<b>핀테크</b> 기업 헥토파이낸셜이 블록체인 보안 기업 하이파이브랩과 스테이블코인 지급결제 시스템의 기술제휴를 위한 업무협약을 체결했다. 헥토파이낸셜은 지급결제, 선불충전, 지역화폐 강점을 토대로 스테이블코인... ', 'pubDate': 'Wed, 11 Jun 2025 11:11:00 +0900'}, {'title': \"iM금융 <b>핀테크</b> 지원 프로그램 '피움랩' 7기 출범, 지난 6년 간 62개 기업...\", 'originallink': 'https://www.businesspost.co.kr/BP?command=article_view&num=397928', 'link': 'https://www.businesspost.co.kr/BP?command=article_view&num=397928', 'description': \"iM금융그룹의 금융기술(<b>핀테크</b>, FinTech) 스타트업 지원 프로그램이 올해로 7년 째를 맞았다. iM금융그룹은 지난달 27일 <b>핀테크</b> 스타트업 육성프로그램인 '피움랩(FIUM Lab)' 7기의 공식 출범식을 개최했다고 4일 밝혔다.... \", 'pubDate': 'Wed, 04 Jun 2025 17:36:00 +0900'}, {'title': '부산 <b>핀테크</b> 허브 입주기업 모집', 'originallink': 'https://www.hankyung.com/article/2025060455501', 'link': 'https://n.news.naver.com/mnews/article/015/0005140683?sid=102', 'description': '부산시는 <b>핀테크</b> 분야 스타트업을 지원하기 위해 ‘부산 <b>핀테크</b> 허브’ 입주 기업 11곳을 모집한다고 4일 밝혔다. 창업 7년 이내인 기술 기반 기업이 대상이다. 부산 <b>핀테크</b> 허브는 부산국제금융센터(BIFC)의 ‘유(U)... ', 'pubDate': 'Wed, 04 Jun 2025 17:43:00 +0900'}, {'title': '부산시, <b>핀테크</b> 허브 입주기업 2차 모집…11개 신생기업 성장 지원', 'originallink': 'https://www.newspim.com/news/view/20250604000246', 'link': 'https://www.newspim.com/news/view/20250604000246', 'description': \"부산시는 5일부터 금융기술(<b>핀테크</b>) 분야 신생기업을 대상으로 '부산 <b>핀테크</b> 허브' 입주기업 11개사를 모집한다고 4일 밝혔다. 이번 모집은 창업 7년 이내의 기술 기반 기업이 대상이다. 지원 자격은 <b>핀테크</b>, 디지털 전환... \", 'pubDate': 'Wed, 04 Jun 2025 08:01:00 +0900'}, {'title': '여당 비은행 스테이블코인 허용 움직임에 “은행 컨소시엄 발행이 적절...', 'originallink': 'https://biz.heraldcorp.com/article/10506618?ref=naver', 'link': 'https://n.news.naver.com/mnews/article/016/0002483187?sid=101', 'description': '‘비은행 스테이블코인 허용’ 가닥에 은행권 <b>핀테크</b> 등과 경쟁 경계감 높여 성공적 도입 위해 안정성... 은행으로서는 <b>핀테크</b>, 가상자산 스타트업 등과의 초기 경쟁에서 자칫 밀릴 수 있다는 위기감이 있어서다. 이에 은행... ', 'pubDate': 'Wed, 11 Jun 2025 10:20:00 +0900'}, {'title': '지라프에이아이랩스, 서울<b>핀테크</b>랩 입주…Web3 증권 플랫폼 구축 박차', 'originallink': 'http://news.mt.co.kr/mtview.php?no=2025060511302497443', 'link': 'https://n.news.naver.com/mnews/article/008/0005204019?sid=101', 'description': '인공지능(AI) 기반 퀀트 전략 기술 스타트업 지라프에이아이랩스(GirafeAILabs)가 서울시가 운영하는 서울<b>핀테크</b>랩의 2025년 상반기 신규 입주 기업으로 선정됐다고 밝혔다. 서울<b>핀테크</b>랩은 국내 <b>핀테크</b> 스타트업의 성장과... ', 'pubDate': 'Thu, 05 Jun 2025 17:03:00 +0900'}, {'title': \"'부산 <b>핀테크</b> 허브' 입주기업 2차 모집\", 'originallink': 'http://www.iminju.net/news/articleView.html?idxno=130007', 'link': 'http://www.iminju.net/news/articleView.html?idxno=130007', 'description': \"민주신문=양희정 기자｜부산시(시장 박형준)는 금융기술(<b>핀테크</b>, 빅데이터, AI 등) 분야 기업의 집적과 성장을 지원하는 '부산 <b>핀테크</b> 허브'에 입주할 기업 11개 사를 5일부터 모집한다고 4일 밝혔다. 창업 7년 이내의 기술... \", 'pubDate': 'Wed, 04 Jun 2025 10:42:00 +0900'}, {'title': \"'부산 <b>핀테크</b> 허브' 입주기업에 사업화 자금 등 지원\", 'originallink': 'http://www.seoulfn.com/news/articleView.html?idxno=559158', 'link': 'http://www.seoulfn.com/news/articleView.html?idxno=559158', 'description': \"사진=부산시청 부산시가 <b>핀테크</b>, 빅데이터, AI 등 금융기술 분야 기업의 집적과 성장을 지원하는 '부산 <b>핀테크</b> 허브'에 입주할 기업 11개 사를 내일부터 모집한다고 4일 밝혔다. 창업 7년 이내의 기술 기반 기업으로... \", 'pubDate': 'Wed, 04 Jun 2025 09:28:00 +0900'}, {'title': '아톤, 오픈블록체인·DID협회 이사사로 합류', 'originallink': 'https://www.newsis.com/view/NISX20250610_0003206624', 'link': 'https://n.news.naver.com/mnews/article/003/0013293997?sid=105', 'description': '<b>핀테크</b> 보안기업 아톤은 사단법인 오픈블록체인·DID협회(OBDIA)에 이사사로 합류한다고 10일 밝혔다.... 역량과 <b>핀테크</b> 보안 기술 경쟁력을 바탕으로 업계와 함께 안전하고 투명한 제도권 디지털자산 생태계 조성에... ', 'pubDate': 'Tue, 10 Jun 2025 08:47:00 +0900'}, {'title': \"헥토파이낸셜, '하이파이브랩'과 스테이블코인 지급결제 기술제휴 MOU\", 'originallink': 'https://view.asiae.co.kr/article/2025061108311923176', 'link': 'https://n.news.naver.com/mnews/article/277/0005605693?sid=101', 'description': '<b>핀테크</b> 기업 헥토파이낸셜은 국내 최대 실증 이력을 보유한 블록체인 보안 전문기업 하이파이브랩과 스테이블코인 지급결제 시스템의 기술제휴를 위한 업무협약(MOU)을 체결했다고 11일 밝혔다. 이번 제휴는... ', 'pubDate': 'Wed, 11 Jun 2025 08:31:00 +0900'}, {'title': \"'부산 <b>핀테크</b> 허브' 입주 신생기업 11개사 모집\", 'originallink': 'https://www.pressian.com/pages/articles/2025060412563046789?utm_source=naver&utm_medium=search', 'link': 'https://n.news.naver.com/mnews/article/002/0002391705?sid=102', 'description': \"부산시에서 지원할 스타트업 업체 추가선정한다 부산시는 <b>핀테크</b>, 빅데이터, AI 분야 기업의 집적과 성장을 지원하는 '부산 <b>핀테크</b> 허브'에 입주할 기업 11개사를 5일부터 모집한다. 선정 기업에는 공유오피스 입주 공간... \", 'pubDate': 'Wed, 04 Jun 2025 15:49:00 +0900'}, {'title': '‘모든 서비스에 AI 적용’ 웹케시, 금융 AI 에이전트 기업 전환에 올인', 'originallink': 'https://it.donga.com/107072/', 'link': 'https://it.donga.com/107072/', 'description': '목표를 달성하기 위해 웹케시의 모든 <b>핀테크</b> 서비스를 인공지능 에이전트(AI Agent)로 전환하고, 내부... 금융 AI 에이전트 생태계 구축에 속도낸다 웹케시는 ▲자금관리 ▲경영관리 ▲인사 급여 ▲<b>핀테크</b> 등 다양한... ', 'pubDate': 'Tue, 10 Jun 2025 18:50:00 +0900'}, {'title': '네·카·토부터 중소 <b>핀테크</b>까지 “불황에도 실적 반등”', 'originallink': 'https://www.etnews.com/20250602000207', 'link': 'https://n.news.naver.com/mnews/article/030/0003318092?sid=101', 'description': '국내 <b>핀테크</b> 기업들이 경기 불황 속에서도 올해 1분기 실적에서 뚜렷한 성과를 기록하며 사업 확장 발판을... 중소 <b>핀테크</b> 기업들은 주력 사업에 집중해 수익 구조를 개선했다. 네이버페이는 1분기 외부 결제 비중이 50%를... ', 'pubDate': 'Mon, 02 Jun 2025 13:36:00 +0900'}, {'title': \"경리나라 만든 웹케시, 제2창업 선언…모든제품 'AI화'\", 'originallink': 'https://view.asiae.co.kr/article/2025060914522800139', 'link': 'https://n.news.naver.com/mnews/article/277/0005605140?sid=101', 'description': '<b>핀테크</b>(금융+기술) 1세대 기업 웹케시그룹이 뱅킹, 고객관리 등에 쓰는 모든 제품을 인공지능(AI)화하며... 웹케시는 국내에서 처음으로 인터넷 뱅킹을 도입한 기업 간 거래(B2B) <b>핀테크</b> 기업이고 중소기업용 자금관리... ', 'pubDate': 'Tue, 10 Jun 2025 10:00:00 +0900'}, {'title': '핀다, AI 대출 예측 서비스 출시', 'originallink': 'https://www.yna.co.kr/view/AKR20250609034400017?input=1195m', 'link': 'https://n.news.naver.com/mnews/article/001/0015438082?sid=105', 'description': \"<b>핀테크</b> 기업 핀다는 9일 인공지능(AI) 대출 예측 서비스를 출시했다고 밝혔다. 해당 서비스는 핀다가 지난해 11월 출시한 '금리 변동 예상 알림 서비스'를 '마이데이터'와 핀다 AI 기술을 통해 고도화한 것이다. 사용자는... \", 'pubDate': 'Mon, 09 Jun 2025 09:29:00 +0900'}, {'title': '발 빠른 헥토파이낸셜, 스테이블코인 손댄다', 'originallink': 'http://news.bizwatch.co.kr/article/mobile/2025/06/11/0012', 'link': 'https://n.news.naver.com/mnews/article/648/0000036898?sid=101', 'description': '새 정부 출범과 함께 원화 스테이블코인이 금융업계의 최대 화두로 부상하면서 <b>핀테크</b>기업 헥토파이낸셜이 관련 사업 추진에 시동을 걸었다. 헥토파이낸셜은 블록체인 보안 전문기업 하이파이브랩과 스테이블코인... ', 'pubDate': 'Wed, 11 Jun 2025 14:52:00 +0900'}, {'title': '부산시, ‘<b>핀테크</b> 허브’ 입주기업 11개사 추가 모집… 맞춤형 성장 지...', 'originallink': 'https://www.viva100.com/article/20250604501258', 'link': 'https://www.viva100.com/article/20250604501258', 'description': '부산시는 <b>핀테크</b> 분야 유망 스타트업의 성장을 지원하기 위해 ‘부산 <b>핀테크</b> 허브’ 입주기업 11개사를 오는 6월 5일부터 25일까지 추가 모집한다고 밝혔다. 모집 대상은 창업 7년 이내 <b>핀테크</b>, 디지털 전환, 데이터 기반... ', 'pubDate': 'Wed, 04 Jun 2025 16:16:00 +0900'}, {'title': '헥토파이낸셜, 블록체인 보안 갑옷 입는다', 'originallink': 'https://www.econovill.com/news/articleView.html?idxno=699232', 'link': 'https://www.econovill.com/news/articleView.html?idxno=699232', 'description': '<b>핀테크</b> 기업 헥토파이낸셜이 미래 디지털 자산 시장의 핵심인 스테이블코인 지급결제 시장에 출사표를 던졌다. 그 첫 단추는 국내 최고 수준의 블록체인 보안 기술을 내재화하는 것이다. 헥토파이낸셜은 블록체인 보안... ', 'pubDate': 'Wed, 11 Jun 2025 08:34:00 +0900'}, {'title': '헥토파이낸셜·하이파이브랩, 스테이블코인 지급결제 기술 제휴', 'originallink': 'https://www.datanet.co.kr/news/articleView.html?idxno=202730', 'link': 'https://www.datanet.co.kr/news/articleView.html?idxno=202730', 'description': '<b>핀테크</b> 기업 헥토파이낸셜은 국내 최대 실증 이력을 보유한 블록체인 보안 전문기업 하이파이브랩과 스테이블코인 지급결제 시스템의 기술 제휴를 위한 업무협약(MOU)을 체결했다고 밝혔다. 이번 제휴는 스테이블코인... ', 'pubDate': 'Wed, 11 Jun 2025 15:36:00 +0900'}]}\n"
     ]
    }
   ],
   "source": [
    "url = 'https://openapi.naver.com/v1/search/news.json'\n",
    "headers = {\"X-Naver-Client-Id\" : \"uDs4RNKJANndul0wzUt6\", \"X-Naver-Client-Secret\" : \"rDnVd5Xwk6\"}\n",
    "payload = {'query': '핀테크', 'start': 1, 'display': 100, 'sort': 'sim'}\n",
    "r = requests.get(url, headers=headers, params=payload)\n",
    "print(r.url)\n",
    "print(r.status_code)\n",
    "\n",
    "data = r.json()\n",
    "print(type(data))\n",
    "print(data)"
   ]
  },
  {
   "cell_type": "code",
   "execution_count": 20,
   "id": "91df6cad",
   "metadata": {},
   "outputs": [],
   "source": [
    "def text_clean(x):\n",
    "    x = x.replace('&quot;', '') \\\n",
    "         .replace('<b>', '') \\\n",
    "         .replace('</b>', '') \\\n",
    "         .replace(\" '\", '')\n",
    "    return x"
   ]
  },
  {
   "cell_type": "code",
   "execution_count": 21,
   "id": "8ff5d24e",
   "metadata": {
    "scrolled": true
   },
   "outputs": [
    {
     "data": {
      "text/html": [
       "<div>\n",
       "<style scoped>\n",
       "    .dataframe tbody tr th:only-of-type {\n",
       "        vertical-align: middle;\n",
       "    }\n",
       "\n",
       "    .dataframe tbody tr th {\n",
       "        vertical-align: top;\n",
       "    }\n",
       "\n",
       "    .dataframe thead th {\n",
       "        text-align: right;\n",
       "    }\n",
       "</style>\n",
       "<table border=\"1\" class=\"dataframe\">\n",
       "  <thead>\n",
       "    <tr style=\"text-align: right;\">\n",
       "      <th></th>\n",
       "      <th>title</th>\n",
       "      <th>originallink</th>\n",
       "      <th>link</th>\n",
       "      <th>description</th>\n",
       "      <th>pubDate</th>\n",
       "    </tr>\n",
       "  </thead>\n",
       "  <tbody>\n",
       "    <tr>\n",
       "      <th>0</th>\n",
       "      <td>강태영 ‘&lt;b&gt;핀테크&lt;/b&gt;동맹’ 디지털드라이브</td>\n",
       "      <td>https://biz.heraldcorp.com/article/10506763?re...</td>\n",
       "      <td>https://n.news.naver.com/mnews/article/016/000...</td>\n",
       "      <td>농협은행은 올 1월 강 행장이 취임한 뒤로 &lt;b&gt;핀테크&lt;/b&gt; 기업과 적극 협업에 ...</td>\n",
       "      <td>Wed, 11 Jun 2025 11:27:00 +0900</td>\n",
       "    </tr>\n",
       "    <tr>\n",
       "      <th>1</th>\n",
       "      <td>디지털 해외송금 시장 커진다…&lt;b&gt;핀테크&lt;/b&gt; 스타트업이 견인</td>\n",
       "      <td>https://www.newsis.com/view/NISX20250610_00032...</td>\n",
       "      <td>https://n.news.naver.com/mnews/article/003/001...</td>\n",
       "      <td>&lt;b&gt;핀테크&lt;/b&gt; 기업들을 중심으로 해외송금 시장이 빠르게 성장하고 있다. 낮은 ...</td>\n",
       "      <td>Tue, 10 Jun 2025 11:15:00 +0900</td>\n",
       "    </tr>\n",
       "    <tr>\n",
       "      <th>2</th>\n",
       "      <td>속도전 내건 민주당…은행·&lt;b&gt;핀테크&lt;/b&gt; '원화 스테이블코인' 발행 두고 딜레...</td>\n",
       "      <td>https://www.topstarnews.net/news/articleView.h...</td>\n",
       "      <td>https://www.topstarnews.net/news/articleView.h...</td>\n",
       "      <td>금융권과 &lt;b&gt;핀테크&lt;/b&gt; 업계가 복잡한 딜레마에 직면했다. 은행 주도의 발행은 ...</td>\n",
       "      <td>Wed, 11 Jun 2025 09:18:00 +0900</td>\n",
       "    </tr>\n",
       "    <tr>\n",
       "      <th>3</th>\n",
       "      <td>은행은 느리고 &lt;b&gt;핀테크&lt;/b&gt;는 불안?..원화 스테이블코인 딜레마</td>\n",
       "      <td>https://www.ikbc.co.kr/article/view/kbc2025061...</td>\n",
       "      <td>https://n.news.naver.com/mnews/article/660/000...</td>\n",
       "      <td>있어, &lt;b&gt;핀테크&lt;/b&gt;와 스타트업의 시장 진입이 크게 열릴 수 있습니다. 문제는...</td>\n",
       "      <td>Wed, 11 Jun 2025 07:30:00 +0900</td>\n",
       "    </tr>\n",
       "    <tr>\n",
       "      <th>4</th>\n",
       "      <td>“여기 들어온 회사 매출 10배 뛰었다며?”…‘&lt;b&gt;핀테크&lt;/b&gt; 명당’ 어떻게 들...</td>\n",
       "      <td>https://www.mk.co.kr/article/11338643</td>\n",
       "      <td>https://n.news.naver.com/mnews/article/009/000...</td>\n",
       "      <td>‘부산 &lt;b&gt;핀테크&lt;/b&gt; 허브’에 입주할 기업을 모집한다. 10일 부산시에 따르면...</td>\n",
       "      <td>Tue, 10 Jun 2025 11:43:00 +0900</td>\n",
       "    </tr>\n",
       "    <tr>\n",
       "      <th>...</th>\n",
       "      <td>...</td>\n",
       "      <td>...</td>\n",
       "      <td>...</td>\n",
       "      <td>...</td>\n",
       "      <td>...</td>\n",
       "    </tr>\n",
       "    <tr>\n",
       "      <th>95</th>\n",
       "      <td>핀다, AI 대출 예측 서비스 출시</td>\n",
       "      <td>https://www.yna.co.kr/view/AKR2025060903440001...</td>\n",
       "      <td>https://n.news.naver.com/mnews/article/001/001...</td>\n",
       "      <td>&lt;b&gt;핀테크&lt;/b&gt; 기업 핀다는 9일 인공지능(AI) 대출 예측 서비스를 출시했다고...</td>\n",
       "      <td>Mon, 09 Jun 2025 09:29:00 +0900</td>\n",
       "    </tr>\n",
       "    <tr>\n",
       "      <th>96</th>\n",
       "      <td>발 빠른 헥토파이낸셜, 스테이블코인 손댄다</td>\n",
       "      <td>http://news.bizwatch.co.kr/article/mobile/2025...</td>\n",
       "      <td>https://n.news.naver.com/mnews/article/648/000...</td>\n",
       "      <td>새 정부 출범과 함께 원화 스테이블코인이 금융업계의 최대 화두로 부상하면서 &lt;b&gt;핀...</td>\n",
       "      <td>Wed, 11 Jun 2025 14:52:00 +0900</td>\n",
       "    </tr>\n",
       "    <tr>\n",
       "      <th>97</th>\n",
       "      <td>부산시, ‘&lt;b&gt;핀테크&lt;/b&gt; 허브’ 입주기업 11개사 추가 모집… 맞춤형 성장 지...</td>\n",
       "      <td>https://www.viva100.com/article/20250604501258</td>\n",
       "      <td>https://www.viva100.com/article/20250604501258</td>\n",
       "      <td>부산시는 &lt;b&gt;핀테크&lt;/b&gt; 분야 유망 스타트업의 성장을 지원하기 위해 ‘부산 &lt;b...</td>\n",
       "      <td>Wed, 04 Jun 2025 16:16:00 +0900</td>\n",
       "    </tr>\n",
       "    <tr>\n",
       "      <th>98</th>\n",
       "      <td>헥토파이낸셜, 블록체인 보안 갑옷 입는다</td>\n",
       "      <td>https://www.econovill.com/news/articleView.htm...</td>\n",
       "      <td>https://www.econovill.com/news/articleView.htm...</td>\n",
       "      <td>&lt;b&gt;핀테크&lt;/b&gt; 기업 헥토파이낸셜이 미래 디지털 자산 시장의 핵심인 스테이블코인...</td>\n",
       "      <td>Wed, 11 Jun 2025 08:34:00 +0900</td>\n",
       "    </tr>\n",
       "    <tr>\n",
       "      <th>99</th>\n",
       "      <td>헥토파이낸셜·하이파이브랩, 스테이블코인 지급결제 기술 제휴</td>\n",
       "      <td>https://www.datanet.co.kr/news/articleView.htm...</td>\n",
       "      <td>https://www.datanet.co.kr/news/articleView.htm...</td>\n",
       "      <td>&lt;b&gt;핀테크&lt;/b&gt; 기업 헥토파이낸셜은 국내 최대 실증 이력을 보유한 블록체인 보안...</td>\n",
       "      <td>Wed, 11 Jun 2025 15:36:00 +0900</td>\n",
       "    </tr>\n",
       "  </tbody>\n",
       "</table>\n",
       "<p>100 rows × 5 columns</p>\n",
       "</div>"
      ],
      "text/plain": [
       "                                                title  \\\n",
       "0                          강태영 ‘<b>핀테크</b>동맹’ 디지털드라이브   \n",
       "1                 디지털 해외송금 시장 커진다…<b>핀테크</b> 스타트업이 견인   \n",
       "2    속도전 내건 민주당…은행·<b>핀테크</b> '원화 스테이블코인' 발행 두고 딜레...   \n",
       "3              은행은 느리고 <b>핀테크</b>는 불안?..원화 스테이블코인 딜레마   \n",
       "4   “여기 들어온 회사 매출 10배 뛰었다며?”…‘<b>핀테크</b> 명당’ 어떻게 들...   \n",
       "..                                                ...   \n",
       "95                                핀다, AI 대출 예측 서비스 출시   \n",
       "96                            발 빠른 헥토파이낸셜, 스테이블코인 손댄다   \n",
       "97  부산시, ‘<b>핀테크</b> 허브’ 입주기업 11개사 추가 모집… 맞춤형 성장 지...   \n",
       "98                             헥토파이낸셜, 블록체인 보안 갑옷 입는다   \n",
       "99                   헥토파이낸셜·하이파이브랩, 스테이블코인 지급결제 기술 제휴   \n",
       "\n",
       "                                         originallink  \\\n",
       "0   https://biz.heraldcorp.com/article/10506763?re...   \n",
       "1   https://www.newsis.com/view/NISX20250610_00032...   \n",
       "2   https://www.topstarnews.net/news/articleView.h...   \n",
       "3   https://www.ikbc.co.kr/article/view/kbc2025061...   \n",
       "4               https://www.mk.co.kr/article/11338643   \n",
       "..                                                ...   \n",
       "95  https://www.yna.co.kr/view/AKR2025060903440001...   \n",
       "96  http://news.bizwatch.co.kr/article/mobile/2025...   \n",
       "97     https://www.viva100.com/article/20250604501258   \n",
       "98  https://www.econovill.com/news/articleView.htm...   \n",
       "99  https://www.datanet.co.kr/news/articleView.htm...   \n",
       "\n",
       "                                                 link  \\\n",
       "0   https://n.news.naver.com/mnews/article/016/000...   \n",
       "1   https://n.news.naver.com/mnews/article/003/001...   \n",
       "2   https://www.topstarnews.net/news/articleView.h...   \n",
       "3   https://n.news.naver.com/mnews/article/660/000...   \n",
       "4   https://n.news.naver.com/mnews/article/009/000...   \n",
       "..                                                ...   \n",
       "95  https://n.news.naver.com/mnews/article/001/001...   \n",
       "96  https://n.news.naver.com/mnews/article/648/000...   \n",
       "97     https://www.viva100.com/article/20250604501258   \n",
       "98  https://www.econovill.com/news/articleView.htm...   \n",
       "99  https://www.datanet.co.kr/news/articleView.htm...   \n",
       "\n",
       "                                          description  \\\n",
       "0   농협은행은 올 1월 강 행장이 취임한 뒤로 <b>핀테크</b> 기업과 적극 협업에 ...   \n",
       "1   <b>핀테크</b> 기업들을 중심으로 해외송금 시장이 빠르게 성장하고 있다. 낮은 ...   \n",
       "2   금융권과 <b>핀테크</b> 업계가 복잡한 딜레마에 직면했다. 은행 주도의 발행은 ...   \n",
       "3   있어, <b>핀테크</b>와 스타트업의 시장 진입이 크게 열릴 수 있습니다. 문제는...   \n",
       "4   ‘부산 <b>핀테크</b> 허브’에 입주할 기업을 모집한다. 10일 부산시에 따르면...   \n",
       "..                                                ...   \n",
       "95  <b>핀테크</b> 기업 핀다는 9일 인공지능(AI) 대출 예측 서비스를 출시했다고...   \n",
       "96  새 정부 출범과 함께 원화 스테이블코인이 금융업계의 최대 화두로 부상하면서 <b>핀...   \n",
       "97  부산시는 <b>핀테크</b> 분야 유망 스타트업의 성장을 지원하기 위해 ‘부산 <b...   \n",
       "98  <b>핀테크</b> 기업 헥토파이낸셜이 미래 디지털 자산 시장의 핵심인 스테이블코인...   \n",
       "99  <b>핀테크</b> 기업 헥토파이낸셜은 국내 최대 실증 이력을 보유한 블록체인 보안...   \n",
       "\n",
       "                            pubDate  \n",
       "0   Wed, 11 Jun 2025 11:27:00 +0900  \n",
       "1   Tue, 10 Jun 2025 11:15:00 +0900  \n",
       "2   Wed, 11 Jun 2025 09:18:00 +0900  \n",
       "3   Wed, 11 Jun 2025 07:30:00 +0900  \n",
       "4   Tue, 10 Jun 2025 11:43:00 +0900  \n",
       "..                              ...  \n",
       "95  Mon, 09 Jun 2025 09:29:00 +0900  \n",
       "96  Wed, 11 Jun 2025 14:52:00 +0900  \n",
       "97  Wed, 04 Jun 2025 16:16:00 +0900  \n",
       "98  Wed, 11 Jun 2025 08:34:00 +0900  \n",
       "99  Wed, 11 Jun 2025 15:36:00 +0900  \n",
       "\n",
       "[100 rows x 5 columns]"
      ]
     },
     "execution_count": 21,
     "metadata": {},
     "output_type": "execute_result"
    }
   ],
   "source": [
    "df = pd.DataFrame(data['items'])\n",
    "df"
   ]
  },
  {
   "cell_type": "code",
   "execution_count": 22,
   "id": "e7d865d0",
   "metadata": {},
   "outputs": [
    {
     "data": {
      "text/plain": [
       "Index(['title', 'originallink', 'link', 'description', 'pubDate'], dtype='object')"
      ]
     },
     "execution_count": 22,
     "metadata": {},
     "output_type": "execute_result"
    }
   ],
   "source": [
    "df.columns"
   ]
  },
  {
   "cell_type": "code",
   "execution_count": 27,
   "id": "0b3a8176",
   "metadata": {
    "scrolled": false
   },
   "outputs": [
    {
     "name": "stdout",
     "output_type": "stream",
     "text": [
      "* Running on local URL:  http://127.0.0.1:7862\n",
      "* To create a public link, set `share=True` in `launch()`.\n"
     ]
    },
    {
     "data": {
      "text/html": [
       "<div><iframe src=\"http://127.0.0.1:7862/\" width=\"100%\" height=\"500\" allow=\"autoplay; camera; microphone; clipboard-read; clipboard-write;\" frameborder=\"0\" allowfullscreen></iframe></div>"
      ],
      "text/plain": [
       "<IPython.core.display.HTML object>"
      ]
     },
     "metadata": {},
     "output_type": "display_data"
    },
    {
     "data": {
      "text/plain": []
     },
     "execution_count": 27,
     "metadata": {},
     "output_type": "execute_result"
    }
   ],
   "source": [
    "import gradio as gr\n",
    "import requests\n",
    "import pandas as pd\n",
    "from google import genai\n",
    "from bs4 import BeautifulSoup\n",
    "import webbrowser  # 링크 열기용\n",
    "\n",
    "# API 설정\n",
    "NAVER_CLIENT_ID = \"uDs4RNKJANndul0wzUt6\"\n",
    "NAVER_CLIENT_SECRET = \"rDnVd5Xwk6\"\n",
    "GEMINI_API_KEY = apikey\n",
    "client = genai.Client(api_key=GEMINI_API_KEY)\n",
    "\n",
    "# 텍스트 정제\n",
    "def text_clean(x):\n",
    "    x = x.replace('&quot;', '').replace('<b>', '').replace('</b>', '').replace(\" '\", '')\n",
    "    return x\n",
    "\n",
    "# 뉴스 검색 함수\n",
    "def search_news(keyword):\n",
    "    url = \"https://openapi.naver.com/v1/search/news.json\"\n",
    "    headers = {\n",
    "        \"X-Naver-Client-Id\": NAVER_CLIENT_ID,\n",
    "        \"X-Naver-Client-Secret\": NAVER_CLIENT_SECRET\n",
    "    }\n",
    "    params = {\n",
    "        \"query\": keyword,\n",
    "        \"display\": 10,\n",
    "        \"start\": 1,\n",
    "        \"sort\": \"sim\"\n",
    "    }\n",
    "    res = requests.get(url, headers=headers, params=params)\n",
    "    data = res.json()\n",
    "    df = pd.DataFrame(data['items'])\n",
    "    df['title'] = df['title'].apply(text_clean)\n",
    "    return df\n",
    "\n",
    "# 기사 본문 추출\n",
    "def get_article_text(url):\n",
    "    try:\n",
    "        response = requests.get(url, timeout=5)\n",
    "        soup = BeautifulSoup(response.content, \"html.parser\")\n",
    "        for selector in ['#articleBodyContents', '.article_body', '#articeBody', 'article']:\n",
    "            content = soup.select_one(selector)\n",
    "            if content:\n",
    "                return content.get_text(strip=True)\n",
    "        return \"기사 본문을 불러오지 못했습니다.\"\n",
    "    except Exception as e:\n",
    "        return f\"[에러] 기사 불러오기 실패: {str(e)}\"\n",
    "\n",
    "# Gemini 요약\n",
    "def summarize_article(title, df_data):\n",
    "    try:\n",
    "        selected_row = df_data[df_data['title'] == title].iloc[0]\n",
    "        article_url = selected_row['originallink']\n",
    "        article_text = get_article_text(article_url)\n",
    "        if \"불러오기 실패\" in article_text:\n",
    "            return article_text, article_url\n",
    "\n",
    "        prompt = f\"\"\"다음은 뉴스 기사입니다. 이 기사를 독자를 위해 핵심만 간결하게 요약해줘.\n",
    "        \n",
    "        제목: {title}\n",
    "        본문: {article_text}\n",
    "        \"\"\"\n",
    "        response = client.models.generate_content(\n",
    "            model=\"gemini-2.0-flash\",\n",
    "            contents=prompt,\n",
    "        )\n",
    "\n",
    "        return response.text.strip(), article_url\n",
    "    except Exception as e:\n",
    "        return f\"[요약 실패] {str(e)}\", \"\"\n",
    "\n",
    "# 링크 열기 함수 (웹 브라우저로)\n",
    "def open_link(link):\n",
    "    if link:\n",
    "        webbrowser.open(link)\n",
    "    return None\n",
    "\n",
    "# Gradio 인터페이스 구성\n",
    "with gr.Blocks() as demo:\n",
    "    gr.Markdown(\"# 📰 Gemini 뉴스 요약기\")\n",
    "\n",
    "    # 뉴스 키워드 입력 및 검색 버튼\n",
    "    with gr.Column():\n",
    "        keyword_input = gr.Textbox(label=\"뉴스 키워드 입력\", placeholder=\"예: 핀테크\")\n",
    "        search_btn = gr.Button(\"뉴스 검색\")  # ← input 바로 밑으로 이동\n",
    "\n",
    "    news_list = gr.Dropdown(choices=[], label=\"뉴스 제목 선택\")\n",
    "    open_link_btn = gr.Button(\"🔗 기사 원문 열기\", visible=False)  # 기본은 숨김\n",
    "    summary_output = gr.Textbox(label=\"요약 결과\", lines=10, interactive=False)\n",
    "\n",
    "    df_state = gr.State()\n",
    "    link_state = gr.State()  # 기사 링크 저장\n",
    "\n",
    "    # 뉴스 검색 클릭 → 드롭다운 업데이트\n",
    "    def update_news_list(keyword):\n",
    "        df = search_news(keyword)\n",
    "        return gr.update(choices=df['title'].tolist()), df\n",
    "\n",
    "    search_btn.click(fn=update_news_list, inputs=keyword_input, outputs=[news_list, df_state])\n",
    "\n",
    "    # 제목 선택 → 요약 + 링크 저장 + 버튼 표시\n",
    "    def on_title_selected(title, df_data):\n",
    "        summary, link = summarize_article(title, df_data)\n",
    "        return summary, link, gr.update(visible=True)\n",
    "\n",
    "    news_list.change(fn=on_title_selected, inputs=[news_list, df_state], outputs=[summary_output, link_state, open_link_btn])\n",
    "\n",
    "    # 링크 열기 버튼 클릭 시 실제 브라우저에서 열기\n",
    "    open_link_btn.click(fn=open_link, inputs=link_state, outputs=[])\n",
    "\n",
    "demo.launch()"
   ]
  },
  {
   "cell_type": "code",
   "execution_count": 28,
   "id": "0e97013a",
   "metadata": {},
   "outputs": [
    {
     "name": "stdout",
     "output_type": "stream",
     "text": [
      "Closing server running on port: 7862\n"
     ]
    }
   ],
   "source": [
    "demo.close()"
   ]
  }
 ],
 "metadata": {
  "kernelspec": {
   "display_name": "Python 3 (ipykernel)",
   "language": "python",
   "name": "python3"
  },
  "language_info": {
   "codemirror_mode": {
    "name": "ipython",
    "version": 3
   },
   "file_extension": ".py",
   "mimetype": "text/x-python",
   "name": "python",
   "nbconvert_exporter": "python",
   "pygments_lexer": "ipython3",
   "version": "3.11.13"
  }
 },
 "nbformat": 4,
 "nbformat_minor": 5
}
