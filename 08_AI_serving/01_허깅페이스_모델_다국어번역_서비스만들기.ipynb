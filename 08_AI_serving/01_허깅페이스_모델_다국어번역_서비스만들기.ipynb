{
 "cells": [
  {
   "cell_type": "markdown",
   "id": "e2bb3f79",
   "metadata": {},
   "source": [
    "## 허깅페이스에서 모델받아 다국어번역 서비스만들기\n",
    "* https://huggingface.co/"
   ]
  },
  {
   "cell_type": "code",
   "execution_count": 2,
   "id": "46bf44e4",
   "metadata": {},
   "outputs": [
    {
     "name": "stdout",
     "output_type": "stream",
     "text": [
      "['This is a multilingual translator made with the m2m model.']\n",
      "['これは、m2mモデルで作成された多言語翻訳機です。']\n"
     ]
    }
   ],
   "source": [
    "from transformers import M2M100ForConditionalGeneration, M2M100Tokenizer\n",
    "\n",
    "ko_text = \"이것은 m2m모델로 만든 다국어 번역기입니다.\"\n",
    "\n",
    "model = M2M100ForConditionalGeneration.from_pretrained(\"facebook/m2m100_1.2B\")\n",
    "tokenizer = M2M100Tokenizer.from_pretrained(\"facebook/m2m100_1.2B\")\n",
    "\n",
    "# 한국어를  영어로\n",
    "tokenizer.src_lang = \"ko\"\n",
    "encoded_hi = tokenizer(ko_text, return_tensors=\"pt\")\n",
    "generated_tokens = model.generate(**encoded_hi, forced_bos_token_id=tokenizer.get_lang_id(\"en\"))\n",
    "result1 = tokenizer.batch_decode(generated_tokens, skip_special_tokens=True)\n",
    "print(result1)\n",
    "\n",
    "\n",
    "# 한국어를 일본어로\n",
    "tokenizer.src_lang = \"ko\"\n",
    "encoded_zh = tokenizer(ko_text, return_tensors=\"pt\")\n",
    "generated_tokens = model.generate(**encoded_zh, forced_bos_token_id=tokenizer.get_lang_id(\"ja\"))\n",
    "result2 = tokenizer.batch_decode(generated_tokens, skip_special_tokens=True)\n",
    "print(result2)"
   ]
  },
  {
   "cell_type": "code",
   "execution_count": 5,
   "id": "120426b4",
   "metadata": {},
   "outputs": [
    {
     "name": "stdout",
     "output_type": "stream",
     "text": [
      "* Running on local URL:  http://127.0.0.1:7862\n",
      "* To create a public link, set `share=True` in `launch()`.\n"
     ]
    },
    {
     "data": {
      "text/html": [
       "<div><iframe src=\"http://127.0.0.1:7862/\" width=\"100%\" height=\"500\" allow=\"autoplay; camera; microphone; clipboard-read; clipboard-write;\" frameborder=\"0\" allowfullscreen></iframe></div>"
      ],
      "text/plain": [
       "<IPython.core.display.HTML object>"
      ]
     },
     "metadata": {},
     "output_type": "display_data"
    },
    {
     "data": {
      "text/plain": []
     },
     "execution_count": 5,
     "metadata": {},
     "output_type": "execute_result"
    }
   ],
   "source": [
    "import gradio as gr\n",
    "from transformers import M2M100ForConditionalGeneration, M2M100Tokenizer\n",
    "\n",
    "# 모델과 토크나이저 로딩\n",
    "model_name = \"facebook/m2m100_1.2B\"\n",
    "model = M2M100ForConditionalGeneration.from_pretrained(model_name)\n",
    "tokenizer = M2M100Tokenizer.from_pretrained(model_name)\n",
    "\n",
    "# 지원 언어 목록\n",
    "lang_dict = {\n",
    "    \"English\": \"en\",\n",
    "    \"Korean\": \"ko\",\n",
    "    \"Japanese\": \"ja\",\n",
    "    \"Chinese (Simplified)\": \"zh\",\n",
    "    \"French\": \"fr\",\n",
    "    \"German\": \"de\",\n",
    "    \"Spanish\": \"es\",\n",
    "    \"Arabic\": \"ar\",\n",
    "    \"Russian\": \"ru\"\n",
    "}\n",
    "\n",
    "# 번역 함수\n",
    "def translate(text, src_lang, tgt_lang):\n",
    "    if not text.strip():\n",
    "        return \"\"\n",
    "    tokenizer.src_lang = lang_dict[src_lang]\n",
    "    encoded = tokenizer(text, return_tensors=\"pt\")\n",
    "    generated_tokens = model.generate(\n",
    "        **encoded, forced_bos_token_id=tokenizer.get_lang_id(lang_dict[tgt_lang])\n",
    "    )\n",
    "    return tokenizer.batch_decode(generated_tokens, skip_special_tokens=True)[0]\n",
    "\n",
    "# Gradio UI 구성\n",
    "with gr.Blocks() as demo:\n",
    "    gr.Markdown(\"# 🌐 다국어 번역기 (M2M100 기반)\")\n",
    "\n",
    "    # 언어 선택: 같은 줄에 두 개 드롭다운\n",
    "    with gr.Row():\n",
    "        src_lang = gr.Dropdown(choices=list(lang_dict.keys()), value=\"Korean\", label=\"원본 언어\")\n",
    "        tgt_lang = gr.Dropdown(choices=list(lang_dict.keys()), value=\"English\", label=\"번역 언어\")\n",
    "\n",
    "    # 텍스트 입력/출력: 같은 줄에 두 개 텍스트박스\n",
    "    with gr.Row():\n",
    "        input_text = gr.Textbox(lines=10, label=\"원본 텍스트 입력\")\n",
    "        output_text = gr.Textbox(lines=10, label=\"번역 결과\", interactive=False)\n",
    "\n",
    "    # 버튼\n",
    "    translate_btn = gr.Button(\"번역하기\")\n",
    "    translate_btn.click(fn=translate, inputs=[input_text, src_lang, tgt_lang], outputs=output_text)\n",
    "\n",
    "# 실행\n",
    "demo.launch()"
   ]
  },
  {
   "cell_type": "code",
   "execution_count": 6,
   "id": "175e1b25",
   "metadata": {},
   "outputs": [
    {
     "name": "stdout",
     "output_type": "stream",
     "text": [
      "Closing server running on port: 7862\n"
     ]
    }
   ],
   "source": [
    "demo.close()"
   ]
  }
 ],
 "metadata": {
  "kernelspec": {
   "display_name": "Python 3 (ipykernel)",
   "language": "python",
   "name": "python3"
  },
  "language_info": {
   "codemirror_mode": {
    "name": "ipython",
    "version": 3
   },
   "file_extension": ".py",
   "mimetype": "text/x-python",
   "name": "python",
   "nbconvert_exporter": "python",
   "pygments_lexer": "ipython3",
   "version": "3.11.13"
  }
 },
 "nbformat": 4,
 "nbformat_minor": 5
}
