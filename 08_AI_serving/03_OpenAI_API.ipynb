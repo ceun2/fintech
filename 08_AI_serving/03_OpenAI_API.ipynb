{
 "cells": [
  {
   "cell_type": "markdown",
   "id": "af766ae3",
   "metadata": {},
   "source": [
    "# OpenAI API로 서비스 만들기"
   ]
  },
  {
   "cell_type": "code",
   "execution_count": 2,
   "id": "ce916661",
   "metadata": {},
   "outputs": [],
   "source": [
    "import os\n",
    "from dotenv import load_dotenv\n",
    "load_dotenv()\n",
    "apikey = os.getenv('openai_api_key')"
   ]
  },
  {
   "cell_type": "code",
   "execution_count": null,
   "id": "3068c6e2",
   "metadata": {},
   "outputs": [],
   "source": [
    "from openai import OpenAI\n",
    "client = OpenAI(api_key=apikey)\n",
    "\n",
    "response = client.responses.create(\n",
    "    model=\"gpt-4o-mini\",\n",
    "    input=\"Write a one-sentence bedtime story about a unicorn.\"\n",
    ")\n",
    "\n",
    "print(response.output_text)"
   ]
  },
  {
   "cell_type": "code",
   "execution_count": null,
   "id": "36f7029c",
   "metadata": {},
   "outputs": [],
   "source": [
    "import os\n",
    "from openai import OpenAI\n",
    "client = OpenAI()\n",
    "\n",
    "client.api_key = os.environ['OPENAI_API_KEY']\n",
    "\n",
    "# GPT API를 통해 요청 보내고 결과 가져오는 부분\n",
    "response = client.chat.completions.create(\n",
    "    model=\"gpt-4o-mini\",\n",
    "    messages=[\n",
    "        {\"role\": \"system\", \"content\": \"핀테크 전문가로서 대답해 줘\",\n",
    "         \"role\": \"user\", \"content\": \"미국에서 가장 주목받는 핀테크 기업목록 \\\n",
    "                                     10개를 알려주고 주요 서비스에 대해서 알려주세요.\"\n",
    "        },\n",
    "    ],\n",
    "    temperature = 0\n",
    ")\n",
    "print(response.choices[0].message.content)"
   ]
  }
 ],
 "metadata": {
  "kernelspec": {
   "display_name": "Python 3 (ipykernel)",
   "language": "python",
   "name": "python3"
  },
  "language_info": {
   "codemirror_mode": {
    "name": "ipython",
    "version": 3
   },
   "file_extension": ".py",
   "mimetype": "text/x-python",
   "name": "python",
   "nbconvert_exporter": "python",
   "pygments_lexer": "ipython3",
   "version": "3.11.13"
  }
 },
 "nbformat": 4,
 "nbformat_minor": 5
}
