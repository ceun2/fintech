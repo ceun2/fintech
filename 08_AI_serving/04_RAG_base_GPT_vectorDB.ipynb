{
 "cells": [
  {
   "cell_type": "markdown",
   "id": "f635e54c",
   "metadata": {},
   "source": [
    "## RAG(Retrieval-Augmented Generation): 검색 증강 생성\n",
    "* RAG는 미리 지정한 텍스트를 데이터베이스로 준비해 두었다가 사용자가 입력하면 그 입력 내용과 연관성이 높은 텍스트를 데이터베이스에서 검색해 프롬프트에 추가해 보다 정확한 답변을 할 수 있게 하는 기법\n",
    "* 질문에 더 정확하고 풍부한 답변을 주기 위해 정보 검색과 답변 생성을 결합한 기술\n",
    "* 정보 검색 단계: 사용자가 질문을 하면, 외부 데이터베이스나 문서에서 관련 정보 검색\n",
    "* 답변 생성 단계: 찾은 정보를 바탕으로 AI 모델이 답변 생성\n",
    "\n",
    "# 임베딩과 벡터 DB\n",
    "* 지정한 텍스트를 데이터베이스에 저장하기 위해서는 먼저 문자를 숫자로 변환하는 임베딩(embedding)이 필요하며\n",
    "* 데이터를 저장하는 데이터베이스는 RDBMS가 아닌 벡터 검색에 특화된 vectorDB를 이용해야 한다.\n",
    "\n",
    "최근 인공지능과 NLP 애플리케이션에서 **Vector Database (vectordb)**는 빠르게 인기를 얻고 있다. 이는 텍스트, 이미지, 오디오 등의 데이터를 벡터 형식으로 저장하고 검색할 수 있는 데이터베이스로, 특히 **임베딩 벡터**를 사용해 의미 기반 검색을 수행한다.\n",
    "\n",
    "### 대표적인 Vector Database\n",
    "1. **FAISS (Facebook AI Similarity Search)**:\n",
    "   - **Facebook AI**에서 개발한 오픈 소스 라이브러리.\n",
    "   - 매우 빠른 유사도 검색과 군집화 기능을 제공.\n",
    "   - GPU 가속을 지원해 대량의 데이터를 효율적으로 처리할 수 있음.\n",
    "\n",
    "2. **Milvus**:\n",
    "   - **Zilliz**에서 개발한 오픈 소스 vectordb로, 높은 성능과 확장성을 자랑함.\n",
    "   - 벡터 검색과 혼합 검색(hybrid search)을 지원해 다양한 유형의 데이터를 처리할 수 있음.\n",
    "   - 분산 시스템을 통해 대규모 데이터셋에서도 효율적인 검색이 가능.\n",
    "\n",
    "3. **Weaviate**:\n",
    "   - 의미론적 검색을 위해 설계된 오픈 소스 vectordb.\n",
    "   - 데이터베이스 내에서 벡터를 자동으로 생성하거나 기존의 임베딩을 사용할 수 있음.\n",
    "   - 다양한 NLP 모델과의 통합을 지원.\n",
    "\n",
    "4. **Pinecone**:\n",
    "   - 클라우드 기반 벡터 데이터베이스 서비스로, 사용자가 인프라를 직접 관리할 필요 없이 벡터 검색 기능을 제공.\n",
    "   - 쉽게 확장 가능하고 API 기반으로 간편하게 벡터 데이터를 관리할 수 있음.\n",
    "   - 지리적으로 분산된 클러스터를 제공해 글로벌 검색 성능을 최적화함.\n",
    "\n",
    "### Vector Database의 특징\n",
    "- **의미 기반 검색**: 단순한 키워드 매칭이 아닌, 벡터 간의 거리(예: 코사인 유사도)를 이용해 데이터의 의미적 유사성을 파악.\n",
    "- **빠른 검색 속도**: 수백만에서 수십억 개의 벡터에 대한 검색을 실시간으로 처리할 수 있음.\n",
    "- **확장성**: 많은 vectordb는 분산 처리와 클러스터링을 통해 대규모 데이터를 효율적으로 관리할 수 있음.\n",
    "\n",
    "### 주요 사용 사례\n",
    "- **추천 시스템**: 사용자 선호도를 분석하고 유사한 제품이나 콘텐츠를 추천.\n",
    "- **챗봇 및 QA 시스템**: 의미적으로 유사한 질문과 답변을 매칭하여 더 자연스러운 대화와 검색을 가능하게 함.\n",
    "- **이미지 검색**: 이미지의 특징 벡터를 사용해 시각적 유사도를 기반으로 검색.\n",
    "- **문서 검색**: 임베딩 벡터를 사용하여 의미적으로 관련된 문서나 내용을 빠르게 찾음.\n",
    "\n",
    "Vector Database는 AI와 NLP 애플리케이션의 핵심 기술로 자리잡고 있으며, 데이터의 의미를 기반으로 한 고속 검색과 처리가 필요할 때 필수적이다."
   ]
  },
  {
   "cell_type": "code",
   "execution_count": 1,
   "id": "c3dd5c88",
   "metadata": {},
   "outputs": [],
   "source": [
    "import os\n",
    "import pandas as pd"
   ]
  },
  {
   "cell_type": "code",
   "execution_count": 2,
   "id": "6b553ebc",
   "metadata": {},
   "outputs": [
    {
     "name": "stdout",
     "output_type": "stream",
     "text": [
      "1. 손님 맞이\n",
      "손님이 호텔에 도착하면 친절한 미소와 함께 예의 바르고 활기찬 인사말을 건네는 것이 좋다. '어서 오세요' 또는 '어서 오세요' 등 상황에 맞는 표현을 사용해야 한다. 고객의 이름을 알고 있는 경우, 개인화된 인사말을 통해 고객의 만족도를 높일 수 있다.\n",
      "\n",
      "2. 체크인과 체크아웃\n",
      "체크인 시간은 오후 3시, 체크아웃 시간은 오전 11시이다. 일찍 체크인하거나 늦게 체크아웃을 원하는 고객에 대해서는 객실의 공실 상황을 확인하여 가능한 한 대응해 주어야 한다. 만약 그것이 어렵다면, 짐을 일시적으로 보관할 수 있는 서비스를 제안한다.\n",
      "\n",
      "3. Wi-Fi 및 주차장 안내\n",
      "모든 객실에 무료 와이파이가 제공된다. 연결 방법과 비밀번호를 확실히 설명해 줄 수 있도록 하자. 또한, 180대의 무료 주차장이 마련되어 있다. 주차장의 위치, 이용 방법, 개방 시간 등을 정확하게 안내할 수 있도록 한다.\n",
      "\n",
      "4. 배리어 프리 대응\n",
      "유니버설 룸의 배치와 시설, 특징을 이해하고 필요한 경우 고객에게 설명할 수 있도록 한다. 휠체어를 이용하는 고객이 있을 경우, 관내의 장애인 편의시설에 대해 안내하고 필요한 경우 도움을 줄 수 있도록 한다.\n",
      "\n",
      "5. 반려동물 대응\n",
      "반려동물을 동반한 고객에게는 정중하게, 그러나 분명하게 반려동물을 동반할 수 없음을 알려주어야 한다. 이때 인근의 반려동물 동반 가능 호텔을 소개하여 고객의 불편을 덜어주어야 한다. 인근의 반려동물 호텔 정보를 항상 최신 상태로 유지해야 한다.\n",
      "\n",
      "6. 룸 서비스\n",
      "오후 11시까지 룸서비스가 제공된다. 룸서비스 메뉴의 내용을 숙지하여 고객의 문의에 적절히 대응할 수 있도록 한다. 또한, 음식에 대한 알레르기 정보나 특별한 식단 제한에 대응할 수 있도록 주방과의 협력도 중요하다.\n",
      "\n",
      "7. 금연 정책 및 흡연실 안내\n",
      "모든 객실은 금연입니다. 그러나 흡연자 고객의 요구를 충족시키기 위해 1층에 흡연실을 마련한다. 이 정보를 명확하게 전달하고, 흡연실 위치와 이용 시간을 고객에게 안내해 주어야 한다.\n",
      "\n",
      "8. 취소 정책\n",
      "취소 수수료는 전날까지 연락 시 숙박 요금의 30%, 당일 취소 시 50%, 연락 없이 취소할 경우 100%를 부과한다. 이 정책은 모든 예약에 적용되며, 예약 시 고객에게 이 사실을 명확히 알려야 한다.\n",
      "\n",
      "9. 결제 방법\n",
      "체크아웃 시 프런트에서 현금, 신용카드, 직불카드로 결제한다. 또한 인터넷 예약을 이용하는 고객은 예약 시 카드 결제를 선택할 수 있다. 다양한 결제 방법을 제공하여 투숙객의 편의를 도모하는 것이 좋다.\n",
      "\n",
      "10. 항상 존중을 실천한다.\n",
      "고객 한 사람 한 사람을 존중하는 태도로 대하자. 고객에 대한 예의, 배려, 전문성은 호텔의 품질을 결정짓는 중요한 요소이다. 고객이 편안하게 지낼 수 있도록 최선을 다하는 것을 잊지 말아야 한다.\n"
     ]
    }
   ],
   "source": [
    "with open(\"./data/hotel_data.txt\", \"r\", encoding='utf-8') as f:\n",
    "    data = f.read()\n",
    "print(data)"
   ]
  },
  {
   "cell_type": "code",
   "execution_count": 3,
   "id": "dc92741c",
   "metadata": {},
   "outputs": [
    {
     "data": {
      "text/plain": [
       "\"1. 손님 맞이\\n손님이 호텔에 도착하면 친절한 미소와 함께 예의 바르고 활기찬 인사말을 건네는 것이 좋다. '어서 오세요' 또는 '어서 오세요' 등 상황에 맞는 표현을 사용해야 한다. 고객의 이름을 알고 있는 경우, 개인화된 인사말을 통해 고객의 만족도를 높일 수 있다.\\n\\n2. 체크인과 체크아웃\\n체크인 시간은 오후 3시, 체크아웃 시간은 오전 11시이다. 일찍 체크인하거나 늦게 체크아웃을 원하는 고객에 대해서는 객실의 공실 상황을 확인하여 가능한 한 대응해 주어야 한다. 만약 그것이 어렵다면, 짐을 일시적으로 보관할 수 있는 서비스를 제안한다.\\n\\n3. Wi-Fi 및 주차장 안내\\n모든 객실에 무료 와이파이가 제공된다. 연결 방법과 비밀번호를 확실히 설명해 줄 수 있도록 하자. 또한, 180대의 무료 주차장이 마련되어 있다. 주차장의 위치, 이용 방법, 개방 시간 등을 정확하게 안내할 수 있도록 한다.\\n\\n4. 배리어 프리 대응\\n유니버설 룸의 배치와 시설, 특징을 이해하고 필요한 경우 고객에게 설명할 수 있도록 한다. 휠체어를 이용하는 고객이 있을 경우, 관내의 장애인 편의시설에 대해 안내하고 필요한 경우 도움을 줄 수 있도록 한다.\\n\\n5. 반려동물 대응\\n반려동물을 동반한 고객에게는 정중하게, 그러나 분명하게 반려동물을 동반할 수 없음을 알려주어야 한다. 이때 인근의 반려동물 동반 가능 호텔을 소개하여 고객의 불편을 덜어주어야 한다. 인근의 반려동물 호텔 정보를 항상 최신 상태로 유지해야 한다.\\n\\n6. 룸 서비스\\n오후 11시까지 룸서비스가 제공된다. 룸서비스 메뉴의 내용을 숙지하여 고객의 문의에 적절히 대응할 수 있도록 한다. 또한, 음식에 대한 알레르기 정보나 특별한 식단 제한에 대응할 수 있도록 주방과의 협력도 중요하다.\\n\\n7. 금연 정책 및 흡연실 안내\\n모든 객실은 금연입니다. 그러나 흡연자 고객의 요구를 충족시키기 위해 1층에 흡연실을 마련한다. 이 정보를 명확하게 전달하고, 흡연실 위치와 이용 시간을 고객에게 안내해 주어야 한다.\\n\\n8. 취소 정책\\n취소 수수료는 전날까지 연락 시 숙박 요금의 30%, 당일 취소 시 50%, 연락 없이 취소할 경우 100%를 부과한다. 이 정책은 모든 예약에 적용되며, 예약 시 고객에게 이 사실을 명확히 알려야 한다.\\n\\n9. 결제 방법\\n체크아웃 시 프런트에서 현금, 신용카드, 직불카드로 결제한다. 또한 인터넷 예약을 이용하는 고객은 예약 시 카드 결제를 선택할 수 있다. 다양한 결제 방법을 제공하여 투숙객의 편의를 도모하는 것이 좋다.\\n\\n10. 항상 존중을 실천한다.\\n고객 한 사람 한 사람을 존중하는 태도로 대하자. 고객에 대한 예의, 배려, 전문성은 호텔의 품질을 결정짓는 중요한 요소이다. 고객이 편안하게 지낼 수 있도록 최선을 다하는 것을 잊지 말아야 한다.\""
      ]
     },
     "execution_count": 3,
     "metadata": {},
     "output_type": "execute_result"
    }
   ],
   "source": [
    "data"
   ]
  },
  {
   "cell_type": "code",
   "execution_count": 4,
   "id": "8c846418",
   "metadata": {},
   "outputs": [
    {
     "data": {
      "text/plain": [
       "[\"1. 손님 맞이\\n손님이 호텔에 도착하면 친절한 미소와 함께 예의 바르고 활기찬 인사말을 건네는 것이 좋다. '어서 오세요' 또는 '어서 오세요' 등 상황에 맞는 표현을 사용해야 한다. 고객의 이름을 알고 있는 경우, 개인화된 인사말을 통해 고객의 만족도를 높일 수 있다.\",\n",
       " '2. 체크인과 체크아웃\\n체크인 시간은 오후 3시, 체크아웃 시간은 오전 11시이다. 일찍 체크인하거나 늦게 체크아웃을 원하는 고객에 대해서는 객실의 공실 상황을 확인하여 가능한 한 대응해 주어야 한다. 만약 그것이 어렵다면, 짐을 일시적으로 보관할 수 있는 서비스를 제안한다.',\n",
       " '3. Wi-Fi 및 주차장 안내\\n모든 객실에 무료 와이파이가 제공된다. 연결 방법과 비밀번호를 확실히 설명해 줄 수 있도록 하자. 또한, 180대의 무료 주차장이 마련되어 있다. 주차장의 위치, 이용 방법, 개방 시간 등을 정확하게 안내할 수 있도록 한다.',\n",
       " '4. 배리어 프리 대응\\n유니버설 룸의 배치와 시설, 특징을 이해하고 필요한 경우 고객에게 설명할 수 있도록 한다. 휠체어를 이용하는 고객이 있을 경우, 관내의 장애인 편의시설에 대해 안내하고 필요한 경우 도움을 줄 수 있도록 한다.',\n",
       " '5. 반려동물 대응\\n반려동물을 동반한 고객에게는 정중하게, 그러나 분명하게 반려동물을 동반할 수 없음을 알려주어야 한다. 이때 인근의 반려동물 동반 가능 호텔을 소개하여 고객의 불편을 덜어주어야 한다. 인근의 반려동물 호텔 정보를 항상 최신 상태로 유지해야 한다.',\n",
       " '6. 룸 서비스\\n오후 11시까지 룸서비스가 제공된다. 룸서비스 메뉴의 내용을 숙지하여 고객의 문의에 적절히 대응할 수 있도록 한다. 또한, 음식에 대한 알레르기 정보나 특별한 식단 제한에 대응할 수 있도록 주방과의 협력도 중요하다.',\n",
       " '7. 금연 정책 및 흡연실 안내\\n모든 객실은 금연입니다. 그러나 흡연자 고객의 요구를 충족시키기 위해 1층에 흡연실을 마련한다. 이 정보를 명확하게 전달하고, 흡연실 위치와 이용 시간을 고객에게 안내해 주어야 한다.',\n",
       " '8. 취소 정책\\n취소 수수료는 전날까지 연락 시 숙박 요금의 30%, 당일 취소 시 50%, 연락 없이 취소할 경우 100%를 부과한다. 이 정책은 모든 예약에 적용되며, 예약 시 고객에게 이 사실을 명확히 알려야 한다.',\n",
       " '9. 결제 방법\\n체크아웃 시 프런트에서 현금, 신용카드, 직불카드로 결제한다. 또한 인터넷 예약을 이용하는 고객은 예약 시 카드 결제를 선택할 수 있다. 다양한 결제 방법을 제공하여 투숙객의 편의를 도모하는 것이 좋다.',\n",
       " '10. 항상 존중을 실천한다.\\n고객 한 사람 한 사람을 존중하는 태도로 대하자. 고객에 대한 예의, 배려, 전문성은 호텔의 품질을 결정짓는 중요한 요소이다. 고객이 편안하게 지낼 수 있도록 최선을 다하는 것을 잊지 말아야 한다.']"
      ]
     },
     "execution_count": 4,
     "metadata": {},
     "output_type": "execute_result"
    }
   ],
   "source": [
    "data = data.split(\"\\n\\n\")\n",
    "data"
   ]
  },
  {
   "cell_type": "code",
   "execution_count": 6,
   "id": "55810599",
   "metadata": {},
   "outputs": [
    {
     "data": {
      "text/plain": [
       "['1. 손님 맞이',\n",
       " \"손님이 호텔에 도착하면 친절한 미소와 함께 예의 바르고 활기찬 인사말을 건네는 것이 좋다. '어서 오세요' 또는 '어서 오세요' 등 상황에 맞는 표현을 사용해야 한다. 고객의 이름을 알고 있는 경우, 개인화된 인사말을 통해 고객의 만족도를 높일 수 있다.\"]"
      ]
     },
     "execution_count": 6,
     "metadata": {},
     "output_type": "execute_result"
    }
   ],
   "source": [
    "data[0].split('\\n')"
   ]
  },
  {
   "cell_type": "code",
   "execution_count": 12,
   "id": "662d19de",
   "metadata": {},
   "outputs": [
    {
     "data": {
      "text/plain": [
       "{'title': ['1. 손님 맞이',\n",
       "  '2. 체크인과 체크아웃',\n",
       "  '3. Wi-Fi 및 주차장 안내',\n",
       "  '4. 배리어 프리 대응',\n",
       "  '5. 반려동물 대응',\n",
       "  '6. 룸 서비스',\n",
       "  '7. 금연 정책 및 흡연실 안내',\n",
       "  '8. 취소 정책',\n",
       "  '9. 결제 방법',\n",
       "  '10. 항상 존중을 실천한다.'],\n",
       " 'content': [\"손님이 호텔에 도착하면 친절한 미소와 함께 예의 바르고 활기찬 인사말을 건네는 것이 좋다. '어서 오세요' 또는 '어서 오세요' 등 상황에 맞는 표현을 사용해야 한다. 고객의 이름을 알고 있는 경우, 개인화된 인사말을 통해 고객의 만족도를 높일 수 있다.\",\n",
       "  '체크인 시간은 오후 3시, 체크아웃 시간은 오전 11시이다. 일찍 체크인하거나 늦게 체크아웃을 원하는 고객에 대해서는 객실의 공실 상황을 확인하여 가능한 한 대응해 주어야 한다. 만약 그것이 어렵다면, 짐을 일시적으로 보관할 수 있는 서비스를 제안한다.',\n",
       "  '모든 객실에 무료 와이파이가 제공된다. 연결 방법과 비밀번호를 확실히 설명해 줄 수 있도록 하자. 또한, 180대의 무료 주차장이 마련되어 있다. 주차장의 위치, 이용 방법, 개방 시간 등을 정확하게 안내할 수 있도록 한다.',\n",
       "  '유니버설 룸의 배치와 시설, 특징을 이해하고 필요한 경우 고객에게 설명할 수 있도록 한다. 휠체어를 이용하는 고객이 있을 경우, 관내의 장애인 편의시설에 대해 안내하고 필요한 경우 도움을 줄 수 있도록 한다.',\n",
       "  '반려동물을 동반한 고객에게는 정중하게, 그러나 분명하게 반려동물을 동반할 수 없음을 알려주어야 한다. 이때 인근의 반려동물 동반 가능 호텔을 소개하여 고객의 불편을 덜어주어야 한다. 인근의 반려동물 호텔 정보를 항상 최신 상태로 유지해야 한다.',\n",
       "  '오후 11시까지 룸서비스가 제공된다. 룸서비스 메뉴의 내용을 숙지하여 고객의 문의에 적절히 대응할 수 있도록 한다. 또한, 음식에 대한 알레르기 정보나 특별한 식단 제한에 대응할 수 있도록 주방과의 협력도 중요하다.',\n",
       "  '모든 객실은 금연입니다. 그러나 흡연자 고객의 요구를 충족시키기 위해 1층에 흡연실을 마련한다. 이 정보를 명확하게 전달하고, 흡연실 위치와 이용 시간을 고객에게 안내해 주어야 한다.',\n",
       "  '취소 수수료는 전날까지 연락 시 숙박 요금의 30%, 당일 취소 시 50%, 연락 없이 취소할 경우 100%를 부과한다. 이 정책은 모든 예약에 적용되며, 예약 시 고객에게 이 사실을 명확히 알려야 한다.',\n",
       "  '체크아웃 시 프런트에서 현금, 신용카드, 직불카드로 결제한다. 또한 인터넷 예약을 이용하는 고객은 예약 시 카드 결제를 선택할 수 있다. 다양한 결제 방법을 제공하여 투숙객의 편의를 도모하는 것이 좋다.',\n",
       "  '고객 한 사람 한 사람을 존중하는 태도로 대하자. 고객에 대한 예의, 배려, 전문성은 호텔의 품질을 결정짓는 중요한 요소이다. 고객이 편안하게 지낼 수 있도록 최선을 다하는 것을 잊지 말아야 한다.']}"
      ]
     },
     "execution_count": 12,
     "metadata": {},
     "output_type": "execute_result"
    }
   ],
   "source": [
    "text2df = {}\n",
    "\n",
    "for content in data:\n",
    "    temp = content.split('\\n')\n",
    "    text2df.setdefault('title',[]).append(temp[0])\n",
    "    text2df.setdefault('content',[]).append(temp[1])\n",
    "\n",
    "text2df"
   ]
  },
  {
   "cell_type": "code",
   "execution_count": 13,
   "id": "ce81f496",
   "metadata": {},
   "outputs": [
    {
     "data": {
      "text/html": [
       "<div>\n",
       "<style scoped>\n",
       "    .dataframe tbody tr th:only-of-type {\n",
       "        vertical-align: middle;\n",
       "    }\n",
       "\n",
       "    .dataframe tbody tr th {\n",
       "        vertical-align: top;\n",
       "    }\n",
       "\n",
       "    .dataframe thead th {\n",
       "        text-align: right;\n",
       "    }\n",
       "</style>\n",
       "<table border=\"1\" class=\"dataframe\">\n",
       "  <thead>\n",
       "    <tr style=\"text-align: right;\">\n",
       "      <th></th>\n",
       "      <th>title</th>\n",
       "      <th>content</th>\n",
       "    </tr>\n",
       "  </thead>\n",
       "  <tbody>\n",
       "    <tr>\n",
       "      <th>0</th>\n",
       "      <td>1. 손님 맞이</td>\n",
       "      <td>손님이 호텔에 도착하면 친절한 미소와 함께 예의 바르고 활기찬 인사말을 건네는 것이...</td>\n",
       "    </tr>\n",
       "    <tr>\n",
       "      <th>1</th>\n",
       "      <td>2. 체크인과 체크아웃</td>\n",
       "      <td>체크인 시간은 오후 3시, 체크아웃 시간은 오전 11시이다. 일찍 체크인하거나 늦게...</td>\n",
       "    </tr>\n",
       "    <tr>\n",
       "      <th>2</th>\n",
       "      <td>3. Wi-Fi 및 주차장 안내</td>\n",
       "      <td>모든 객실에 무료 와이파이가 제공된다. 연결 방법과 비밀번호를 확실히 설명해 줄 수...</td>\n",
       "    </tr>\n",
       "    <tr>\n",
       "      <th>3</th>\n",
       "      <td>4. 배리어 프리 대응</td>\n",
       "      <td>유니버설 룸의 배치와 시설, 특징을 이해하고 필요한 경우 고객에게 설명할 수 있도록...</td>\n",
       "    </tr>\n",
       "    <tr>\n",
       "      <th>4</th>\n",
       "      <td>5. 반려동물 대응</td>\n",
       "      <td>반려동물을 동반한 고객에게는 정중하게, 그러나 분명하게 반려동물을 동반할 수 없음을...</td>\n",
       "    </tr>\n",
       "    <tr>\n",
       "      <th>5</th>\n",
       "      <td>6. 룸 서비스</td>\n",
       "      <td>오후 11시까지 룸서비스가 제공된다. 룸서비스 메뉴의 내용을 숙지하여 고객의 문의에...</td>\n",
       "    </tr>\n",
       "    <tr>\n",
       "      <th>6</th>\n",
       "      <td>7. 금연 정책 및 흡연실 안내</td>\n",
       "      <td>모든 객실은 금연입니다. 그러나 흡연자 고객의 요구를 충족시키기 위해 1층에 흡연실...</td>\n",
       "    </tr>\n",
       "    <tr>\n",
       "      <th>7</th>\n",
       "      <td>8. 취소 정책</td>\n",
       "      <td>취소 수수료는 전날까지 연락 시 숙박 요금의 30%, 당일 취소 시 50%, 연락 ...</td>\n",
       "    </tr>\n",
       "    <tr>\n",
       "      <th>8</th>\n",
       "      <td>9. 결제 방법</td>\n",
       "      <td>체크아웃 시 프런트에서 현금, 신용카드, 직불카드로 결제한다. 또한 인터넷 예약을 ...</td>\n",
       "    </tr>\n",
       "    <tr>\n",
       "      <th>9</th>\n",
       "      <td>10. 항상 존중을 실천한다.</td>\n",
       "      <td>고객 한 사람 한 사람을 존중하는 태도로 대하자. 고객에 대한 예의, 배려, 전문성...</td>\n",
       "    </tr>\n",
       "  </tbody>\n",
       "</table>\n",
       "</div>"
      ],
      "text/plain": [
       "               title                                            content\n",
       "0           1. 손님 맞이  손님이 호텔에 도착하면 친절한 미소와 함께 예의 바르고 활기찬 인사말을 건네는 것이...\n",
       "1       2. 체크인과 체크아웃  체크인 시간은 오후 3시, 체크아웃 시간은 오전 11시이다. 일찍 체크인하거나 늦게...\n",
       "2  3. Wi-Fi 및 주차장 안내  모든 객실에 무료 와이파이가 제공된다. 연결 방법과 비밀번호를 확실히 설명해 줄 수...\n",
       "3       4. 배리어 프리 대응  유니버설 룸의 배치와 시설, 특징을 이해하고 필요한 경우 고객에게 설명할 수 있도록...\n",
       "4         5. 반려동물 대응  반려동물을 동반한 고객에게는 정중하게, 그러나 분명하게 반려동물을 동반할 수 없음을...\n",
       "5           6. 룸 서비스  오후 11시까지 룸서비스가 제공된다. 룸서비스 메뉴의 내용을 숙지하여 고객의 문의에...\n",
       "6  7. 금연 정책 및 흡연실 안내  모든 객실은 금연입니다. 그러나 흡연자 고객의 요구를 충족시키기 위해 1층에 흡연실...\n",
       "7           8. 취소 정책  취소 수수료는 전날까지 연락 시 숙박 요금의 30%, 당일 취소 시 50%, 연락 ...\n",
       "8           9. 결제 방법  체크아웃 시 프런트에서 현금, 신용카드, 직불카드로 결제한다. 또한 인터넷 예약을 ...\n",
       "9   10. 항상 존중을 실천한다.  고객 한 사람 한 사람을 존중하는 태도로 대하자. 고객에 대한 예의, 배려, 전문성..."
      ]
     },
     "execution_count": 13,
     "metadata": {},
     "output_type": "execute_result"
    }
   ],
   "source": [
    "df = pd.DataFrame(text2df)\n",
    "df"
   ]
  },
  {
   "cell_type": "markdown",
   "id": "068ed856",
   "metadata": {},
   "source": [
    "# 텍스트 임베딩\n",
    "* tiktoken : OpenAPI의 GPT 모델에서 사용하는 토큰화 라이브러리\n",
    "    * 토큰 - LLM에서 사용하는 단위 (약 1.5단어 정도)\n",
    "    * 입력된 텍스트를 모델이 이해할 수 있는 토큰 단위로 분리하거나 토큰 수를 계산할 때 사용\n",
    "    * 텍스트의 길이를 정확히 파악하고 모델의 입출력 제한을 관리"
   ]
  },
  {
   "cell_type": "code",
   "execution_count": 14,
   "id": "7788522a",
   "metadata": {},
   "outputs": [
    {
     "name": "stdout",
     "output_type": "stream",
     "text": [
      "Collecting tiktoken\n",
      "  Downloading tiktoken-0.9.0-cp311-cp311-win_amd64.whl.metadata (6.8 kB)\n",
      "Requirement already satisfied: regex>=2022.1.18 in c:\\users\\admin\\miniforge3\\envs\\ai_serving\\lib\\site-packages (from tiktoken) (2024.11.6)\n",
      "Requirement already satisfied: requests>=2.26.0 in c:\\users\\admin\\miniforge3\\envs\\ai_serving\\lib\\site-packages (from tiktoken) (2.32.4)\n",
      "Requirement already satisfied: charset_normalizer<4,>=2 in c:\\users\\admin\\miniforge3\\envs\\ai_serving\\lib\\site-packages (from requests>=2.26.0->tiktoken) (3.4.2)\n",
      "Requirement already satisfied: idna<4,>=2.5 in c:\\users\\admin\\miniforge3\\envs\\ai_serving\\lib\\site-packages (from requests>=2.26.0->tiktoken) (3.10)\n",
      "Requirement already satisfied: urllib3<3,>=1.21.1 in c:\\users\\admin\\miniforge3\\envs\\ai_serving\\lib\\site-packages (from requests>=2.26.0->tiktoken) (2.4.0)\n",
      "Requirement already satisfied: certifi>=2017.4.17 in c:\\users\\admin\\miniforge3\\envs\\ai_serving\\lib\\site-packages (from requests>=2.26.0->tiktoken) (2025.4.26)\n",
      "Downloading tiktoken-0.9.0-cp311-cp311-win_amd64.whl (893 kB)\n",
      "   ---------------------------------------- 0.0/893.9 kB ? eta -:--:--\n",
      "   --------------------------------------- 893.9/893.9 kB 10.0 MB/s eta 0:00:00\n",
      "Installing collected packages: tiktoken\n",
      "Successfully installed tiktoken-0.9.0\n"
     ]
    }
   ],
   "source": [
    "!pip install tiktoken"
   ]
  },
  {
   "cell_type": "code",
   "execution_count": 15,
   "id": "0b8fb803",
   "metadata": {},
   "outputs": [],
   "source": [
    "import tiktoken\n",
    "from openai import OpenAI"
   ]
  },
  {
   "cell_type": "code",
   "execution_count": null,
   "id": "d5b28465",
   "metadata": {},
   "outputs": [],
   "source": [
    "client = OpenAI()"
   ]
  },
  {
   "cell_type": "code",
   "execution_count": 17,
   "id": "44a893b5",
   "metadata": {},
   "outputs": [],
   "source": [
    "# 임베딩 매개변수 설정\n",
    "embedding_model = \"text-embedding-3-small\"\n",
    "embedding_encoding = \"cl100k_base\"\n",
    "max_tokens = 1500\n",
    "\n",
    "tokenizer = tiktoken.get_encoding(embedding_encoding)\n",
    "df['n_tokens'] = df['content'].apply(lambda x: len(tokenizer.encode(x)))"
   ]
  },
  {
   "cell_type": "code",
   "execution_count": 18,
   "id": "10111148",
   "metadata": {},
   "outputs": [
    {
     "data": {
      "text/html": [
       "<div>\n",
       "<style scoped>\n",
       "    .dataframe tbody tr th:only-of-type {\n",
       "        vertical-align: middle;\n",
       "    }\n",
       "\n",
       "    .dataframe tbody tr th {\n",
       "        vertical-align: top;\n",
       "    }\n",
       "\n",
       "    .dataframe thead th {\n",
       "        text-align: right;\n",
       "    }\n",
       "</style>\n",
       "<table border=\"1\" class=\"dataframe\">\n",
       "  <thead>\n",
       "    <tr style=\"text-align: right;\">\n",
       "      <th></th>\n",
       "      <th>title</th>\n",
       "      <th>content</th>\n",
       "      <th>n_tokens</th>\n",
       "    </tr>\n",
       "  </thead>\n",
       "  <tbody>\n",
       "    <tr>\n",
       "      <th>0</th>\n",
       "      <td>1. 손님 맞이</td>\n",
       "      <td>손님이 호텔에 도착하면 친절한 미소와 함께 예의 바르고 활기찬 인사말을 건네는 것이...</td>\n",
       "      <td>134</td>\n",
       "    </tr>\n",
       "    <tr>\n",
       "      <th>1</th>\n",
       "      <td>2. 체크인과 체크아웃</td>\n",
       "      <td>체크인 시간은 오후 3시, 체크아웃 시간은 오전 11시이다. 일찍 체크인하거나 늦게...</td>\n",
       "      <td>126</td>\n",
       "    </tr>\n",
       "    <tr>\n",
       "      <th>2</th>\n",
       "      <td>3. Wi-Fi 및 주차장 안내</td>\n",
       "      <td>모든 객실에 무료 와이파이가 제공된다. 연결 방법과 비밀번호를 확실히 설명해 줄 수...</td>\n",
       "      <td>111</td>\n",
       "    </tr>\n",
       "    <tr>\n",
       "      <th>3</th>\n",
       "      <td>4. 배리어 프리 대응</td>\n",
       "      <td>유니버설 룸의 배치와 시설, 특징을 이해하고 필요한 경우 고객에게 설명할 수 있도록...</td>\n",
       "      <td>105</td>\n",
       "    </tr>\n",
       "    <tr>\n",
       "      <th>4</th>\n",
       "      <td>5. 반려동물 대응</td>\n",
       "      <td>반려동물을 동반한 고객에게는 정중하게, 그러나 분명하게 반려동물을 동반할 수 없음을...</td>\n",
       "      <td>144</td>\n",
       "    </tr>\n",
       "    <tr>\n",
       "      <th>5</th>\n",
       "      <td>6. 룸 서비스</td>\n",
       "      <td>오후 11시까지 룸서비스가 제공된다. 룸서비스 메뉴의 내용을 숙지하여 고객의 문의에...</td>\n",
       "      <td>120</td>\n",
       "    </tr>\n",
       "    <tr>\n",
       "      <th>6</th>\n",
       "      <td>7. 금연 정책 및 흡연실 안내</td>\n",
       "      <td>모든 객실은 금연입니다. 그러나 흡연자 고객의 요구를 충족시키기 위해 1층에 흡연실...</td>\n",
       "      <td>105</td>\n",
       "    </tr>\n",
       "    <tr>\n",
       "      <th>7</th>\n",
       "      <td>8. 취소 정책</td>\n",
       "      <td>취소 수수료는 전날까지 연락 시 숙박 요금의 30%, 당일 취소 시 50%, 연락 ...</td>\n",
       "      <td>107</td>\n",
       "    </tr>\n",
       "    <tr>\n",
       "      <th>8</th>\n",
       "      <td>9. 결제 방법</td>\n",
       "      <td>체크아웃 시 프런트에서 현금, 신용카드, 직불카드로 결제한다. 또한 인터넷 예약을 ...</td>\n",
       "      <td>108</td>\n",
       "    </tr>\n",
       "    <tr>\n",
       "      <th>9</th>\n",
       "      <td>10. 항상 존중을 실천한다.</td>\n",
       "      <td>고객 한 사람 한 사람을 존중하는 태도로 대하자. 고객에 대한 예의, 배려, 전문성...</td>\n",
       "      <td>104</td>\n",
       "    </tr>\n",
       "  </tbody>\n",
       "</table>\n",
       "</div>"
      ],
      "text/plain": [
       "               title                                            content  \\\n",
       "0           1. 손님 맞이  손님이 호텔에 도착하면 친절한 미소와 함께 예의 바르고 활기찬 인사말을 건네는 것이...   \n",
       "1       2. 체크인과 체크아웃  체크인 시간은 오후 3시, 체크아웃 시간은 오전 11시이다. 일찍 체크인하거나 늦게...   \n",
       "2  3. Wi-Fi 및 주차장 안내  모든 객실에 무료 와이파이가 제공된다. 연결 방법과 비밀번호를 확실히 설명해 줄 수...   \n",
       "3       4. 배리어 프리 대응  유니버설 룸의 배치와 시설, 특징을 이해하고 필요한 경우 고객에게 설명할 수 있도록...   \n",
       "4         5. 반려동물 대응  반려동물을 동반한 고객에게는 정중하게, 그러나 분명하게 반려동물을 동반할 수 없음을...   \n",
       "5           6. 룸 서비스  오후 11시까지 룸서비스가 제공된다. 룸서비스 메뉴의 내용을 숙지하여 고객의 문의에...   \n",
       "6  7. 금연 정책 및 흡연실 안내  모든 객실은 금연입니다. 그러나 흡연자 고객의 요구를 충족시키기 위해 1층에 흡연실...   \n",
       "7           8. 취소 정책  취소 수수료는 전날까지 연락 시 숙박 요금의 30%, 당일 취소 시 50%, 연락 ...   \n",
       "8           9. 결제 방법  체크아웃 시 프런트에서 현금, 신용카드, 직불카드로 결제한다. 또한 인터넷 예약을 ...   \n",
       "9   10. 항상 존중을 실천한다.  고객 한 사람 한 사람을 존중하는 태도로 대하자. 고객에 대한 예의, 배려, 전문성...   \n",
       "\n",
       "   n_tokens  \n",
       "0       134  \n",
       "1       126  \n",
       "2       111  \n",
       "3       105  \n",
       "4       144  \n",
       "5       120  \n",
       "6       105  \n",
       "7       107  \n",
       "8       108  \n",
       "9       104  "
      ]
     },
     "execution_count": 18,
     "metadata": {},
     "output_type": "execute_result"
    }
   ],
   "source": [
    "df"
   ]
  },
  {
   "cell_type": "code",
   "execution_count": 23,
   "id": "236ed163",
   "metadata": {},
   "outputs": [],
   "source": [
    "df.to_csv('embeddings.csv')"
   ]
  },
  {
   "cell_type": "code",
   "execution_count": null,
   "id": "91cb8919",
   "metadata": {},
   "outputs": [],
   "source": [
    "# content를 embedding\n",
    "def get_embedding(text, model):\n",
    "    text = text.replace(\"\\n\", \" \")\n",
    "    return client.embeddings.create(input=[text], model=model).data[0].embedding"
   ]
  },
  {
   "cell_type": "code",
   "execution_count": null,
   "id": "1e74f4f0",
   "metadata": {},
   "outputs": [],
   "source": [
    "df['embeddings'] = df['content'].apply(lambda x : get_embedding(x, model=embedding_model))\n",
    "df"
   ]
  },
  {
   "cell_type": "markdown",
   "id": "b5ed0dfe",
   "metadata": {},
   "source": [
    "# RAG 이용해서 GPT 만들기"
   ]
  },
  {
   "cell_type": "code",
   "execution_count": 20,
   "id": "bf498062",
   "metadata": {},
   "outputs": [
    {
     "name": "stdout",
     "output_type": "stream",
     "text": [
      "Collecting scipy\n",
      "  Downloading scipy-1.15.3-cp311-cp311-win_amd64.whl.metadata (60 kB)\n",
      "Requirement already satisfied: numpy<2.5,>=1.23.5 in c:\\users\\admin\\miniforge3\\envs\\ai_serving\\lib\\site-packages (from scipy) (2.3.0)\n",
      "Downloading scipy-1.15.3-cp311-cp311-win_amd64.whl (41.2 MB)\n",
      "   ---------------------------------------- 0.0/41.2 MB ? eta -:--:--\n",
      "   ------- -------------------------------- 7.6/41.2 MB 39.3 MB/s eta 0:00:01\n",
      "   --------------- ------------------------ 15.7/41.2 MB 38.1 MB/s eta 0:00:01\n",
      "   ---------------------- ----------------- 23.6/41.2 MB 38.3 MB/s eta 0:00:01\n",
      "   ------------------------------- -------- 32.2/41.2 MB 38.6 MB/s eta 0:00:01\n",
      "   -------------------------------------- - 39.8/41.2 MB 39.0 MB/s eta 0:00:01\n",
      "   ---------------------------------------  41.2/41.2 MB 37.4 MB/s eta 0:00:01\n",
      "   ---------------------------------------- 41.2/41.2 MB 30.2 MB/s eta 0:00:00\n",
      "Installing collected packages: scipy\n",
      "Successfully installed scipy-1.15.3\n"
     ]
    }
   ],
   "source": [
    "!pip install scipy"
   ]
  },
  {
   "cell_type": "code",
   "execution_count": 21,
   "id": "94915c8c",
   "metadata": {},
   "outputs": [],
   "source": [
    "from openai import OpenAI\n",
    "import numpy as np\n",
    "from scipy import spatial"
   ]
  },
  {
   "cell_type": "code",
   "execution_count": null,
   "id": "b4fb4ace",
   "metadata": {},
   "outputs": [],
   "source": [
    "client = OpenAI()"
   ]
  },
  {
   "cell_type": "code",
   "execution_count": null,
   "id": "92962178",
   "metadata": {},
   "outputs": [],
   "source": [
    "# 질문과 학습 데이터를 비교해서 유사도를 구하는 함수\n",
    "def create_context(question, df, max_len=1800):\n",
    "    # 질문을 벡터화\n",
    "    q_embeddings = client.embeddings.create(input=[question], model=embedding_model).data[0].embedding\n",
    "    # 질문과 RAG 비교 후 코사인 유사도 산출 후 distance 컬럼에 저장\n",
    "    df['distances'] = distances_from_embeddings(q_embeddings, df['embeddings'].apply(eval).apply(np.array).values, distance_metric='cosine')\n",
    "    \n",
    "    # context를 저장하기 위한 리스트\n",
    "    returns = []\n",
    "    # context의 현재 길이\n",
    "    cur_len = 0\n",
    "    \n",
    "    # 학습 데이터를 유사도 순으로 정렬하고 토큰 개수 한도까지 context에 추가\n",
    "    for _, row in df.sort_values('distances', ascending=True).iterrows():\n",
    "        # 텍스트 길이를 현재 길이에 더하기\n",
    "        cur_len += row['n_tokens'] + 4\n",
    "        \n",
    "        # 텍스트가 너무 길면 종료\n",
    "        if cur_len > max_len:\n",
    "            break\n",
    "            \n",
    "        # context 목록에 텍스트 추가\n",
    "        returns.append(row['text'])\n",
    "        \n",
    "    return \"\\n\\n###\\n\\n\".join(returns)"
   ]
  },
  {
   "cell_type": "code",
   "execution_count": null,
   "id": "bb788643",
   "metadata": {},
   "outputs": [],
   "source": [
    "# 문맥에 따라 질문에 답하는 기능\n",
    "def answer_question(question, conversation_history):\n",
    "    # RAG 데이터 불러오기\n",
    "    df = pd.read_csv('embeddings.csv')\n",
    "    \n",
    "    # 질문과 RAG 데이터를 비교해 context 생성\n",
    "    context = create_context(question, df, max_len=200)\n",
    "    \n",
    "    # prompt 생성하고 대화 기록에 추가하기\n",
    "    prompt = f\"당신은 어느 호텔 직원입니다. 문맥에 따라 고객의 질문에 정중하게 답해주세요.\\n \\n\n",
    "               컨텍스트가 질문에 대답할 수 없는 경우 '모르겠습니다'라고 대답하세요.\\n \\n\n",
    "               \\n\n",
    "               컨텍스트 : {context}\\n\\n---\\n\\n질문 : {question}\\n답변 :\"\n",
    "    conversation_history.append({\"role\":\"user\", \"content\":prompt})\n",
    "    \n",
    "    try:\n",
    "        # GPT에서 답변 생성\n",
    "        response = client.chat.completions.create(\n",
    "            model = 'gpt-40-mini',\n",
    "            messages = conversation_history,\n",
    "            temperature = 1)\n",
    "        \n",
    "        return response.choices[0].message.content.strip()\n",
    "    except Exception as e:\n",
    "        print(e)\n",
    "        return \"오류\""
   ]
  },
  {
   "cell_type": "code",
   "execution_count": null,
   "id": "4a190799",
   "metadata": {},
   "outputs": [],
   "source": [
    "# 각 문자의 토큰 수를 계산해서 n_tokens에 저장\n",
    "def distance_from_embeddings(query_embedding, embeddings, distance_metric='cosine'):\n",
    "    distance_metrics = {\n",
    "        'cosine' : spatial.distance.cosine,\n",
    "        'L1' : spatial.distance.cityblock,\n",
    "        'L2' : spatial.distance.euclidean,\n",
    "        'Linf' : spatial.distance.chebyshev,\n",
    "    }\n",
    "    distances = [distance_metrics[distance_metric](query_embedding, embedding) for embedding in embeddings]\n",
    "    return distances"
   ]
  },
  {
   "cell_type": "markdown",
   "id": "15436816",
   "metadata": {},
   "source": [
    "## 실행부분"
   ]
  },
  {
   "cell_type": "code",
   "execution_count": null,
   "id": "605aba36",
   "metadata": {},
   "outputs": [],
   "source": [
    "conversation_history = []\n",
    "while True:\n",
    "    user_input = input(\"질문을 입력하세요, 만약 끝내고 싶으면 exit를 입력하세요.\")\n",
    "    \n",
    "    if user_input == \"exit\":\n",
    "        break\n",
    "    \n",
    "    conversation_history.append({\"role\":\"user\",\"content\":user_input})\n",
    "    answer = answer_question(user_input, conversation_history)\n",
    "    \n",
    "    print(\"ChatGPT :\", answer)\n",
    "    conversation_history.append({\"role\":\"assistant\",\"content\":answer})"
   ]
  },
  {
   "cell_type": "markdown",
   "id": "6dbf5019",
   "metadata": {},
   "source": [
    "# FAISS VectorDB와 gradio를 이용한 RAG GPT 구현"
   ]
  },
  {
   "cell_type": "code",
   "execution_count": 26,
   "id": "c1185980",
   "metadata": {},
   "outputs": [
    {
     "name": "stdout",
     "output_type": "stream",
     "text": [
      "Collecting faiss-cpu\n",
      "  Downloading faiss_cpu-1.11.0-cp311-cp311-win_amd64.whl.metadata (5.0 kB)\n",
      "Requirement already satisfied: numpy<3.0,>=1.25.0 in c:\\users\\admin\\miniforge3\\envs\\ai_serving\\lib\\site-packages (from faiss-cpu) (2.3.0)\n",
      "Requirement already satisfied: packaging in c:\\users\\admin\\miniforge3\\envs\\ai_serving\\lib\\site-packages (from faiss-cpu) (25.0)\n",
      "Downloading faiss_cpu-1.11.0-cp311-cp311-win_amd64.whl (15.0 MB)\n",
      "   ---------------------------------------- 0.0/15.0 MB ? eta -:--:--\n",
      "   -------- ------------------------------- 3.1/15.0 MB 16.8 MB/s eta 0:00:01\n",
      "   ------------------ --------------------- 7.1/15.0 MB 17.4 MB/s eta 0:00:01\n",
      "   ---------------------------------- ----- 13.1/15.0 MB 21.6 MB/s eta 0:00:01\n",
      "   ---------------------------------------- 15.0/15.0 MB 20.1 MB/s eta 0:00:00\n",
      "Installing collected packages: faiss-cpu\n",
      "Successfully installed faiss-cpu-1.11.0\n"
     ]
    }
   ],
   "source": [
    "!pip install faiss-cpu"
   ]
  },
  {
   "cell_type": "code",
   "execution_count": 27,
   "id": "de631353",
   "metadata": {},
   "outputs": [
    {
     "name": "stderr",
     "output_type": "stream",
     "text": [
      "C:\\Users\\Admin\\miniforge3\\envs\\ai_serving\\Lib\\site-packages\\tqdm\\auto.py:21: TqdmWarning: IProgress not found. Please update jupyter and ipywidgets. See https://ipywidgets.readthedocs.io/en/stable/user_install.html\n",
      "  from .autonotebook import tqdm as notebook_tqdm\n"
     ]
    }
   ],
   "source": [
    "import os\n",
    "import pandas as pd\n",
    "import numpy as np\n",
    "import faiss\n",
    "import gradio as gr\n",
    "from openai import OpenAI\n",
    "import tiktoken"
   ]
  },
  {
   "cell_type": "code",
   "execution_count": null,
   "id": "49681f91",
   "metadata": {},
   "outputs": [],
   "source": [
    "# openAI 클라이언트 설정\n",
    "client = OpenAI()\n",
    "\n",
    "# 임베딩 매개변수 설정\n",
    "embedding_model = \"text-embedding-3-small\"\n",
    "embedding_encoding = \"cl100k_base\"\n",
    "max_tokens = 12800 # gpt-4o-mini 모델의 최대 컨텍스트 길이\n",
    "\n",
    "# 토크나이저 설정\n",
    "tokenizer = tiktoken.get_encoding(embedding_encoding)"
   ]
  },
  {
   "cell_type": "code",
   "execution_count": null,
   "id": "e6065ee9",
   "metadata": {},
   "outputs": [],
   "source": [
    "# 파일을 불러와서 dataframe으로 변환하는 함수\n",
    "def process_file(file_path):\n",
    "    with open(file_path, 'r', encoding='utf-8') as f:\n",
    "        data = f.read()\n",
    "        \n",
    "        text2df = {}\n",
    "\n",
    "        for content in data:\n",
    "            temp = content.split('\\n')\n",
    "            text2df.setdefault('title',[]).append(temp[0])\n",
    "            text2df.setdefault('content',[]).append(temp[1])\n",
    "\n",
    "        df = pd.DataFrame(text2df)\n",
    "        df['n_tokens'] = df['content'].apply(lambda x : len(tokenizer.encode(x)))\n",
    "        return df        "
   ]
  },
  {
   "cell_type": "code",
   "execution_count": null,
   "id": "b19db703",
   "metadata": {},
   "outputs": [],
   "source": [
    "# 질문 임베딩\n",
    "def get_embedding(text, model):\n",
    "    text = text.replace(\"\\n\", \" \")\n",
    "    q_embeddings = client.embeddings.create(input=[text], model=model).data[0].embedding\n",
    "    return q_embeddings"
   ]
  },
  {
   "cell_type": "code",
   "execution_count": 28,
   "id": "dc58cbf0",
   "metadata": {},
   "outputs": [],
   "source": [
    "# 텍스트를 임베딩한 데이터를 FAISS vector DB에 저장\n",
    "def save_embeddings_to_faiss(df):\n",
    "    embeddings = np.array(df['embeddings'].tolist(), dtype='float32')\n",
    "    index = faiss.IndexFlatL2(embeddings.shape[1]) # Euclidean distance 사용\n",
    "    index.add(embeddings)\n",
    "    faiss.write_index(index, 'vector_index.faiss')"
   ]
  },
  {
   "cell_type": "code",
   "execution_count": null,
   "id": "003d92ba",
   "metadata": {},
   "outputs": [],
   "source": [
    "def create_context(question, df, max_len=128000):\n",
    "    q_embeddings = client.embeddings.create(input=[question], model=embedding_model).data[0].embedding\n",
    "    index = faiss.read_index(\"vector_index.faiss\")\n",
    "    D, I = index.search(np.array([q_embeddings], dtype='float32'), len(df))\n",
    "    \n",
    "    returns = []\n",
    "    cur_len = 0\n",
    "    for i in I[0]:\n",
    "        if i == -1: # 유사도가 낮으면 제외\n",
    "            continue\n",
    "        row = df.iloc[i]\n",
    "        cur_len += row['n_tokens'] + 4\n",
    "        if cur_len > max_len:\n",
    "            break\n",
    "        returns.append(row['content'])\n",
    "    return \"\\n\\n###\\n\\n\".join(returns)"
   ]
  },
  {
   "cell_type": "code",
   "execution_count": null,
   "id": "89df6cec",
   "metadata": {},
   "outputs": [],
   "source": [
    "# 문맥에 따라 질문에 답하는 기능\n",
    "def answer_question(question, conversation_history):\n",
    "    # RAG 데이터 불러오기\n",
    "    df = pd.read_csv('embeddings.csv')\n",
    "    \n",
    "    # 질문과 RAG 데이터를 비교해 context 생성\n",
    "    context = create_context(question, df, max_len=12800)\n",
    "    if not context.strip(): # context가 없을 경우\n",
    "        return \"죄송합니다. 해당 질문에 대한 답변을 찾을 수 없습니다.\"\n",
    "    \n",
    "    # prompt 생성하고 대화 기록에 추가하기\n",
    "    prompt = f\"다음 컨텍스트에 기반하여 질문에 답하세요.\\\n",
    "               컨텍스트 외의 정보는 사용하지 마세요. \\\n",
    "               컨텍스트 : {context}\\n\\n---\\n\\n질문 : {question}\\n답변 :\"\n",
    "    conversation_history.append({\"role\":\"user\", \"content\":question})\n",
    "    \n",
    "    try:\n",
    "        # GPT에서 답변 생성\n",
    "        response = client.chat.completions.create(\n",
    "            model = 'gpt-40-mini',\n",
    "            messages = [{\"role\":\"system\", \"content\":prompt}],\n",
    "            temperature = 1)\n",
    "        \n",
    "        answer = response.choices[0].message.content.strip()\n",
    "        conversation_history.append({\"role\":\"assistant\", \"content\":answer})\n",
    "        return answer\n",
    "    \n",
    "    except Exception as e:\n",
    "        print(e)\n",
    "        return \"오류\""
   ]
  },
  {
   "cell_type": "code",
   "execution_count": null,
   "id": "0d445bd1",
   "metadata": {},
   "outputs": [],
   "source": [
    "# 텍스트에서 데이터 프레임으로 변경한 데이터를 임베딩하는 함수\n",
    "def process_and_embed(file):\n",
    "    df = process_file(file.name)\n",
    "    df['embeddings'] = df['content'].apply(lambda x : get_embedding(x, model=embedding_model))\n",
    "    df.to_csv('embeddings.csv', index=False, encoding='utf-8')\n",
    "    save_embeddings_to_faiss(df)\n",
    "    return \"임베딩 완료 및 저장 완료\""
   ]
  },
  {
   "cell_type": "code",
   "execution_count": 30,
   "id": "c3751a1a",
   "metadata": {},
   "outputs": [],
   "source": [
    "def chat_interface(question, history):\n",
    "        answer = answer_question(question, history)\n",
    "        display_history = \"<br>\".join([\n",
    "        f\"<div style='text-align: right;'>{entry['content']}</div>\"\n",
    "        if entry['role'] == 'user'\n",
    "        else f\"<div style='text-align: left;'>{entry['content']}</div>\"\n",
    "        for entry in history\n",
    "        ])\n",
    "        return display_history, answer"
   ]
  },
  {
   "cell_type": "code",
   "execution_count": 31,
   "id": "1429a6b0",
   "metadata": {},
   "outputs": [],
   "source": [
    "import gradio as gr"
   ]
  },
  {
   "cell_type": "code",
   "execution_count": null,
   "id": "9a58f06b",
   "metadata": {},
   "outputs": [],
   "source": [
    "# Gradio로 화면 만들기\n",
    "demo = gr.Blocks()\n",
    "\n",
    "with demo:\n",
    "    gr.Markdwon(\"# 문서 임베딩 및 질문-응답 시스템\")\n",
    "    with gr.Tab(\"파일 업로드 및 임베딩\"):\n",
    "        file_input = gr.File()\n",
    "        embed_btn = gr.Button(\"임베딩 및 저장\")\n",
    "        embed_output = gr.Textbox()\n",
    "        embed_btn.click(process_and_embed, inputs=file_input, outputs=embed_output)\n",
    "    \n",
    "    with gr.Tab(\"질문 및 응답\"):\n",
    "        question_input = gr.Textbox(placeholder = \"질문을 입력하세요\")\n",
    "        conversation_display = gr.HTML()\n",
    "        answer_output = gr.Textbox(label='답변')\n",
    "        ask_btn = gr.Button('질문하기')\n",
    "        \n",
    "        # 버튼 클릭 시 Chat_interface 함수와 연결하기\n",
    "        ask_btn.click(chat_interface, inputs=[question_input, gr.State([])], \n",
    "                      outputs=[conversation_display, answer_output])\n",
    "        \n",
    "demo.launch(inline=False, server_port=7860)"
   ]
  },
  {
   "cell_type": "code",
   "execution_count": null,
   "id": "22576563",
   "metadata": {},
   "outputs": [],
   "source": []
  },
  {
   "cell_type": "code",
   "execution_count": null,
   "id": "3be8ec34",
   "metadata": {},
   "outputs": [],
   "source": []
  },
  {
   "cell_type": "code",
   "execution_count": null,
   "id": "29b78d91",
   "metadata": {},
   "outputs": [],
   "source": []
  },
  {
   "cell_type": "code",
   "execution_count": null,
   "id": "23e63df5",
   "metadata": {},
   "outputs": [],
   "source": []
  },
  {
   "cell_type": "code",
   "execution_count": null,
   "id": "4cc4828c",
   "metadata": {},
   "outputs": [],
   "source": []
  },
  {
   "cell_type": "code",
   "execution_count": null,
   "id": "b565c69b",
   "metadata": {},
   "outputs": [],
   "source": []
  },
  {
   "cell_type": "code",
   "execution_count": null,
   "id": "e09b3aaa",
   "metadata": {},
   "outputs": [],
   "source": []
  },
  {
   "cell_type": "code",
   "execution_count": null,
   "id": "bfc6bc2b",
   "metadata": {},
   "outputs": [],
   "source": []
  },
  {
   "cell_type": "code",
   "execution_count": null,
   "id": "76b32e15",
   "metadata": {},
   "outputs": [],
   "source": []
  },
  {
   "cell_type": "code",
   "execution_count": null,
   "id": "edc6ebef",
   "metadata": {},
   "outputs": [],
   "source": []
  },
  {
   "cell_type": "code",
   "execution_count": null,
   "id": "a31f2278",
   "metadata": {},
   "outputs": [],
   "source": []
  },
  {
   "cell_type": "code",
   "execution_count": null,
   "id": "f16b2bd3",
   "metadata": {},
   "outputs": [],
   "source": []
  }
 ],
 "metadata": {
  "kernelspec": {
   "display_name": "Python 3 (ipykernel)",
   "language": "python",
   "name": "python3"
  },
  "language_info": {
   "codemirror_mode": {
    "name": "ipython",
    "version": 3
   },
   "file_extension": ".py",
   "mimetype": "text/x-python",
   "name": "python",
   "nbconvert_exporter": "python",
   "pygments_lexer": "ipython3",
   "version": "3.11.13"
  }
 },
 "nbformat": 4,
 "nbformat_minor": 5
}
