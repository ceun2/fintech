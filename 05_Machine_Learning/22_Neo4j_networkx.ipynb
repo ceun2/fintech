{
 "cells": [
  {
   "cell_type": "markdown",
   "id": "23f86a54",
   "metadata": {},
   "source": [
    "## Neo4j 연결하기"
   ]
  },
  {
   "cell_type": "code",
   "execution_count": 1,
   "id": "ace90a8b",
   "metadata": {},
   "outputs": [
    {
     "name": "stdout",
     "output_type": "stream",
     "text": [
      "Collecting neo4j\n",
      "  Downloading neo4j-5.28.1-py3-none-any.whl.metadata (5.9 kB)\n",
      "Requirement already satisfied: pytz in c:\\users\\admin\\miniforge3\\envs\\fintech\\lib\\site-packages (from neo4j) (2024.1)\n",
      "Downloading neo4j-5.28.1-py3-none-any.whl (312 kB)\n",
      "Installing collected packages: neo4j\n",
      "Successfully installed neo4j-5.28.1\n"
     ]
    }
   ],
   "source": [
    "!pip install neo4j"
   ]
  },
  {
   "cell_type": "code",
   "execution_count": 5,
   "id": "d3682cb4",
   "metadata": {},
   "outputs": [
    {
     "name": "stdout",
     "output_type": "stream",
     "text": [
      "Collecting py2neo\n",
      "  Downloading py2neo-2021.2.4-py2.py3-none-any.whl.metadata (9.9 kB)\n",
      "Requirement already satisfied: certifi in c:\\users\\admin\\miniforge3\\envs\\fintech\\lib\\site-packages (from py2neo) (2025.4.26)\n",
      "Collecting interchange~=2021.0.4 (from py2neo)\n",
      "  Downloading interchange-2021.0.4-py2.py3-none-any.whl.metadata (1.9 kB)\n",
      "Collecting monotonic (from py2neo)\n",
      "  Downloading monotonic-1.6-py2.py3-none-any.whl.metadata (1.5 kB)\n",
      "Requirement already satisfied: packaging in c:\\users\\admin\\miniforge3\\envs\\fintech\\lib\\site-packages (from py2neo) (24.2)\n",
      "Collecting pansi>=2020.7.3 (from py2neo)\n",
      "  Downloading pansi-2024.11.0-py2.py3-none-any.whl.metadata (3.1 kB)\n",
      "Requirement already satisfied: pygments>=2.0.0 in c:\\users\\admin\\miniforge3\\envs\\fintech\\lib\\site-packages (from py2neo) (2.19.1)\n",
      "Requirement already satisfied: six>=1.15.0 in c:\\users\\admin\\miniforge3\\envs\\fintech\\lib\\site-packages (from py2neo) (1.17.0)\n",
      "Requirement already satisfied: urllib3 in c:\\users\\admin\\miniforge3\\envs\\fintech\\lib\\site-packages (from py2neo) (1.25.11)\n",
      "Requirement already satisfied: pytz in c:\\users\\admin\\miniforge3\\envs\\fintech\\lib\\site-packages (from interchange~=2021.0.4->py2neo) (2024.1)\n",
      "Requirement already satisfied: pillow in c:\\users\\admin\\miniforge3\\envs\\fintech\\lib\\site-packages (from pansi>=2020.7.3->py2neo) (11.1.0)\n",
      "Downloading py2neo-2021.2.4-py2.py3-none-any.whl (177 kB)\n",
      "Downloading interchange-2021.0.4-py2.py3-none-any.whl (28 kB)\n",
      "Downloading pansi-2024.11.0-py2.py3-none-any.whl (26 kB)\n",
      "Downloading monotonic-1.6-py2.py3-none-any.whl (8.2 kB)\n",
      "Installing collected packages: monotonic, pansi, interchange, py2neo\n",
      "Successfully installed interchange-2021.0.4 monotonic-1.6 pansi-2024.11.0 py2neo-2021.2.4\n"
     ]
    }
   ],
   "source": [
    "!pip install py2neo"
   ]
  },
  {
   "cell_type": "code",
   "execution_count": 9,
   "id": "cba993c9",
   "metadata": {},
   "outputs": [],
   "source": [
    "del data"
   ]
  },
  {
   "cell_type": "code",
   "execution_count": 8,
   "id": "5e21a87f",
   "metadata": {},
   "outputs": [
    {
     "name": "stdout",
     "output_type": "stream",
     "text": [
      "    고객ID     이름\n",
      "0  C0116  고객116\n",
      "1  C0169  고객169\n",
      "2  C0086   고객86\n",
      "3  C0104  고객104\n",
      "4  C0126  고객126\n"
     ]
    }
   ],
   "source": [
    "from py2neo import Graph\n",
    "\n",
    "# 'testdb'라는 DB에 연결\n",
    "graph = Graph(\"bolt://localhost:7687\", auth=(\"neo4j\", \"neo4j1234\"), name=\"testdb\")\n",
    "\n",
    "# 쿼리 실행\n",
    "data = graph.run(\"\"\"\n",
    "    MATCH (c:고객)\n",
    "    RETURN c.`고객ID` AS 고객ID, c.`고객이름` AS 이름\n",
    "\"\"\").to_data_frame()\n",
    "\n",
    "print(data.head())"
   ]
  },
  {
   "cell_type": "markdown",
   "id": "d85236a4",
   "metadata": {},
   "source": [
    "* https://pypi.org/project/neo4j/"
   ]
  },
  {
   "cell_type": "code",
   "execution_count": 10,
   "id": "afedd5e6",
   "metadata": {},
   "outputs": [
    {
     "name": "stdout",
     "output_type": "stream",
     "text": [
      "    고객ID     이름\n",
      "0  C0116  고객116\n",
      "1  C0169  고객169\n",
      "2  C0086   고객86\n",
      "3  C0104  고객104\n",
      "4  C0126  고객126\n"
     ]
    }
   ],
   "source": [
    "from neo4j import GraphDatabase\n",
    "import pandas as pd\n",
    "\n",
    "# 연결\n",
    "driver = GraphDatabase.driver(\"bolt://localhost:7687\", auth=(\"neo4j\", \"neo4j1234\"))\n",
    "\n",
    "def get_customers(tx):\n",
    "    query = \"\"\"\n",
    "    MATCH (c:고객)\n",
    "    RETURN c.`고객ID` AS 고객ID, c.`고객이름` AS 이름\n",
    "    \"\"\"\n",
    "    return list(tx.run(query))\n",
    "\n",
    "with driver.session(database='testdb') as session:\n",
    "    result = session.execute_read(get_customers)\n",
    "\n",
    "# Pandas로 변환\n",
    "df = pd.DataFrame([dict(record) for record in result])\n",
    "print(df.head())"
   ]
  },
  {
   "cell_type": "markdown",
   "id": "f01af5f2",
   "metadata": {},
   "source": [
    "## NetworkX"
   ]
  },
  {
   "cell_type": "code",
   "execution_count": 11,
   "id": "ec8b7167",
   "metadata": {},
   "outputs": [
    {
     "name": "stdout",
     "output_type": "stream",
     "text": [
      "  source target\n",
      "0  C0116  C0142\n",
      "1  C0169  C0115\n",
      "2  C0086  C0199\n",
      "3  C0086  C0072\n",
      "4  C0086  C0153\n"
     ]
    }
   ],
   "source": [
    "from neo4j import GraphDatabase\n",
    "import pandas as pd\n",
    "import networkx as nx\n",
    "\n",
    "# 1. Neo4j 연결 설정\n",
    "driver = GraphDatabase.driver(\"bolt://localhost:7687\", auth=(\"neo4j\", \"neo4j1234\"))\n",
    "\n",
    "# 2. 관계 쿼리\n",
    "def get_edges(tx):\n",
    "    query = \"\"\"\n",
    "    MATCH (a:고객)-[:동반인]->(b:고객)\n",
    "    RETURN a.`고객ID` AS source, b.`고객ID` AS target\n",
    "    \"\"\"\n",
    "    return list(tx.run(query))\n",
    "\n",
    "# 3. 데이터 가져오기\n",
    "with driver.session(database=\"testdb\") as session:  # DB 이름 명시\n",
    "    result = session.execute_read(get_edges)\n",
    "\n",
    "df = pd.DataFrame([dict(record) for record in result])\n",
    "print(df.head())"
   ]
  },
  {
   "cell_type": "code",
   "execution_count": 12,
   "id": "de77783a",
   "metadata": {},
   "outputs": [],
   "source": [
    "# 1. 방향 있는 그래프 생성\n",
    "G = nx.DiGraph()  # ← 방향이 없으면 nx.Graph()\n",
    "\n",
    "# 2. 간선 추가\n",
    "G.add_edges_from(zip(df[\"source\"], df[\"target\"]))"
   ]
  },
  {
   "cell_type": "code",
   "execution_count": 13,
   "id": "d89c80f4",
   "metadata": {},
   "outputs": [
    {
     "name": "stdout",
     "output_type": "stream",
     "text": [
      "📌 Degree 중심성 상위 5명:\n",
      "[('C0106', 0.05208333333333333), ('C0133', 0.046875), ('C0153', 0.041666666666666664), ('C0163', 0.041666666666666664), ('C0100', 0.041666666666666664)]\n"
     ]
    }
   ],
   "source": [
    "# Degree 연결중심성\n",
    "degree_centrality = nx.degree_centrality(G)\n",
    "\n",
    "# Betweenness 매개중심성\n",
    "betweenness_centrality = nx.betweenness_centrality(G)\n",
    "\n",
    "# closeness 근접중심성\n",
    "closeness_centrality = nx.closeness_centrality(G)\n",
    "\n",
    "# PageRank\n",
    "pagerank = nx.pagerank(G)\n",
    "\n",
    "# 결과 보기\n",
    "print(\"📌 Degree 중심성 상위 5명:\")\n",
    "print(sorted(degree_centrality.items(), key=lambda x: x[1], reverse=True)[:5])"
   ]
  },
  {
   "cell_type": "code",
   "execution_count": 14,
   "id": "91a6aaeb",
   "metadata": {},
   "outputs": [
    {
     "name": "stdout",
     "output_type": "stream",
     "text": [
      "동반인 많이 데려온 고객 Top 10:\n",
      " - C0114: 6명 데려옴\n",
      " - C0035: 6명 데려옴\n",
      " - C0064: 5명 데려옴\n",
      " - C0198: 5명 데려옴\n",
      " - C0104: 4명 데려옴\n",
      " - C0163: 4명 데려옴\n",
      " - C0154: 4명 데려옴\n",
      " - C0149: 4명 데려옴\n",
      " - C0133: 4명 데려옴\n",
      " - C0027: 4명 데려옴\n"
     ]
    }
   ],
   "source": [
    "G = nx.DiGraph()\n",
    "G.add_edges_from(zip(df[\"source\"], df[\"target\"]))\n",
    "\n",
    "out_degree = dict(G.out_degree())\n",
    "top_out = sorted(out_degree.items(), key=lambda x: x[1], reverse=True)[:10]\n",
    "\n",
    "print(\"동반인 많이 데려온 고객 Top 10:\")\n",
    "for node, deg in top_out:\n",
    "    print(f\" - {node}: {deg}명 데려옴\")"
   ]
  }
 ],
 "metadata": {
  "kernelspec": {
   "display_name": "Python 3 (ipykernel)",
   "language": "python",
   "name": "python3"
  },
  "language_info": {
   "codemirror_mode": {
    "name": "ipython",
    "version": 3
   },
   "file_extension": ".py",
   "mimetype": "text/x-python",
   "name": "python",
   "nbconvert_exporter": "python",
   "pygments_lexer": "ipython3",
   "version": "3.9.21"
  }
 },
 "nbformat": 4,
 "nbformat_minor": 5
}
