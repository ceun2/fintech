{
 "cells": [
  {
   "cell_type": "code",
   "execution_count": 1,
   "id": "f198608b",
   "metadata": {},
   "outputs": [],
   "source": [
    "import pandas as pd\n",
    "import numpy as np\n",
    "import matplotlib.pyplot as plt\n",
    "from konlpy.tag import Mecab"
   ]
  },
  {
   "cell_type": "code",
   "execution_count": 5,
   "id": "c15eb445",
   "metadata": {},
   "outputs": [],
   "source": [
    "from tensorflow.keras.preprocessing.text import Tokenizer, text_to_word_sequence\n",
    "from tensorflow.keras.preprocessing.sequence import pad_sequences\n",
    "from tensorflow.keras.models import Sequential, load_model\n",
    "from tensorflow.keras.layers import Dense, Flatten, Embedding\n",
    "from tensorflow.keras.utils import to_categorical"
   ]
  },
  {
   "cell_type": "code",
   "execution_count": 9,
   "id": "b23ce576",
   "metadata": {},
   "outputs": [],
   "source": [
    "mecab = Mecab()"
   ]
  },
  {
   "cell_type": "code",
   "execution_count": 4,
   "id": "2e170fc9",
   "metadata": {},
   "outputs": [
    {
     "data": {
      "text/html": [
       "<div>\n",
       "<style scoped>\n",
       "    .dataframe tbody tr th:only-of-type {\n",
       "        vertical-align: middle;\n",
       "    }\n",
       "\n",
       "    .dataframe tbody tr th {\n",
       "        vertical-align: top;\n",
       "    }\n",
       "\n",
       "    .dataframe thead th {\n",
       "        text-align: right;\n",
       "    }\n",
       "</style>\n",
       "<table border=\"1\" class=\"dataframe\">\n",
       "  <thead>\n",
       "    <tr style=\"text-align: right;\">\n",
       "      <th></th>\n",
       "      <th>리뷰일</th>\n",
       "      <th>평점</th>\n",
       "      <th>사용자리뷰</th>\n",
       "      <th>업체답변</th>\n",
       "      <th>은행명</th>\n",
       "    </tr>\n",
       "  </thead>\n",
       "  <tbody>\n",
       "    <tr>\n",
       "      <th>0</th>\n",
       "      <td>2024-02-08</td>\n",
       "      <td>5</td>\n",
       "      <td>고경민계장님감사해요</td>\n",
       "      <td>안녕하세요 최순녀 고객님. 칭찬 진심으로 감사드리며, 더욱 편리하고 안정적인 서비스...</td>\n",
       "      <td>우리</td>\n",
       "    </tr>\n",
       "    <tr>\n",
       "      <th>1</th>\n",
       "      <td>2023-07-24</td>\n",
       "      <td>5</td>\n",
       "      <td>저축목표피드 새로 생긴거 너무좋은데 분명 카테고리를 저축으로 했는데 왜 인식이 안되...</td>\n",
       "      <td>신아​ 님, 안녕하세요? 뱅크샐러드 고객감동팀​입니다. 소중한 시간내어 고객센터에 ...</td>\n",
       "      <td>뱅크샐러드</td>\n",
       "    </tr>\n",
       "    <tr>\n",
       "      <th>2</th>\n",
       "      <td>2023-09-25</td>\n",
       "      <td>1</td>\n",
       "      <td>아니 이딴걸 편리하게 사용하는앱이라고 쳐만들엇나 이렇게 불편하게만든건 일부러그런거에...</td>\n",
       "      <td>안녕하세요. 우리은행입니다. 먼저 우리WON뱅킹 이용에 불편을 드려 죄송합니다. 보...</td>\n",
       "      <td>우리</td>\n",
       "    </tr>\n",
       "    <tr>\n",
       "      <th>3</th>\n",
       "      <td>2024-02-15</td>\n",
       "      <td>3</td>\n",
       "      <td>몇 년째 만족하며 사용중이라 조금식 개선되어거는 모습에 만족하며 사용중입니다. 하지...</td>\n",
       "      <td>안녕하세요? 뱅크샐러드 고객감동팀입니다. 뱅크샐러드에 KB pay를 연결해 모든 자...</td>\n",
       "      <td>뱅크샐러드</td>\n",
       "    </tr>\n",
       "    <tr>\n",
       "      <th>4</th>\n",
       "      <td>2023-06-19</td>\n",
       "      <td>5</td>\n",
       "      <td>스타뱅킹을 사용 하고나서부터 편안해서 좋아요</td>\n",
       "      <td>한송림 고객님, 안녕하세요! KB스타뱅킹을 이용해 주셔서 진심으로 감사드립니다. 앞...</td>\n",
       "      <td>국민</td>\n",
       "    </tr>\n",
       "  </tbody>\n",
       "</table>\n",
       "</div>"
      ],
      "text/plain": [
       "          리뷰일  평점                                              사용자리뷰  \\\n",
       "0  2024-02-08   5                                         고경민계장님감사해요   \n",
       "1  2023-07-24   5  저축목표피드 새로 생긴거 너무좋은데 분명 카테고리를 저축으로 했는데 왜 인식이 안되...   \n",
       "2  2023-09-25   1  아니 이딴걸 편리하게 사용하는앱이라고 쳐만들엇나 이렇게 불편하게만든건 일부러그런거에...   \n",
       "3  2024-02-15   3  몇 년째 만족하며 사용중이라 조금식 개선되어거는 모습에 만족하며 사용중입니다. 하지...   \n",
       "4  2023-06-19   5                           스타뱅킹을 사용 하고나서부터 편안해서 좋아요   \n",
       "\n",
       "                                                업체답변    은행명  \n",
       "0  안녕하세요 최순녀 고객님. 칭찬 진심으로 감사드리며, 더욱 편리하고 안정적인 서비스...     우리  \n",
       "1  신아​ 님, 안녕하세요? 뱅크샐러드 고객감동팀​입니다. 소중한 시간내어 고객센터에 ...  뱅크샐러드  \n",
       "2  안녕하세요. 우리은행입니다. 먼저 우리WON뱅킹 이용에 불편을 드려 죄송합니다. 보...     우리  \n",
       "3  안녕하세요? 뱅크샐러드 고객감동팀입니다. 뱅크샐러드에 KB pay를 연결해 모든 자...  뱅크샐러드  \n",
       "4  한송림 고객님, 안녕하세요! KB스타뱅킹을 이용해 주셔서 진심으로 감사드립니다. 앞...     국민  "
      ]
     },
     "execution_count": 4,
     "metadata": {},
     "output_type": "execute_result"
    }
   ],
   "source": [
    "test_data = pd.read_csv('../05_Machine_Learning/data/bank_app_reviews_test.csv')\n",
    "test_data.head()"
   ]
  },
  {
   "cell_type": "code",
   "execution_count": 6,
   "id": "d590f74b",
   "metadata": {},
   "outputs": [],
   "source": [
    "import re\n",
    "\n",
    "def clean_text(text):\n",
    "    cleaned = re.sub(r'[^가-힣a-zA-Z0-9\\s]', '', text) # 한글, 영문, 숫자 추출\n",
    "    cleaned = re.sub(r'\\s+',' ', cleaned) # 연속된 공백을 하나의 공백으로 줄임\n",
    "    return cleaned.strip()"
   ]
  },
  {
   "cell_type": "code",
   "execution_count": 7,
   "id": "944a375b",
   "metadata": {},
   "outputs": [],
   "source": [
    "test_data['사용자리뷰'] = test_data['사용자리뷰'].apply(clean_text)"
   ]
  },
  {
   "cell_type": "code",
   "execution_count": 8,
   "id": "61d7705e",
   "metadata": {},
   "outputs": [],
   "source": [
    "test_data['is_good'] = test_data['평점'].apply(lambda x : 1 if x >3 else 0)"
   ]
  },
  {
   "cell_type": "code",
   "execution_count": 11,
   "id": "a6d4be5b",
   "metadata": {},
   "outputs": [],
   "source": [
    "tokenized_docs = test_data['사용자리뷰'].apply(mecab.morphs)"
   ]
  },
  {
   "cell_type": "markdown",
   "id": "f340f6f6",
   "metadata": {},
   "source": [
    "### train에서 사용했던 tokenizer를 불러와서 one-hot encoding"
   ]
  },
  {
   "cell_type": "code",
   "execution_count": 12,
   "id": "8c4fb4cc",
   "metadata": {},
   "outputs": [],
   "source": [
    "import joblib"
   ]
  },
  {
   "cell_type": "code",
   "execution_count": 14,
   "id": "0815f5db",
   "metadata": {},
   "outputs": [
    {
     "name": "stdout",
     "output_type": "stream",
     "text": [
      "[6248, 327, 111, 71]\n"
     ]
    }
   ],
   "source": [
    "token = joblib.load('./model/bank_app_tokenizer.joblib')\n",
    "x = token.texts_to_sequences(tokenized_docs)\n",
    "print(x[0])"
   ]
  },
  {
   "cell_type": "markdown",
   "id": "b62e9119",
   "metadata": {},
   "source": [
    "### train에서 사용했던 padding 길이 (model에 넣을 컬럼 수)"
   ]
  },
  {
   "cell_type": "code",
   "execution_count": 16,
   "id": "7d4082e4",
   "metadata": {},
   "outputs": [
    {
     "name": "stdout",
     "output_type": "stream",
     "text": [
      "302\n"
     ]
    }
   ],
   "source": [
    "max_length = joblib.load('./model/bank_app_max_length.joblib')\n",
    "print(max_length)"
   ]
  },
  {
   "cell_type": "code",
   "execution_count": 18,
   "id": "3b783b65",
   "metadata": {},
   "outputs": [
    {
     "name": "stdout",
     "output_type": "stream",
     "text": [
      "[6248  327  111   71    0    0    0    0    0    0    0    0    0    0\n",
      "    0    0    0    0    0    0    0    0    0    0    0    0    0    0\n",
      "    0    0    0    0    0    0    0    0    0    0    0    0    0    0\n",
      "    0    0    0    0    0    0    0    0    0    0    0    0    0    0\n",
      "    0    0    0    0    0    0    0    0    0    0    0    0    0    0\n",
      "    0    0    0    0    0    0    0    0    0    0    0    0    0    0\n",
      "    0    0    0    0    0    0    0    0    0    0    0    0    0    0\n",
      "    0    0    0    0    0    0    0    0    0    0    0    0    0    0\n",
      "    0    0    0    0    0    0    0    0    0    0    0    0    0    0\n",
      "    0    0    0    0    0    0    0    0    0    0    0    0    0    0\n",
      "    0    0    0    0    0    0    0    0    0    0    0    0    0    0\n",
      "    0    0    0    0    0    0    0    0    0    0    0    0    0    0\n",
      "    0    0    0    0    0    0    0    0    0    0    0    0    0    0\n",
      "    0    0    0    0    0    0    0    0    0    0    0    0    0    0\n",
      "    0    0    0    0    0    0    0    0    0    0    0    0    0    0\n",
      "    0    0    0    0    0    0    0    0    0    0    0    0    0    0\n",
      "    0    0    0    0    0    0    0    0    0    0    0    0    0    0\n",
      "    0    0    0    0    0    0    0    0    0    0    0    0    0    0\n",
      "    0    0    0    0    0    0    0    0    0    0    0    0    0    0\n",
      "    0    0    0    0    0    0    0    0    0    0    0    0    0    0\n",
      "    0    0    0    0    0    0    0    0    0    0    0    0    0    0\n",
      "    0    0    0    0    0    0    0    0]\n"
     ]
    }
   ],
   "source": [
    "X_padded = pad_sequences(x, maxlen=max_length, padding='post')\n",
    "print(X_padded[0])"
   ]
  },
  {
   "cell_type": "code",
   "execution_count": 19,
   "id": "259fd063",
   "metadata": {},
   "outputs": [],
   "source": [
    "y = test_data['is_good']"
   ]
  },
  {
   "cell_type": "markdown",
   "id": "8c6a6ff9",
   "metadata": {},
   "source": [
    "# model 불러와서 예측하고 결과 비교하기"
   ]
  },
  {
   "cell_type": "code",
   "execution_count": 20,
   "id": "2fd32b3d",
   "metadata": {},
   "outputs": [
    {
     "name": "stderr",
     "output_type": "stream",
     "text": [
      "I0000 00:00:1747887842.853728    1881 gpu_device.cc:2019] Created device /job:localhost/replica:0/task:0/device:GPU:0 with 1347 MB memory:  -> device: 0, name: NVIDIA GeForce MX450, pci bus id: 0000:01:00.0, compute capability: 7.5\n"
     ]
    }
   ],
   "source": [
    "birnn_best = load_model('./model/bank_app_review_birnn.keras')\n",
    "cnn_lstm_best = load_model('./model/bank_app_review_lstm_cnn.keras')\n",
    "attn_best = load_model('./model/bank_app_review_attn_model.keras')"
   ]
  },
  {
   "cell_type": "code",
   "execution_count": 21,
   "id": "7ec5e6bc",
   "metadata": {},
   "outputs": [
    {
     "name": "stderr",
     "output_type": "stream",
     "text": [
      "WARNING: All log messages before absl::InitializeLog() is called are written to STDERR\n",
      "I0000 00:00:1747887953.967732    2134 service.cc:152] XLA service 0x56240bb7dd20 initialized for platform CUDA (this does not guarantee that XLA will be used). Devices:\n",
      "I0000 00:00:1747887953.967805    2134 service.cc:160]   StreamExecutor device (0): NVIDIA GeForce MX450, Compute Capability 7.5\n",
      "2025-05-22 13:25:54.019912: I tensorflow/compiler/mlir/tensorflow/utils/dump_mlir_util.cc:269] disabling MLIR crash reproducer, set env var `MLIR_CRASH_REPRODUCER_DIRECTORY` to enable.\n",
      "I0000 00:00:1747887954.095518    2134 cuda_dnn.cc:529] Loaded cuDNN version 90300\n"
     ]
    },
    {
     "name": "stdout",
     "output_type": "stream",
     "text": [
      "\u001b[1m 13/298\u001b[0m \u001b[37m━━━━━━━━━━━━━━━━━━━━\u001b[0m \u001b[1m4s\u001b[0m 14ms/step"
     ]
    },
    {
     "name": "stderr",
     "output_type": "stream",
     "text": [
      "I0000 00:00:1747887955.097463    2134 device_compiler.h:188] Compiled cluster using XLA!  This line is logged at most once for the lifetime of the process.\n"
     ]
    },
    {
     "name": "stdout",
     "output_type": "stream",
     "text": [
      "\u001b[1m298/298\u001b[0m \u001b[32m━━━━━━━━━━━━━━━━━━━━\u001b[0m\u001b[37m\u001b[0m \u001b[1m6s\u001b[0m 16ms/step\n",
      "\u001b[1m298/298\u001b[0m \u001b[32m━━━━━━━━━━━━━━━━━━━━\u001b[0m\u001b[37m\u001b[0m \u001b[1m6s\u001b[0m 14ms/step\n",
      "\u001b[1m298/298\u001b[0m \u001b[32m━━━━━━━━━━━━━━━━━━━━\u001b[0m\u001b[37m\u001b[0m \u001b[1m16s\u001b[0m 52ms/step\n"
     ]
    }
   ],
   "source": [
    "birnn_pred = birnn_best.predict(X_padded)\n",
    "cnn_lstm_pred = cnn_lstm_best.predict(X_padded)\n",
    "attn_pred = attn_best.predict(X_padded)"
   ]
  },
  {
   "cell_type": "code",
   "execution_count": 22,
   "id": "43398c14",
   "metadata": {},
   "outputs": [],
   "source": [
    "birnn_pred = pd.DataFrame(birnn_pred)\n",
    "cnn_lstm_pred = pd.DataFrame(cnn_lstm_pred)\n",
    "attn_pred = pd.DataFrame(attn_pred)"
   ]
  },
  {
   "cell_type": "code",
   "execution_count": 25,
   "id": "f1b6c3bb",
   "metadata": {},
   "outputs": [],
   "source": [
    "y = pd.DataFrame(y)"
   ]
  },
  {
   "cell_type": "code",
   "execution_count": 27,
   "id": "078edc0e",
   "metadata": {},
   "outputs": [],
   "source": [
    "birnn_result = y.join(birnn_pred)\n",
    "cnn_lstm_result = y.join(cnn_lstm_pred)\n",
    "attn_result = y.join(attn_pred)"
   ]
  },
  {
   "cell_type": "code",
   "execution_count": 29,
   "id": "1c3f10f3",
   "metadata": {},
   "outputs": [],
   "source": [
    "birnn_result.loc[:,0] = birnn_result.loc[:,0].apply(lambda x : 1 if x > 0.5 else 0)\n",
    "cnn_lstm_result = (cnn_lstm_result > 0.5).astype(int)\n",
    "attn_result = (attn_result > 0.5).astype(int)"
   ]
  },
  {
   "cell_type": "code",
   "execution_count": 28,
   "id": "bae9a9e3",
   "metadata": {},
   "outputs": [],
   "source": [
    "from sklearn.metrics import classification_report"
   ]
  },
  {
   "cell_type": "code",
   "execution_count": 30,
   "id": "2b690cb7",
   "metadata": {},
   "outputs": [
    {
     "name": "stdout",
     "output_type": "stream",
     "text": [
      "              precision    recall  f1-score   support\n",
      "\n",
      "         0.0       0.86      0.88      0.87      3760\n",
      "         1.0       0.92      0.90      0.91      5774\n",
      "\n",
      "    accuracy                           0.89      9534\n",
      "   macro avg       0.89      0.89      0.89      9534\n",
      "weighted avg       0.89      0.89      0.89      9534\n",
      "\n"
     ]
    }
   ],
   "source": [
    "print(classification_report(birnn_result[0], birnn_result['is_good']))"
   ]
  },
  {
   "cell_type": "code",
   "execution_count": 31,
   "id": "30dca486",
   "metadata": {},
   "outputs": [
    {
     "name": "stdout",
     "output_type": "stream",
     "text": [
      "              precision    recall  f1-score   support\n",
      "\n",
      "           0       0.89      0.85      0.87      4064\n",
      "           1       0.89      0.93      0.91      5470\n",
      "\n",
      "    accuracy                           0.89      9534\n",
      "   macro avg       0.89      0.89      0.89      9534\n",
      "weighted avg       0.89      0.89      0.89      9534\n",
      "\n"
     ]
    }
   ],
   "source": [
    "print(classification_report(cnn_lstm_result[0], cnn_lstm_result['is_good']))"
   ]
  },
  {
   "cell_type": "code",
   "execution_count": 32,
   "id": "36e5939e",
   "metadata": {},
   "outputs": [
    {
     "name": "stdout",
     "output_type": "stream",
     "text": [
      "              precision    recall  f1-score   support\n",
      "\n",
      "           0       0.87      0.88      0.88      3805\n",
      "           1       0.92      0.91      0.92      5729\n",
      "\n",
      "    accuracy                           0.90      9534\n",
      "   macro avg       0.90      0.90      0.90      9534\n",
      "weighted avg       0.90      0.90      0.90      9534\n",
      "\n"
     ]
    }
   ],
   "source": [
    "print(classification_report(attn_result[0], attn_result['is_good']))"
   ]
  },
  {
   "cell_type": "markdown",
   "id": "2866f09c",
   "metadata": {},
   "source": [
    "# evaluate"
   ]
  },
  {
   "cell_type": "code",
   "execution_count": 33,
   "id": "d0c880f0",
   "metadata": {},
   "outputs": [
    {
     "name": "stdout",
     "output_type": "stream",
     "text": [
      "\u001b[1m298/298\u001b[0m \u001b[32m━━━━━━━━━━━━━━━━━━━━\u001b[0m\u001b[37m\u001b[0m \u001b[1m7s\u001b[0m 18ms/step - accuracy: 0.8959 - auc: 0.9458 - loss: 0.2903\n",
      "CPU times: user 3.92 s, sys: 591 ms, total: 4.51 s\n",
      "Wall time: 6.65 s\n"
     ]
    },
    {
     "data": {
      "text/plain": [
       "[0.2909605801105499, 0.8936437964439392, 0.9454486966133118]"
      ]
     },
     "execution_count": 33,
     "metadata": {},
     "output_type": "execute_result"
    }
   ],
   "source": [
    "%%time\n",
    "birnn_best.evaluate(X_padded, test_data['is_good'])"
   ]
  },
  {
   "cell_type": "code",
   "execution_count": 34,
   "id": "6b9a4751",
   "metadata": {},
   "outputs": [
    {
     "name": "stdout",
     "output_type": "stream",
     "text": [
      "\u001b[1m298/298\u001b[0m \u001b[32m━━━━━━━━━━━━━━━━━━━━\u001b[0m\u001b[37m\u001b[0m \u001b[1m5s\u001b[0m 12ms/step - accuracy: 0.8969 - auc: 0.9486 - loss: 0.2877\n",
      "CPU times: user 5.53 s, sys: 1.35 s, total: 6.89 s\n",
      "Wall time: 5.12 s\n"
     ]
    },
    {
     "data": {
      "text/plain": [
       "[0.28785431385040283, 0.8932242393493652, 0.9483879804611206]"
      ]
     },
     "execution_count": 34,
     "metadata": {},
     "output_type": "execute_result"
    }
   ],
   "source": [
    "%%time\n",
    "cnn_lstm_best.evaluate(X_padded, test_data['is_good'])"
   ]
  },
  {
   "cell_type": "code",
   "execution_count": 35,
   "id": "e85351b6",
   "metadata": {},
   "outputs": [
    {
     "name": "stdout",
     "output_type": "stream",
     "text": [
      "\u001b[1m298/298\u001b[0m \u001b[32m━━━━━━━━━━━━━━━━━━━━\u001b[0m\u001b[37m\u001b[0m \u001b[1m20s\u001b[0m 65ms/step - accuracy: 0.9034 - auc: 0.9518 - loss: 0.2687\n",
      "CPU times: user 7.46 s, sys: 1.79 s, total: 9.25 s\n",
      "Wall time: 20.2 s\n"
     ]
    },
    {
     "data": {
      "text/plain": [
       "[0.26866504549980164, 0.900041937828064, 0.952237069606781]"
      ]
     },
     "execution_count": 35,
     "metadata": {},
     "output_type": "execute_result"
    }
   ],
   "source": [
    "%%time\n",
    "attn_best.evaluate(X_padded, test_data['is_good'])"
   ]
  }
 ],
 "metadata": {
  "kernelspec": {
   "display_name": "Python 3 (ipykernel)",
   "language": "python",
   "name": "python3"
  },
  "language_info": {
   "codemirror_mode": {
    "name": "ipython",
    "version": 3
   },
   "file_extension": ".py",
   "mimetype": "text/x-python",
   "name": "python",
   "nbconvert_exporter": "python",
   "pygments_lexer": "ipython3",
   "version": "3.10.17"
  }
 },
 "nbformat": 4,
 "nbformat_minor": 5
}
